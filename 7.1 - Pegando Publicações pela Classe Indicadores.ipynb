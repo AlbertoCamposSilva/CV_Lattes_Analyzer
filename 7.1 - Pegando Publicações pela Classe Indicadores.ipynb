{
 "cells": [
  {
   "cell_type": "code",
   "execution_count": null,
   "id": "e6c273af",
   "metadata": {},
   "outputs": [],
   "source": [
    "from Lattes import Lattes\n",
    "Lattes.update_bd_from_zip('1600461423386842')"
   ]
  },
  {
   "cell_type": "code",
   "execution_count": null,
   "id": "ebe2729b",
   "metadata": {},
   "outputs": [],
   "source": [
    "lattes.read_zip_from_disk()"
   ]
  },
  {
   "cell_type": "code",
   "execution_count": null,
   "id": "400feec7",
   "metadata": {},
   "outputs": [],
   "source": [
    "lattes.get_xml()\n",
    "lattes.get_indicadores()\n",
    "lattes.update_indicadores_bd()"
   ]
  },
  {
   "cell_type": "code",
   "execution_count": null,
   "id": "19d6f458",
   "metadata": {},
   "outputs": [],
   "source": [
    "from Indicadores import Indicadores"
   ]
  },
  {
   "cell_type": "code",
   "execution_count": null,
   "id": "edce739c",
   "metadata": {},
   "outputs": [],
   "source": [
    "i = Indicadores(lattes.xml)"
   ]
  },
  {
   "cell_type": "code",
   "execution_count": null,
   "id": "b30ed7f3",
   "metadata": {},
   "outputs": [],
   "source": [
    "i.get_all()"
   ]
  },
  {
   "cell_type": "code",
   "execution_count": null,
   "id": "fe1c581f",
   "metadata": {},
   "outputs": [],
   "source": [
    "i.lattes"
   ]
  },
  {
   "cell_type": "code",
   "execution_count": null,
   "id": "5a20225b",
   "metadata": {
    "scrolled": true
   },
   "outputs": [],
   "source": [
    "print(i.get_publicacoes())\n"
   ]
  },
  {
   "cell_type": "code",
   "execution_count": null,
   "id": "03114ed0",
   "metadata": {},
   "outputs": [],
   "source": [
    "import pandas"
   ]
  },
  {
   "cell_type": "code",
   "execution_count": null,
   "id": "b4e2cf1e",
   "metadata": {},
   "outputs": [],
   "source": [
    "pd = pandas.DataFrame(i.get_publicacoes())"
   ]
  },
  {
   "cell_type": "code",
   "execution_count": null,
   "id": "c5e4f204",
   "metadata": {},
   "outputs": [],
   "source": [
    "for k,v in lattes.json['CURRICULO-VITAE']['PRODUCAO-BIBLIOGRAFICA']['ARTIGOS-PUBLICADOS']['ARTIGO-PUBLICADO'][0].items():\n",
    "    print (k)"
   ]
  },
  {
   "cell_type": "code",
   "execution_count": null,
   "id": "df1838de",
   "metadata": {},
   "outputs": [],
   "source": [
    "for k in lattes.json.get('CURRICULO-VITAE').get('PRODUCAO-BIBLIOGRAFICA').get('TRABALHOS-EM-EVENTOS').get('TRABALHO-EM-EVENTOS'):\n",
    "    print(k['DADOS-BASICOS-DO-TRABALHO']['@NATUREZA'])\n",
    "    print(k['DADOS-BASICOS-DO-TRABALHO']['@TITULO-DO-TRABALHO'])\n",
    "    print(k['DADOS-BASICOS-DO-TRABALHO']['@ANO-DO-TRABALHO'])\n",
    "    print(k['DADOS-BASICOS-DO-TRABALHO']['@DOI'])\n",
    "    print(k['DADOS-BASICOS-DO-TRABALHO']['@DOI'])\n"
   ]
  },
  {
   "cell_type": "code",
   "execution_count": null,
   "id": "4ab61d2d",
   "metadata": {},
   "outputs": [],
   "source": [
    "lattes.json['CURRICULO-VITAE']['PRODUCAO-BIBLIOGRAFICA']['TRABALHOS-EM-EVENTOS']['TRABALHO-EM-EVENTOS']"
   ]
  },
  {
   "cell_type": "code",
   "execution_count": null,
   "id": "6ebfdee3",
   "metadata": {},
   "outputs": [],
   "source": [
    "pd"
   ]
  },
  {
   "cell_type": "code",
   "execution_count": null,
   "id": "b6d8d935",
   "metadata": {},
   "outputs": [],
   "source": [
    "Lattes.atualiza_todos_os_indicadores(max = 10)"
   ]
  },
  {
   "cell_type": "code",
   "execution_count": null,
   "id": "cb59beb0",
   "metadata": {},
   "outputs": [],
   "source": [
    "from Lattes import Lattes"
   ]
  },
  {
   "cell_type": "code",
   "execution_count": null,
   "id": "1862a242",
   "metadata": {},
   "outputs": [],
   "source": [
    "from Lattes import Lattes"
   ]
  },
  {
   "cell_type": "code",
   "execution_count": null,
   "id": "12315dac",
   "metadata": {},
   "outputs": [],
   "source": [
    "lattes = Lattes()"
   ]
  },
  {
   "cell_type": "code",
   "execution_count": null,
   "id": "486e63d9",
   "metadata": {},
   "outputs": [],
   "source": [
    "print(lattes.read_from_disk())\n"
   ]
  },
  {
   "cell_type": "code",
   "execution_count": null,
   "id": "d870ce54",
   "metadata": {},
   "outputs": [],
   "source": [
    "lattes.get_xml()"
   ]
  },
  {
   "cell_type": "code",
   "execution_count": null,
   "id": "88e41904",
   "metadata": {},
   "outputs": [],
   "source": [
    "lattes.get_id_by_xml()"
   ]
  },
  {
   "cell_type": "code",
   "execution_count": null,
   "id": "b18d9fa2",
   "metadata": {},
   "outputs": [],
   "source": [
    "lattes.get_palavras_chave()"
   ]
  },
  {
   "cell_type": "code",
   "execution_count": null,
   "id": "7951e7d8",
   "metadata": {},
   "outputs": [],
   "source": [
    "lattes.insert_palavras_chave_no_bd()"
   ]
  },
  {
   "cell_type": "code",
   "execution_count": null,
   "id": "bc147ec3",
   "metadata": {},
   "outputs": [],
   "source": [
    "lattes.insere_dados_pessoais_no_bd()"
   ]
  },
  {
   "cell_type": "code",
   "execution_count": null,
   "id": "0c326074",
   "metadata": {},
   "outputs": [],
   "source": [
    "lattes.get_areas_conhecimento()"
   ]
  },
  {
   "cell_type": "code",
   "execution_count": null,
   "id": "40ddfad7",
   "metadata": {},
   "outputs": [],
   "source": [
    "lattes.get_all_indicadores()"
   ]
  },
  {
   "cell_type": "code",
   "execution_count": null,
   "id": "67dfeb30",
   "metadata": {},
   "outputs": [],
   "source": [
    "print(lattes.indicadores)"
   ]
  },
  {
   "cell_type": "code",
   "execution_count": null,
   "id": "ce407370",
   "metadata": {},
   "outputs": [],
   "source": [
    "lattes.get_publicacoes()"
   ]
  },
  {
   "cell_type": "code",
   "execution_count": null,
   "id": "16785fb8",
   "metadata": {},
   "outputs": [],
   "source": [
    "lattes.insert_lattes()"
   ]
  },
  {
   "cell_type": "code",
   "execution_count": null,
   "id": "2af78a15",
   "metadata": {},
   "outputs": [],
   "source": [
    "lattes.get_bd_data_atualizacao()"
   ]
  },
  {
   "cell_type": "code",
   "execution_count": null,
   "id": "90a685b8",
   "metadata": {},
   "outputs": [],
   "source": [
    "from Lattes import Lattes\n",
    "Lattes.update_bd_from_zip(id='1600461423386842')"
   ]
  },
  {
   "cell_type": "code",
   "execution_count": null,
   "id": "47d7a7e2",
   "metadata": {},
   "outputs": [],
   "source": [
    "['a' for _ in range(4)]"
   ]
  },
  {
   "cell_type": "code",
   "execution_count": null,
   "id": "30aca044",
   "metadata": {},
   "outputs": [],
   "source": [
    "data = ({'id': lattes.id, 'palavra': palavra} for palavra in lattes.palavras_chave)\n"
   ]
  },
  {
   "cell_type": "code",
   "execution_count": null,
   "id": "a2f3df0d",
   "metadata": {},
   "outputs": [],
   "source": [
    "for d in data:\n",
    "    print (d)"
   ]
  },
  {
   "cell_type": "code",
   "execution_count": null,
   "id": "4ddd09ae",
   "metadata": {},
   "outputs": [],
   "source": [
    "from Lattes import Lattes\n",
    "Lattes.atualiza_todos_os_indicadores(\n",
    "    path='D:/Lattes/Lattes_ZIP/', \n",
    "    num_imports_skip_before_log = 100, \n",
    "    show_import_messages = False,\n",
    ")"
   ]
  },
  {
   "cell_type": "code",
   "execution_count": null,
   "id": "de2dc4b7",
   "metadata": {},
   "outputs": [],
   "source": []
  }
 ],
 "metadata": {
  "kernelspec": {
   "display_name": "Python 3 (ipykernel)",
   "language": "python",
   "name": "python3"
  },
  "language_info": {
   "codemirror_mode": {
    "name": "ipython",
    "version": 3
   },
   "file_extension": ".py",
   "mimetype": "text/x-python",
   "name": "python",
   "nbconvert_exporter": "python",
   "pygments_lexer": "ipython3",
   "version": "3.9.7"
  }
 },
 "nbformat": 4,
 "nbformat_minor": 5
}
