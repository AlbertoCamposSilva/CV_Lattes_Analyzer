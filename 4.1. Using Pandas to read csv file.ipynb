{
 "cells": [
  {
   "cell_type": "code",
   "execution_count": 3,
   "id": "18c8308b",
   "metadata": {},
   "outputs": [],
   "source": [
    "import pandas"
   ]
  },
  {
   "cell_type": "code",
   "execution_count": 13,
   "id": "9de3e557",
   "metadata": {},
   "outputs": [],
   "source": [
    "data = pandas.read_csv(r'C:\\Users\\silva\\CNPq\\Lattes\\Planilhas/R358737.csv', dtype = str)"
   ]
  },
  {
   "cell_type": "code",
   "execution_count": 14,
   "id": "7db88595",
   "metadata": {},
   "outputs": [
    {
     "name": "stdout",
     "output_type": "stream",
     "text": [
      "              NRO_ID_CNPQ SGL_PAIS DT_ATUALIZA  COD_AREA COD_NIVEL   DTA_CARGA\n",
      "0        1798100711476813      ESP  01/07/2016  10701001         4  05/01/2022\n",
      "1        6716436953396086      BRA  30/09/2010  10102051         4  05/01/2022\n",
      "2        1421040516626871      BRA  30/10/2012  10103007         4  05/01/2022\n",
      "3        5038629344297105      BRA  03/12/2013  30400007         1  05/01/2022\n",
      "4        3617080115725376      BRA  02/02/2015  30500001         3  05/01/2022\n",
      "...                   ...      ...         ...       ...       ...         ...\n",
      "7429489  1772873418838421      BRA  18/09/2014       NaN       NaN  05/01/2022\n",
      "7429490  3614438072090663      BRA  08/11/2005       NaN       NaN  05/01/2022\n",
      "7429491  8869512367328228      BRA  07/12/2012       NaN       NaN  05/01/2022\n",
      "7429492  8043651877790641      BRA  28/10/2004       NaN       NaN  05/01/2022\n",
      "7429493  5573881798913415      BRA  06/10/2006       NaN       NaN  05/01/2022\n",
      "\n",
      "[7429494 rows x 6 columns]\n"
     ]
    }
   ],
   "source": [
    "print(data)"
   ]
  },
  {
   "cell_type": "code",
   "execution_count": 19,
   "id": "cc2e09da",
   "metadata": {},
   "outputs": [
    {
     "name": "stdout",
     "output_type": "stream",
     "text": [
      "7,429,494\n"
     ]
    }
   ],
   "source": [
    "print (\"{:,}\".format(len(data)))"
   ]
  },
  {
   "cell_type": "code",
   "execution_count": 21,
   "id": "227a673b",
   "metadata": {},
   "outputs": [
    {
     "ename": "ValueError",
     "evalue": "too many values to unpack (expected 6)",
     "output_type": "error",
     "traceback": [
      "\u001b[1;31m---------------------------------------------------------------------------\u001b[0m",
      "\u001b[1;31mValueError\u001b[0m                                Traceback (most recent call last)",
      "\u001b[1;32m~\\AppData\\Local\\Temp/ipykernel_15340/4194013536.py\u001b[0m in \u001b[0;36m<module>\u001b[1;34m\u001b[0m\n\u001b[0;32m      1\u001b[0m \u001b[0mx\u001b[0m \u001b[1;33m=\u001b[0m \u001b[1;36m0\u001b[0m\u001b[1;33m\u001b[0m\u001b[1;33m\u001b[0m\u001b[0m\n\u001b[1;32m----> 2\u001b[1;33m \u001b[1;32mfor\u001b[0m \u001b[0mNRO_ID_CNPQ\u001b[0m \u001b[1;33m,\u001b[0m \u001b[0mSGL_PAIS\u001b[0m \u001b[1;33m,\u001b[0m \u001b[0mDT_ATUALIZA\u001b[0m  \u001b[1;33m,\u001b[0m \u001b[0mCOD_AREA\u001b[0m\u001b[1;33m,\u001b[0m \u001b[0mCOD_NIVEL\u001b[0m\u001b[1;33m,\u001b[0m \u001b[0mDTA_CARGA\u001b[0m    \u001b[1;32min\u001b[0m \u001b[0mdata\u001b[0m\u001b[1;33m:\u001b[0m\u001b[1;33m\u001b[0m\u001b[1;33m\u001b[0m\u001b[0m\n\u001b[0m\u001b[0;32m      3\u001b[0m     \u001b[0mprint\u001b[0m \u001b[1;33m(\u001b[0m\u001b[0mNRO_ID_CNPQ\u001b[0m\u001b[1;33m)\u001b[0m\u001b[1;33m\u001b[0m\u001b[1;33m\u001b[0m\u001b[0m\n\u001b[0;32m      4\u001b[0m     \u001b[0mx\u001b[0m \u001b[1;33m+=\u001b[0m \u001b[1;36m1\u001b[0m\u001b[1;33m\u001b[0m\u001b[1;33m\u001b[0m\u001b[0m\n\u001b[0;32m      5\u001b[0m     \u001b[1;32mif\u001b[0m \u001b[0mx\u001b[0m\u001b[1;33m>\u001b[0m\u001b[1;36m1000\u001b[0m\u001b[1;33m:\u001b[0m\u001b[1;33m\u001b[0m\u001b[1;33m\u001b[0m\u001b[0m\n",
      "\u001b[1;31mValueError\u001b[0m: too many values to unpack (expected 6)"
     ]
    }
   ],
   "source": [
    "x = 0\n",
    "for NRO_ID_CNPQ , SGL_PAIS , DT_ATUALIZA  , COD_AREA, COD_NIVEL, DTA_CARGA    in data:\n",
    "    print (NRO_ID_CNPQ)\n",
    "    x += 1\n",
    "    if x>1000:\n",
    "        break"
   ]
  },
  {
   "cell_type": "code",
   "execution_count": null,
   "id": "fe71cdc4",
   "metadata": {},
   "outputs": [],
   "source": []
  }
 ],
 "metadata": {
  "kernelspec": {
   "display_name": "Python 3 (ipykernel)",
   "language": "python",
   "name": "python3"
  },
  "language_info": {
   "codemirror_mode": {
    "name": "ipython",
    "version": 3
   },
   "file_extension": ".py",
   "mimetype": "text/x-python",
   "name": "python",
   "nbconvert_exporter": "python",
   "pygments_lexer": "ipython3",
   "version": "3.9.7"
  }
 },
 "nbformat": 4,
 "nbformat_minor": 5
}
