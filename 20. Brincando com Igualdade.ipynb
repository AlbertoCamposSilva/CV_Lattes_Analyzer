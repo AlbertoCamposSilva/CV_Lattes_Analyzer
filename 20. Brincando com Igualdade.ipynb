{
 "cells": [
  {
   "cell_type": "code",
   "execution_count": 1,
   "id": "14d7654e",
   "metadata": {},
   "outputs": [],
   "source": [
    "from Carga import Carga\n",
    "from pandas import pandas as pd\n",
    "import numpy as np\n",
    "import unidecode"
   ]
  },
  {
   "cell_type": "code",
   "execution_count": 2,
   "id": "c07c888d",
   "metadata": {},
   "outputs": [],
   "source": [
    "engine = Carga.db_engine()\n",
    "dt = pd.DataFrame()"
   ]
  },
  {
   "cell_type": "markdown",
   "id": "be4b4819",
   "metadata": {},
   "source": [
    "# Full Database & Normalization"
   ]
  },
  {
   "cell_type": "code",
   "execution_count": 7,
   "id": "21cd3e7a",
   "metadata": {},
   "outputs": [],
   "source": [
    "sql = \"\"\"select distinct \"Processo\", \"Beneficiário\", \"Modalidade\", \"Sexo\", \"Instituição Origem\", \"Sigla UF Origem\", \"Programa CNPq\", \"Grande Área\", \"Área\", \"Subárea\", sum(\"Valor Pago\") \n",
    "from pagamentos\n",
    "where (\"Modalidade\" like '%%GDE%%'\n",
    "    or \"Modalidade\" like '%%GD%%')\n",
    "Group by \"Processo\", \"Beneficiário\", \"Modalidade\", \"Sexo\", \"Instituição Origem\", \"Sigla UF Origem\", \"Programa CNPq\", \"Grande Área\", \"Área\", \"Subárea\"\n",
    "\"\"\"\n"
   ]
  },
  {
   "cell_type": "code",
   "execution_count": 8,
   "id": "09a27787",
   "metadata": {},
   "outputs": [],
   "source": [
    "dt = pd.read_sql(sql, engine)"
   ]
  },
  {
   "cell_type": "code",
   "execution_count": 10,
   "id": "fef7a6ca",
   "metadata": {},
   "outputs": [],
   "source": [
    "import matplotlib.pyplot as plt\n",
    "import numpy as np"
   ]
  },
  {
   "cell_type": "code",
   "execution_count": 44,
   "id": "372f2bc6",
   "metadata": {},
   "outputs": [
    {
     "data": {
      "text/html": [
       "<div>\n",
       "<style scoped>\n",
       "    .dataframe tbody tr th:only-of-type {\n",
       "        vertical-align: middle;\n",
       "    }\n",
       "\n",
       "    .dataframe tbody tr th {\n",
       "        vertical-align: top;\n",
       "    }\n",
       "\n",
       "    .dataframe thead th {\n",
       "        text-align: right;\n",
       "    }\n",
       "</style>\n",
       "<table border=\"1\" class=\"dataframe\">\n",
       "  <thead>\n",
       "    <tr style=\"text-align: right;\">\n",
       "      <th></th>\n",
       "      <th>Processo</th>\n",
       "      <th>Beneficiário</th>\n",
       "      <th>Modalidade</th>\n",
       "      <th>Sexo</th>\n",
       "      <th>Instituição Origem</th>\n",
       "      <th>Sigla UF Origem</th>\n",
       "      <th>Programa CNPq</th>\n",
       "      <th>Grande Área</th>\n",
       "      <th>Área</th>\n",
       "      <th>Subárea</th>\n",
       "      <th>sum</th>\n",
       "    </tr>\n",
       "  </thead>\n",
       "  <tbody>\n",
       "    <tr>\n",
       "      <th>0</th>\n",
       "      <td>101025/2016-5</td>\n",
       "      <td>Fernanda Garcia dos Santos</td>\n",
       "      <td>GD - Doutorado</td>\n",
       "      <td>F</td>\n",
       "      <td>Universidade Federal de São Paulo</td>\n",
       "      <td>SP</td>\n",
       "      <td>PROGRAMA BASICO DE NUTRICAO</td>\n",
       "      <td>Ciências Sociais Aplicadas</td>\n",
       "      <td>Direito</td>\n",
       "      <td>Direito Internacional Público</td>\n",
       "      <td>140076.00</td>\n",
       "    </tr>\n",
       "    <tr>\n",
       "      <th>1</th>\n",
       "      <td>120556/2017-0</td>\n",
       "      <td>Zeray Hagos Gebrezabher</td>\n",
       "      <td>GD - Doutorado</td>\n",
       "      <td>M</td>\n",
       "      <td>Universidade de São Paulo</td>\n",
       "      <td>SP</td>\n",
       "      <td>Programa Academia de Ciencias do Terceiro Mund...</td>\n",
       "      <td>Ciências Exatas e da Terra</td>\n",
       "      <td>Matemática</td>\n",
       "      <td>Física Matemática</td>\n",
       "      <td>62256.00</td>\n",
       "    </tr>\n",
       "    <tr>\n",
       "      <th>2</th>\n",
       "      <td>120556/2017-0</td>\n",
       "      <td>Zeray Hagos Gebrezabher</td>\n",
       "      <td>GD - Doutorado</td>\n",
       "      <td>None</td>\n",
       "      <td>Universidade de São Paulo</td>\n",
       "      <td>SP</td>\n",
       "      <td>Programa Academia de Ciencias do Terceiro Mund...</td>\n",
       "      <td>Ciências Exatas e da Terra</td>\n",
       "      <td>Matemática</td>\n",
       "      <td>Física Matemática</td>\n",
       "      <td>63303.57</td>\n",
       "    </tr>\n",
       "    <tr>\n",
       "      <th>3</th>\n",
       "      <td>121853/2017-9</td>\n",
       "      <td>Suleiman Dauda</td>\n",
       "      <td>GD - Doutorado</td>\n",
       "      <td>M</td>\n",
       "      <td>Universidade Federal de São Carlos</td>\n",
       "      <td>SP</td>\n",
       "      <td>Programa Academia de Ciencias do Terceiro Mund...</td>\n",
       "      <td>Ciências Biológicas</td>\n",
       "      <td>Botânica</td>\n",
       "      <td>Botânica Aplicada</td>\n",
       "      <td>125559.57</td>\n",
       "    </tr>\n",
       "    <tr>\n",
       "      <th>4</th>\n",
       "      <td>137634/2017-0</td>\n",
       "      <td>Afonso Filipe Joao</td>\n",
       "      <td>GD - Doutorado</td>\n",
       "      <td>M</td>\n",
       "      <td>Universidade Federal de Uberlândia</td>\n",
       "      <td>MG</td>\n",
       "      <td>Programa Academia de Ciencias do Terceiro Mund...</td>\n",
       "      <td>Ciências Exatas e da Terra</td>\n",
       "      <td>Química</td>\n",
       "      <td>Eletroanalítica</td>\n",
       "      <td>122378.14</td>\n",
       "    </tr>\n",
       "    <tr>\n",
       "      <th>...</th>\n",
       "      <td>...</td>\n",
       "      <td>...</td>\n",
       "      <td>...</td>\n",
       "      <td>...</td>\n",
       "      <td>...</td>\n",
       "      <td>...</td>\n",
       "      <td>...</td>\n",
       "      <td>...</td>\n",
       "      <td>...</td>\n",
       "      <td>...</td>\n",
       "      <td>...</td>\n",
       "    </tr>\n",
       "    <tr>\n",
       "      <th>64838</th>\n",
       "      <td>290359/2004-0</td>\n",
       "      <td>Francisco Exaltação Trevisan</td>\n",
       "      <td>GDE - Doutorado no Exterior</td>\n",
       "      <td>M</td>\n",
       "      <td>Centro de Engenharia do Petróleo</td>\n",
       "      <td>SP</td>\n",
       "      <td>Comissão Fulbright</td>\n",
       "      <td>Engenharias</td>\n",
       "      <td>Engenharia Mecânica</td>\n",
       "      <td>Mecânica dos Fluídos</td>\n",
       "      <td>139249.81</td>\n",
       "    </tr>\n",
       "    <tr>\n",
       "      <th>64839</th>\n",
       "      <td>290360/2017-0</td>\n",
       "      <td>Marcelo Henrique Feitosa de Sousa</td>\n",
       "      <td>GDE - Doutorado no Exterior</td>\n",
       "      <td>M</td>\n",
       "      <td>University of Tübingen</td>\n",
       "      <td>None</td>\n",
       "      <td>DAAD</td>\n",
       "      <td>Ciências da Saúde</td>\n",
       "      <td>Medicina</td>\n",
       "      <td>Neurocirurgia</td>\n",
       "      <td>167382.68</td>\n",
       "    </tr>\n",
       "    <tr>\n",
       "      <th>64840</th>\n",
       "      <td>290365/2004-0</td>\n",
       "      <td>Leonardo Pio Perez</td>\n",
       "      <td>GDE - Doutorado no Exterior</td>\n",
       "      <td>M</td>\n",
       "      <td>Banco Central</td>\n",
       "      <td>DF</td>\n",
       "      <td>Comissão Fulbright</td>\n",
       "      <td>Ciências Sociais Aplicadas</td>\n",
       "      <td>Economia</td>\n",
       "      <td>Economia Monetária e Fiscal</td>\n",
       "      <td>208980.25</td>\n",
       "    </tr>\n",
       "    <tr>\n",
       "      <th>64841</th>\n",
       "      <td>290377/2004-8</td>\n",
       "      <td>Francisco Carlos de Mattos Brito Oliveira</td>\n",
       "      <td>GDE - Doutorado no Exterior</td>\n",
       "      <td>M</td>\n",
       "      <td>Faculdade Integrada do Ceará</td>\n",
       "      <td>CE</td>\n",
       "      <td>Comissão Fulbright</td>\n",
       "      <td>Ciências Exatas e da Terra</td>\n",
       "      <td>Ciência da Computação</td>\n",
       "      <td>Processamento Gráfico (Graphics)</td>\n",
       "      <td>136359.47</td>\n",
       "    </tr>\n",
       "    <tr>\n",
       "      <th>64842</th>\n",
       "      <td>290387/2004-3</td>\n",
       "      <td>Vitor Rademaker Martins</td>\n",
       "      <td>GDE - Doutorado no Exterior</td>\n",
       "      <td>M</td>\n",
       "      <td>Pennsylvania State University</td>\n",
       "      <td>None</td>\n",
       "      <td>Comissão Fulbright</td>\n",
       "      <td>Ciências da Saúde</td>\n",
       "      <td>Saúde Coletiva</td>\n",
       "      <td>Epidemiologia</td>\n",
       "      <td>155768.51</td>\n",
       "    </tr>\n",
       "  </tbody>\n",
       "</table>\n",
       "<p>64843 rows × 11 columns</p>\n",
       "</div>"
      ],
      "text/plain": [
       "            Processo                               Beneficiário  \\\n",
       "0      101025/2016-5                 Fernanda Garcia dos Santos   \n",
       "1      120556/2017-0                    Zeray Hagos Gebrezabher   \n",
       "2      120556/2017-0                    Zeray Hagos Gebrezabher   \n",
       "3      121853/2017-9                             Suleiman Dauda   \n",
       "4      137634/2017-0                         Afonso Filipe Joao   \n",
       "...              ...                                        ...   \n",
       "64838  290359/2004-0               Francisco Exaltação Trevisan   \n",
       "64839  290360/2017-0          Marcelo Henrique Feitosa de Sousa   \n",
       "64840  290365/2004-0                         Leonardo Pio Perez   \n",
       "64841  290377/2004-8  Francisco Carlos de Mattos Brito Oliveira   \n",
       "64842  290387/2004-3                    Vitor Rademaker Martins   \n",
       "\n",
       "                        Modalidade  Sexo                  Instituição Origem  \\\n",
       "0                   GD - Doutorado     F   Universidade Federal de São Paulo   \n",
       "1                   GD - Doutorado     M           Universidade de São Paulo   \n",
       "2                   GD - Doutorado  None           Universidade de São Paulo   \n",
       "3                   GD - Doutorado     M  Universidade Federal de São Carlos   \n",
       "4                   GD - Doutorado     M  Universidade Federal de Uberlândia   \n",
       "...                            ...   ...                                 ...   \n",
       "64838  GDE - Doutorado no Exterior     M    Centro de Engenharia do Petróleo   \n",
       "64839  GDE - Doutorado no Exterior     M              University of Tübingen   \n",
       "64840  GDE - Doutorado no Exterior     M                       Banco Central   \n",
       "64841  GDE - Doutorado no Exterior     M       Faculdade Integrada do Ceará    \n",
       "64842  GDE - Doutorado no Exterior     M       Pennsylvania State University   \n",
       "\n",
       "      Sigla UF Origem                                      Programa CNPq  \\\n",
       "0                  SP                        PROGRAMA BASICO DE NUTRICAO   \n",
       "1                  SP  Programa Academia de Ciencias do Terceiro Mund...   \n",
       "2                  SP  Programa Academia de Ciencias do Terceiro Mund...   \n",
       "3                  SP  Programa Academia de Ciencias do Terceiro Mund...   \n",
       "4                  MG  Programa Academia de Ciencias do Terceiro Mund...   \n",
       "...               ...                                                ...   \n",
       "64838              SP                                 Comissão Fulbright   \n",
       "64839            None                                               DAAD   \n",
       "64840              DF                                 Comissão Fulbright   \n",
       "64841              CE                                 Comissão Fulbright   \n",
       "64842            None                                 Comissão Fulbright   \n",
       "\n",
       "                      Grande Área                   Área  \\\n",
       "0      Ciências Sociais Aplicadas                Direito   \n",
       "1      Ciências Exatas e da Terra             Matemática   \n",
       "2      Ciências Exatas e da Terra             Matemática   \n",
       "3             Ciências Biológicas               Botânica   \n",
       "4      Ciências Exatas e da Terra                Química   \n",
       "...                           ...                    ...   \n",
       "64838                 Engenharias    Engenharia Mecânica   \n",
       "64839           Ciências da Saúde               Medicina   \n",
       "64840  Ciências Sociais Aplicadas               Economia   \n",
       "64841  Ciências Exatas e da Terra  Ciência da Computação   \n",
       "64842           Ciências da Saúde         Saúde Coletiva   \n",
       "\n",
       "                                Subárea        sum  \n",
       "0         Direito Internacional Público  140076.00  \n",
       "1                     Física Matemática   62256.00  \n",
       "2                     Física Matemática   63303.57  \n",
       "3                     Botânica Aplicada  125559.57  \n",
       "4                       Eletroanalítica  122378.14  \n",
       "...                                 ...        ...  \n",
       "64838              Mecânica dos Fluídos  139249.81  \n",
       "64839                     Neurocirurgia  167382.68  \n",
       "64840       Economia Monetária e Fiscal  208980.25  \n",
       "64841  Processamento Gráfico (Graphics)  136359.47  \n",
       "64842                     Epidemiologia  155768.51  \n",
       "\n",
       "[64843 rows x 11 columns]"
      ]
     },
     "execution_count": 44,
     "metadata": {},
     "output_type": "execute_result"
    }
   ],
   "source": [
    "dt"
   ]
  },
  {
   "cell_type": "code",
   "execution_count": 97,
   "id": "c912998d",
   "metadata": {},
   "outputs": [],
   "source": [
    "subareas = dt[[\"Sigla UF Origem\", \"Grande Área\"]].groupby(\"Grande Área\").size().to_frame(name = 'count').reset_index()"
   ]
  },
  {
   "cell_type": "code",
   "execution_count": 50,
   "id": "da620679",
   "metadata": {},
   "outputs": [],
   "source": [
    "areas.to_excel(\"d:/sexo.xlsx\")"
   ]
  },
  {
   "cell_type": "code",
   "execution_count": 98,
   "id": "363b0ead",
   "metadata": {},
   "outputs": [],
   "source": [
    "area_sexo = dt[[\"Sigla UF Origem\", \"Grande Área\", \"sum\"]].groupby([\"Sigla UF Origem\", \"Grande Área\"]).size().to_frame(name = 'count').reset_index()"
   ]
  },
  {
   "cell_type": "code",
   "execution_count": 99,
   "id": "d0a34174",
   "metadata": {},
   "outputs": [],
   "source": [
    "areas_sexo = pd.crosstab(dt['Grande Área'],dt['Sigla UF Origem'])"
   ]
  },
  {
   "cell_type": "code",
   "execution_count": 107,
   "id": "a0a56d03",
   "metadata": {},
   "outputs": [
    {
     "data": {
      "text/plain": [
       "<AxesSubplot:ylabel='Grande Área'>"
      ]
     },
     "execution_count": 107,
     "metadata": {},
     "output_type": "execute_result"
    },
    {
     "data": {
      "image/png": "[encoded data removed]",
      "text/plain": [
       "<Figure size 864x2160 with 1 Axes>"
      ]
     },
     "metadata": {
      "needs_background": "light"
     },
     "output_type": "display_data"
    }
   ],
   "source": [
    "areas_sexo.plot(kind='barh', figsize=(12,30))"
   ]
  },
  {
   "cell_type": "code",
   "execution_count": 106,
   "id": "14553b1f",
   "metadata": {},
   "outputs": [],
   "source": [
    "areas_sexo.to_excel(\"d:\\estado_area.xlsx\")"
   ]
  },
  {
   "cell_type": "code",
   "execution_count": 101,
   "id": "c58d6d50",
   "metadata": {},
   "outputs": [
    {
     "data": {
      "image/png": "[encoded data removed]",
      "text/plain": [
       "<Figure size 432x288 with 1 Axes>"
      ]
     },
     "metadata": {
      "needs_background": "light"
     },
     "output_type": "display_data"
    }
   ],
   "source": [
    "import numpy as np\n",
    "import matplotlib.pyplot as plt\n",
    "\n",
    "# data to plot\n",
    "marks_john = [90, 55, 40, 65]\n",
    "marks_sam = [85, 62, 54, 20]\n",
    "\n",
    "# create plot\n",
    "fig, ax = plt.subplots()\n",
    "bar_width = 0.35\n",
    "X = np.arange(4)\n",
    "\n",
    "p1 = plt.bar(X, marks_john, bar_width, color='b',\n",
    "label='John')\n",
    "\n",
    "# The bar of second plot starts where the first bar ends\n",
    "p2 = plt.bar(X + bar_width, marks_sam, bar_width,\n",
    "color='g',\n",
    "label='Sam')\n",
    "\n",
    "plt.xlabel('Subject')\n",
    "plt.ylabel('Scores')\n",
    "plt.title('Scores in each subject')\n",
    "plt.xticks(X + (bar_width/2) , (\"English\", \"Science\", \n",
    "\"Sports\", \"History\"))\n",
    "plt.legend()\n",
    "\n",
    "plt.tight_layout()\n",
    "plt.show()"
   ]
  },
  {
   "cell_type": "markdown",
   "id": "81b05194",
   "metadata": {},
   "source": [
    "# Getting partial databases"
   ]
  },
  {
   "cell_type": "code",
   "execution_count": null,
   "id": "f4655f1d",
   "metadata": {},
   "outputs": [],
   "source": [
    "financiados = dt[dt.pgtos > 0]"
   ]
  },
  {
   "cell_type": "code",
   "execution_count": null,
   "id": "35d7cd5f",
   "metadata": {},
   "outputs": [],
   "source": [
    "outros = dt[pd.isnull(dt.pgtos)]"
   ]
  },
  {
   "cell_type": "code",
   "execution_count": null,
   "id": "15879a1e",
   "metadata": {},
   "outputs": [],
   "source": [
    "financiados.id.unique()"
   ]
  },
  {
   "cell_type": "markdown",
   "id": "53c392d2",
   "metadata": {},
   "source": [
    "## Analisando um ID"
   ]
  },
  {
   "cell_type": "code",
   "execution_count": null,
   "id": "a1329c68",
   "metadata": {},
   "outputs": [],
   "source": [
    "id = 1956141788591551\n",
    "financiado = financiados[financiados.id == id]\n",
    "financiado"
   ]
  },
  {
   "cell_type": "code",
   "execution_count": null,
   "id": "71aaa8d7",
   "metadata": {},
   "outputs": [],
   "source": [
    "financiado.areas_conhecimento.iloc[0].split(',')"
   ]
  },
  {
   "cell_type": "code",
   "execution_count": null,
   "id": "b7ed683a",
   "metadata": {},
   "outputs": [],
   "source": [
    "#Pegando Regiões\n",
    "\n",
    "região = financiado.iloc[0].uf\n",
    "tipo_região = None\n",
    "if not região == None:\n",
    "    if região in ('GO', 'MS', 'MT', 'DF', 'AL', 'BA', 'CE', 'MA', 'PB', 'PE', 'PI', 'RN', 'SE', 'AC', 'AM', 'AP', 'PA', 'RO', 'RR', 'TO'):\n",
    "        tipo_região = 1\n",
    "    elif região in ('ES', 'MG', 'RJ', 'SP'):\n",
    "        tipo_região = 2\n",
    "    elif região in ('PR', 'RS', 'SC'):\n",
    "        tipo_região = 3\n",
    "    \n"
   ]
  },
  {
   "cell_type": "code",
   "execution_count": null,
   "id": "a026b530",
   "metadata": {},
   "outputs": [],
   "source": [
    "#Pegando ano do Indicador a ser usado\n",
    "\n",
    "if financiado.chamada.str.contains('2012', na=False).unique()[0] == True : ano = 2012\n",
    "elif financiado.chamada.str.contains('2013', na=False).unique()[0] == True : ano = 2013\n",
    "elif financiado.chamada.str.contains('2014', na=False).unique()[0] == True : ano = 2014\n",
    "else: ano = None\n",
    "    \n",
    "    \n",
    "#Pegando Faixa do Financiado\n",
    "    \n",
    "if financiado.chamada.str.contains('Faixa A', na=False).unique()[0] == True : faixa = 'A'\n",
    "elif financiado.chamada.str.contains('Faixa B', na=False).unique()[0] == True : faixa = 'B'\n",
    "elif financiado.chamada.str.contains('Faixa c', na=False).unique()[0] == True : faixa = 'C'\n",
    "else: faixa = None\n",
    "    \n",
    "print (faixa, ano)"
   ]
  },
  {
   "cell_type": "code",
   "execution_count": null,
   "id": "0ea0a61e",
   "metadata": {},
   "outputs": [],
   "source": [
    "#Pegando Enquadramentos Funcionais Atuais\n",
    "enquadramento_vinculo = financiado.enquadramento_vinculo.unique()\n",
    "if not enquadramento_vinculo == None and len(enquadramento_vinculo) > 0:\n",
    "    if enquadramento_vinculo[0].find('professor') > -1:\n",
    "        vinculo = 'professor'\n",
    "    elif enquadramento_vinculo[0].find('outro') > -1:\n",
    "        vinculo = 'outro'    \n",
    "    elif enquadramento_vinculo[0].find('livre') > -1:\n",
    "        vinculo = 'livre'      \n",
    "else: vinculo  = 'nenhum'\n",
    "\n",
    "tipos_vinculo = financiado.enquadramento_vinculo.unique()\n",
    "if not tipos_vinculo == None and len(tipos_vinculo) > 0:   \n",
    "    if tipos_vinculo[0].find('servidor_publico') > -1:\n",
    "        enquadramento = 'servidor_publico'\n",
    "    elif tipos_vinculo[0].find('celetista') > -1:\n",
    "        enquadramento = 'celetista'\n",
    "    elif tipos_vinculo[0].find('professor_visitante') > -1:\n",
    "        enquadramento = 'colaborador' \n",
    "    elif tipos_vinculo[0].find('colaborador') > -1:\n",
    "        enquadramento = 'colaborador' \n",
    "    elif tipos_vinculo[0].find('bolsista') > -1:\n",
    "        enquadramento = 'bolsista' \n",
    "    elif tipos_vinculo[0].find('livre') > -1:\n",
    "        enquadramento = 'livre' \n",
    "    elif tipos_vinculo[0].find('outro') > -1:\n",
    "        enquadramento = 'outro'     \n",
    "else: enquadramento = 'nenhum'\n",
    "    \n",
    "print (f\"Vínculo: {vinculo}. Tipo: {enquadramento}\")    \n",
    "\n",
    "\n"
   ]
  },
  {
   "cell_type": "code",
   "execution_count": null,
   "id": "4a5a538e",
   "metadata": {},
   "outputs": [],
   "source": [
    "#Fazendo o Pareamento\n",
    "\n",
    "pareados = outros.loc[\n",
    "    (outros.sexo == financiado.sexo.unique()[0])\n",
    "    & (outros.areas_conhecimento.str.contains(financiado.area_demanda_bruta.unique()[0], na=False))\n",
    "    & (outros.enquadramento_vinculo.str.contains(vinculo, na=False))\n",
    "    & (outros.tipos_vinculo.str.contains(enquadramento, na=False))\n",
    "    #& (outros.ano_doutorado < financiado.ano_doutorado.unique()[0] + 5)\n",
    "    #& (outros.ano_doutorado > financiado.ano_doutorado.unique()[0] - 5)\n",
    "    ]\n",
    "if tipo_região == 1:\n",
    "    pareados = pareados.loc[pareados.uf.isin(('GO', 'MS', 'MT', 'DF', 'AL', 'BA', 'CE', 'MA', 'PB', 'PE', 'PI', 'RN', 'SE', 'AC', 'AM', 'AP', 'PA', 'RO', 'RR', 'TO'))]\n",
    "elif tipo_região == 2:\n",
    "    pareados = pareados.loc[pareados.uf.isin(('ES', 'MG', 'RJ', 'SP'))]\n",
    "elif tipo_região == 3:\n",
    "    pareados = pareados.loc[pareados.uf.isin(('PR', 'RS', 'SC'))]\n",
    "    \n",
    "len(pareados.id.unique())"
   ]
  },
  {
   "cell_type": "code",
   "execution_count": null,
   "id": "7555e809",
   "metadata": {},
   "outputs": [],
   "source": [
    "pareados"
   ]
  },
  {
   "cell_type": "code",
   "execution_count": null,
   "id": "cb4dca70",
   "metadata": {},
   "outputs": [],
   "source": [
    "#Fezendo lista de erros quadráticos\n",
    "ids_pareados = []\n",
    "for grupo in financiado.grupo.unique():\n",
    "    ind_financiado = financiado.loc[(financiado.grupo == grupo)]['qty_' + str(ano)].iloc[0]\n",
    "    #print('\\n\\n', grupo, ind_financiado, ': ')\n",
    "\n",
    "    for id_pareado in pareados.id.unique():\n",
    "        ind_pareado = pareados.loc[\n",
    "            (pareados.grupo == grupo)\n",
    "            & (pareados.id == id_pareado)\n",
    "            ]['qty_' + str(ano)]\n",
    "        if len(ind_pareado) > 0:\n",
    "            ind_pareado = ind_pareado.iloc[0]\n",
    "        else:\n",
    "            ind_pareado = 0\n",
    "        erro = {\n",
    "            'id': id,\n",
    "            'id_pareado': id_pareado,\n",
    "            'grupo': grupo,\n",
    "            'valor': ind_pareado,\n",
    "            'erro2': (ind_financiado - ind_pareado)**2\n",
    "        }\n",
    "        ids_pareados.append(erro)\n",
    "        print(erro)"
   ]
  },
  {
   "cell_type": "code",
   "execution_count": null,
   "id": "0cfa888a",
   "metadata": {},
   "outputs": [],
   "source": [
    "#Acrescentando Anos de Doutor como um Indicador\n",
    "for id_pareado in pareados.id.unique():\n",
    "    ind_pareado = pareados.ano_doutorado.loc[\n",
    "        (pareados.id == id_pareado)\n",
    "        ].unique()\n",
    "    #print(ind_pareado, type(ind_pareado))\n",
    "    if len(ind_pareado) > 0:\n",
    "        ind_pareado = ind_pareado[0]\n",
    "    else:\n",
    "        ind_pareado = 0\n",
    "    erro = {\n",
    "        'id': id,\n",
    "        'id_pareado': id_pareado,\n",
    "        'grupo': \"Anos de Doutor\",\n",
    "        'valor': ind_pareado,\n",
    "        'erro2': (financiado.ano_doutorado.iloc[0] - ind_pareado)**2\n",
    "    }\n",
    "    ids_pareados.append(erro)"
   ]
  },
  {
   "cell_type": "code",
   "execution_count": null,
   "id": "2623e98c",
   "metadata": {},
   "outputs": [],
   "source": [
    "financiado.ano_doutorado.iloc[0]"
   ]
  },
  {
   "cell_type": "code",
   "execution_count": null,
   "id": "c806e9b9",
   "metadata": {},
   "outputs": [],
   "source": [
    "#Acrescentando Áreas do Conhecimento em Comum como outro indicador\n",
    "areas_conhecimento_financiado = financiado.areas_conhecimento.iloc[0]\n",
    "if not areas_conhecimento_financiado == None:\n",
    "    areas_conhecimento_financiado = areas_conhecimento_financiado.split(',')\n",
    "    total_areas = len(areas_conhecimento_financiado)\n",
    "\n",
    "    for id_pareado in pareados.id.unique():\n",
    "        areas_em_comum = 0\n",
    "        lista_areas_conhecimento = pareados.loc[pareados.id == id_pareado].areas_conhecimento\n",
    "        if len(lista_areas_conhecimento) > 0 and not lista_areas_conhecimento.iloc[0] == None:\n",
    "            lista_areas_conhecimento = lista_areas_conhecimento.iloc[0].split(',')\n",
    "            for area in areas_conhecimento_financiado:\n",
    "                if area in lista_areas_conhecimento:\n",
    "                    areas_em_comum += 1\n",
    "        erro = {\n",
    "            'id': id,\n",
    "            'id_pareado': id_pareado,\n",
    "            'grupo': 'areas_conhecimento',\n",
    "            'valor': areas_em_comum,\n",
    "            'erro2': (total_areas - areas_em_comum)**2\n",
    "        }\n",
    "        ids_pareados.append(erro)    \n",
    "        #print(erro)"
   ]
  },
  {
   "cell_type": "code",
   "execution_count": null,
   "id": "40df5784",
   "metadata": {},
   "outputs": [],
   "source": [
    "#Calculando o Erro\n",
    "erro = pd.DataFrame(ids_pareados)\n",
    "#print(erro)\n",
    "desvio_padrão = []\n",
    "for id_pareado in erro.id_pareado.unique():\n",
    "    erro_id = erro.loc[erro.id_pareado == id_pareado]\n",
    "    if not erro_id.empty:\n",
    "        soma_erro = erro_id.erro2.sum()\n",
    "        num_erros = len(erro_id.index)\n",
    "        err = {\n",
    "            'id': id,\n",
    "            'id_pareado': id_pareado,\n",
    "            'erro': np.sqrt(soma_erro/num_erros)\n",
    "        }\n",
    "        desvio_padrão.append(err)"
   ]
  },
  {
   "cell_type": "code",
   "execution_count": null,
   "id": "c70a8594",
   "metadata": {},
   "outputs": [],
   "source": [
    "tabela_pareamento = pd.DataFrame(desvio_padrão)"
   ]
  },
  {
   "cell_type": "code",
   "execution_count": null,
   "id": "b3aa7eb4",
   "metadata": {},
   "outputs": [],
   "source": [
    "tabela_pareamento.sort_values(by='erro', ascending=True)"
   ]
  },
  {
   "cell_type": "code",
   "execution_count": null,
   "id": "e861f9e3",
   "metadata": {},
   "outputs": [],
   "source": [
    "tabela_pareamento.describe()"
   ]
  },
  {
   "cell_type": "code",
   "execution_count": null,
   "id": "cf56b7e2",
   "metadata": {},
   "outputs": [],
   "source": []
  },
  {
   "cell_type": "code",
   "execution_count": null,
   "id": "8538d4f3",
   "metadata": {},
   "outputs": [],
   "source": []
  },
  {
   "cell_type": "code",
   "execution_count": null,
   "id": "4bb9dc0c",
   "metadata": {},
   "outputs": [],
   "source": []
  }
 ],
 "metadata": {
  "kernelspec": {
   "display_name": "Python 3 (ipykernel)",
   "language": "python",
   "name": "python3"
  },
  "language_info": {
   "codemirror_mode": {
    "name": "ipython",
    "version": 3
   },
   "file_extension": ".py",
   "mimetype": "text/x-python",
   "name": "python",
   "nbconvert_exporter": "python",
   "pygments_lexer": "ipython3",
   "version": "3.9.7"
  }
 },
 "nbformat": 4,
 "nbformat_minor": 5
}
