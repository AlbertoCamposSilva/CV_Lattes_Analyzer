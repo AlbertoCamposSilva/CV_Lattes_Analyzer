{
 "cells": [
  {
   "cell_type": "code",
   "execution_count": 1,
   "id": "16f93b06",
   "metadata": {},
   "outputs": [],
   "source": [
    "class Teste:\n",
    "    indicadores = {}\n",
    "    indicadores['Id'] = []\n",
    "    indicadores['Tipo'] = []\n",
    "    indicadores['Ano'] = []\n",
    "\n",
    "    def __init__ (self):\n",
    "        self.indicador = {}\n",
    "        self.indicador['Id'] = []\n",
    "        self.indicador['Tipo'] = []\n",
    "        self.indicador['Ano'] = []\n",
    "        \n",
    "    def a_append (self, a, b, c):\n",
    "        self.indicador['Id'].append(a)\n",
    "        self.indicador['Tipo'].append(b)\n",
    "        self.indicador['Ano'].append(c)\n",
    "        Teste.indicadores['Id'].append(a)\n",
    "        Teste.indicadores['Tipo'].append(b)\n",
    "        Teste.indicadores['Ano'].append(c)"
   ]
  },
  {
   "cell_type": "code",
   "execution_count": 2,
   "id": "e8a87b7b",
   "metadata": {},
   "outputs": [],
   "source": [
    "teste1 = Teste()\n",
    "teste2 = Teste()\n"
   ]
  },
  {
   "cell_type": "code",
   "execution_count": 3,
   "id": "c8ef45dd",
   "metadata": {},
   "outputs": [
    {
     "data": {
      "text/plain": [
       "dict"
      ]
     },
     "execution_count": 3,
     "metadata": {},
     "output_type": "execute_result"
    }
   ],
   "source": [
    "type(teste1.indicadores)"
   ]
  },
  {
   "cell_type": "code",
   "execution_count": 4,
   "id": "573f8d0e",
   "metadata": {},
   "outputs": [],
   "source": [
    "teste1.a_append('Alberto Campos', 'Teste', '2021')"
   ]
  },
  {
   "cell_type": "code",
   "execution_count": 5,
   "id": "a04a8eeb",
   "metadata": {},
   "outputs": [],
   "source": [
    "teste2.a_append('Rosana Campos', 'Linda', 'sempre')"
   ]
  },
  {
   "cell_type": "code",
   "execution_count": 6,
   "id": "2f0c8ed2",
   "metadata": {},
   "outputs": [
    {
     "name": "stdout",
     "output_type": "stream",
     "text": [
      "{'Id': ['Alberto Campos', 'Rosana Campos'], 'Tipo': ['Teste', 'Linda'], 'Ano': ['2021', 'sempre']}\n",
      "{'Id': ['Alberto Campos'], 'Tipo': ['Teste'], 'Ano': ['2021']}\n"
     ]
    }
   ],
   "source": [
    "print (Teste.indicadores)\n",
    "print (teste1.indicador)"
   ]
  },
  {
   "cell_type": "code",
   "execution_count": 7,
   "id": "5fd384c3",
   "metadata": {},
   "outputs": [],
   "source": [
    "import pandas\n"
   ]
  },
  {
   "cell_type": "code",
   "execution_count": 8,
   "id": "1438367c",
   "metadata": {},
   "outputs": [],
   "source": [
    "df = pandas.DataFrame(Teste.indicadores)"
   ]
  },
  {
   "cell_type": "code",
   "execution_count": 9,
   "id": "c96fe98c",
   "metadata": {},
   "outputs": [
    {
     "name": "stdout",
     "output_type": "stream",
     "text": [
      "               Id   Tipo     Ano\n",
      "0  Alberto Campos  Teste    2021\n",
      "1   Rosana Campos  Linda  sempre\n"
     ]
    }
   ],
   "source": [
    "print(df)"
   ]
  },
  {
   "cell_type": "code",
   "execution_count": 10,
   "id": "b8bc9df5",
   "metadata": {},
   "outputs": [],
   "source": [
    "del teste1"
   ]
  },
  {
   "cell_type": "code",
   "execution_count": 11,
   "id": "964cc554",
   "metadata": {},
   "outputs": [],
   "source": [
    "del teste2"
   ]
  },
  {
   "cell_type": "code",
   "execution_count": 12,
   "id": "1b1e8ff4",
   "metadata": {},
   "outputs": [
    {
     "name": "stdout",
     "output_type": "stream",
     "text": [
      "{'Id': ['Alberto Campos', 'Rosana Campos'], 'Tipo': ['Teste', 'Linda'], 'Ano': ['2021', 'sempre']}\n"
     ]
    }
   ],
   "source": [
    "print (Teste.indicadores)"
   ]
  },
  {
   "cell_type": "code",
   "execution_count": 13,
   "id": "04445777",
   "metadata": {},
   "outputs": [
    {
     "ename": "NameError",
     "evalue": "name 'teste1' is not defined",
     "output_type": "error",
     "traceback": [
      "\u001b[1;31m---------------------------------------------------------------------------\u001b[0m",
      "\u001b[1;31mNameError\u001b[0m                                 Traceback (most recent call last)",
      "\u001b[1;32m~\\AppData\\Local\\Temp/ipykernel_12908/3154090427.py\u001b[0m in \u001b[0;36m<module>\u001b[1;34m\u001b[0m\n\u001b[1;32m----> 1\u001b[1;33m \u001b[0mprint\u001b[0m \u001b[1;33m(\u001b[0m\u001b[0mteste1\u001b[0m\u001b[1;33m.\u001b[0m\u001b[0mindicador\u001b[0m\u001b[1;33m)\u001b[0m\u001b[1;33m\u001b[0m\u001b[1;33m\u001b[0m\u001b[0m\n\u001b[0m",
      "\u001b[1;31mNameError\u001b[0m: name 'teste1' is not defined"
     ]
    }
   ],
   "source": [
    "print (teste1.indicador)"
   ]
  },
  {
   "cell_type": "code",
   "execution_count": null,
   "id": "3bbd1ea2",
   "metadata": {},
   "outputs": [],
   "source": []
  }
 ],
 "metadata": {
  "kernelspec": {
   "display_name": "Python 3 (ipykernel)",
   "language": "python",
   "name": "python3"
  },
  "language_info": {
   "codemirror_mode": {
    "name": "ipython",
    "version": 3
   },
   "file_extension": ".py",
   "mimetype": "text/x-python",
   "name": "python",
   "nbconvert_exporter": "python",
   "pygments_lexer": "ipython3",
   "version": "3.9.7"
  }
 },
 "nbformat": 4,
 "nbformat_minor": 5
}
