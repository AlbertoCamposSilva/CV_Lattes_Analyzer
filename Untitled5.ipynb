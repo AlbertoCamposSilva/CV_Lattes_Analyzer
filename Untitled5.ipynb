{
 "cells": [
  {
   "cell_type": "code",
   "execution_count": null,
   "id": "41033f42",
   "metadata": {},
   "outputs": [
    {
     "name": "stdout",
     "output_type": "stream",
     "text": [
      "\n",
      "Carregando lista de Ids da tabela indicadores para pular\n"
     ]
    }
   ],
   "source": [
    "from Carga import Carga\n",
    "cg = Carga()\n",
    "cg.atualiza_todos_os_indicadores (on_conflic_update = True, \n",
    "                                  pula_bd_indicadores = True, \n",
    "                                  pula_erros = False, \n",
    "                                  data_mínima_atualização_lattes = '2020-01-01', \n",
    "                                  de_all_lattes = True, \n",
    "                                  começando_com=[4,5,6],\n",
    "                                  nível_mínimo = 4\n",
    "                                 )"
   ]
  },
  {
   "cell_type": "code",
   "execution_count": null,
   "id": "5ae9878b",
   "metadata": {},
   "outputs": [],
   "source": []
  }
 ],
 "metadata": {
  "kernelspec": {
   "display_name": "Python 3 (ipykernel)",
   "language": "python",
   "name": "python3"
  },
  "language_info": {
   "codemirror_mode": {
    "name": "ipython",
    "version": 3
   },
   "file_extension": ".py",
   "mimetype": "text/x-python",
   "name": "python",
   "nbconvert_exporter": "python",
   "pygments_lexer": "ipython3",
   "version": "3.9.7"
  }
 },
 "nbformat": 4,
 "nbformat_minor": 5
}
