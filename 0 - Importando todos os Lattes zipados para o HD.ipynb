{
 "cells": [
  {
   "cell_type": "code",
   "execution_count": null,
   "id": "388d4a2f",
   "metadata": {},
   "outputs": [],
   "source": [
    "from Carga import Carga\n",
    "cg = Carga(connect_to_bd = False)"
   ]
  },
  {
   "cell_type": "markdown",
   "id": "3ae6162a",
   "metadata": {},
   "source": [
    "cg.load_carga(\n",
    "    pular_erros = False,\n",
    "    pular_indicadores = False,\n",
    "    pula_bd_lattes = False,\n",
    "    pula_hd = True,                    \n",
    "    de_bd_demanda_bruta = False,\n",
    "    de_bd_dados_pessoais = False,\n",
    "    de_dados_pessoais = False,\n",
    "    de_carga = True,\n",
    "    insere_no_bd = False,\n",
    "    carga=r'C:\\Users\\albertos\\CNPq\\Lattes\\Planilhas\\Carga all_lattes\\R358737.csv',\n",
    "    log_file=r'C:\\Users\\albertos\\CNPq\\Lattes\\Planilhas\\Carga all_lattes\\log.txt',\n",
    " )"
   ]
  },
  {
   "cell_type": "markdown",
   "id": "593d1b71",
   "metadata": {},
   "source": [
    "Carga.move_files_temp_to_path()"
   ]
  },
  {
   "cell_type": "code",
   "execution_count": null,
   "id": "44112b00",
   "metadata": {},
   "outputs": [],
   "source": [
    "carga=r'C:\\Users\\albertos\\CNPq\\Lattes\\Planilhas\\Carga all_lattes\\R358737.csv'\n",
    "cg.carrega_ids_do_csv (carga)"
   ]
  },
  {
   "cell_type": "code",
   "execution_count": null,
   "id": "f334ef83",
   "metadata": {},
   "outputs": [],
   "source": [
    "cg.carrega_lista_arquivos_no_HD ()"
   ]
  },
  {
   "cell_type": "code",
   "execution_count": null,
   "id": "19b549c7",
   "metadata": {},
   "outputs": [],
   "source": [
    "# print('\\nRetirando ids a exluir...')\n",
    "entra = set(cg.arquivos_no_csv)\n",
    "sai = set(cg.arquivos_no_HD)\n",
    "ids_para_importar = [id for id in entra if not id in sai]\n"
   ]
  },
  {
   "cell_type": "code",
   "execution_count": null,
   "id": "7a14b89c",
   "metadata": {},
   "outputs": [],
   "source": [
    "print('entra',len(entra))\n",
    "print('sai',len(sai))\n",
    "print('importar',len(ids_para_importar))\n"
   ]
  },
  {
   "cell_type": "code",
   "execution_count": 3,
   "id": "9373636a",
   "metadata": {},
   "outputs": [],
   "source": [
    "from Lattes import Lattes"
   ]
  },
  {
   "cell_type": "code",
   "execution_count": 4,
   "id": "6f9e3c46",
   "metadata": {},
   "outputs": [],
   "source": [
    "alb = Lattes()"
   ]
  },
  {
   "cell_type": "code",
   "execution_count": 5,
   "id": "4287a885",
   "metadata": {},
   "outputs": [
    {
     "data": {
      "text/plain": [
       "True"
      ]
     },
     "execution_count": 5,
     "metadata": {},
     "output_type": "execute_result"
    }
   ],
   "source": [
    "alb.get_id()"
   ]
  },
  {
   "cell_type": "code",
   "execution_count": 6,
   "id": "3a124b54",
   "metadata": {},
   "outputs": [
    {
     "name": "stdout",
     "output_type": "stream",
     "text": [
      "Tentando recuperar Lattes compactado 7281587998425548 via SOAP\n",
      "Lattes compactado recuperado via SOAP\n",
      "Lattes salvo no disco.\n"
     ]
    },
    {
     "data": {
      "text/plain": [
       "'Curriculo recuperado com sucesso!'"
      ]
     },
     "execution_count": 6,
     "metadata": {},
     "output_type": "execute_result"
    }
   ],
   "source": [
    "alb.get_zip_from_SOAP()"
   ]
  },
  {
   "cell_type": "code",
   "execution_count": 1,
   "id": "550f6e45",
   "metadata": {},
   "outputs": [],
   "source": [
    "from distutils.log import ERROR\n",
    "import os, time, zeep, pytz, socket, html\n",
    "import xmltodict, json\n",
    "from zipfile import ZipFile\n",
    "import io\n",
    "import pathlib\n",
    "from datetime import datetime\n",
    "from collections import OrderedDict\n",
    "from bs4 import BeautifulSoup, Tag"
   ]
  },
  {
   "cell_type": "code",
   "execution_count": 2,
   "id": "96626ae6",
   "metadata": {},
   "outputs": [
    {
     "ename": "NameError",
     "evalue": "name 'alb' is not defined",
     "output_type": "error",
     "traceback": [
      "\u001b[1;31m---------------------------------------------------------------------------\u001b[0m",
      "\u001b[1;31mNameError\u001b[0m                                 Traceback (most recent call last)",
      "\u001b[1;32m~\\AppData\\Local\\Temp/ipykernel_17720/1603744443.py\u001b[0m in \u001b[0;36m<module>\u001b[1;34m\u001b[0m\n\u001b[1;32m----> 1\u001b[1;33m \u001b[0mclient\u001b[0m \u001b[1;33m=\u001b[0m \u001b[0mzeep\u001b[0m\u001b[1;33m.\u001b[0m\u001b[0mClient\u001b[0m\u001b[1;33m(\u001b[0m\u001b[0mwsdl\u001b[0m\u001b[1;33m=\u001b[0m\u001b[0malb\u001b[0m\u001b[1;33m.\u001b[0m\u001b[0mwsdl\u001b[0m\u001b[1;33m)\u001b[0m\u001b[1;33m\u001b[0m\u001b[1;33m\u001b[0m\u001b[0m\n\u001b[0m",
      "\u001b[1;31mNameError\u001b[0m: name 'alb' is not defined"
     ]
    }
   ],
   "source": [
    "client = zeep.Client(wsdl=alb.wsdl)"
   ]
  },
  {
   "cell_type": "code",
   "execution_count": null,
   "id": "c554f46c",
   "metadata": {},
   "outputs": [],
   "source": [
    "alb.zip = client.service.getCurriculoCompactado(alb.id)\n"
   ]
  },
  {
   "cell_type": "code",
   "execution_count": null,
   "id": "67596d55",
   "metadata": {},
   "outputs": [],
   "source": [
    "alb.zip"
   ]
  },
  {
   "cell_type": "code",
   "execution_count": null,
   "id": "90680b6c",
   "metadata": {},
   "outputs": [],
   "source": [
    "alb.ocorrencia = client.service.getOcorrenciaCV(alb.id)"
   ]
  },
  {
   "cell_type": "code",
   "execution_count": 3,
   "id": "2de590d3",
   "metadata": {},
   "outputs": [
    {
     "data": {
      "text/plain": [
       "'<?xml version=\"1.0\" encoding=\"ISO-8859-1\"?><MENSAGEM><ERRO>Serviço negado.IP:10.10.2.1.</ERRO></MENSAGEM>'"
      ]
     },
     "execution_count": 3,
     "metadata": {},
     "output_type": "execute_result"
    }
   ],
   "source": [
    "alb.ocorrencia"
   ]
  },
  {
   "cell_type": "code",
   "execution_count": 4,
   "id": "aebb98d0",
   "metadata": {},
   "outputs": [
    {
     "data": {
      "text/plain": [
       "False"
      ]
     },
     "execution_count": 4,
     "metadata": {},
     "output_type": "execute_result"
    }
   ],
   "source": [
    "alb.can_get_soap"
   ]
  },
  {
   "cell_type": "code",
   "execution_count": null,
   "id": "586bd24e",
   "metadata": {},
   "outputs": [],
   "source": []
  }
 ],
 "metadata": {
  "kernelspec": {
   "display_name": "Python 3 (ipykernel)",
   "language": "python",
   "name": "python3"
  },
  "language_info": {
   "codemirror_mode": {
    "name": "ipython",
    "version": 3
   },
   "file_extension": ".py",
   "mimetype": "text/x-python",
   "name": "python",
   "nbconvert_exporter": "python",
   "pygments_lexer": "ipython3",
   "version": "3.9.7"
  }
 },
 "nbformat": 4,
 "nbformat_minor": 5
}
