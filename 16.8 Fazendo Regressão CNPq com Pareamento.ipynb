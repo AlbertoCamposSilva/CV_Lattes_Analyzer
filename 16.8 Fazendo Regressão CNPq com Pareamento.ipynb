{
 "cells": [
  {
   "cell_type": "code",
   "execution_count": null,
   "id": "b0b33537",
   "metadata": {},
   "outputs": [],
   "source": [
    "print('Inicializando Variáveis do Programa')\n",
    "#inicializando variáveis\n",
    "#lista_confianças = [0.01]\n",
    "lista_confianças = [0.01, 0.05]\n",
    "variável_dependente = 'qty_2019'\n",
    "variáveis_independentes = ('qty_2014', 'porcent_pagos')\n",
    "ano_início = 2014\n",
    "ano_fim = 2020\n",
    "arquivo_indicadores_doutorado = \"./indicadores_de_artigos_publicados.pkl\"\n",
    "max_variáveis_independentes_para_combinação = 5\n",
    "\n",
    "lista_indicadores_a_ignorar = ['id', \n",
    "                                'index',\n",
    "                                'pagtos',\n",
    "                                'capes',\n",
    "                                'indicador_tipo',\n",
    "                                'indicador_grupo',\n",
    "                                'indicador',\n",
    "                                'qty_2012',\n",
    "                                'qty_2013',\n",
    "                                'qty_2014',\n",
    "                                'qty_2015',\n",
    "                                'qty_2016',\n",
    "                                'qty_2017',\n",
    "                                'qty_2018',\n",
    "                                'qty_2019',\n",
    "                                'tipo',\n",
    "                                'nome',\n",
    "                                'grupo',\n",
    "                                'path',\n",
    "                                'const',\n",
    "                                'bool_cnpq',\n",
    "                                'bool_capes',\n",
    "                              ]\n"
   ]
  },
  {
   "cell_type": "code",
   "execution_count": null,
   "id": "bd830555",
   "metadata": {},
   "outputs": [],
   "source": [
    "from datetime import datetime\n",
    "print('Início em: ', datetime.now())\n",
    "\n",
    "print('Importações Iniciais')\n",
    "\n",
    "from tkinter import NONE\n",
    "from Lattes import Lattes\n",
    "from Carga import Carga\n",
    "from Database import Database\n",
    "import psycopg2, pickle\n",
    "import pandas, os\n",
    "import statsmodels.api as sm\n",
    "from urllib.parse import urlencode\n",
    "from psycopg2.extensions import AsIs\n",
    "from Carga import Carga\n",
    "from pandas import pandas as pd\n",
    "import numpy as np\n",
    "import Database\n",
    "import json, math\n",
    "import locale\n",
    "import statsmodels.formula.api as sm2\n",
    "from itertools import combinations\n",
    "from unidecode import unidecode\n",
    "\n",
    "\n",
    "\n",
    "print('Fim: ', datetime.now())"
   ]
  },
  {
   "cell_type": "code",
   "execution_count": null,
   "id": "160fda46",
   "metadata": {},
   "outputs": [],
   "source": [
    "sql = '''\n",
    "select * from financiamentos_doutorandos_2014\n",
    "    inner join indicadores_doutorado\n",
    "        on indicadores_doutorado.id = financiamentos_doutorandos_2014.id\n",
    "    inner join indicadores_nomes\n",
    "        on indicadores_nomes.tipo = indicadores_doutorado.indicador_tipo                 \n",
    "'''"
   ]
  },
  {
   "cell_type": "code",
   "execution_count": null,
   "id": "4e1a2080",
   "metadata": {},
   "outputs": [],
   "source": [
    "#Carregar arquivo na memória\n",
    "print('Carregando indicadores na memória. Início em: ', datetime.now())\n",
    "\n",
    "db = Database.Database('CNPq')\n",
    "engine = Carga.db_engine()\n",
    "\n",
    "dt = pd.read_sql(sql, engine)\n",
    "print(f'dt.size: {dt.size}')\n",
    "\n",
    "print('Término em: ', datetime.now())"
   ]
  },
  {
   "cell_type": "code",
   "execution_count": null,
   "id": "5d98deb1",
   "metadata": {},
   "outputs": [],
   "source": [
    "sql_ids_pareados = '''\n",
    "select pareado_1 as id from public.par_doutorandos_2014_sem_reposicao\n",
    "UNION select pareado_2 as id from public.par_doutorandos_2014_sem_reposicao\n",
    "UNION select pareado_3 as id from public.par_doutorandos_2014_sem_reposicao\n",
    "'''"
   ]
  },
  {
   "cell_type": "code",
   "execution_count": null,
   "id": "db24eefd",
   "metadata": {},
   "outputs": [],
   "source": [
    "print('Carregando indicadores dos pareados na memória. Início em: ', datetime.now())\n",
    "\n",
    "db = Database.Database('CNPq')\n",
    "engine = Carga.db_engine()\n",
    "\n",
    "pareados = pd.read_sql(sql_ids_pareados, engine)\n",
    "print(f'dt.size: {dt.size}')\n",
    "\n",
    "print('Término em: ', datetime.now())"
   ]
  },
  {
   "cell_type": "code",
   "execution_count": null,
   "id": "cf66a62a",
   "metadata": {
    "scrolled": true
   },
   "outputs": [],
   "source": [
    "## Normalizando as Tabelas\n",
    "\n",
    "print('Realizando normalização da tabela. Início em: ', datetime.now())\n",
    "\n",
    "dt['const'] = 1\n",
    "dt = dt.loc[:,~dt.columns.duplicated()]\n",
    "\n",
    "dt['bool_cnpq'] = dt['pagtos'].map(lambda pagtos: 1 if pagtos > 0 else 0)\n",
    "dt['bool_capes'] = dt['capes'].map(lambda capes: 1 if capes == True else 0)\n",
    "\n",
    "\n",
    "#Preenchendo Nan com zeros nos indicadores\n",
    "dt.qty_2012 = dt.qty_2012.fillna(0)\n",
    "dt.qty_2013 = dt.qty_2013.fillna(0)\n",
    "dt.qty_2014 = dt.qty_2014.fillna(0)\n",
    "dt.qty_2015 = dt.qty_2015.fillna(0)\n",
    "dt.qty_2016 = dt.qty_2016.fillna(0)\n",
    "dt.qty_2017 = dt.qty_2017.fillna(0)\n",
    "dt.qty_2018 = dt.qty_2018.fillna(0)\n",
    "dt.qty_2019 = dt.qty_2019.fillna(0)\n",
    "dt.capes = dt.capes.fillna(0)\n",
    "dt.pagtos = dt.pagtos.fillna(0)\n",
    "\n",
    "valor_total_cnpq =  dt[['id', 'pagtos']].loc[dt['pagtos']>0].drop_duplicates().sum().pagtos\n",
    "dt['porcent_pagos'] = dt['pagtos']/valor_total_cnpq\n",
    "\n",
    "\n",
    "print('Fim em: ', datetime.now())\n"
   ]
  },
  {
   "cell_type": "code",
   "execution_count": null,
   "id": "bd0d6b6d",
   "metadata": {},
   "outputs": [],
   "source": [
    "#Apagando os financiados pela CAPES\n",
    "dt.drop(dt.loc[dt.bool_capes==True].index, inplace=True)\n",
    "\n",
    "#Apagando os que não foram escolhidos pelo pareamento\n",
    "dt.drop(dt.loc[~dt.id.isin(pareados.id)].loc[dt.pagtos==0].index, inplace=True)"
   ]
  },
  {
   "cell_type": "code",
   "execution_count": null,
   "id": "36d7e7ba",
   "metadata": {},
   "outputs": [],
   "source": [
    "def regressão(X,y):\n",
    "    try:\n",
    "        # OLS vem de Ordinary Least Squares e o método fit irá treinar o modelo\n",
    "        reg = sm.OLS(y, X).fit()\n",
    "        # mostrando as estatísticas do modelo\n",
    "        #reg.summary()\n",
    "        \n",
    "        \n",
    "        \n",
    "        #guardando a regressão na memória\n",
    "\n",
    "        result = {\n",
    "                'Indicador': indicador,\n",
    "                'Erro': False,\n",
    "                'Prob (F-statistic)':reg.f_pvalue, \n",
    "                'Parâmetros': reg.params, \n",
    "                \"P>|t|\":reg.pvalues, \n",
    "                'Standard Error': reg.bse, \n",
    "                \"Covariância entre os pasrâmetros\": reg.normalized_cov_params, \n",
    "                'Number of observations n.': reg.nobs, \n",
    "                \"R2 ajustado\": reg.rsquared_adj, \n",
    "                \"Modelo\":reg.model,\n",
    "            }\n",
    "    except:\n",
    "        result = {\n",
    "                'Indicador': indicador,\n",
    "                'Erro': True,\n",
    "                'Prob (F-statistic)':None, \n",
    "                'Parâmetros': None, \n",
    "                \"P>|t|\":None, \n",
    "                'Standard Error': None, \n",
    "                \"Covariância entre os pasrâmetros\": None, \n",
    "                'Number of observations n.': None, \n",
    "                \"R2 ajustado\": None, \n",
    "                \"Modelo\": None,\n",
    "            }\n",
    "    return result"
   ]
  },
  {
   "cell_type": "code",
   "execution_count": null,
   "id": "b130c6c6",
   "metadata": {},
   "outputs": [],
   "source": [
    "def regressão_r2(dados, variável_dependente, variáveis_independentes, menor_R2 = True, max_variáveis_independentes_para_combinação = 5):\n",
    "    \n",
    "    if not 'indicador' in locals(): indicador = ''\n",
    "    lista_formulas = []\n",
    "    num_combinações = 0\n",
    "    if len(variáveis_independentes) < max_variáveis_independentes_para_combinação:\n",
    "        max_variáveis_independentes_para_combinação = len(variáveis_independentes)\n",
    "     \n",
    "    if menor_R2:\n",
    "        for x in range(1,max_variáveis_independentes_para_combinação):\n",
    "            for a in combinations(variáveis_independentes,x):\n",
    "                if not a[0] == '-1':\n",
    "                    lista_formulas.append(faz_fórmula(variável_dependente, a))\n",
    "                    num_combinações += 1\n",
    "    else:\n",
    "        lista_formulas = list(faz_fórmula(variável_dependente, variáveis_independentes))\n",
    "        num_combinações += 1\n",
    "    \n",
    "    list_results = []\n",
    "    curr = 0\n",
    "    for formula in lista_formulas:\n",
    "        curr += 1\n",
    "        print(f'{curr}/{num_combinações}: {curr*100/num_combinações}%.')\n",
    "    \n",
    "        try:\n",
    "            # OLS vem de Ordinary Least Squares e o método fit irá treinar o modelo\n",
    "            reg_ajustado = sm2.ols(formula, data = dados)\n",
    "            reg = reg_ajustado.fit()\n",
    "            # mostrando as estatísticas do modelo\n",
    "            print('\\nCom constante:\\n',reg.summary2())  \n",
    "\n",
    "            #guardando a regressão na memória\n",
    "            \n",
    "\n",
    "            result = {\n",
    "                    'Indicador': indicador,\n",
    "                    'Erro': False,\n",
    "                    'Prob (F-statistic)':reg.f_pvalue, \n",
    "                    'Parâmetros': reg.params, \n",
    "                    \"P>|t|\":reg.pvalues, \n",
    "                    'Standard Error': reg.bse, \n",
    "                    \"Covariância entre os pasrâmetros\": reg.normalized_cov_params, \n",
    "                    'Number of observations n.': reg.nobs, \n",
    "                    \"R2 ajustado\": 0 if reg.rsquared_adj is None else reg.rsquared_adj,\n",
    "                    \"Modelo\":reg.model,\n",
    "                }\n",
    "\n",
    "        except:\n",
    "            result = {\n",
    "                    'Indicador': indicador,\n",
    "                    'Erro': True,\n",
    "                    'Prob (F-statistic)':None, \n",
    "                    'Parâmetros': None, \n",
    "                    \"P>|t|\":None, \n",
    "                    'Standard Error': None, \n",
    "                    \"Covariância entre os pasrâmetros\": None, \n",
    "                    'Number of observations n.': None, \n",
    "                    \"R2 ajustado\": 0, \n",
    "                    \"Modelo\": None,\n",
    "                }\n",
    "    \n",
    "        list_results.append(result)\n",
    "        \n",
    "    print(list_results)\n",
    "    if menor_R2:\n",
    "        maiorR = max(list_results, key=lambda x:x['R2 ajustado'])\n",
    "    else:\n",
    "        maiorR = list_results[0]\n",
    "        \n",
    "        \n",
    "    return maiorR, list_results"
   ]
  },
  {
   "cell_type": "code",
   "execution_count": null,
   "id": "7a4c54f0",
   "metadata": {},
   "outputs": [],
   "source": [
    "def regressão_com_confiança_2 (dados, \n",
    "                             variável_dependente, \n",
    "                             variáveis_independentes, \n",
    "                             confiança = 0.05,\n",
    "                              menor_R2 = True,\n",
    "                              max_variáveis_independentes_para_combinação = 5): \n",
    "    result, list_results = regressão_r2 (dados, \n",
    "                              variável_dependente, \n",
    "                              variáveis_independentes,\n",
    "                              menor_R2, \n",
    "                          max_variáveis_independentes_para_combinação)\n",
    "\n",
    "    while result['Erro'] == False and result['P>|t|'].max() > confiança:\n",
    "        X = X.drop(columns=result['P>|t|'].idxmax())\n",
    "        result = regressão(X,y)\n",
    "        #print(result)\n",
    "        \n",
    "        \n",
    "    if result['Erro'] == False and result['Prob (F-statistic)'] < confiança and result['P>|t|'].max() < confiança:\n",
    "        result['Confiança'] = confiança\n",
    "        return result\n",
    "    else:\n",
    "        result['Confiança'] = 'Erro'\n",
    "    return result\n"
   ]
  },
  {
   "cell_type": "code",
   "execution_count": null,
   "id": "e8972a4f",
   "metadata": {},
   "outputs": [],
   "source": [
    "# Para teste sobre se outros indicadores são significativoas no indicador 'Artigo Publicado'\n",
    "#Cria tabela com os ids e cada indicador do ano de 2014, colocando 0 para os ausentes.\n",
    "#O indicador de 2019 que permanece é o de 'Artigo Publicado'\n",
    "#Assim, regressão pode ser realizada para saber \n",
    "#   quais indicadores se correlacionam com o estado de 'Artigo Publicado' no ano de 2019.\n",
    "\n",
    "list_names = dt.nome.unique()\n",
    "if os.path.isfile(arquivo_indicadores_doutorado):\n",
    "    indicadores = pd.read_pickle(arquivo_indicadores_doutorado)  \n",
    "else:      \n",
    "    \n",
    "    list_ind = []\n",
    "    unique_ids = dt.id.unique()\n",
    "    total = len(unique_ids)\n",
    "    curr = 0\n",
    "    for id in unique_ids:\n",
    "        #print(id)\n",
    "        id_ind = dt.loc[dt.id==id]\n",
    "        temp={\n",
    "            'id': id,\n",
    "            'porcent_pagos': id_ind.porcent_pagos.iloc[0],}\n",
    "        try:\n",
    "            temp['qty_2019'] = id_ind.loc[id_ind.nome == 'Artigo Publicado'].qty_2019.iloc[0]\n",
    "        except:\n",
    "            temp['qty_2019'] = 0\n",
    "\n",
    "        for nome in list_names:\n",
    "            if nome not in lista_indicadores_a_ignorar:\n",
    "                try:\n",
    "                    temp[nome] = id_ind.loc[dt.nome == nome].qty_2014.iloc[0]\n",
    "                except:\n",
    "                    temp[nome] = 0\n",
    "        list_ind.append(temp)\n",
    "        curr += 1\n",
    "        if curr%10 == 0:\n",
    "            print (f'{curr}/{total}: {curr*100/total}% done.')\n",
    "    indicadores = pd.DataFrame(list_ind)\n",
    "    del list_ind\n",
    "    columns = {}\n",
    "    for column in indicadores:\n",
    "        new_column_name = unidecode(column.lower().replace(' ', '_').replace(',', '_').replace('/', '_').replace('-', '_'))\n",
    "        lista_colunas_nomes_para_alterar = new_column_name\n",
    "        columns[column] = lista_colunas_nomes_para_alterar\n",
    "    indicadores.rename(columns=columns, inplace=True)\n",
    "    indicadores.to_pickle(arquivo_indicadores_doutorado) \n",
    "list_variáveis_independentes = list(variáveis_independentes)\n",
    "for column in indicadores:\n",
    "    list_variáveis_independentes.extend([column])\n",
    " "
   ]
  },
  {
   "cell_type": "code",
   "execution_count": null,
   "id": "ab2bdb0e",
   "metadata": {},
   "outputs": [],
   "source": [
    "def faz_fórmula(variável_dependente, a):\n",
    "    \n",
    "    formula = f'{variável_dependente} ~ '\n",
    "    for dado in a:\n",
    "        if dado not in (lista_indicadores_a_ignorar):\n",
    "            formula = formula + f'{dado} + '\n",
    "    formula = formula[:-3]    \n",
    "    \n",
    "    return formula"
   ]
  },
  {
   "cell_type": "code",
   "execution_count": null,
   "id": "69afb40d",
   "metadata": {},
   "outputs": [],
   "source": [
    "p_max_value = 1\n",
    "for ind in lista_indicadores_a_ignorar:\n",
    "    try:\n",
    "        list_variáveis_independentes.remove(ind)\n",
    "        print(f'\\nEliminando a chave {ind}, que está na lista de eliminação.') \n",
    "    except:\n",
    "        pass\n",
    "while p_max_value > 0.01 and len (list_variáveis_independentes) > 0:\n",
    "    formula = faz_fórmula(variável_dependente, list_variáveis_independentes)\n",
    "\n",
    "    reg_ajustado = sm2.ols(formula, data = indicadores)\n",
    "    reg = reg_ajustado.fit()\n",
    "    # mostrando as estatísticas do modelo\n",
    "    \n",
    "    max_p = reg.pvalues.nlargest(1)\n",
    "    p_max_value = max_p.values[0]\n",
    "    p_max_key = max_p.keys()[0]\n",
    "    if p_max_value < 0.01: \n",
    "        print(f'\\nNenhuma chave a eliminar. Terminando. Maior P|t| = {p_max_value} é a chave {p_max_key}.')\n",
    "        break\n",
    "    \n",
    "    print(f'\\nEliminando a chave {p_max_key} com P|t| = {p_max_value}.') \n",
    "    list_variáveis_independentes.remove(p_max_key)   \n",
    "    \n",
    "    for k, v in reg.pvalues.iteritems():\n",
    "        if math.isnan(v):\n",
    "            print(f'\\nEliminando a chave {k} com P|t| = {v}.') \n",
    "            list_variáveis_independentes.remove(k)   \n",
    "\n",
    "len(list_variáveis_independentes)"
   ]
  },
  {
   "cell_type": "code",
   "execution_count": null,
   "id": "7aefe9c7",
   "metadata": {},
   "outputs": [],
   "source": [
    "reg.summary2()"
   ]
  },
  {
   "cell_type": "code",
   "execution_count": null,
   "id": "2fd25008",
   "metadata": {},
   "outputs": [],
   "source": [
    "result, list_results = regressão_r2(indicadores, variável_dependente, list_variáveis_independentes, menor_R2 = True, max_variáveis_independentes_para_combinação = 4)"
   ]
  },
  {
   "cell_type": "code",
   "execution_count": null,
   "id": "ad5438ae",
   "metadata": {},
   "outputs": [],
   "source": [
    "result"
   ]
  },
  {
   "cell_type": "code",
   "execution_count": null,
   "id": "651a72e7",
   "metadata": {},
   "outputs": [],
   "source": [
    "reg_ajustado = sm2.ols('qty_2019 ~ artigo_publicado + porcent_pagos ', data = indicadores)\n",
    "reg = reg_ajustado.fit()\n",
    "# mostrando as estatísticas do modelo\n",
    "print(reg.summary2())  \n"
   ]
  },
  {
   "cell_type": "code",
   "execution_count": null,
   "id": "fb41e4e4",
   "metadata": {},
   "outputs": [],
   "source": [
    "#inicializando variáveis\n",
    "lista_regressões = []\n",
    "tempo_início = datetime.now()\n",
    "feitos = 0\n",
    "print(f'Iniciado em {tempo_início}.')\n",
    "\n",
    "#pegando lista de todos os indicadores\n",
    "todos_indicadores = dt.nome.unique()\n",
    "\n",
    "#iterando sobre cada indicador\n",
    "número_total = len(todos_indicadores)\n",
    "for indicador in todos_indicadores:\n",
    "    \n",
    "    #Realizando previsão de término\n",
    "    if not feitos == 0:\n",
    "        porcentagem_já_feita = (feitos/número_total)\n",
    "        tempo_passado = datetime.now() - tempo_início\n",
    "        tempo_por_id = tempo_passado / feitos\n",
    "        tempo_restante = (número_total - feitos) * tempo_por_id\n",
    "        tempo_em_que_vai_acabar = datetime.now() + tempo_restante\n",
    "        print(f'{feitos}/{número_total}. {porcentagem_já_feita * 100}% feitos. Fazendo indicador: {indicador}. Acabará em {tempo_em_que_vai_acabar}. O Último demorou: {datetime.now() - tempo_último}.')\n",
    "    else:\n",
    "        print(f'{feitos}/{número_total}. Fazendo id: {indicador}.')\n",
    "    feitos += 1\n",
    "    tempo_último = datetime.now()\n",
    "\n",
    "    #Realizando a regressão\n",
    "    dados = dt.loc[dt.nome==indicador]\n",
    "    #X = dados[['const','qty_2014', 'bool_cnpq']]\n",
    "    #y = dados[['qty_2019']]\n",
    "    #lista_confianças = (0.001, 0.01, 0.05, 0.1)\n",
    "    result, list_results = regressão_r2(dados, variável_dependente, variáveis_independentes, max_variáveis_independentes_para_combinação)\n",
    "\n",
    "\n",
    "  \n",
    "\n",
    "    lista_regressões.append(result)\n"
   ]
  },
  {
   "cell_type": "code",
   "execution_count": null,
   "id": "33a2a6a8",
   "metadata": {},
   "outputs": [],
   "source": [
    "regressões = pd.DataFrame(lista_regressões)\n",
    "regressões = pd.concat([regressões, \n",
    "                        regressões['Parâmetros'].apply(pd.Series), \n",
    "                        regressões['P>|t|'].apply(pd.Series), \n",
    "                        regressões['Standard Error'].apply(pd.Series)], \n",
    "                       axis=1)\n",
    "regressões.to_excel(f'Regressões dos Doutorandos {ano_início} com Pareamento e sem Reposição.xlsx')"
   ]
  },
  {
   "attachments": {},
   "cell_type": "markdown",
   "id": "f77d43cb",
   "metadata": {},
   "source": [
    "def real_br_money_mask(my_value):\n",
    "    a = '{:,.2f}'.format(float(my_value))\n",
    "    b = a.replace(',','v')\n",
    "    c = b.replace('.',',')\n",
    "    return c.replace('v','.')"
   ]
  },
  {
   "attachments": {},
   "cell_type": "markdown",
   "id": "6ee60b22",
   "metadata": {},
   "source": [
    "Impacto = []\n",
    "for indicador in dt.indicador_tipo.unique():\n",
    "    \n",
    "    try:\n",
    "        delta_cnpq = regressões.loc[regressões.Indicador == indicador].Parâmetros.iloc[0].loc['percentual_pago']\n",
    "        tamanho_amastra = len(dt[['id', 'pagtos']].loc[dt['pagtos']>0].loc[dt['indicador_tipo'] == indicador].drop_duplicates())\n",
    "        #efetividade = tamanho_amastra * delta_cnpq\n",
    "        efetividade = delta_cnpq\n",
    "        \n",
    "        temp = {\n",
    "            'Indicador': indicador,\n",
    "            'Tamanho Amostra:': tamanho_amastra,\n",
    "            'Delta (CNPq): ': delta_cnpq,\n",
    "            'Efetividade: ': efetividade,\n",
    "            'Custo: ': real_br_money_mask(valor_total_cnpq),\n",
    "            'Custo-efetividade: ': real_br_money_mask(valor_total_cnpq/efetividade),\n",
    "        }\n",
    "        Impacto.append(temp)\n",
    "        print(temp)\n",
    "    except:\n",
    "        pass"
   ]
  },
  {
   "attachments": {},
   "cell_type": "markdown",
   "id": "68c6ac3a",
   "metadata": {},
   "source": [
    "impacto = pd.DataFrame(Impacto)\n",
    "impacto.to_excel(f'Impacto dos Doutorandos {ano_início} com Pareamento e Não Reposição - confiança 001.xlsx')"
   ]
  },
  {
   "cell_type": "code",
   "execution_count": null,
   "id": "bc9784d8",
   "metadata": {},
   "outputs": [],
   "source": []
  },
  {
   "cell_type": "code",
   "execution_count": null,
   "id": "e1ef36f1",
   "metadata": {},
   "outputs": [],
   "source": [
    "modelo_ajustado = sm2.ols(formula = 'qty_2019 ~ qty_2014 + C(bool_cnpq)', data = df)\n",
    "modelo_treinado = modelo_ajustado.fit()\n",
    "modelo_treinado.summary()"
   ]
  },
  {
   "cell_type": "code",
   "execution_count": null,
   "id": "a335a740",
   "metadata": {},
   "outputs": [],
   "source": [
    "len(df.loc[df.bool_cnpq==True])*modelo_treinado.params[1]"
   ]
  },
  {
   "cell_type": "code",
   "execution_count": null,
   "id": "be2497fd",
   "metadata": {},
   "outputs": [],
   "source": [
    "df.loc[df.qty_2014 == 0].loc[df.pagtos==0].qty_2014.sum()"
   ]
  },
  {
   "cell_type": "code",
   "execution_count": null,
   "id": "0ccf8590",
   "metadata": {},
   "outputs": [],
   "source": [
    "(df.loc[df.qty_2014 == 0].loc[df.pagtos==0].qty_2019.sum())/len(df.loc[df.qty_2014 == 0].loc[df.pagtos==0].qty_2014)"
   ]
  },
  {
   "cell_type": "code",
   "execution_count": null,
   "id": "151e001b",
   "metadata": {},
   "outputs": [],
   "source": [
    "modelo_ajustado = sm2.ols(formula = 'qty_2019 ~ qty_2014 + pagtos -1', data = df)\n",
    "modelo_treinado = modelo_ajustado.fit()\n",
    "modelo_treinado.summary2()"
   ]
  },
  {
   "cell_type": "code",
   "execution_count": null,
   "id": "8b04cefc",
   "metadata": {},
   "outputs": [],
   "source": [
    "valor_total_cnpq * modelo_treinado.params.pagtos   "
   ]
  },
  {
   "cell_type": "code",
   "execution_count": null,
   "id": "424d0885",
   "metadata": {},
   "outputs": [],
   "source": [
    "1/modelo_treinado.params.pagtos"
   ]
  },
  {
   "cell_type": "code",
   "execution_count": null,
   "id": "2a6e1f90",
   "metadata": {},
   "outputs": [],
   "source": [
    "modelo_treinado.rsquared_adj"
   ]
  },
  {
   "cell_type": "code",
   "execution_count": null,
   "id": "ae8e4dc7",
   "metadata": {},
   "outputs": [],
   "source": [
    "df_cnpq = df.loc[df.pagtos > 0]\n",
    "df_par = df.loc[df.pagtos == 0]"
   ]
  },
  {
   "cell_type": "code",
   "execution_count": null,
   "id": "3814bf19",
   "metadata": {},
   "outputs": [],
   "source": [
    "df_cnpq.qty_2014.sum()"
   ]
  },
  {
   "cell_type": "code",
   "execution_count": null,
   "id": "0d6db24c",
   "metadata": {},
   "outputs": [],
   "source": [
    "df_cnpq.qty_2019.sum()"
   ]
  },
  {
   "cell_type": "code",
   "execution_count": null,
   "id": "344d0855",
   "metadata": {},
   "outputs": [],
   "source": [
    "df_par.qty_2014.sum()"
   ]
  },
  {
   "cell_type": "code",
   "execution_count": null,
   "id": "e1fc0615",
   "metadata": {},
   "outputs": [],
   "source": [
    "df_par.qty_2019.sum()"
   ]
  },
  {
   "cell_type": "code",
   "execution_count": null,
   "id": "3299a9d4",
   "metadata": {},
   "outputs": [],
   "source": [
    "df_par.qty_2019.sum()/df_par.qty_2014.sum()"
   ]
  },
  {
   "cell_type": "code",
   "execution_count": null,
   "id": "0a2b1b9c",
   "metadata": {},
   "outputs": [],
   "source": [
    "df_cnpq.qty_2019.sum()/df_cnpq.qty_2014.sum()"
   ]
  },
  {
   "cell_type": "code",
   "execution_count": null,
   "id": "b803aa03",
   "metadata": {},
   "outputs": [],
   "source": [
    "((df_cnpq.qty_2019.sum()/df_cnpq.qty_2014.sum())-(df_par.qty_2019.sum()/df_par.qty_2014.sum()))*df_cnpq.qty_2014.sum()"
   ]
  },
  {
   "cell_type": "code",
   "execution_count": null,
   "id": "7d400ce5",
   "metadata": {},
   "outputs": [],
   "source": []
  }
 ],
 "metadata": {
  "kernelspec": {
   "display_name": "Python 3 (ipykernel)",
   "language": "python",
   "name": "python3"
  },
  "language_info": {
   "codemirror_mode": {
    "name": "ipython",
    "version": 3
   },
   "file_extension": ".py",
   "mimetype": "text/x-python",
   "name": "python",
   "nbconvert_exporter": "python",
   "pygments_lexer": "ipython3",
   "version": "3.9.7"
  }
 },
 "nbformat": 4,
 "nbformat_minor": 5
}
