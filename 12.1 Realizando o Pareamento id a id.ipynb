{
 "cells": [
  {
   "cell_type": "markdown",
   "id": "e4f60581",
   "metadata": {},
   "source": [
    "# Importações"
   ]
  },
  {
   "cell_type": "code",
   "execution_count": null,
   "id": "f9ebae2b",
   "metadata": {},
   "outputs": [],
   "source": [
    "from Carga import Carga\n",
    "from pandas import pandas as pd\n",
    "import numpy as np\n",
    "import unidecode\n",
    "import Database\n",
    "import json\n"
   ]
  },
  {
   "cell_type": "code",
   "execution_count": null,
   "id": "3bc41765",
   "metadata": {},
   "outputs": [],
   "source": [
    "#Re-importanto a biblioteca porque foi modificada - pode ser ignorado\n",
    "#import importlib\n",
    "#importlib.reload(Database)"
   ]
  },
  {
   "cell_type": "code",
   "execution_count": null,
   "id": "e0b8ea3e",
   "metadata": {},
   "outputs": [],
   "source": [
    "db = Database.Database('CNPq')"
   ]
  },
  {
   "cell_type": "markdown",
   "id": "773e212c",
   "metadata": {},
   "source": [
    "## Carregando tabela de indicadores"
   ]
  },
  {
   "cell_type": "code",
   "execution_count": null,
   "id": "85d4a930",
   "metadata": {},
   "outputs": [],
   "source": [
    "engine = Carga.db_engine()\n",
    "dt = pd.read_sql(\"indicadores_pareamento\", engine)\n",
    "dt.size"
   ]
  },
  {
   "cell_type": "markdown",
   "id": "2dac1a9d",
   "metadata": {},
   "source": [
    "## Pegando lista de Ids já realizados"
   ]
  },
  {
   "cell_type": "code",
   "execution_count": null,
   "id": "cf6398cd",
   "metadata": {},
   "outputs": [],
   "source": [
    "ids_já_feitos = []"
   ]
  },
  {
   "cell_type": "code",
   "execution_count": null,
   "id": "0eae8fee",
   "metadata": {},
   "outputs": [],
   "source": [
    "#sql = 'SELECT DISTINCT id FROM pareamentos;'\n",
    "#ids_já_feitos = db.query(sql)"
   ]
  },
  {
   "cell_type": "code",
   "execution_count": null,
   "id": "81cb9570",
   "metadata": {},
   "outputs": [],
   "source": [
    "#ids_já_feitos = [num[0] for num in ids_já_feitos]"
   ]
  },
  {
   "cell_type": "code",
   "execution_count": null,
   "id": "f226befd",
   "metadata": {},
   "outputs": [],
   "source": [
    "#len (ids_já_feitos)"
   ]
  },
  {
   "cell_type": "code",
   "execution_count": null,
   "id": "e4d85672",
   "metadata": {},
   "outputs": [],
   "source": [
    "db.commit()"
   ]
  },
  {
   "cell_type": "markdown",
   "id": "fb69e8c7",
   "metadata": {},
   "source": [
    "## Retirada dos não doutores - Existem 3 não doutores contemplados!!!"
   ]
  },
  {
   "cell_type": "code",
   "execution_count": null,
   "id": "17321d95",
   "metadata": {},
   "outputs": [],
   "source": [
    "dt = dt[pd.notnull(dt.ano_doutorado)]"
   ]
  },
  {
   "cell_type": "markdown",
   "id": "6741133c",
   "metadata": {},
   "source": [
    "## Normalizando as Tabelas"
   ]
  },
  {
   "cell_type": "code",
   "execution_count": null,
   "id": "6ead6d13",
   "metadata": {},
   "outputs": [],
   "source": [
    "dt.qty_2012 = dt.qty_2012.fillna(0)\n",
    "dt.qty_2013 = dt.qty_2013.fillna(0)\n",
    "dt.qty_2014 = dt.qty_2014.fillna(0)\n",
    "dt.qty_2015 = dt.qty_2015.fillna(0)\n",
    "dt.qty_2016 = dt.qty_2016.fillna(0)\n",
    "dt.qty_2017 = dt.qty_2017.fillna(0)\n",
    "dt.qty_2018 = dt.qty_2018.fillna(0)\n",
    "dt.qty_2019 = dt.qty_2019.fillna(0)"
   ]
  },
  {
   "cell_type": "code",
   "execution_count": null,
   "id": "2dbbb006",
   "metadata": {},
   "outputs": [],
   "source": [
    "dt.area_demanda_bruta = dt.area_demanda_bruta.fillna('nenhum')\n",
    "dt.areas_conhecimento = dt.areas_conhecimento.fillna('nenhum')\n",
    "dt.tipos_vinculo = dt.tipos_vinculo.fillna('nenhum')\n",
    "dt.enquadramento_vinculo = dt.enquadramento_vinculo.fillna('nenhum')"
   ]
  },
  {
   "cell_type": "code",
   "execution_count": null,
   "id": "2cf5b023",
   "metadata": {},
   "outputs": [],
   "source": [
    "dt.area_demanda_bruta = dt.area_demanda_bruta.str.normalize('NFKD')\\\n",
    "       .str.encode('ascii', errors='ignore')\\\n",
    "       .str.decode('utf-8')\\\n",
    "       .str.lower()"
   ]
  },
  {
   "cell_type": "code",
   "execution_count": null,
   "id": "ade2584e",
   "metadata": {},
   "outputs": [],
   "source": [
    "dt.areas_conhecimento = dt.areas_conhecimento.str.normalize('NFKD')\\\n",
    "       .str.encode('ascii', errors='ignore')\\\n",
    "       .str.decode('utf-8')\\\n",
    "       .str.lower()"
   ]
  },
  {
   "cell_type": "code",
   "execution_count": null,
   "id": "14ca556a",
   "metadata": {},
   "outputs": [],
   "source": [
    "dt.tipos_vinculo = dt.tipos_vinculo.str.normalize('NFKD')\\\n",
    "       .str.encode('ascii', errors='ignore')\\\n",
    "       .str.decode('utf-8')\\\n",
    "       .str.lower()"
   ]
  },
  {
   "cell_type": "code",
   "execution_count": null,
   "id": "aac13858",
   "metadata": {},
   "outputs": [],
   "source": [
    "dt.enquadramento_vinculo = dt.enquadramento_vinculo.str.normalize('NFKD')\\\n",
    "       .str.encode('ascii', errors='ignore')\\\n",
    "       .str.decode('utf-8')\\\n",
    "       .str.lower()"
   ]
  },
  {
   "cell_type": "markdown",
   "id": "73a42b6b",
   "metadata": {},
   "source": [
    "## Criando tabelas parciais"
   ]
  },
  {
   "cell_type": "code",
   "execution_count": null,
   "id": "060cde27",
   "metadata": {},
   "outputs": [],
   "source": [
    "financiados = dt[~pd.isnull(dt.pgtos)]"
   ]
  },
  {
   "cell_type": "code",
   "execution_count": null,
   "id": "3cdb057d",
   "metadata": {},
   "outputs": [],
   "source": [
    "len(financiados.id.unique())"
   ]
  },
  {
   "cell_type": "code",
   "execution_count": null,
   "id": "1b8cb447",
   "metadata": {},
   "outputs": [],
   "source": [
    "dt = dt[pd.isnull(dt.pgtos)]"
   ]
  },
  {
   "cell_type": "code",
   "execution_count": null,
   "id": "8140b8f5",
   "metadata": {},
   "outputs": [],
   "source": [
    "erros = dt[dt.id.isin(financiados.id.unique())]"
   ]
  },
  {
   "cell_type": "code",
   "execution_count": null,
   "id": "0a2302c2",
   "metadata": {},
   "outputs": [],
   "source": [
    "dt = dt[~dt.id.isin(financiados.id.unique())]"
   ]
  },
  {
   "cell_type": "markdown",
   "id": "b58c106e",
   "metadata": {},
   "source": [
    "## Fazendo Listas de Distribuição"
   ]
  },
  {
   "cell_type": "markdown",
   "id": "a043b4b2",
   "metadata": {},
   "source": [
    "area = []\n",
    "for id in financiados.id.unique():\n",
    "    financiado = financiados[financiados.id == id]\n",
    "\n",
    "    tipos_vinculo = financiado.tipos_vinculo.unique()\n",
    "    \n",
    "    if not tipos_vinculo == None and len(tipos_vinculo) > 0:   \n",
    "        if tipos_vinculo[0].find('servidor_publico') > -1:\n",
    "            enquadramento = 'servidor_publico'\n",
    "        elif tipos_vinculo[0].find('celetista') > -1:\n",
    "            enquadramento = 'celetista'\n",
    "        elif tipos_vinculo[0].find('professor_visitante') > -1:\n",
    "            enquadramento = 'professor_visitante' \n",
    "        elif tipos_vinculo[0].find('colaborador') > -1:\n",
    "            enquadramento = 'colaborador' \n",
    "        elif tipos_vinculo[0].find('bolsista') > -1:\n",
    "            enquadramento = 'bolsista' \n",
    "        elif tipos_vinculo[0].find('livre') > -1:\n",
    "            enquadramento = 'livre' \n",
    "        elif tipos_vinculo[0].find('outro') > -1:\n",
    "            enquadramento = 'outro'     \n",
    "    else: enquadramento = 'nenhum'\n",
    "    \n",
    "    area.append({\n",
    "        'id': id,\n",
    "        'enquadramento_vinculo': tipos_vinculo[0],\n",
    "        'tipo_vinculo': enquadramento\n",
    "    })\n",
    "print (area)"
   ]
  },
  {
   "cell_type": "markdown",
   "id": "035c179e",
   "metadata": {},
   "source": [
    "financiados"
   ]
  },
  {
   "cell_type": "markdown",
   "id": "68f00c02",
   "metadata": {},
   "source": [
    "tipos_vinculos = pd.DataFrame(area)"
   ]
  },
  {
   "cell_type": "markdown",
   "id": "c611b77c",
   "metadata": {},
   "source": [
    "tipos_vinculos.tipo_vinculo.explode().value_counts()"
   ]
  },
  {
   "cell_type": "markdown",
   "id": "709ac37c",
   "metadata": {},
   "source": [
    "2194 + 590 + 206 + 885\n"
   ]
  },
  {
   "cell_type": "markdown",
   "id": "2031db0d",
   "metadata": {},
   "source": [
    "## Lista de Distribuição Tipo Vínculo"
   ]
  },
  {
   "cell_type": "markdown",
   "id": "60bab4b6",
   "metadata": {},
   "source": [
    "area = []\n",
    "for id in financiados.id.unique():\n",
    "    financiado = financiados[financiados.id == id]\n",
    "\n",
    "    enquadramento_vinculo = financiado.enquadramento_vinculo.unique()\n",
    "    \n",
    "    if not enquadramento_vinculo == None and len(enquadramento_vinculo) > 0:\n",
    "        if enquadramento_vinculo[0].find('professor') > -1:\n",
    "            vinculo = 'professor'\n",
    "        elif enquadramento_vinculo[0].find('outro') > -1:\n",
    "            vinculo = 'outro'    \n",
    "        elif enquadramento_vinculo[0].find('livre') > -1:\n",
    "            vinculo = 'livre'      \n",
    "    else: vinculo  = 'nenhum'\n",
    "    \n",
    "    area.append({\n",
    "        'id': id,\n",
    "        'enquadramento_vinculo': tipos_vinculo[0],\n",
    "        'tipo_vinculo': vinculo\n",
    "    })\n",
    "print (area)"
   ]
  },
  {
   "cell_type": "markdown",
   "id": "a342c53d",
   "metadata": {},
   "source": []
  },
  {
   "cell_type": "markdown",
   "id": "84ef0c40",
   "metadata": {},
   "source": [
    "tipos_vinculos = pd.DataFrame(area)"
   ]
  },
  {
   "cell_type": "markdown",
   "id": "0e95f692",
   "metadata": {},
   "source": [
    "tipos_vinculos.tipo_vinculo.explode().value_counts()"
   ]
  },
  {
   "cell_type": "markdown",
   "id": "572994ea",
   "metadata": {},
   "source": [
    "# Pareando"
   ]
  },
  {
   "cell_type": "markdown",
   "id": "b1406b6e",
   "metadata": {},
   "source": [
    "min_para_parear = 3\n",
    "num_pareamentos = 3\n",
    "erros_ids_inexistentes_pareamento = []\n",
    "lista_pareamentos = []\n",
    "for id in financiados.id.unique():\n",
    "    #Pegando dados do ID\n",
    "    print('Fazendo id: ', id)\n",
    "    financiado = financiados[financiados.id == id]\n",
    "    if financiado.empty:\n",
    "        print('ERRO. Id não encontrado na tabela financiados: ', id)\n",
    "        erros_ids_inexistentes_pareamento.append(id)\n",
    "        with open('d:\\erros_ids_inexistentes_pareamento.json', 'w') as f:\n",
    "            json.dump(erros_ids_inexistentes_pareamento, f)\n",
    "        continue      \n",
    "    \n",
    "    #Pegando áreas do Conhecimento\n",
    "    financiado.areas_conhecimento.iloc[0].split(',')\n",
    "    \n",
    "    #Pegando Regiões\n",
    "    região = financiado.iloc[0].uf\n",
    "    tipo_região = None\n",
    "    if not região == None:\n",
    "        if região in ('SP'):\n",
    "            tipo_região = 1\n",
    "        elif região in ('MG', 'RS', 'RJ', 'PR'):\n",
    "            tipo_região = 2\n",
    "        else:\n",
    "            tipo_região = 3\n",
    "    \n",
    "    #Pegando ano do Indicador a ser usado\n",
    "    if financiado.chamada.str.contains('2012', na=False).unique()[0] == True : ano = 2012\n",
    "    elif financiado.chamada.str.contains('2013', na=False).unique()[0] == True : ano = 2013\n",
    "    elif financiado.chamada.str.contains('2014', na=False).unique()[0] == True : ano = 2014\n",
    "    else: ano = None\n",
    "\n",
    "    #Pegando Faixa do Financiado\n",
    "    if financiado.chamada.str.contains('Faixa A', na=False).unique()[0] == True : faixa = 'A'\n",
    "    elif financiado.chamada.str.contains('Faixa B', na=False).unique()[0] == True : faixa = 'B'\n",
    "    elif financiado.chamada.str.contains('Faixa c', na=False).unique()[0] == True : faixa = 'C'\n",
    "    else: faixa = None\n",
    "        \n",
    "    #Pegando o vínculo do Financiado\n",
    "    tipos_vinculo = financiado.tipos_vinculo.unique()\n",
    "    if not tipos_vinculo == None and len(tipos_vinculo) > 0:   \n",
    "        if tipos_vinculo[0].find('servidor_publico') > -1:\n",
    "            é_servidor = 'servidor_publico'\n",
    "        else:\n",
    "            é_servidor = 'outros'   \n",
    "    else: é_servidor = 'nenhum'\n",
    "        \n",
    "    #Fazendo o Pareamento\n",
    "    tipos_de_pareamento = []  #Variável que vai indicar quais os tipos de pareamento realizados\n",
    "    \n",
    "    #1. Pareando pela área de conhecimento\n",
    "    pareados2 = dt.loc[(dt.areas_conhecimento.str.contains(financiado.area_demanda_bruta.unique()[0].split('(')[0].strip(), na=False))]\n",
    "    tipos_de_pareamento.append('area_demanda_bruta')\n",
    "                       \n",
    "    #2. Pareando pelo Vínculo\n",
    "    if pareados2.size > min_para_parear:\n",
    "        pareados = pareados2\n",
    "        if é_servidor == 'servidor_publico':\n",
    "            pareados2 = pareados.loc[(dt.tipos_vinculo.str.contains('servidor_publico', na=False))]\n",
    "        else:\n",
    "            pareados2 = pareados.loc[~(dt.tipos_vinculo.str.contains('servidor_publico', na=False))]\n",
    "        tipos_de_pareamento.append('tipos_vinculo')\n",
    "                       \n",
    "    \n",
    "    #3. Pareando por ano de doutorado -> Faixa de 20 anos\n",
    "    if pareados2.size > min_para_parear:\n",
    "        pareados = pareados2\n",
    "        pareados2 = pareados.loc[\n",
    "            (dt.ano_doutorado < financiado.ano_doutorado.unique()[0] + 10) &\n",
    "            (dt.ano_doutorado > financiado.ano_doutorado.unique()[0] - 10)\n",
    "        ]\n",
    "        tipos_de_pareamento.append('ano_doutorado_10')\n",
    "                       \n",
    "    #3. Pareando por ano de doutorado -> Faixa de 10 anos\n",
    "    if pareados2.size > min_para_parear:\n",
    "        pareados = pareados2\n",
    "        pareados2 = pareados.loc[\n",
    "            (dt.ano_doutorado < financiado.ano_doutorado.unique()[0] + 5) &\n",
    "            (dt.ano_doutorado > financiado.ano_doutorado.unique()[0] - 5)\n",
    "        ]\n",
    "        tipos_de_pareamento.append('ano_doutorado_05')\n",
    "                       \n",
    "    #4. Pareando por sexo\n",
    "    if pareados2.size > min_para_parear:\n",
    "        pareados = pareados2\n",
    "        pareados2 = pareados.loc[(dt.sexo == financiado.sexo.unique()[0])]\n",
    "        tipos_de_pareamento.append('sexo')\n",
    "                       \n",
    "    #5. Pareando por região\n",
    "    if pareados2.size > min_para_parear:\n",
    "        pareados = pareados2\n",
    "        if tipo_região == 1:\n",
    "            pareados2 = pareados.loc[pareados.uf.isin(('SP',))]\n",
    "        elif tipo_região == 2:\n",
    "            pareados2 = pareados.loc[pareados.uf.isin(('MG', 'RS', 'RJ', 'PR'))]\n",
    "        elif tipo_região == 3:\n",
    "            pareados2 = pareados.loc[~pareados.uf.isin(('SP', 'MG', 'RS', 'RJ', 'PR'))]\n",
    "\n",
    "        tipos_de_pareamento.append('uf')\n",
    "                       \n",
    "    #6. Pareando por erros quadráticos\n",
    "    if pareados2.size > min_para_parear:\n",
    "        pareados = pareados2\n",
    "        tipos_de_pareamento.append('erro')            \n",
    "                                             \n",
    "        #Fezendo lista de erros quadráticos\n",
    "        ids_pareados = []\n",
    "        if not pareados.empty:\n",
    "\n",
    "            #Calculando os erros dos grupos\n",
    "            # \"grupo\" é um grupo de indicadores.\n",
    "            for grupo in financiado.grupo.unique():\n",
    "\n",
    "                #Pegando o valor do Financiado\n",
    "                ind_financiado = financiado.loc[(financiado.grupo == grupo)]['qty_' + str(ano)].iloc[0]\n",
    "\n",
    "                #Verificando o erro dos pareados restantes\n",
    "                for id_pareado in pareados.id.unique():\n",
    "                    ind_pareado = pareados.loc[\n",
    "                        (pareados.grupo == grupo)\n",
    "                        & (pareados.id == id_pareado)\n",
    "                        ]['qty_' + str(ano)]\n",
    "                    if len(ind_pareado) > 0:\n",
    "                        ind_pareado = ind_pareado.iloc[0]\n",
    "                    else:\n",
    "                        ind_pareado = 0\n",
    "                    erro = {\n",
    "                        'id': id,\n",
    "                        'id_pareado': id_pareado,\n",
    "                        'grupo': grupo,\n",
    "                        'valor': ind_pareado,\n",
    "                        'erro2': (ind_financiado - ind_pareado)**2\n",
    "                    }\n",
    "                    ids_pareados.append(erro)\n",
    "\n",
    "            #Acrescentando Anos de Doutor como um Indicador\n",
    "            for id_pareado in pareados.id.unique():\n",
    "                ind_pareado = pareados.ano_doutorado.loc[\n",
    "                    (pareados.id == id_pareado)\n",
    "                    ].unique()\n",
    "                #print(ind_pareado, type(ind_pareado))\n",
    "                if len(ind_pareado) > 0:\n",
    "                    ind_pareado = ind_pareado[0]\n",
    "                else:\n",
    "                    ind_pareado = 0\n",
    "                erro = {\n",
    "                    'id': id,\n",
    "                    'id_pareado': id_pareado,\n",
    "                    'grupo': \"Anos de Doutor\",\n",
    "                    'valor': ind_pareado,\n",
    "                    'erro2': (financiado.ano_doutorado.iloc[0] - ind_pareado)**2\n",
    "                }\n",
    "                ids_pareados.append(erro)\n",
    "\n",
    "            #Acrescentando Áreas do Conhecimento em Comum como outro indicador\n",
    "            areas_conhecimento_financiado = financiado.areas_conhecimento.iloc[0]\n",
    "            if not areas_conhecimento_financiado == None:\n",
    "                areas_conhecimento_financiado = areas_conhecimento_financiado.split(',')\n",
    "                total_areas = len(areas_conhecimento_financiado)\n",
    "\n",
    "                for id_pareado in pareados.id.unique():\n",
    "                    areas_em_comum = 0\n",
    "                    lista_areas_conhecimento = pareados.loc[pareados.id == id_pareado].areas_conhecimento\n",
    "                    if len(lista_areas_conhecimento) > 0 and not lista_areas_conhecimento.iloc[0] == None:\n",
    "                        lista_areas_conhecimento = lista_areas_conhecimento.iloc[0].split(',')\n",
    "                        for area in areas_conhecimento_financiado:\n",
    "                            if area in lista_areas_conhecimento:\n",
    "                                areas_em_comum += 1\n",
    "                    erro = {\n",
    "                        'id': id,\n",
    "                        'id_pareado': id_pareado,\n",
    "                        'grupo': 'areas_conhecimento',\n",
    "                        'valor': areas_em_comum,\n",
    "                        'erro2': (total_areas - areas_em_comum)**2\n",
    "                    }\n",
    "                    ids_pareados.append(erro)    \n",
    "\n",
    "        #Calculando o Erro\n",
    "        erro = pd.DataFrame(ids_pareados)\n",
    "        if not erro.empty:\n",
    "            desvio_padrão = []\n",
    "            for id_pareado in erro.id_pareado.unique():\n",
    "                erro_id = erro.loc[erro.id_pareado == id_pareado]\n",
    "                if not erro_id.empty:\n",
    "                    soma_erro = erro_id.erro2.sum()\n",
    "                    num_erros = len(erro_id.index)\n",
    "                    err = {\n",
    "                        'id_pareado': id_pareado,\n",
    "                        'erro': np.sqrt(soma_erro/num_erros),\n",
    "                    }\n",
    "                    \n",
    "                    desvio_padrão.append(err)\n",
    "                    lista_pareamentos.append(err)\n",
    "\n",
    "                    #db.insert_dict(\"pareamentos\", err, on_conflict=['id', 'id_pareado'])\n",
    "            pareados_por_desvio_padrão = pd.DataFrame(desvio_padrão)\n",
    "            if not pareados_por_desvio_padrão.empty:\n",
    "                lista_pareados = pareados_por_desvio_padrão.sort_values(by=['erro']).iloc[:3]\n",
    "                #print(lista_pareados)\n",
    "    else:\n",
    "        desvio_padrão = []\n",
    "        x = 0\n",
    "        for id_pareado in pareados.id.unique():\n",
    "            err = {\n",
    "                'id_pareado': id_pareado,\n",
    "                'erro': 'Nan',\n",
    "            }\n",
    "            desvio_padrão.append(err)\n",
    "            x += 1\n",
    "            if x > 3: break\n",
    "        pareados_por_desvio_padrão = pd.DataFrame(desvio_padrão)\n",
    "        if not pareados_por_desvio_padrão.empty:\n",
    "            lista_pareados = pareados_por_desvio_padrão.sort_values(by=['erro']).iloc[:3]\n",
    "            #print(lista_pareados)\n",
    "                      \n",
    "    lista_pareado_para_incluir_no_bd = {\n",
    "        'id': id,\n",
    "        'tipos_pareamento': tipos_de_pareamento\n",
    "    }\n",
    "    x = 1\n",
    "    for pareado in desvio_padrão:\n",
    "        lista_pareado_para_incluir_no_bd['pareado_' + str(x)] = pareado['id_pareado']\n",
    "        lista_pareado_para_incluir_no_bd['erro_' + str(x)] = pareado['erro']\n",
    "        x += 1\n",
    "        if x > 3: break\n",
    "    print(lista_pareado_para_incluir_no_bd)\n",
    "        \n",
    "                \n"
   ]
  },
  {
   "cell_type": "code",
   "execution_count": null,
   "id": "994a54a5",
   "metadata": {},
   "outputs": [],
   "source": [
    "#\n",
    "#\n",
    "#\n",
    "## Fazendo Pareamento\n",
    "#\n",
    "#\n",
    "#\n",
    "\n",
    "min_para_parear = 3 # -> número de pessoas pareadas de modo fixo, sem usar os erros\n",
    "num_pareamentos = 3# -> número de pessoas pareadas ao final -> vai usar erros quadráticos para chegar nesse número\n",
    "\n",
    "lista_pareamentos = [] # -> Lista com todos os pareados -> Útil apenas para conferência depois\n",
    "\n",
    "for id in financiados.id.unique():\n",
    "\n",
    "    #Pegando dados do ID\n",
    "    print('Fazendo id: ', id)\n",
    "    financiado = financiados[financiados.id == id]\n",
    "    \n",
    "    #Pegando áreas do Conhecimento do Financiado\n",
    "    financiado.areas_conhecimento.iloc[0].split(',')\n",
    "    \n",
    "    #Pegando Regiões do Financiado\n",
    "    região = financiado.iloc[0].uf\n",
    "    tipo_região = None\n",
    "    if not região == None:\n",
    "        if região in ('SP'):\n",
    "            tipo_região = 1\n",
    "        elif região in ('MG', 'RS', 'RJ', 'PR'):\n",
    "            tipo_região = 2\n",
    "        else:\n",
    "            tipo_região = 3\n",
    "    \n",
    "    #Pegando ano do Indicador a ser usado do Financiado -> Útil para calcular erro -> Vai ser usado ao calcular o impacto\n",
    "    if financiado.chamada.str.contains('2012', na=False).unique()[0] == True : ano = 2012\n",
    "    elif financiado.chamada.str.contains('2013', na=False).unique()[0] == True : ano = 2013\n",
    "    elif financiado.chamada.str.contains('2014', na=False).unique()[0] == True : ano = 2014\n",
    "    else: ano = None\n",
    "\n",
    "    #Pegando Faixa do Financiado do Financiado -> Inútil aqui -> Vai ser usado ao calcular o impacto\n",
    "    if financiado.chamada.str.contains('Faixa A', na=False).unique()[0] == True : faixa = 'A'\n",
    "    elif financiado.chamada.str.contains('Faixa B', na=False).unique()[0] == True : faixa = 'B'\n",
    "    elif financiado.chamada.str.contains('Faixa c', na=False).unique()[0] == True : faixa = 'C'\n",
    "    else: faixa = None\n",
    "        \n",
    "    #Pegando o vínculo do Financiado\n",
    "    tipos_vinculo = financiado.tipos_vinculo.unique()\n",
    "    if not tipos_vinculo == None and len(tipos_vinculo) > 0:   \n",
    "        if tipos_vinculo[0].find('servidor_publico') > -1:\n",
    "            é_servidor = 'servidor_publico'\n",
    "        else:\n",
    "            é_servidor = 'outros'   \n",
    "    else: é_servidor = 'nenhum'\n",
    "    \n",
    "    #   \n",
    "    #Fazendo o Pareamento\n",
    "    #\n",
    "    tipos_de_pareamento = []  #Variável que vai indicar quais os tipos de pareamento realizados\n",
    "    \n",
    "    #1. Pareando pela área de conhecimento\n",
    "    pareados2 = dt.loc[(dt.areas_conhecimento.str.contains(financiado.area_demanda_bruta.unique()[0].split('(')[0].strip(), na=False))]\n",
    "    tipos_de_pareamento.append('area_demanda_bruta')\n",
    "                       \n",
    "    #2. Pareando pelo Vínculo\n",
    "    if pareados2.size > min_para_parear:\n",
    "        pareados = pareados2\n",
    "        if é_servidor == 'servidor_publico':\n",
    "            pareados2 = pareados.loc[(dt.tipos_vinculo.str.contains('servidor_publico', na=False))]\n",
    "        else:\n",
    "            pareados2 = pareados.loc[~(dt.tipos_vinculo.str.contains('servidor_publico', na=False))]\n",
    "        tipos_de_pareamento.append('tipos_vinculo')\n",
    "                       \n",
    "    \n",
    "    #3. Pareando por ano de doutorado -> Faixa de 20 anos\n",
    "    if pareados2.size > min_para_parear:\n",
    "        pareados = pareados2\n",
    "        pareados2 = pareados.loc[\n",
    "            (dt.ano_doutorado < financiado.ano_doutorado.unique()[0] + 10) &\n",
    "            (dt.ano_doutorado > financiado.ano_doutorado.unique()[0] - 10)\n",
    "        ]\n",
    "        tipos_de_pareamento.append('ano_doutorado_10')\n",
    "                       \n",
    "    #3. Pareando por ano de doutorado -> Faixa de 10 anos\n",
    "    if pareados2.size > min_para_parear:\n",
    "        pareados = pareados2\n",
    "        pareados2 = pareados.loc[\n",
    "            (dt.ano_doutorado < financiado.ano_doutorado.unique()[0] + 5) &\n",
    "            (dt.ano_doutorado > financiado.ano_doutorado.unique()[0] - 5)\n",
    "        ]\n",
    "        tipos_de_pareamento.append('ano_doutorado_05')\n",
    "                       \n",
    "    #4. Pareando por sexo\n",
    "    if pareados2.size > min_para_parear:\n",
    "        pareados = pareados2\n",
    "        pareados2 = pareados.loc[(dt.sexo == financiado.sexo.unique()[0])]\n",
    "        tipos_de_pareamento.append('sexo')\n",
    "                       \n",
    "    #5. Pareando por região\n",
    "    if pareados2.size > min_para_parear:\n",
    "        pareados = pareados2\n",
    "        if tipo_região == 1:\n",
    "            pareados2 = pareados.loc[pareados.uf.isin(('SP',))]\n",
    "        elif tipo_região == 2:\n",
    "            pareados2 = pareados.loc[pareados.uf.isin(('MG', 'RS', 'RJ', 'PR'))]\n",
    "        elif tipo_região == 3:\n",
    "            pareados2 = pareados.loc[~pareados.uf.isin(('SP', 'MG', 'RS', 'RJ', 'PR'))]\n",
    "\n",
    "        tipos_de_pareamento.append('uf')\n",
    "                       \n",
    "    #6. Pareando por erros quadráticos\n",
    "    pareados = pareados2\n",
    "    tipos_de_pareamento.append('erro')            \n",
    "                                            \n",
    "    #Fezendo lista de erros quadráticos\n",
    "    ids_pareados = []\n",
    "    if not pareados.empty:\n",
    "\n",
    "        #Calculando os erros dos grupos\n",
    "        # \"grupo\" é um dos grupos de indicadores.\n",
    "        for grupo in financiado.grupo.unique():\n",
    "\n",
    "            #Pegando o valor do Financiado\n",
    "            ind_financiado = financiado.loc[(financiado.grupo == grupo)]['qty_' + str(ano)].iloc[0]\n",
    "\n",
    "            #Verificando o erro dos pareados restantes\n",
    "            for id_pareado in pareados.id.unique():\n",
    "                ind_pareado = pareados.loc[\n",
    "                    (pareados.grupo == grupo)\n",
    "                    & (pareados.id == id_pareado)\n",
    "                    ]['qty_' + str(ano)]\n",
    "                if len(ind_pareado) > 0:\n",
    "                    ind_pareado = ind_pareado.iloc[0]\n",
    "                else:\n",
    "                    ind_pareado = 0\n",
    "                erro = {\n",
    "                    'id': id,\n",
    "                    'id_pareado': id_pareado,\n",
    "                    'grupo': grupo,\n",
    "                    'valor': ind_pareado,\n",
    "                    'erro2': (ind_financiado - ind_pareado)**2\n",
    "                }\n",
    "                ids_pareados.append(erro)\n",
    "\n",
    "        #Acrescentando Anos de Doutor como um Indicador\n",
    "        for id_pareado in pareados.id.unique():\n",
    "            ind_pareado = pareados.ano_doutorado.loc[\n",
    "                (pareados.id == id_pareado)\n",
    "                ].unique()\n",
    "            #print(ind_pareado, type(ind_pareado))\n",
    "            if len(ind_pareado) > 0:\n",
    "                ind_pareado = ind_pareado[0]\n",
    "            else:\n",
    "                ind_pareado = 0\n",
    "            erro = {\n",
    "                'id': id,\n",
    "                'id_pareado': id_pareado,\n",
    "                'grupo': \"Anos de Doutor\",\n",
    "                'valor': ind_pareado,\n",
    "                'erro2': (financiado.ano_doutorado.iloc[0] - ind_pareado)**2\n",
    "            }\n",
    "            ids_pareados.append(erro)\n",
    "\n",
    "        #Acrescentando Áreas do Conhecimento em Comum como outro indicador\n",
    "        areas_conhecimento_financiado = financiado.areas_conhecimento.iloc[0]\n",
    "        if not areas_conhecimento_financiado == None:\n",
    "            areas_conhecimento_financiado = areas_conhecimento_financiado.split(',')\n",
    "            total_areas = len(areas_conhecimento_financiado)\n",
    "\n",
    "            for id_pareado in pareados.id.unique():\n",
    "                areas_em_comum = 0\n",
    "                lista_areas_conhecimento = pareados.loc[pareados.id == id_pareado].areas_conhecimento\n",
    "                if len(lista_areas_conhecimento) > 0 and not lista_areas_conhecimento.iloc[0] == None:\n",
    "                    lista_areas_conhecimento = lista_areas_conhecimento.iloc[0].split(',')\n",
    "                    for area in areas_conhecimento_financiado:\n",
    "                        if area in lista_areas_conhecimento:\n",
    "                            areas_em_comum += 1\n",
    "                erro = {\n",
    "                    'id': id,\n",
    "                    'id_pareado': id_pareado,\n",
    "                    'grupo': 'areas_conhecimento',\n",
    "                    'valor': areas_em_comum,\n",
    "                    'erro2': (total_areas - areas_em_comum)**2\n",
    "                }\n",
    "                ids_pareados.append(erro)    \n",
    "\n",
    "    #Calculando o Desvio Padrão por id pareado\n",
    "    erro = pd.DataFrame(ids_pareados)\n",
    "    if not erro.empty:\n",
    "        desvio_padrão = []  # -> VARIÁVEL QUE VAI CONTER OS IDS PAREADOS\n",
    "        for id_pareado in erro.id_pareado.unique():\n",
    "            erro_id = erro.loc[erro.id_pareado == id_pareado]\n",
    "            if not erro_id.empty:\n",
    "                soma_erro = erro_id.erro2.sum()\n",
    "                num_erros = len(erro_id.index)\n",
    "                err = {\n",
    "                    'id_pareado': id_pareado,\n",
    "                    'erro': np.sqrt(soma_erro/num_erros),\n",
    "                }\n",
    "                \n",
    "                desvio_padrão.append(err)\n",
    "                lista_pareamentos.append(err)\n",
    "\n",
    "                #db.insert_dict(\"pareamentos\", err, on_conflict=['id', 'id_pareado'])\n",
    "        pareados_por_desvio_padrão = pd.DataFrame(desvio_padrão)\n",
    "        if not pareados_por_desvio_padrão.empty:\n",
    "            lista_pareados = pareados_por_desvio_padrão.sort_values(by=['erro']).iloc[:3]\n",
    "            #print(lista_pareados)\n",
    "                      \n",
    "    lista_pareado_para_incluir_no_bd = {\n",
    "        'id': id,\n",
    "        'ano': ano,\n",
    "        'faixa': faixa,\n",
    "        'tipos_pareamento': tipos_de_pareamento\n",
    "    }\n",
    "    x = 1\n",
    "    for pareado in desvio_padrão:\n",
    "        lista_pareado_para_incluir_no_bd['pareado_' + str(x)] = pareado['id_pareado']\n",
    "        lista_pareado_para_incluir_no_bd['erro_' + str(x)] = pareado['erro']\n",
    "        x += 1\n",
    "        if x > 3: break\n",
    "    print(lista_pareado_para_incluir_no_bd)\n",
    "        "
   ]
  },
  {
   "cell_type": "code",
   "execution_count": null,
   "id": "648ec219",
   "metadata": {},
   "outputs": [],
   "source": [
    "db.commit()"
   ]
  },
  {
   "cell_type": "markdown",
   "id": "6f03070f",
   "metadata": {},
   "source": [
    "### Erro para parar o código"
   ]
  },
  {
   "cell_type": "code",
   "execution_count": null,
   "id": "c0065973",
   "metadata": {},
   "outputs": [],
   "source": [
    "efghrertherthhter\n",
    "print estou na fazendo sem parênteses ou aspas"
   ]
  },
  {
   "cell_type": "code",
   "execution_count": null,
   "id": "e4abc8de",
   "metadata": {},
   "outputs": [],
   "source": [
    "pareados"
   ]
  },
  {
   "cell_type": "code",
   "execution_count": null,
   "id": "3b9f440f",
   "metadata": {},
   "outputs": [],
   "source": [
    "pareados = dt.loc[(dt.areas_conhecimento.str.contains(financiado.area_demanda_bruta.unique()[0].split('(')[0].strip(), na=False))]"
   ]
  },
  {
   "cell_type": "code",
   "execution_count": null,
   "id": "8445cece",
   "metadata": {},
   "outputs": [],
   "source": [
    "pareados"
   ]
  },
  {
   "cell_type": "code",
   "execution_count": null,
   "id": "7b161619",
   "metadata": {},
   "outputs": [],
   "source": [
    "financiado.area_demanda_bruta.unique()[0].split('(')[0]"
   ]
  },
  {
   "cell_type": "code",
   "execution_count": null,
   "id": "a6978176",
   "metadata": {},
   "outputs": [],
   "source": []
  }
 ],
 "metadata": {
  "kernelspec": {
   "display_name": "Python 3 (ipykernel)",
   "language": "python",
   "name": "python3"
  },
  "language_info": {
   "codemirror_mode": {
    "name": "ipython",
    "version": 3
   },
   "file_extension": ".py",
   "mimetype": "text/x-python",
   "name": "python",
   "nbconvert_exporter": "python",
   "pygments_lexer": "ipython3",
   "version": "3.9.7"
  }
 },
 "nbformat": 4,
 "nbformat_minor": 5
}
