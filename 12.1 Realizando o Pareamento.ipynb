{
 "cells": [
  {
   "cell_type": "markdown",
   "id": "e4f60581",
   "metadata": {},
   "source": [
    "# Importações"
   ]
  },
  {
   "cell_type": "code",
   "execution_count": 1,
   "id": "f9ebae2b",
   "metadata": {},
   "outputs": [],
   "source": [
    "from Carga import Carga\n",
    "from pandas import pandas as pd\n",
    "import numpy as np\n",
    "import unidecode\n",
    "import Database\n",
    "import json\n"
   ]
  },
  {
   "cell_type": "code",
   "execution_count": 2,
   "id": "3bc41765",
   "metadata": {},
   "outputs": [],
   "source": [
    "#Re-importanto a biblioteca porque foi modificada - pode ser ignorado\n",
    "#import importlib\n",
    "#importlib.reload(Database)"
   ]
  },
  {
   "cell_type": "code",
   "execution_count": 3,
   "id": "e0b8ea3e",
   "metadata": {},
   "outputs": [],
   "source": [
    "db = Database.Database('CNPq')"
   ]
  },
  {
   "cell_type": "markdown",
   "id": "773e212c",
   "metadata": {},
   "source": [
    "## Carregando tabela de indicadores"
   ]
  },
  {
   "cell_type": "code",
   "execution_count": 1,
   "id": "85d4a930",
   "metadata": {},
   "outputs": [
    {
     "ename": "NameError",
     "evalue": "name 'Carga' is not defined",
     "output_type": "error",
     "traceback": [
      "\u001b[1;31m---------------------------------------------------------------------------\u001b[0m",
      "\u001b[1;31mNameError\u001b[0m                                 Traceback (most recent call last)",
      "\u001b[1;32m~\\AppData\\Local\\Temp/ipykernel_6620/2807957216.py\u001b[0m in \u001b[0;36m<module>\u001b[1;34m\u001b[0m\n\u001b[1;32m----> 1\u001b[1;33m \u001b[0mengine\u001b[0m \u001b[1;33m=\u001b[0m \u001b[0mCarga\u001b[0m\u001b[1;33m.\u001b[0m\u001b[0mdb_engine\u001b[0m\u001b[1;33m(\u001b[0m\u001b[1;33m)\u001b[0m\u001b[1;33m\u001b[0m\u001b[1;33m\u001b[0m\u001b[0m\n\u001b[0m\u001b[0;32m      2\u001b[0m \u001b[0mdt\u001b[0m \u001b[1;33m=\u001b[0m \u001b[0mpd\u001b[0m\u001b[1;33m.\u001b[0m\u001b[0mread_sql\u001b[0m\u001b[1;33m(\u001b[0m\u001b[1;34m\"indicadores_pareamento\"\u001b[0m\u001b[1;33m,\u001b[0m \u001b[0mengine\u001b[0m\u001b[1;33m)\u001b[0m\u001b[1;33m\u001b[0m\u001b[1;33m\u001b[0m\u001b[0m\n",
      "\u001b[1;31mNameError\u001b[0m: name 'Carga' is not defined"
     ]
    }
   ],
   "source": [
    "engine = Carga.db_engine()\n",
    "dt = pd.read_sql(\"indicadores_pareamento\", engine)\n"
   ]
  },
  {
   "cell_type": "markdown",
   "id": "2dac1a9d",
   "metadata": {},
   "source": [
    "## Pegando lista de Ids já realizados"
   ]
  },
  {
   "cell_type": "code",
   "execution_count": 5,
   "id": "0eae8fee",
   "metadata": {},
   "outputs": [],
   "source": [
    "sql = 'SELECT DISTINCT id FROM pareamentos;'\n",
    "ids_já_feitos = db.query(sql)"
   ]
  },
  {
   "cell_type": "code",
   "execution_count": 6,
   "id": "81cb9570",
   "metadata": {},
   "outputs": [],
   "source": [
    "ids_já_feitos = [num[0] for num in ids_já_feitos]"
   ]
  },
  {
   "cell_type": "code",
   "execution_count": null,
   "id": "f226befd",
   "metadata": {},
   "outputs": [],
   "source": [
    "len (ids_já_feitos)"
   ]
  },
  {
   "cell_type": "markdown",
   "id": "d4c5eb8b",
   "metadata": {},
   "source": [
    "## Pegando lista de Ids para fazer"
   ]
  },
  {
   "cell_type": "code",
   "execution_count": 8,
   "id": "df8f9ca1",
   "metadata": {},
   "outputs": [],
   "source": [
    "sql = 'select distinct id from demanda_bruta inner join pagamentos on demanda_bruta.\"Processo\" = pagamentos.\"Processo\"'"
   ]
  },
  {
   "cell_type": "code",
   "execution_count": 9,
   "id": "ac574b9f",
   "metadata": {},
   "outputs": [],
   "source": [
    "ids_para_fazer = db.query(sql)"
   ]
  },
  {
   "cell_type": "code",
   "execution_count": 10,
   "id": "4f33f61c",
   "metadata": {},
   "outputs": [],
   "source": [
    "asd = []\n",
    "for num in ids_para_fazer:\n",
    "    if int(num[0]) not in ids_já_feitos:\n",
    "        asd.append(int(num[0]))\n",
    "ids_para_fazer = asd\n",
    "del asd"
   ]
  },
  {
   "cell_type": "code",
   "execution_count": 11,
   "id": "79430a98",
   "metadata": {},
   "outputs": [
    {
     "data": {
      "text/plain": [
       "2887"
      ]
     },
     "execution_count": 11,
     "metadata": {},
     "output_type": "execute_result"
    }
   ],
   "source": [
    "len(ids_para_fazer)"
   ]
  },
  {
   "cell_type": "markdown",
   "id": "fb69e8c7",
   "metadata": {},
   "source": [
    "## Retirada dos não doutores - Existem 3 não doutores contemplados!!!"
   ]
  },
  {
   "cell_type": "code",
   "execution_count": 12,
   "id": "17321d95",
   "metadata": {},
   "outputs": [],
   "source": [
    "dt = dt[pd.notnull(dt.ano_doutorado)]"
   ]
  },
  {
   "cell_type": "markdown",
   "id": "6741133c",
   "metadata": {},
   "source": [
    "## Normalizando as Tabelas"
   ]
  },
  {
   "cell_type": "code",
   "execution_count": 13,
   "id": "6ead6d13",
   "metadata": {},
   "outputs": [],
   "source": [
    "dt.qty_2012 = dt.qty_2012.fillna(0)\n",
    "dt.qty_2013 = dt.qty_2013.fillna(0)\n",
    "dt.qty_2014 = dt.qty_2014.fillna(0)\n",
    "dt.qty_2015 = dt.qty_2015.fillna(0)\n",
    "dt.qty_2016 = dt.qty_2016.fillna(0)\n",
    "dt.qty_2017 = dt.qty_2017.fillna(0)\n",
    "dt.qty_2018 = dt.qty_2018.fillna(0)\n",
    "dt.qty_2019 = dt.qty_2019.fillna(0)"
   ]
  },
  {
   "cell_type": "code",
   "execution_count": 14,
   "id": "2dbbb006",
   "metadata": {},
   "outputs": [],
   "source": [
    "dt.area_demanda_bruta = dt.area_demanda_bruta.fillna('nenhum')\n",
    "dt.areas_conhecimento = dt.areas_conhecimento.fillna('nenhum')\n",
    "dt.tipos_vinculo = dt.tipos_vinculo.fillna('nenhum')\n",
    "dt.enquadramento_vinculo = dt.enquadramento_vinculo.fillna('nenhum')"
   ]
  },
  {
   "cell_type": "code",
   "execution_count": 15,
   "id": "2cf5b023",
   "metadata": {},
   "outputs": [],
   "source": [
    "dt.area_demanda_bruta = dt.area_demanda_bruta.str.normalize('NFKD')\\\n",
    "       .str.encode('ascii', errors='ignore')\\\n",
    "       .str.decode('utf-8')\\\n",
    "       .str.lower()"
   ]
  },
  {
   "cell_type": "code",
   "execution_count": 16,
   "id": "ade2584e",
   "metadata": {},
   "outputs": [],
   "source": [
    "dt.areas_conhecimento = dt.areas_conhecimento.str.normalize('NFKD')\\\n",
    "       .str.encode('ascii', errors='ignore')\\\n",
    "       .str.decode('utf-8')\\\n",
    "       .str.lower()"
   ]
  },
  {
   "cell_type": "code",
   "execution_count": 17,
   "id": "14ca556a",
   "metadata": {},
   "outputs": [],
   "source": [
    "dt.tipos_vinculo = dt.tipos_vinculo.str.normalize('NFKD')\\\n",
    "       .str.encode('ascii', errors='ignore')\\\n",
    "       .str.decode('utf-8')\\\n",
    "       .str.lower()"
   ]
  },
  {
   "cell_type": "code",
   "execution_count": 18,
   "id": "aac13858",
   "metadata": {},
   "outputs": [],
   "source": [
    "dt.enquadramento_vinculo = dt.enquadramento_vinculo.str.normalize('NFKD')\\\n",
    "       .str.encode('ascii', errors='ignore')\\\n",
    "       .str.decode('utf-8')\\\n",
    "       .str.lower()"
   ]
  },
  {
   "cell_type": "markdown",
   "id": "73a42b6b",
   "metadata": {},
   "source": [
    "## Criando tabelas parciais"
   ]
  },
  {
   "cell_type": "code",
   "execution_count": 19,
   "id": "d2f79847",
   "metadata": {},
   "outputs": [],
   "source": [
    "financiados = dt[dt.pgtos > 0]"
   ]
  },
  {
   "cell_type": "code",
   "execution_count": 22,
   "id": "1b8cb447",
   "metadata": {},
   "outputs": [],
   "source": [
    "dt = dt[pd.isnull(dt.pgtos)]"
   ]
  },
  {
   "cell_type": "markdown",
   "id": "572994ea",
   "metadata": {},
   "source": [
    "## Verificando número de pareamentos por ID - Pareando"
   ]
  },
  {
   "cell_type": "code",
   "execution_count": null,
   "id": "f22eff2e",
   "metadata": {},
   "outputs": [],
   "source": [
    "min_para_parear = 3\n",
    "num_pareamentos = 3\n",
    "erros_ids_inexistentes_pareamento = []\n",
    "for id in ids_para_fazer:\n",
    "    #Pegando dados do ID\n",
    "    print('Fazendo id: ', id)\n",
    "    financiado = financiados[financiados.id == id]\n",
    "    if financiado.empty:\n",
    "        erros_ids_inexistentes_pareamento.append(id)\n",
    "        with open('d:\\erros_ids_inexistentes_pareamento.json', 'w') as f:\n",
    "            json.dump(erros_ids_inexistentes_pareamento, f)\n",
    "        continue      \n",
    "    \n",
    "    #Pegando áreas do Conhecimento\n",
    "    financiado.areas_conhecimento.iloc[0].split(',')\n",
    "    \n",
    "    #Pegando Regiões\n",
    "    região = financiado.iloc[0].uf\n",
    "    tipo_região = None\n",
    "    if not região == None:\n",
    "        if região in ('SP'):\n",
    "            tipo_região = 1\n",
    "        elif região in ('MG', 'RS', 'RJ', 'PR'):\n",
    "            tipo_região = 2\n",
    "        else:\n",
    "            tipo_região = 3\n",
    "    \n",
    "    #Pegando ano do Indicador a ser usado\n",
    "    if financiado.chamada.str.contains('2012', na=False).unique()[0] == True : ano = 2012\n",
    "    elif financiado.chamada.str.contains('2013', na=False).unique()[0] == True : ano = 2013\n",
    "    elif financiado.chamada.str.contains('2014', na=False).unique()[0] == True : ano = 2014\n",
    "    else: ano = None\n",
    "\n",
    "    #Pegando Faixa do Financiado\n",
    "    if financiado.chamada.str.contains('Faixa A', na=False).unique()[0] == True : faixa = 'A'\n",
    "    elif financiado.chamada.str.contains('Faixa B', na=False).unique()[0] == True : faixa = 'B'\n",
    "    elif financiado.chamada.str.contains('Faixa c', na=False).unique()[0] == True : faixa = 'C'\n",
    "    else: faixa = None\n",
    "        \n",
    "    #Pegando Enquadramentos Funcionais Atuais\n",
    "    enquadramento_vinculo = financiado.enquadramento_vinculo.unique()\n",
    "    if not enquadramento_vinculo == None and len(enquadramento_vinculo) > 0:\n",
    "        if enquadramento_vinculo[0].find('professor') > -1:\n",
    "            vinculo = 'professor'\n",
    "        else:\n",
    "            vinculo = 'outro'\n",
    "\n",
    "    tipos_vinculo = financiado.enquadramento_vinculo.unique()\n",
    "    if not tipos_vinculo == None and len(tipos_vinculo) > 0:   \n",
    "        if tipos_vinculo[0].find('servidor_publico') > -1:\n",
    "            enquadramento = 'servidor_publico'\n",
    "        elif tipos_vinculo[0].find('celetista') > -1:\n",
    "            enquadramento = 'celetista'\n",
    "        elif tipos_vinculo[0].find('professor_visitante') > -1:\n",
    "            enquadramento = 'professor_visitante' \n",
    "        elif tipos_vinculo[0].find('colaborador') > -1:\n",
    "            enquadramento = 'colaborador' \n",
    "        elif tipos_vinculo[0].find('bolsista') > -1:\n",
    "            enquadramento = 'bolsista' \n",
    "        elif tipos_vinculo[0].find('livre') > -1:\n",
    "            enquadramento = 'livre' \n",
    "        elif tipos_vinculo[0].find('outro') > -1:\n",
    "            enquadramento = 'outro'     \n",
    "    else: enquadramento = 'nenhum'\n",
    "        \n",
    "    #Fazendo o Pareamento\n",
    "    \n",
    "    pareados = dt.loc[(dt.areas_conhecimento.str.contains(financiado.area_demanda_bruta.unique()[0].split('(')[0].strip(), na=False)]\n",
    "    if pareados.size > min_para_parear:\n",
    "        if vinculo = 'professor':\n",
    "            pareados2 = pareados.loc[(dt.enquadramento_vinculo.str.contains('professor', na=False))]\n",
    "        else:\n",
    "            pareados2 = pareados.loc[~(dt.enquadramento_vinculo.str.contains('professor', na=False))]\n",
    "    if pareados.size > min_para_parear:\n",
    "        pareados = pareados2           \n",
    "        pareados2 = pareados.loc[(dt.tipos_vinculo.str.contains(enquadramento, na=False))]\n",
    "    if pareados2.size > min_para_parear:\n",
    "        pareados = pareados2\n",
    "        pareados2 = pareados.loc[\n",
    "            (dt.ano_doutorado < financiado.ano_doutorado.unique()[0] + 10) &\n",
    "            (dt.ano_doutorado > financiado.ano_doutorado.unique()[0] - 10)\n",
    "        ]\n",
    "    if pareados2.size > min_para_parear:\n",
    "        pareados = pareados2\n",
    "        pareados2 = pareados.loc[\n",
    "            (dt.ano_doutorado < financiado.ano_doutorado.unique()[0] + 5) &\n",
    "            (dt.ano_doutorado > financiado.ano_doutorado.unique()[0] - 5)\n",
    "        ]\n",
    "    if pareados2.size > min_para_parear:\n",
    "        pareados = pareados2\n",
    "        pareados2 = pareados.loc[(dt.sexo == financiado.sexo.unique()[0])]\n",
    "    if pareados2.size > min_para_parear:\n",
    "        pareados = pareados2\n",
    "        if tipo_região == 1:\n",
    "            pareados2 = pareados.loc[pareados.uf.isin(('SP'))]\n",
    "        elif tipo_região == 2:\n",
    "            pareados2 = pareados.loc[pareados.uf.isin(('MG', 'RS', 'RJ', 'PR'))]\n",
    "        elif tipo_região == 3:\n",
    "            pareados2 = pareados.loc[~pareados.uf.isin(('SP', 'MG', 'RS', 'RJ', 'PR'))]\n",
    "    if pareados2.size > min_para_parear:\n",
    "        pareados = pareados2\n",
    "                       \n",
    "    #Fezendo lista de erros quadráticos\n",
    "    ids_pareados = []\n",
    "    if not pareados.empty:\n",
    "        for grupo in financiado.grupo.unique():\n",
    "            ind_financiado = financiado.loc[(financiado.grupo == grupo)]['qty_' + str(ano)].iloc[0]\n",
    "            #print('\\n\\n', grupo, ind_financiado, ': ')\n",
    "\n",
    "            for id_pareado in pareados.id.unique():\n",
    "                ind_pareado = pareados.loc[\n",
    "                    (pareados.grupo == grupo)\n",
    "                    & (pareados.id == id_pareado)\n",
    "                    ]['qty_' + str(ano)]\n",
    "                if len(ind_pareado) > 0:\n",
    "                    ind_pareado = ind_pareado.iloc[0]\n",
    "                else:\n",
    "                    ind_pareado = 0\n",
    "                erro = {\n",
    "                    'id': id,\n",
    "                    'id_pareado': id_pareado,\n",
    "                    'grupo': grupo,\n",
    "                    'valor': ind_pareado,\n",
    "                    'erro2': (ind_financiado - ind_pareado)**2\n",
    "                }\n",
    "                ids_pareados.append(erro)\n",
    "\n",
    "        #Acrescentando Anos de Doutor como um Indicador\n",
    "        for id_pareado in pareados.id.unique():\n",
    "            ind_pareado = pareados.ano_doutorado.loc[\n",
    "                (pareados.id == id_pareado)\n",
    "                ].unique()\n",
    "            #print(ind_pareado, type(ind_pareado))\n",
    "            if len(ind_pareado) > 0:\n",
    "                ind_pareado = ind_pareado[0]\n",
    "            else:\n",
    "                ind_pareado = 0\n",
    "            erro = {\n",
    "                'id': id,\n",
    "                'id_pareado': id_pareado,\n",
    "                'grupo': \"Anos de Doutor\",\n",
    "                'valor': ind_pareado,\n",
    "                'erro2': (financiado.ano_doutorado.iloc[0] - ind_pareado)**2\n",
    "            }\n",
    "            ids_pareados.append(erro)\n",
    "\n",
    "        #Acrescentando Áreas do Conhecimento em Comum como outro indicador\n",
    "        areas_conhecimento_financiado = financiado.areas_conhecimento.iloc[0]\n",
    "        if not areas_conhecimento_financiado == None:\n",
    "            areas_conhecimento_financiado = areas_conhecimento_financiado.split(',')\n",
    "            total_areas = len(areas_conhecimento_financiado)\n",
    "\n",
    "            for id_pareado in pareados.id.unique():\n",
    "                areas_em_comum = 0\n",
    "                lista_areas_conhecimento = pareados.loc[pareados.id == id_pareado].areas_conhecimento\n",
    "                if len(lista_areas_conhecimento) > 0 and not lista_areas_conhecimento.iloc[0] == None:\n",
    "                    lista_areas_conhecimento = lista_areas_conhecimento.iloc[0].split(',')\n",
    "                    for area in areas_conhecimento_financiado:\n",
    "                        if area in lista_areas_conhecimento:\n",
    "                            areas_em_comum += 1\n",
    "                erro = {\n",
    "                    'id': id,\n",
    "                    'id_pareado': id_pareado,\n",
    "                    'grupo': 'areas_conhecimento',\n",
    "                    'valor': areas_em_comum,\n",
    "                    'erro2': (total_areas - areas_em_comum)**2\n",
    "                }\n",
    "                ids_pareados.append(erro)    \n",
    "            \n",
    "    #Calculando o Erro\n",
    "    erro = pd.DataFrame(ids_pareados)\n",
    "    #print(erro)\n",
    "    desvio_padrão = []\n",
    "    if not erro.empty:\n",
    "        for id_pareado in erro.id_pareado.unique():\n",
    "            erro_id = erro.loc[erro.id_pareado == id_pareado]\n",
    "            if not erro_id.empty:\n",
    "                soma_erro = erro_id.erro2.sum()\n",
    "                num_erros = len(erro_id.index)\n",
    "                err = {\n",
    "                    'id': id,\n",
    "                    'id_pareado': id_pareado,\n",
    "                    'erro': np.sqrt(soma_erro/num_erros)\n",
    "                }\n",
    "                desvio_padrão.append(err)\n",
    "\n",
    "                db.insert_dict(\"pareamentos\", err, on_conflict=['id', 'id_pareado'])\n",
    "            "
   ]
  },
  {
   "cell_type": "code",
   "execution_count": null,
   "id": "648ec219",
   "metadata": {},
   "outputs": [],
   "source": [
    "db.commit()"
   ]
  },
  {
   "cell_type": "markdown",
   "id": "6f03070f",
   "metadata": {},
   "source": [
    "### Erro para parar o código"
   ]
  },
  {
   "cell_type": "code",
   "execution_count": null,
   "id": "c0065973",
   "metadata": {},
   "outputs": [],
   "source": [
    "efghrertherthhter\n",
    "print estou na fazendo sem parênteses ou aspas"
   ]
  },
  {
   "cell_type": "code",
   "execution_count": null,
   "id": "e4abc8de",
   "metadata": {},
   "outputs": [],
   "source": [
    "pareados"
   ]
  },
  {
   "cell_type": "code",
   "execution_count": null,
   "id": "3b9f440f",
   "metadata": {},
   "outputs": [],
   "source": [
    "pareados = dt.loc[(dt.areas_conhecimento.str.contains(financiado.area_demanda_bruta.unique()[0].split('(')[0].strip(), na=False))]"
   ]
  },
  {
   "cell_type": "code",
   "execution_count": null,
   "id": "8445cece",
   "metadata": {},
   "outputs": [],
   "source": [
    "pareados"
   ]
  },
  {
   "cell_type": "code",
   "execution_count": null,
   "id": "7b161619",
   "metadata": {},
   "outputs": [],
   "source": [
    "financiado.area_demanda_bruta.unique()[0].split('(')[0]"
   ]
  },
  {
   "cell_type": "code",
   "execution_count": null,
   "id": "a6978176",
   "metadata": {},
   "outputs": [],
   "source": []
  }
 ],
 "metadata": {
  "kernelspec": {
   "display_name": "Python 3 (ipykernel)",
   "language": "python",
   "name": "python3"
  },
  "language_info": {
   "codemirror_mode": {
    "name": "ipython",
    "version": 3
   },
   "file_extension": ".py",
   "mimetype": "text/x-python",
   "name": "python",
   "nbconvert_exporter": "python",
   "pygments_lexer": "ipython3",
   "version": "3.9.7"
  }
 },
 "nbformat": 4,
 "nbformat_minor": 5
}
