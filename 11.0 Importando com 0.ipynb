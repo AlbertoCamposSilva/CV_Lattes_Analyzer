{
 "cells": [
  {
   "cell_type": "code",
   "execution_count": 1,
   "id": "388d4a2f",
   "metadata": {},
   "outputs": [],
   "source": [
    "from Carga import Carga\n",
    "cg = Carga(connect_to_bd = False)"
   ]
  },
  {
   "cell_type": "code",
   "execution_count": null,
   "id": "02f940b4",
   "metadata": {},
   "outputs": [
    {
     "name": "stdout",
     "output_type": "stream",
     "text": [
      "\n",
      "_______  _        ______   _______  _______ _________ _______ \n",
      "(  ___  )( \\      (  ___ \\ (  ____ \\(  ____ )\\__   __/(  ___  )\n",
      "| (   ) || (      | (   ) )| (    \\/| (    )|   ) (   | (   ) |\n",
      "| (___) || |      | (__/ / | (__    | (____)|   | |   | |   | |\n",
      "|  ___  || |      |  __ (  |  __)   |     __)   | |   | |   | |\n",
      "| (   ) || |      | (  \\ \\ | (      | (\\ (      | |   | |   | |\n",
      "| )   ( || (____/\\| )___) )| (____/\\| ) \\ \\__   | |   | (___) |\n",
      "|/     \\|(_______/|/ \\___/ (_______/|/   \\__/   )_(   (_______)\n",
      "\n",
      "\n",
      " _______  _______  _______  _______  _______  _______ \n",
      "(  ____ \\(  ___  )(       )(  ____ )(  ___  )(  ____ \\\n",
      "| (    \\/| (   ) || () () || (    )|| (   ) || (    \\/\n",
      "| |      | (___) || || || || (____)|| |   | || (_____ \n",
      "| |      |  ___  || |(_)| ||  _____)| |   | |(_____  )\n",
      "| |      | (   ) || |   | || (      | |   | |      ) |\n",
      "| (____/\\| )   ( || )   ( || )      | (___) |/\\____) |\n",
      "(_______/|/     \\||/     \\||/       (_______)\\_______)\n",
      "\n",
      "\n",
      "\n",
      " _____     ___    ______    _____     ___  \n",
      "/  __ \\   / _ \\   | ___ \\  |  __ \\   / _ \\ \n",
      "| /  \\/  / /_\\ \\  | |_/ /  | |  \\/  / /_\\ \\\n",
      "| |      |  _  |  |    /   | | __   |  _  |\n",
      "| \\__/\\  | | | |  | |\\ \\   | |_\\ \\  | | | |\n",
      " \\____/  \\_| |_/  \\_| \\_|   \\____/  \\_| |_/\n",
      "\n",
      "        \n",
      "Criando diretórios temporários, se não existirem.\n",
      "\n",
      "\n",
      "Carregando lista de IDs a importar pela carga de ids no SOAP\n",
      "Pulando primeiras linhas.\n",
      "Carregando ids a ler.\n"
     ]
    }
   ],
   "source": [
    "cg.load_carga(                    pular_erros = False,\n",
    "                    pular_indicadores = False,\n",
    "                    pula_bd_lattes = False,\n",
    "                    pula_hd = False,                    \n",
    "              de_bd_demanda_bruta = False,\n",
    "                    de_bd_dados_pessoais = False,\n",
    "                    de_dados_pessoais = False,\n",
    "             carga=r'C:\\Users\\albertos\\CNPq\\Lattes\\Planilhas\\Carga all_lattes\\R358737.csv',\n",
    "             log_file=r'C:\\Users\\albertos\\CNPq\\Lattes\\Planilhas\\Carga all_lattes\\log.txt',\n",
    "             )"
   ]
  },
  {
   "cell_type": "raw",
   "id": "435832d6",
   "metadata": {},
   "source": []
  },
  {
   "cell_type": "code",
   "execution_count": null,
   "id": "d3fd892b",
   "metadata": {},
   "outputs": [],
   "source": []
  }
 ],
 "metadata": {
  "kernelspec": {
   "display_name": "Python 3 (ipykernel)",
   "language": "python",
   "name": "python3"
  },
  "language_info": {
   "codemirror_mode": {
    "name": "ipython",
    "version": 3
   },
   "file_extension": ".py",
   "mimetype": "text/x-python",
   "name": "python",
   "nbconvert_exporter": "python",
   "pygments_lexer": "ipython3",
   "version": "3.9.7"
  }
 },
 "nbformat": 4,
 "nbformat_minor": 5
}
