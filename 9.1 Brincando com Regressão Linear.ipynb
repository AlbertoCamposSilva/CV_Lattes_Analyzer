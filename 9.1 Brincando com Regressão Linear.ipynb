{
  "cells": [
    {
      "cell_type": "code",
      "execution_count": 3,
      "id": "8cd166f3",
      "metadata": {},
      "outputs": [
        {
          "name": "stdout",
          "output_type": "stream",
          "text": [
            "Importando Módulos\n",
            "Módulos Importados\n"
          ]
        }
      ],
      "source": [
        "from Lattes import Lattes\n",
        "import pandas\n",
        "import matplotlib.pyplot as plt\n",
        "import numpy as np\n",
        "from sklearn import datasets, linear_model\n",
        "from sklearn.metrics import mean_squared_error, r2_score\n",
        "from sklearn.linear_model import LinearRegression\n",
        "\n",
        "import statsmodels.api as sm\n",
        "from scipy import stats"
      ]
    },
    {
      "cell_type": "code",
      "execution_count": 4,
      "id": "27604b90",
      "metadata": {},
      "outputs": [],
      "source": [
        "SQL = '''\n",
        "\n",
        "\tselect indicadores.id, \n",
        "\t\tindicadores.tipo, \n",
        "\t\tsum(qty) FILTER (WHERE ano <= 2014) AS qty_2014,\n",
        "\t\tsum(qty) FILTER (WHERE ano <= 2020) AS qty_2020,\n",
        "\t\t\"Chamada\" as chamada,\n",
        "\t\t\"Processo\" as processo, \n",
        "\t\tpgtos \n",
        "        \n",
        "\tfrom demanda_bruta\n",
        "\tleft join\n",
        "\t\t\t(select \"Processo\" as processo, sum(\"Valor Pago\") as pgtos from pagamentos\n",
        "\t\t\twhere \"Processo\" in (select \"Processo\" from demanda_bruta)\n",
        "\t\t\tgroup by \"Processo\") AS pgtos\n",
        "\t\ton demanda_bruta.\"Processo\" = pgtos.processo\n",
        "\tleft join indicadores\n",
        "\t\ton CAST(demanda_bruta.id as bigint) = indicadores.id\n",
        "\tinner join all_lattes\n",
        "\t\ton CAST(demanda_bruta.id as bigint) = all_lattes.id\n",
        "\n",
        "    WHERE\n",
        "\t\tall_lattes.dt_atualizacao > '2020-01-01'\n",
        "\t\tand indicadores.tipo = '@ANO-DE-INICIO DOUTORADO '\n",
        "\t\tand demanda_bruta.\"Programa\" = 'PROGRAMA BASICO DE ENGENHARIA QUIMICA'\n",
        "\t\tand demanda_bruta.\"Chamada\" = 'UNIVERSAL 2016 - FAIXA B'\n",
        "\tGROUP BY\n",
        "\t\tindicadores.id \n",
        "\t\t,indicadores.tipo\n",
        "\t\t,demanda_bruta.\"Processo\"\n",
        "\t\t,demanda_bruta.\"Chamada\"\n",
        "\t\t,pgtos.pgtos\n",
        "\t\t,demanda_bruta.\"Programa\"\n",
        "\n",
        "'''"
      ]
    },
    {
      "cell_type": "code",
      "execution_count": 5,
      "id": "64e09c5c",
      "metadata": {},
      "outputs": [
        {
          "name": "stdout",
          "output_type": "stream",
          "text": [
            "d:/Lattes/Linnear Regression Models/chamada=UNIVERSAL+2016+-+FAIXA+B&programa=PROGRAMA+BASICO+DE+ENGENHARIA+QUIMICA&CA=None&%C3%A1rea=None&indicador=%40ANO-DE-INICIO+DOUTORADO+&data=2020-01-01\n"
          ]
        },
        {
          "ename": "NameError",
          "evalue": "name 'est2' is not defined",
          "output_type": "error",
          "traceback": [
            "\u001b[1;31m---------------------------------------------------------------------------\u001b[0m",
            "\u001b[1;31mNameError\u001b[0m                                 Traceback (most recent call last)",
            "\u001b[1;32m~\\AppData\\Local\\Temp/ipykernel_1812/2569068279.py\u001b[0m in \u001b[0;36m<module>\u001b[1;34m\u001b[0m\n\u001b[0;32m     11\u001b[0m \u001b[0mprint\u001b[0m\u001b[1;33m(\u001b[0m\u001b[0mfilename\u001b[0m\u001b[1;33m)\u001b[0m\u001b[1;33m\u001b[0m\u001b[1;33m\u001b[0m\u001b[0m\n\u001b[0;32m     12\u001b[0m \u001b[1;33m\u001b[0m\u001b[0m\n\u001b[1;32m---> 13\u001b[1;33m \u001b[0mest2\u001b[0m\u001b[1;33m.\u001b[0m\u001b[0msave\u001b[0m\u001b[1;33m(\u001b[0m\u001b[0mfilename\u001b[0m\u001b[1;33m)\u001b[0m\u001b[1;33m\u001b[0m\u001b[1;33m\u001b[0m\u001b[0m\n\u001b[0m\u001b[0;32m     14\u001b[0m \u001b[1;33m\u001b[0m\u001b[0m\n",
            "\u001b[1;31mNameError\u001b[0m: name 'est2' is not defined"
          ]
        }
      ],
      "source": [
        "    from urllib.parse import urlencode,parse_qs\n",
        "    parâmetros = {}\n",
        "    parâmetros['chamada'] = 'UNIVERSAL 2016 - FAIXA B'\n",
        "    parâmetros['programa'] = 'PROGRAMA BASICO DE ENGENHARIA QUIMICA'\n",
        "    parâmetros['CA'] = None\n",
        "    parâmetros['área'] = None\n",
        "    parâmetros['indicador'] = '@ANO-DE-INICIO DOUTORADO '\n",
        "    parâmetros['data'] = '2020-01-01'\n",
        "    path='d:/Lattes/Linnear Regression Models/'\n",
        "    filename = path + urlencode(parâmetros, doseq=True)\n",
        "    print(filename)\n",
        "\n",
        "    est2.save(filename)\n",
        "    "
      ]
    },
    {
      "cell_type": "code",
      "execution_count": 74,
      "id": "fab82ce2",
      "metadata": {},
      "outputs": [
        {
          "data": {
            "text/plain": [
              "{'chamada': ['UNIVERSAL 2016 - FAIXA B'],\n",
              " 'programa': ['PROGRAMA BASICO DE ENGENHARIA QUIMICA'],\n",
              " 'CA': ['None'],\n",
              " 'área': ['None'],\n",
              " 'indicador': ['@ANO-DE-INICIO DOUTORADO '],\n",
              " 'data': ['2020-01-01']}"
            ]
          },
          "execution_count": 74,
          "metadata": {},
          "output_type": "execute_result"
        }
      ],
      "source": [
        "from urllib.parse import urlencode,parse_qs\n",
        "queryStr = 'chamada=UNIVERSAL+2016+-+FAIXA+B&programa=PROGRAMA+BASICO+DE+ENGENHARIA+QUIMICA&CA=None&%C3%A1rea=None&indicador=%40ANO-DE-INICIO+DOUTORADO+&data=2020-01-01'\n",
        "parse_qs(queryStr)"
      ]
    },
    {
      "cell_type": "code",
      "execution_count": 82,
      "id": "c1cbbc3e",
      "metadata": {},
      "outputs": [],
      "source": [
        "from Lattes import Lattes\n",
        "import psycopg2\n",
        "from psycopg2.extensions import AsIs"
      ]
    },
    {
      "cell_type": "code",
      "execution_count": 91,
      "id": "46cd7d7b",
      "metadata": {},
      "outputs": [
        {
          "name": "stdout",
          "output_type": "stream",
          "text": [
            "b\"insert into resultados_regressao_linear (chamada,programa,indicador,data,ca,area,total_investido,media_investimento,f_total,f_pagtos,parametro_pgtos,f_qty_2014,parametro_qty_2014,f_const,parametro_const,r2) values ('TESTE', 'PROGRAMA BASICO DE ENGENHARIA QUIMICA', '@ANO-DE-INICIO DOUTORADO ', '2020-01-01', NULL, NULL, 988697.5, 47080.833333333336, NULL, NULL, NULL, NULL, NULL, NULL, NULL, NULL)\"\n"
          ]
        }
      ],
      "source": [
        "    resultado = {\n",
        "                'chamada': 'TESTE',\n",
        "                'programa': 'PROGRAMA BASICO DE ENGENHARIA QUIMICA',\n",
        "                'indicador': '@ANO-DE-INICIO DOUTORADO ',\n",
        "                'data': '2020-01-01',\n",
        "                'ca': None,\n",
        "                'area': None,\n",
        "                'total_investido': pd[pd['pgtos']!=0].pgtos.sum(),\n",
        "                'media_investimento': pd[pd['pgtos']!=0].pgtos.mean(),\n",
        "                'f_total': None,\n",
        "                'f_pagtos': None,\n",
        "                 'parametro_pgtos': None,\n",
        "                 'f_qty_2014': None,\n",
        "                 'parametro_qty_2014': None,\n",
        "                 'f_const': None,\n",
        "                 'parametro_const': None,\n",
        "                 'r2': None\n",
        "                }\n",
        "    columns = resultado.keys()\n",
        "    values = [resultado[column] for column in columns]\n",
        "    insert_statement = 'insert into resultados_regressao_linear (%s) values %s'\n",
        "    params = Database.config_db_connection()\n",
        "    conn = psycopg2.connect(**params)\n",
        "    cur = conn.cursor()\n",
        "    sql = cur.mogrify(insert_statement, (AsIs(','.join(columns)), tuple(values)))\n",
        "    cur.execute(insert_statement, (AsIs(','.join(columns)), tuple(values)))\n",
        "    conn.commit()\n",
        "    cur.close()\n",
        "    print (sql)"
      ]
    },
    {
      "cell_type": "code",
      "execution_count": 6,
      "id": "073fff0a",
      "metadata": {},
      "outputs": [],
      "source": [
        "engine = Carga.db_engine()\n",
        "pd = pandas.read_sql(SQL, engine)"
      ]
    },
    {
      "cell_type": "code",
      "execution_count": 7,
      "id": "8c6fc292",
      "metadata": {},
      "outputs": [],
      "source": [
        "    média_investimento = pd[pd['pgtos']!=0].pgtos.mean()\n",
        "    total_investido = float(pd[pd['pgtos']!=0].pgtos.sum())"
      ]
    },
    {
      "cell_type": "code",
      "execution_count": 8,
      "id": "ea1aed81",
      "metadata": {},
      "outputs": [
        {
          "data": {
            "text/plain": [
              "float"
            ]
          },
          "execution_count": 8,
          "metadata": {},
          "output_type": "execute_result"
        }
      ],
      "source": [
        "type(total_investido)"
      ]
    },
    {
      "cell_type": "code",
      "execution_count": 9,
      "id": "39fe18b8",
      "metadata": {},
      "outputs": [
        {
          "data": {
            "text/html": [
              "<div>\n",
              "<style scoped>\n",
              "    .dataframe tbody tr th:only-of-type {\n",
              "        vertical-align: middle;\n",
              "    }\n",
              "\n",
              "    .dataframe tbody tr th {\n",
              "        vertical-align: top;\n",
              "    }\n",
              "\n",
              "    .dataframe thead th {\n",
              "        text-align: right;\n",
              "    }\n",
              "</style>\n",
              "<table border=\"1\" class=\"dataframe\">\n",
              "  <thead>\n",
              "    <tr style=\"text-align: right;\">\n",
              "      <th></th>\n",
              "      <th>id</th>\n",
              "      <th>tipo</th>\n",
              "      <th>qty_2014</th>\n",
              "      <th>qty_2020</th>\n",
              "      <th>chamada</th>\n",
              "      <th>processo</th>\n",
              "      <th>pgtos</th>\n",
              "    </tr>\n",
              "  </thead>\n",
              "  <tbody>\n",
              "    <tr>\n",
              "      <th>0</th>\n",
              "      <td>88457363574989</td>\n",
              "      <td>@ANO-DE-INICIO DOUTORADO</td>\n",
              "      <td>2.0</td>\n",
              "      <td>2.0</td>\n",
              "      <td>UNIVERSAL 2016 - FAIXA B</td>\n",
              "      <td>431004/2016-1</td>\n",
              "      <td>0.0</td>\n",
              "    </tr>\n",
              "    <tr>\n",
              "      <th>1</th>\n",
              "      <td>127190896914089</td>\n",
              "      <td>@ANO-DE-INICIO DOUTORADO</td>\n",
              "      <td>1.0</td>\n",
              "      <td>1.0</td>\n",
              "      <td>UNIVERSAL 2016 - FAIXA B</td>\n",
              "      <td>420834/2016-8</td>\n",
              "      <td>0.0</td>\n",
              "    </tr>\n",
              "    <tr>\n",
              "      <th>2</th>\n",
              "      <td>164780267524163</td>\n",
              "      <td>@ANO-DE-INICIO DOUTORADO</td>\n",
              "      <td>1.0</td>\n",
              "      <td>1.0</td>\n",
              "      <td>UNIVERSAL 2016 - FAIXA B</td>\n",
              "      <td>407071/2016-4</td>\n",
              "      <td>0.0</td>\n",
              "    </tr>\n",
              "    <tr>\n",
              "      <th>3</th>\n",
              "      <td>171183220606416</td>\n",
              "      <td>@ANO-DE-INICIO DOUTORADO</td>\n",
              "      <td>1.0</td>\n",
              "      <td>1.0</td>\n",
              "      <td>UNIVERSAL 2016 - FAIXA B</td>\n",
              "      <td>420611/2016-9</td>\n",
              "      <td>0.0</td>\n",
              "    </tr>\n",
              "    <tr>\n",
              "      <th>4</th>\n",
              "      <td>278054122091940</td>\n",
              "      <td>@ANO-DE-INICIO DOUTORADO</td>\n",
              "      <td>1.0</td>\n",
              "      <td>1.0</td>\n",
              "      <td>UNIVERSAL 2016 - FAIXA B</td>\n",
              "      <td>403477/2016-6</td>\n",
              "      <td>0.0</td>\n",
              "    </tr>\n",
              "    <tr>\n",
              "      <th>...</th>\n",
              "      <td>...</td>\n",
              "      <td>...</td>\n",
              "      <td>...</td>\n",
              "      <td>...</td>\n",
              "      <td>...</td>\n",
              "      <td>...</td>\n",
              "      <td>...</td>\n",
              "    </tr>\n",
              "    <tr>\n",
              "      <th>143</th>\n",
              "      <td>9790871977193250</td>\n",
              "      <td>@ANO-DE-INICIO DOUTORADO</td>\n",
              "      <td>1.0</td>\n",
              "      <td>1.0</td>\n",
              "      <td>UNIVERSAL 2016 - FAIXA B</td>\n",
              "      <td>403419/2016-6</td>\n",
              "      <td>0.0</td>\n",
              "    </tr>\n",
              "    <tr>\n",
              "      <th>144</th>\n",
              "      <td>9856154294275621</td>\n",
              "      <td>@ANO-DE-INICIO DOUTORADO</td>\n",
              "      <td>1.0</td>\n",
              "      <td>1.0</td>\n",
              "      <td>UNIVERSAL 2016 - FAIXA B</td>\n",
              "      <td>421930/2016-0</td>\n",
              "      <td>43000.0</td>\n",
              "    </tr>\n",
              "    <tr>\n",
              "      <th>145</th>\n",
              "      <td>9913429373870610</td>\n",
              "      <td>@ANO-DE-INICIO DOUTORADO</td>\n",
              "      <td>1.0</td>\n",
              "      <td>1.0</td>\n",
              "      <td>UNIVERSAL 2016 - FAIXA B</td>\n",
              "      <td>404874/2016-9</td>\n",
              "      <td>25700.0</td>\n",
              "    </tr>\n",
              "    <tr>\n",
              "      <th>146</th>\n",
              "      <td>9933650905615452</td>\n",
              "      <td>@ANO-DE-INICIO DOUTORADO</td>\n",
              "      <td>1.0</td>\n",
              "      <td>1.0</td>\n",
              "      <td>UNIVERSAL 2016 - FAIXA B</td>\n",
              "      <td>402555/2016-3</td>\n",
              "      <td>0.0</td>\n",
              "    </tr>\n",
              "    <tr>\n",
              "      <th>147</th>\n",
              "      <td>9992082861310691</td>\n",
              "      <td>@ANO-DE-INICIO DOUTORADO</td>\n",
              "      <td>1.0</td>\n",
              "      <td>1.0</td>\n",
              "      <td>UNIVERSAL 2016 - FAIXA B</td>\n",
              "      <td>405723/2016-4</td>\n",
              "      <td>0.0</td>\n",
              "    </tr>\n",
              "  </tbody>\n",
              "</table>\n",
              "<p>148 rows × 7 columns</p>\n",
              "</div>"
            ],
            "text/plain": [
              "                   id                       tipo  qty_2014  qty_2020  \\\n",
              "0      88457363574989  @ANO-DE-INICIO DOUTORADO        2.0       2.0   \n",
              "1     127190896914089  @ANO-DE-INICIO DOUTORADO        1.0       1.0   \n",
              "2     164780267524163  @ANO-DE-INICIO DOUTORADO        1.0       1.0   \n",
              "3     171183220606416  @ANO-DE-INICIO DOUTORADO        1.0       1.0   \n",
              "4     278054122091940  @ANO-DE-INICIO DOUTORADO        1.0       1.0   \n",
              "..                ...                        ...       ...       ...   \n",
              "143  9790871977193250  @ANO-DE-INICIO DOUTORADO        1.0       1.0   \n",
              "144  9856154294275621  @ANO-DE-INICIO DOUTORADO        1.0       1.0   \n",
              "145  9913429373870610  @ANO-DE-INICIO DOUTORADO        1.0       1.0   \n",
              "146  9933650905615452  @ANO-DE-INICIO DOUTORADO        1.0       1.0   \n",
              "147  9992082861310691  @ANO-DE-INICIO DOUTORADO        1.0       1.0   \n",
              "\n",
              "                      chamada       processo    pgtos  \n",
              "0    UNIVERSAL 2016 - FAIXA B  431004/2016-1      0.0  \n",
              "1    UNIVERSAL 2016 - FAIXA B  420834/2016-8      0.0  \n",
              "2    UNIVERSAL 2016 - FAIXA B  407071/2016-4      0.0  \n",
              "3    UNIVERSAL 2016 - FAIXA B  420611/2016-9      0.0  \n",
              "4    UNIVERSAL 2016 - FAIXA B  403477/2016-6      0.0  \n",
              "..                        ...            ...      ...  \n",
              "143  UNIVERSAL 2016 - FAIXA B  403419/2016-6      0.0  \n",
              "144  UNIVERSAL 2016 - FAIXA B  421930/2016-0  43000.0  \n",
              "145  UNIVERSAL 2016 - FAIXA B  404874/2016-9  25700.0  \n",
              "146  UNIVERSAL 2016 - FAIXA B  402555/2016-3      0.0  \n",
              "147  UNIVERSAL 2016 - FAIXA B  405723/2016-4      0.0  \n",
              "\n",
              "[148 rows x 7 columns]"
            ]
          },
          "execution_count": 9,
          "metadata": {},
          "output_type": "execute_result"
        }
      ],
      "source": [
        "pd['pgtos'] = pandas.to_numeric(pd['pgtos'].fillna(0))\n",
        "pd['qty_2014'] = pandas.to_numeric(pd['qty_2014'].fillna(0))\n",
        "pd['qty_2020'] = pandas.to_numeric(pd['qty_2020'].fillna(0))\n",
        "pd"
      ]
    },
    {
      "cell_type": "code",
      "execution_count": 10,
      "id": "2bc3a44f",
      "metadata": {},
      "outputs": [
        {
          "data": {
            "text/plain": [
              "pandas.core.frame.DataFrame"
            ]
          },
          "execution_count": 10,
          "metadata": {},
          "output_type": "execute_result"
        }
      ],
      "source": [
        "type(pd)"
      ]
    },
    {
      "cell_type": "code",
      "execution_count": 11,
      "id": "45ac34e9",
      "metadata": {},
      "outputs": [
        {
          "data": {
            "text/plain": [
              "<AxesSubplot:xlabel='qty_2014'>"
            ]
          },
          "execution_count": 11,
          "metadata": {},
          "output_type": "execute_result"
        },
        {
          "data": {
            "image/png": "[encoded data removed]",
            "text/plain": [
              "<Figure size 432x288 with 1 Axes>"
            ]
          },
          "metadata": {
            "needs_background": "light"
          },
          "output_type": "display_data"
        }
      ],
      "source": [
        "pd.plot(x='qty_2014', y='qty_2020', style='o')\n"
      ]
    },
    {
      "cell_type": "code",
      "execution_count": 12,
      "id": "c93e0aa1",
      "metadata": {},
      "outputs": [],
      "source": [
        "X = pd[['pgtos', 'qty_2014']]"
      ]
    },
    {
      "cell_type": "code",
      "execution_count": 13,
      "id": "df4cd2f1",
      "metadata": {},
      "outputs": [],
      "source": [
        "y = pd[['qty_2020']]"
      ]
    },
    {
      "cell_type": "code",
      "execution_count": 14,
      "id": "3179aa16",
      "metadata": {},
      "outputs": [
        {
          "data": {
            "text/html": [
              "<div>\n",
              "<style scoped>\n",
              "    .dataframe tbody tr th:only-of-type {\n",
              "        vertical-align: middle;\n",
              "    }\n",
              "\n",
              "    .dataframe tbody tr th {\n",
              "        vertical-align: top;\n",
              "    }\n",
              "\n",
              "    .dataframe thead th {\n",
              "        text-align: right;\n",
              "    }\n",
              "</style>\n",
              "<table border=\"1\" class=\"dataframe\">\n",
              "  <thead>\n",
              "    <tr style=\"text-align: right;\">\n",
              "      <th></th>\n",
              "      <th>pgtos</th>\n",
              "      <th>qty_2014</th>\n",
              "    </tr>\n",
              "  </thead>\n",
              "  <tbody>\n",
              "    <tr>\n",
              "      <th>0</th>\n",
              "      <td>0.0</td>\n",
              "      <td>2.0</td>\n",
              "    </tr>\n",
              "    <tr>\n",
              "      <th>1</th>\n",
              "      <td>0.0</td>\n",
              "      <td>1.0</td>\n",
              "    </tr>\n",
              "    <tr>\n",
              "      <th>2</th>\n",
              "      <td>0.0</td>\n",
              "      <td>1.0</td>\n",
              "    </tr>\n",
              "    <tr>\n",
              "      <th>3</th>\n",
              "      <td>0.0</td>\n",
              "      <td>1.0</td>\n",
              "    </tr>\n",
              "    <tr>\n",
              "      <th>4</th>\n",
              "      <td>0.0</td>\n",
              "      <td>1.0</td>\n",
              "    </tr>\n",
              "    <tr>\n",
              "      <th>...</th>\n",
              "      <td>...</td>\n",
              "      <td>...</td>\n",
              "    </tr>\n",
              "    <tr>\n",
              "      <th>143</th>\n",
              "      <td>0.0</td>\n",
              "      <td>1.0</td>\n",
              "    </tr>\n",
              "    <tr>\n",
              "      <th>144</th>\n",
              "      <td>43000.0</td>\n",
              "      <td>1.0</td>\n",
              "    </tr>\n",
              "    <tr>\n",
              "      <th>145</th>\n",
              "      <td>25700.0</td>\n",
              "      <td>1.0</td>\n",
              "    </tr>\n",
              "    <tr>\n",
              "      <th>146</th>\n",
              "      <td>0.0</td>\n",
              "      <td>1.0</td>\n",
              "    </tr>\n",
              "    <tr>\n",
              "      <th>147</th>\n",
              "      <td>0.0</td>\n",
              "      <td>1.0</td>\n",
              "    </tr>\n",
              "  </tbody>\n",
              "</table>\n",
              "<p>148 rows × 2 columns</p>\n",
              "</div>"
            ],
            "text/plain": [
              "       pgtos  qty_2014\n",
              "0        0.0       2.0\n",
              "1        0.0       1.0\n",
              "2        0.0       1.0\n",
              "3        0.0       1.0\n",
              "4        0.0       1.0\n",
              "..       ...       ...\n",
              "143      0.0       1.0\n",
              "144  43000.0       1.0\n",
              "145  25700.0       1.0\n",
              "146      0.0       1.0\n",
              "147      0.0       1.0\n",
              "\n",
              "[148 rows x 2 columns]"
            ]
          },
          "execution_count": 14,
          "metadata": {},
          "output_type": "execute_result"
        }
      ],
      "source": [
        "X\n"
      ]
    },
    {
      "cell_type": "code",
      "execution_count": 31,
      "id": "22737c54",
      "metadata": {},
      "outputs": [
        {
          "data": {
            "image/png": "[encoded data removed]",
            "text/plain": [
              "<Figure size 1008x576 with 1 Axes>"
            ]
          },
          "metadata": {
            "needs_background": "light"
          },
          "output_type": "display_data"
        }
      ],
      "source": [
        "plt.figure(figsize=(14,8))\n",
        "plt.scatter(X['pgtos'],y, alpha=0.6)\n",
        "plt.title('Publications vs Payments')\n",
        "plt.xlabel('Funding')\n",
        "plt.ylabel('Publications')\n",
        "#plt.ylim(0,1100)\n",
        "#plt.xlim(0,1000000)\n",
        "plt.show()"
      ]
    },
    {
      "cell_type": "code",
      "execution_count": 32,
      "id": "d00aa16f",
      "metadata": {},
      "outputs": [],
      "source": [
        "regression = LinearRegression()"
      ]
    },
    {
      "cell_type": "code",
      "execution_count": 33,
      "id": "80c94be5",
      "metadata": {},
      "outputs": [
        {
          "data": {
            "text/plain": [
              "LinearRegression()"
            ]
          },
          "execution_count": 33,
          "metadata": {},
          "output_type": "execute_result"
        }
      ],
      "source": [
        "regression.fit(X,y)"
      ]
    },
    {
      "cell_type": "code",
      "execution_count": 34,
      "id": "19b52bcf",
      "metadata": {},
      "outputs": [
        {
          "data": {
            "text/plain": [
              "array([[-1.36799692e-22,  1.00000000e+00]])"
            ]
          },
          "execution_count": 34,
          "metadata": {},
          "output_type": "execute_result"
        }
      ],
      "source": [
        "regression.coef_"
      ]
    },
    {
      "cell_type": "code",
      "execution_count": 35,
      "id": "3c1a310d",
      "metadata": {},
      "outputs": [
        {
          "data": {
            "text/plain": [
              "array([-2.22044605e-16])"
            ]
          },
          "execution_count": 35,
          "metadata": {},
          "output_type": "execute_result"
        }
      ],
      "source": [
        "regression.intercept_"
      ]
    },
    {
      "cell_type": "code",
      "execution_count": 36,
      "id": "a94f5e00",
      "metadata": {},
      "outputs": [
        {
          "data": {
            "image/png": "[encoded data removed]",
            "text/plain": [
              "<Figure size 1008x576 with 1 Axes>"
            ]
          },
          "metadata": {
            "needs_background": "light"
          },
          "output_type": "display_data"
        }
      ],
      "source": [
        "plt.figure(figsize=(14,8))\n",
        "plt.scatter(X['qty_2014'],y, alpha=0.6)\n",
        "plt.plot(X['qty_2014'], regression.predict(X), color=\"red\", linewidth=2)\n",
        "plt.title('Publications vs Payments')\n",
        "plt.xlabel('Funding')\n",
        "plt.ylabel('Publications')\n",
        "#plt.ylim(0,1100)\n",
        "#plt.xlim(0,1000000)\n",
        "plt.show()"
      ]
    },
    {
      "cell_type": "code",
      "execution_count": 37,
      "id": "13888c2f",
      "metadata": {},
      "outputs": [],
      "source": [
        "score = regression.score(X,y)"
      ]
    },
    {
      "cell_type": "code",
      "execution_count": 38,
      "id": "947b5282",
      "metadata": {},
      "outputs": [
        {
          "data": {
            "text/plain": [
              "1.0"
            ]
          },
          "execution_count": 38,
          "metadata": {},
          "output_type": "execute_result"
        }
      ],
      "source": [
        "score"
      ]
    },
    {
      "cell_type": "code",
      "execution_count": 15,
      "id": "1ad0c9e8",
      "metadata": {},
      "outputs": [
        {
          "name": "stdout",
          "output_type": "stream",
          "text": [
            "                            OLS Regression Results                            \n",
            "==============================================================================\n",
            "Dep. Variable:               qty_2020   R-squared:                       1.000\n",
            "Model:                            OLS   Adj. R-squared:                  1.000\n",
            "Method:                 Least Squares   F-statistic:                 1.836e+31\n",
            "Date:                Fri, 04 Mar 2022   Prob (F-statistic):               0.00\n",
            "Time:                        19:03:57   Log-Likelihood:                 5119.6\n",
            "No. Observations:                 148   AIC:                        -1.023e+04\n",
            "Df Residuals:                     145   BIC:                        -1.022e+04\n",
            "Df Model:                           2                                         \n",
            "Covariance Type:            nonrobust                                         \n",
            "==============================================================================\n",
            "                 coef    std err          t      P>|t|      [0.025      0.975]\n",
            "------------------------------------------------------------------------------\n",
            "const       4.996e-16   1.69e-16      2.962      0.004    1.66e-16    8.33e-16\n",
            "pgtos       5.294e-21   1.15e-21      4.605      0.000    3.02e-21    7.57e-21\n",
            "qty_2014       1.0000   1.66e-16   6.02e+15      0.000       1.000       1.000\n",
            "==============================================================================\n",
            "Omnibus:                       39.493   Durbin-Watson:                   0.551\n",
            "Prob(Omnibus):                  0.000   Jarque-Bera (JB):              503.223\n",
            "Skew:                          -0.367   Prob(JB):                    5.33e-110\n",
            "Kurtosis:                      12.004   Cond. No.                     2.23e+05\n",
            "==============================================================================\n",
            "\n",
            "Notes:\n",
            "[1] Standard Errors assume that the covariance matrix of the errors is correctly specified.\n",
            "[2] The condition number is large, 2.23e+05. This might indicate that there are\n",
            "strong multicollinearity or other numerical problems.\n"
          ]
        },
        {
          "name": "stderr",
          "output_type": "stream",
          "text": [
            "C:\\Python\\anaconda3\\lib\\site-packages\\statsmodels\\tsa\\tsatools.py:142: FutureWarning: In a future version of pandas all arguments of concat except for the argument 'objs' will be keyword-only\n",
            "  x = pd.concat(x[::order], 1)\n"
          ]
        }
      ],
      "source": [
        "X2 = sm.add_constant(X)\n",
        "est = sm.OLS(y, X2)\n",
        "est2 = est.fit()\n",
        "print(est2.summary())"
      ]
    },
    {
      "cell_type": "code",
      "execution_count": 40,
      "id": "257d5767",
      "metadata": {},
      "outputs": [
        {
          "data": {
            "text/plain": [
              "True"
            ]
          },
          "execution_count": 40,
          "metadata": {},
          "output_type": "execute_result"
        }
      ],
      "source": [
        " est2.pvalues['pgtos']<0.1"
      ]
    },
    {
      "cell_type": "code",
      "execution_count": 41,
      "id": "fd6217e4",
      "metadata": {},
      "outputs": [
        {
          "data": {
            "text/plain": [
              "47080.833333333336"
            ]
          },
          "execution_count": 41,
          "metadata": {},
          "output_type": "execute_result"
        }
      ],
      "source": [
        "pd[pd['pgtos']!=0].pgtos.mean()"
      ]
    },
    {
      "cell_type": "code",
      "execution_count": 42,
      "id": "1441070e",
      "metadata": {},
      "outputs": [
        {
          "data": {
            "text/plain": [
              "1.0"
            ]
          },
          "execution_count": 42,
          "metadata": {},
          "output_type": "execute_result"
        }
      ],
      "source": [
        "est2.rsquared"
      ]
    },
    {
      "cell_type": "code",
      "execution_count": 43,
      "id": "79de9ad4",
      "metadata": {},
      "outputs": [
        {
          "data": {
            "text/plain": [
              "['HC0_se',\n",
              " 'HC1_se',\n",
              " 'HC2_se',\n",
              " 'HC3_se',\n",
              " '_HCCM',\n",
              " '__class__',\n",
              " '__delattr__',\n",
              " '__dict__',\n",
              " '__dir__',\n",
              " '__doc__',\n",
              " '__eq__',\n",
              " '__format__',\n",
              " '__ge__',\n",
              " '__getattribute__',\n",
              " '__gt__',\n",
              " '__hash__',\n",
              " '__init__',\n",
              " '__init_subclass__',\n",
              " '__le__',\n",
              " '__lt__',\n",
              " '__module__',\n",
              " '__ne__',\n",
              " '__new__',\n",
              " '__reduce__',\n",
              " '__reduce_ex__',\n",
              " '__repr__',\n",
              " '__setattr__',\n",
              " '__sizeof__',\n",
              " '__str__',\n",
              " '__subclasshook__',\n",
              " '__weakref__',\n",
              " '_abat_diagonal',\n",
              " '_cache',\n",
              " '_data_attr',\n",
              " '_data_in_cache',\n",
              " '_get_robustcov_results',\n",
              " '_is_nested',\n",
              " '_use_t',\n",
              " '_wexog_singular_values',\n",
              " 'aic',\n",
              " 'bic',\n",
              " 'bse',\n",
              " 'centered_tss',\n",
              " 'compare_f_test',\n",
              " 'compare_lm_test',\n",
              " 'compare_lr_test',\n",
              " 'condition_number',\n",
              " 'conf_int',\n",
              " 'conf_int_el',\n",
              " 'cov_HC0',\n",
              " 'cov_HC1',\n",
              " 'cov_HC2',\n",
              " 'cov_HC3',\n",
              " 'cov_kwds',\n",
              " 'cov_params',\n",
              " 'cov_type',\n",
              " 'df_model',\n",
              " 'df_resid',\n",
              " 'diagn',\n",
              " 'eigenvals',\n",
              " 'el_test',\n",
              " 'ess',\n",
              " 'f_pvalue',\n",
              " 'f_test',\n",
              " 'fittedvalues',\n",
              " 'fvalue',\n",
              " 'get_influence',\n",
              " 'get_prediction',\n",
              " 'get_robustcov_results',\n",
              " 'initialize',\n",
              " 'k_constant',\n",
              " 'llf',\n",
              " 'load',\n",
              " 'model',\n",
              " 'mse_model',\n",
              " 'mse_resid',\n",
              " 'mse_total',\n",
              " 'nobs',\n",
              " 'normalized_cov_params',\n",
              " 'outlier_test',\n",
              " 'params',\n",
              " 'predict',\n",
              " 'pvalues',\n",
              " 'remove_data',\n",
              " 'resid',\n",
              " 'resid_pearson',\n",
              " 'rsquared',\n",
              " 'rsquared_adj',\n",
              " 'save',\n",
              " 'scale',\n",
              " 'ssr',\n",
              " 'summary',\n",
              " 'summary2',\n",
              " 't_test',\n",
              " 't_test_pairwise',\n",
              " 'tvalues',\n",
              " 'uncentered_tss',\n",
              " 'use_t',\n",
              " 'wald_test',\n",
              " 'wald_test_terms',\n",
              " 'wresid']"
            ]
          },
          "execution_count": 43,
          "metadata": {},
          "output_type": "execute_result"
        }
      ],
      "source": [
        "dir(est2)"
      ]
    },
    {
      "cell_type": "code",
      "execution_count": 51,
      "id": "65ac0fde",
      "metadata": {},
      "outputs": [
        {
          "data": {
            "text/plain": [
              "const       4.996004e-16\n",
              "pgtos       5.293956e-21\n",
              "qty_2014    1.000000e+00\n",
              "dtype: float64"
            ]
          },
          "execution_count": 51,
          "metadata": {},
          "output_type": "execute_result"
        }
      ],
      "source": [
        "est2.params"
      ]
    },
    {
      "cell_type": "code",
      "execution_count": 52,
      "id": "b9504353",
      "metadata": {},
      "outputs": [
        {
          "data": {
            "text/plain": [
              "const       0.003576\n",
              "pgtos       0.000009\n",
              "qty_2014    0.000000\n",
              "dtype: float64"
            ]
          },
          "execution_count": 52,
          "metadata": {},
          "output_type": "execute_result"
        }
      ],
      "source": [
        "est2.pvalues"
      ]
    },
    {
      "cell_type": "code",
      "execution_count": 54,
      "id": "64518b5e",
      "metadata": {},
      "outputs": [
        {
          "data": {
            "text/plain": [
              "1.0"
            ]
          },
          "execution_count": 54,
          "metadata": {},
          "output_type": "execute_result"
        }
      ],
      "source": [
        "est2.rsquared"
      ]
    },
    {
      "cell_type": "code",
      "execution_count": 63,
      "id": "f5edbaae",
      "metadata": {},
      "outputs": [
        {
          "name": "stdout",
          "output_type": "stream",
          "text": [
            "                            OLS Regression Results                            \n",
            "==============================================================================\n",
            "Dep. Variable:               qty_2020   R-squared:                       1.000\n",
            "Model:                            OLS   Adj. R-squared:                  1.000\n",
            "Method:                 Least Squares   F-statistic:                 1.836e+31\n",
            "Date:                Fri, 04 Mar 2022   Prob (F-statistic):               0.00\n",
            "Time:                        10:15:37   Log-Likelihood:                 5119.6\n",
            "No. Observations:                 148   AIC:                        -1.023e+04\n",
            "Df Residuals:                     145   BIC:                        -1.022e+04\n",
            "Df Model:                           2                                         \n",
            "Covariance Type:            nonrobust                                         \n",
            "==============================================================================\n",
            "                 coef    std err          t      P>|t|      [0.025      0.975]\n",
            "------------------------------------------------------------------------------\n",
            "const       4.996e-16   1.69e-16      2.962      0.004    1.66e-16    8.33e-16\n",
            "pgtos       5.294e-21   1.15e-21      4.605      0.000    3.02e-21    7.57e-21\n",
            "qty_2014       1.0000   1.66e-16   6.02e+15      0.000       1.000       1.000\n",
            "==============================================================================\n",
            "Omnibus:                       39.493   Durbin-Watson:                   0.551\n",
            "Prob(Omnibus):                  0.000   Jarque-Bera (JB):              503.223\n",
            "Skew:                          -0.367   Prob(JB):                    5.33e-110\n",
            "Kurtosis:                      12.004   Cond. No.                     2.23e+05\n",
            "==============================================================================\n",
            "\n",
            "Notes:\n",
            "[1] Standard Errors assume that the covariance matrix of the errors is correctly specified.\n",
            "[2] The condition number is large, 2.23e+05. This might indicate that there are\n",
            "strong multicollinearity or other numerical problems.\n"
          ]
        }
      ],
      "source": [
        "print(est2.summary())"
      ]
    },
    {
      "cell_type": "code",
      "execution_count": 62,
      "id": "992d2518",
      "metadata": {},
      "outputs": [
        {
          "data": {
            "text/html": [
              "<table class=\"simpletable\">\n",
              "<tr>\n",
              "        <td>Model:</td>               <td>OLS</td>         <td>Adj. R-squared:</td>      <td>1.000</td>   \n",
              "</tr>\n",
              "<tr>\n",
              "  <td>Dependent Variable:</td>     <td>qty_2020</td>            <td>AIC:</td>         <td>-10233.2389</td>\n",
              "</tr>\n",
              "<tr>\n",
              "         <td>Date:</td>        <td>2022-03-04 10:14</td>        <td>BIC:</td>         <td>-10224.2473</td>\n",
              "</tr>\n",
              "<tr>\n",
              "   <td>No. Observations:</td>         <td>148</td>         <td>Log-Likelihood:</td>     <td>5119.6</td>   \n",
              "</tr>\n",
              "<tr>\n",
              "       <td>Df Model:</td>              <td>2</td>           <td>F-statistic:</td>      <td>1.836e+31</td> \n",
              "</tr>\n",
              "<tr>\n",
              "     <td>Df Residuals:</td>           <td>145</td>       <td>Prob (F-statistic):</td>    <td>0.00</td>    \n",
              "</tr>\n",
              "<tr>\n",
              "      <td>R-squared:</td>            <td>1.000</td>            <td>Scale:</td>        <td>5.3724e-32</td> \n",
              "</tr>\n",
              "</table>\n",
              "<table class=\"simpletable\">\n",
              "<tr>\n",
              "      <td></td>      <th>Coef.</th> <th>Std.Err.</th>           <th>t</th>            <th>P>|t|</th> <th>[0.025</th> <th>0.975]</th>\n",
              "</tr>\n",
              "<tr>\n",
              "  <th>const</th>    <td>0.0000</td>  <td>0.0000</td>         <td>2.9617</td>         <td>0.0036</td> <td>0.0000</td> <td>0.0000</td>\n",
              "</tr>\n",
              "<tr>\n",
              "  <th>pgtos</th>    <td>0.0000</td>  <td>0.0000</td>         <td>4.6054</td>         <td>0.0000</td> <td>0.0000</td> <td>0.0000</td>\n",
              "</tr>\n",
              "<tr>\n",
              "  <th>qty_2014</th> <td>1.0000</td>  <td>0.0000</td>  <td>6022582358160538.0000</td> <td>0.0000</td> <td>1.0000</td> <td>1.0000</td>\n",
              "</tr>\n",
              "</table>\n",
              "<table class=\"simpletable\">\n",
              "<tr>\n",
              "     <td>Omnibus:</td>    <td>39.493</td>  <td>Durbin-Watson:</td>    <td>0.551</td> \n",
              "</tr>\n",
              "<tr>\n",
              "  <td>Prob(Omnibus):</td>  <td>0.000</td> <td>Jarque-Bera (JB):</td> <td>503.223</td>\n",
              "</tr>\n",
              "<tr>\n",
              "       <td>Skew:</td>     <td>-0.367</td>     <td>Prob(JB):</td>      <td>0.000</td> \n",
              "</tr>\n",
              "<tr>\n",
              "     <td>Kurtosis:</td>   <td>12.004</td>  <td>Condition No.:</td>   <td>222780</td> \n",
              "</tr>\n",
              "</table>"
            ],
            "text/plain": [
              "<class 'statsmodels.iolib.summary2.Summary'>\n",
              "\"\"\"\n",
              "                  Results: Ordinary least squares\n",
              "====================================================================\n",
              "Model:              OLS              Adj. R-squared:     1.000      \n",
              "Dependent Variable: qty_2020         AIC:                -10233.2389\n",
              "Date:               2022-03-04 10:14 BIC:                -10224.2473\n",
              "No. Observations:   148              Log-Likelihood:     5119.6     \n",
              "Df Model:           2                F-statistic:        1.836e+31  \n",
              "Df Residuals:       145              Prob (F-statistic): 0.00       \n",
              "R-squared:          1.000            Scale:              5.3724e-32 \n",
              "--------------------------------------------------------------------\n",
              "          Coef.  Std.Err.           t           P>|t|  [0.025 0.975]\n",
              "--------------------------------------------------------------------\n",
              "const     0.0000   0.0000                2.9617 0.0036 0.0000 0.0000\n",
              "pgtos     0.0000   0.0000                4.6054 0.0000 0.0000 0.0000\n",
              "qty_2014  1.0000   0.0000 6022582358160538.0000 0.0000 1.0000 1.0000\n",
              "--------------------------------------------------------------------\n",
              "Omnibus:              39.493        Durbin-Watson:           0.551  \n",
              "Prob(Omnibus):        0.000         Jarque-Bera (JB):        503.223\n",
              "Skew:                 -0.367        Prob(JB):                0.000  \n",
              "Kurtosis:             12.004        Condition No.:           222780 \n",
              "====================================================================\n",
              "* The condition number is large (2e+05). This might indicate\n",
              "strong multicollinearity or other numerical problems.\n",
              "\"\"\""
            ]
          },
          "execution_count": 62,
          "metadata": {},
          "output_type": "execute_result"
        }
      ],
      "source": [
        "est2.summary2()"
      ]
    },
    {
      "cell_type": "code",
      "execution_count": 64,
      "id": "e79a7269",
      "metadata": {},
      "outputs": [
        {
          "data": {
            "text/plain": [
              "['__call__',\n",
              " '__class__',\n",
              " '__delattr__',\n",
              " '__dir__',\n",
              " '__doc__',\n",
              " '__eq__',\n",
              " '__format__',\n",
              " '__func__',\n",
              " '__ge__',\n",
              " '__get__',\n",
              " '__getattribute__',\n",
              " '__gt__',\n",
              " '__hash__',\n",
              " '__init__',\n",
              " '__init_subclass__',\n",
              " '__le__',\n",
              " '__lt__',\n",
              " '__ne__',\n",
              " '__new__',\n",
              " '__reduce__',\n",
              " '__reduce_ex__',\n",
              " '__repr__',\n",
              " '__self__',\n",
              " '__setattr__',\n",
              " '__sizeof__',\n",
              " '__str__',\n",
              " '__subclasshook__']"
            ]
          },
          "execution_count": 64,
          "metadata": {},
          "output_type": "execute_result"
        }
      ],
      "source": [
        "dir(est2.save)"
      ]
    },
    {
      "cell_type": "code",
      "execution_count": 65,
      "id": "1c1f9972",
      "metadata": {},
      "outputs": [
        {
          "data": {
            "text/plain": [
              "statsmodels.regression.linear_model.RegressionResultsWrapper"
            ]
          },
          "execution_count": 65,
          "metadata": {},
          "output_type": "execute_result"
        }
      ],
      "source": [
        "type(est2)"
      ]
    },
    {
      "cell_type": "code",
      "execution_count": 114,
      "id": "57f199ce",
      "metadata": {},
      "outputs": [],
      "source": [
        "chamada = 'UNIVERSAL 2016 - FAIXA B'\n",
        "programa = 'PROGRAMA BASICO DE ENGENHARIA QUIMICA'\n",
        "CA = None\n",
        "área = None\n",
        "indicador = '@ANO-DE-INICIO CURSO-TECNICO-PROFISSIONALIZANTE '\n",
        "data = '2020-01-01'\n",
        "path='d:/Lattes/Linnear Regression Models/'"
      ]
    },
    {
      "cell_type": "code",
      "execution_count": 118,
      "id": "7835f821",
      "metadata": {},
      "outputs": [],
      "source": [
        "import os"
      ]
    },
    {
      "cell_type": "code",
      "execution_count": 119,
      "id": "61378555",
      "metadata": {},
      "outputs": [],
      "source": [
        "    parâmetros = {}\n",
        "    parâmetros['chamada'] = chamada\n",
        "    parâmetros['programa'] = programa\n",
        "    parâmetros['CA'] = CA\n",
        "    parâmetros['área'] = área\n",
        "    parâmetros['indicador'] = indicador\n",
        "    parâmetros['data'] = data"
      ]
    },
    {
      "cell_type": "code",
      "execution_count": 121,
      "id": "a2a8448b",
      "metadata": {},
      "outputs": [
        {
          "data": {
            "text/plain": [
              "True"
            ]
          },
          "execution_count": 121,
          "metadata": {},
          "output_type": "execute_result"
        }
      ],
      "source": [
        "    filename = path + urlencode(parâmetros, doseq=True)\n",
        "    os.path.isfile(filename)"
      ]
    },
    {
      "cell_type": "code",
      "execution_count": 110,
      "id": "b9ba2ca4",
      "metadata": {},
      "outputs": [
        {
          "data": {
            "text/plain": [
              "0"
            ]
          },
          "execution_count": 110,
          "metadata": {},
          "output_type": "execute_result"
        }
      ],
      "source": [
        "lista_indicadores[0][0]"
      ]
    },
    {
      "cell_type": "code",
      "execution_count": 128,
      "id": "13182e53",
      "metadata": {},
      "outputs": [],
      "source": [
        "SQL = f'''\n",
        "        SELECT count(*) \n",
        "        FROM resultados_regressao_linear\n",
        "        WHERE\n",
        "'''\n",
        "if not chamada == None: SQL += f'''\\n            chamada = '{chamada}' and'''\n",
        "if not programa == None: SQL += f'''            programa = '{programa}' and'''\n",
        "if not ca == None: SQL += f'''            ca = '{ca}' and'''\n",
        "if not area == None: SQL += f'''            area = '{area}' and'''\n",
        "if not indicador == None: SQL += f'''            indicador = '{indicador}' and'''\n",
        "if not data == None: SQL += f'''            data = '{data}' and'''\n",
        "SQL += '\\n            1 = 1'\n",
        "    \n",
        "conn = None\n",
        "try:\n",
        "    params = Database.config_db_connection()\n",
        "    conn = psycopg2.connect(**params)\n",
        "    cur = conn.cursor()\n",
        "    cur.execute(SQL)\n",
        "    lista_indicadores = cur.fetchall()\n",
        "    conn.commit()\n",
        "    cur.close()\n",
        "except (Exception, psycopg2.DatabaseError) as error:\n",
        "    print (error)\n",
        "finally:\n",
        "    if conn is not None:\n",
        "        conn.close()"
      ]
    },
    {
      "cell_type": "code",
      "execution_count": 124,
      "id": "b2097639",
      "metadata": {},
      "outputs": [
        {
          "name": "stdout",
          "output_type": "stream",
          "text": [
            "\n",
            "        SELECT count(*) \n",
            "        FROM resultados_regressao_linear\n",
            "        WHERE\n",
            "            chamada = 'UNIVERSAL 2016 - FAIXA B' and\n",
            "            programa = 'PROGRAMA BASICO DE ENGENHARIA QUIMICA' and\n",
            "            ca = 'None' and\n",
            "            area = 'None' and\n",
            "            indicador = '@ANO-DE-INICIO CURSO-TECNICO-PROFISSIONALIZANTE ' and\n",
            "            data = '2020-01-01'\n",
            "        \n"
          ]
        }
      ],
      "source": [
        "print(SQL)"
      ]
    },
    {
      "cell_type": "code",
      "execution_count": 1,
      "id": "506b1434",
      "metadata": {},
      "outputs": [
        {
          "ename": "NameError",
          "evalue": "name 'lista_indicadores' is not defined",
          "output_type": "error",
          "traceback": [
            "\u001b[1;31m---------------------------------------------------------------------------\u001b[0m",
            "\u001b[1;31mNameError\u001b[0m                                 Traceback (most recent call last)",
            "\u001b[1;32m~\\AppData\\Local\\Temp/ipykernel_1812/1212179847.py\u001b[0m in \u001b[0;36m<module>\u001b[1;34m\u001b[0m\n\u001b[1;32m----> 1\u001b[1;33m \u001b[0mlista_indicadores\u001b[0m\u001b[1;33m[\u001b[0m\u001b[1;36m0\u001b[0m\u001b[1;33m]\u001b[0m\u001b[1;33m[\u001b[0m\u001b[1;36m0\u001b[0m\u001b[1;33m]\u001b[0m\u001b[1;33m\u001b[0m\u001b[1;33m\u001b[0m\u001b[0m\n\u001b[0m",
            "\u001b[1;31mNameError\u001b[0m: name 'lista_indicadores' is not defined"
          ]
        }
      ],
      "source": [
        "lista_indicadores[0][0]"
      ]
    },
    {
      "cell_type": "code",
      "execution_count": 16,
      "id": "ec4145ac",
      "metadata": {},
      "outputs": [
        {
          "data": {
            "text/plain": [
              "<statsmodels.regression.linear_model.RegressionResultsWrapper at 0x18a789174c0>"
            ]
          },
          "execution_count": 16,
          "metadata": {},
          "output_type": "execute_result"
        }
      ],
      "source": [
        "est2"
      ]
    },
    {
      "cell_type": "code",
      "execution_count": 17,
      "id": "bf2e4b34",
      "metadata": {},
      "outputs": [
        {
          "data": {
            "text/plain": [
              "0.0035759714123511244"
            ]
          },
          "execution_count": 17,
          "metadata": {},
          "output_type": "execute_result"
        }
      ],
      "source": [
        "est2.pvalues['const']"
      ]
    },
    {
      "cell_type": "code",
      "execution_count": 18,
      "id": "2fd87f26",
      "metadata": {},
      "outputs": [
        {
          "data": {
            "text/plain": [
              "0.0035759714123511244"
            ]
          },
          "execution_count": 18,
          "metadata": {},
          "output_type": "execute_result"
        }
      ],
      "source": [
        "est2.pvalues.get('const')"
      ]
    },
    {
      "cell_type": "code",
      "execution_count": null,
      "id": "ae9452e6",
      "metadata": {},
      "outputs": [],
      "source": []
    }
  ],
  "metadata": {
    "kernelspec": {
      "display_name": "Python 3 (ipykernel)",
      "language": "python",
      "name": "python3"
    },
    "language_info": {
      "codemirror_mode": {
        "name": "ipython",
        "version": 3
      },
      "file_extension": ".py",
      "mimetype": "text/x-python",
      "name": "python",
      "nbconvert_exporter": "python",
      "pygments_lexer": "ipython3",
      "version": "3.9.7"
    }
  },
  "nbformat": 4,
  "nbformat_minor": 5
}
