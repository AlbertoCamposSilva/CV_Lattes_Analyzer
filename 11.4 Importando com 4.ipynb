{
 "cells": [
  {
   "cell_type": "code",
   "execution_count": null,
   "id": "d0bb8d86",
   "metadata": {},
   "outputs": [
    {
     "name": "stdout",
     "output_type": "stream",
     "text": [
      "\n",
      "Carregando lista de indicadores para importar da tabela all_lattes do BD\n",
      "\n",
      "Carregando lista de Ids da tabela publicacoes para pular\n",
      "\n",
      "Retirando ids a exluir...\n",
      "Salvando o arquivo com a lista no disco.\n",
      "Iniciando Importação.\n",
      "516 / 5654187. Importing id 4129322495596007.\r"
     ]
    }
   ],
   "source": [
    "from Carga import Carga\n",
    "cg = Carga()\n",
    "\n",
    "\n",
    "#Origens\n",
    "cg.de_hd = False\n",
    "cg.de_all_lattes = True\n",
    "cg.de_bd_demanda_bruta = False\n",
    "cg.de_dados_pessoais = False\n",
    "\n",
    "#Exceções\n",
    "cg.pular_indicadores = False\n",
    "cg.pular_palavras_chave = False\n",
    "cg.pular_areas_conhecimento = False\n",
    "cg.pular_publicações = True\n",
    "cg.pular_dados_gerais=False\n",
    "cg.pular_vinculos = False\n",
    "cg.pular_erros = False\n",
    "cg.pular_jsons = False\n",
    "\n",
    "#Importações\n",
    "cg.on_conflic_update = True\n",
    "cg.importar_indicadores = True\n",
    "cg.importar_palavras_chave = True\n",
    "cg.importar_areas_conhecimento = True\n",
    "cg.importar_publicações = True\n",
    "cg.importar_dados_gerais=True\n",
    "cg.importar_vinculos = True\n",
    "\n",
    "\n",
    "#Outras Configurações\n",
    "cg.on_conflic_update = True\n",
    "cg.auto_save_json_to_bd = True\n",
    "cg.pegar_lista_de_importação_de_arquivo = False\n",
    "cg.data_mínima_atualização_lattes = None\n",
    "\n",
    "cg.atualiza_todos_os_indicadores(começando_com = '4')"
   ]
  },
  {
   "cell_type": "code",
   "execution_count": null,
   "id": "b486f638",
   "metadata": {},
   "outputs": [],
   "source": []
  }
 ],
 "metadata": {
  "kernelspec": {
   "display_name": "Python 3 (ipykernel)",
   "language": "python",
   "name": "python3"
  },
  "language_info": {
   "codemirror_mode": {
    "name": "ipython",
    "version": 3
   },
   "file_extension": ".py",
   "mimetype": "text/x-python",
   "name": "python",
   "nbconvert_exporter": "python",
   "pygments_lexer": "ipython3",
   "version": "3.9.7"
  }
 },
 "nbformat": 4,
 "nbformat_minor": 5
}
