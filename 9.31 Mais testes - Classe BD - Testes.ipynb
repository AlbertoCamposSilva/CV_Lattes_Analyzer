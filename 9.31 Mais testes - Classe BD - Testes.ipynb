{
  "cells": [
    {
      "cell_type": "code",
      "execution_count": 1,
      "id": "5694af09",
      "metadata": {},
      "outputs": [
        {
          "name": "stdout",
          "output_type": "stream",
          "text": [
            "Importando Módulos\n",
            "Módulos Importados\n"
          ]
        }
      ],
      "source": [
        "from Regressao import Regressao\n",
        "from Database import Database\n",
        "import pandas as pd"
      ]
    },
    {
      "cell_type": "code",
      "execution_count": 2,
      "id": "c2f2a23e",
      "metadata": {},
      "outputs": [],
      "source": [
        "reg = Regressao()"
      ]
    },
    {
      "cell_type": "code",
      "execution_count": 4,
      "id": "9a67749c",
      "metadata": {},
      "outputs": [
        {
          "data": {
            "text/plain": [
              "['@ANO ORIENTACOES-CONCLUIDAS-PARA-MESTRADO ',\n",
              " '@ANO-INICIO PROJETO-DE-PESQUISA ',\n",
              " '@ANO-SOLICITACAO CULTIVAR-REGISTRADA ',\n",
              " '@ANO-DE-INICIO FORMACAO-COMPLEMENTAR-CURSO-DE-CURTA-DURACAO ',\n",
              " '@ANO MAQUETE ',\n",
              " '@ANO TRADUCAO ',\n",
              " '@ANO-DE-INICIO ENSINO-MEDIO-SEGUNDO-GRAU ',\n",
              " '@ANO PARTICIPACAO-EM-SEMINARIO ',\n",
              " '@ANO-DE-CONCLUSAO GRADUACAO ',\n",
              " '@ANO PARTICIPACAO-EM-SIMPOSIO ',\n",
              " '@ANO-DE-CONCLUSAO FORMACAO-COMPLEMENTAR-CURSO-DE-CURTA-DURACAO ',\n",
              " '@ANO-INICIO DIRECAO-E-ADMINISTRACAO ',\n",
              " '@ANO-DE-INICIO DOUTORADO ',\n",
              " '@ANO PARTITURA-MUSICAL ',\n",
              " '@ANO-FIM VINCULOS ',\n",
              " '@ANO LIVRO-PUBLICADO-OU-ORGANIZADO ',\n",
              " '@ANO COMPOSICAO-MUSICAL ',\n",
              " '@ANO OUTRAS-ORIENTACOES-CONCLUIDAS ',\n",
              " '@ANO PARTICIPACAO-EM-EXPOSICAO ',\n",
              " '@ANO-FIM ENSINO ',\n",
              " '@ANO-DE-OBTENCAO-DO-TITULO DOUTORADO ',\n",
              " '@ANO BANCA-JULGADORA-PARA-CONCURSO-PUBLICO ',\n",
              " '@ANO PARTICIPACAO-EM-BANCA-DE-MESTRADO ',\n",
              " '@ANO-DE-INICIO MBA ',\n",
              " '@ANO OUTRAS-PARTICIPACOES-EM-BANCA ',\n",
              " '@ANO EDITORACAO ',\n",
              " '@ANO PARTICIPACAO-EM-BANCA-DE-APERFEICOAMENTO-ESPECIALIZACAO ',\n",
              " '@ANO-DE-CONCLUSAO FORMACAO-COMPLEMENTAR-DE-EXTENSAO-UNIVERSITARIA ',\n",
              " '@ANO-DE-CONCLUSAO MESTRADO ',\n",
              " '@ANO-INICIO CONSELHO-COMISSAO-E-CONSULTORIA ',\n",
              " '@ANO-DE-INICIO FORMACAO-COMPLEMENTAR-DE-EXTENSAO-UNIVERSITARIA ',\n",
              " '@ANO-DE-CONCLUSAO ESPECIALIZACAO ',\n",
              " '@ANO RELATORIO-DE-PESQUISA ',\n",
              " '@ANO ORIENTACOES-CONCLUIDAS-PARA-DOUTORADO ',\n",
              " '@ANO-SOLICITACAO CULTIVAR-PROTEGIDA ',\n",
              " '@ANO-DE-INICIO POS-DOUTORADO ',\n",
              " '@ANO ORIENTACAO-EM-ANDAMENTO-DE-DOUTORADO ',\n",
              " '@ANO-DESENVOLVIMENTO PATENTE ',\n",
              " '@ANO-DA-OBRA-DE-REFERENCIA DETALHAMENTO-DE-ARTES-CENICAS ',\n",
              " '@ANO ORGANIZACAO-DE-EVENTO ',\n",
              " '@ANO PROCESSOS-OU-TECNICAS ',\n",
              " '@ANO-FIM OUTRA-ATIVIDADE-TECNICO-CIENTIFICA ',\n",
              " '@ANO MANUTENCAO-DE-OBRA-ARTISTICA ',\n",
              " '@ANO-DE-INICIO MESTRADO ',\n",
              " '@ANO-DE-INICIO MESTRADO-PROFISSIONALIZANTE ',\n",
              " '@ANO-DA-OBRA-DE-REFERENCIA DETALHAMENTO-DA-APRESENTACAO-DE-OBRA-ARTISTICA ',\n",
              " '@ANO DESENVOLVIMENTO-DE-MATERIAL-DIDATICO-OU-INSTRUCIONAL ',\n",
              " '@ANO-INICIO PARTICIPACAO-EM-PROJETO ',\n",
              " '@ANO-DE-INICIO CURSO-TECNICO-PROFISSIONALIZANTE ',\n",
              " '@ANO ORIENTACAO-EM-ANDAMENTO-DE-POS-DOUTORADO ',\n",
              " '@ANO-DE-OBTENCAO-DO-TITULO MBA ',\n",
              " '@ANO BANCA-JULGADORA-PARA-LIVRE-DOCENCIA ',\n",
              " '@ANO-DE-CONCLUSAO MBA ',\n",
              " '@ANO DEMAIS-TRABALHOS ',\n",
              " '@ANO-DE-OBTENCAO-DO-TITULO POS-DOUTORADO ',\n",
              " '@ANO-DE-CONCLUSAO ENSINO-FUNDAMENTAL-PRIMEIRO-GRAU ',\n",
              " '@ANO ORIENTACAO-EM-ANDAMENTO-DE-APERFEICOAMENTO-ESPECIALIZACAO ',\n",
              " '@ANO-FIM SERVICO-TECNICO-ESPECIALIZADO ',\n",
              " '@ANO ORIENTACAO-EM-ANDAMENTO-DE-GRADUACAO ',\n",
              " '@ANO CAPITULO-DE-LIVRO-PUBLICADO ',\n",
              " '@ANO-DO-ARTIGO ARTIGO-PUBLICADO ',\n",
              " '@ANO PARTICIPACAO-EM-FEIRA ',\n",
              " '@ANO OUTRA-PRODUCAO-TECNICA ',\n",
              " '@ANO ORIENTACOES-CONCLUIDAS-PARA-POS-DOUTORADO ',\n",
              " '@ANO SOFTWARE ',\n",
              " '@ANO MUSICA ',\n",
              " '@ANO-FIM PARTICIPACAO-EM-PROJETO ',\n",
              " '@ANO-DE-INICIO OUTROS ',\n",
              " '@ANO BANCA-JULGADORA-PARA-AVALIACAO-CURSOS ',\n",
              " '@ANO PROGRAMA-DE-RADIO-OU-TV ',\n",
              " '@ANO ARTES-CENICAS ',\n",
              " '@ANO-DE-INICIO GRADUACAO ',\n",
              " '@ANO-INICIO PESQUISA-E-DESENVOLVIMENTO ',\n",
              " '@ANO APRESENTACAO-DE-OBRA-ARTISTICA ',\n",
              " '@ANO-DE-INICIO RESIDENCIA-MEDICA ',\n",
              " '@ANO OBRA-DE-ARTES-VISUAIS ',\n",
              " '@ANO-FIM TREINAMENTO-MINISTRADO ',\n",
              " '@ANO ORIENTACAO-EM-ANDAMENTO-DE-MESTRADO ',\n",
              " '@ANO-INICIO EXTENSAO-UNIVERSITARIA ',\n",
              " '@ANO-DESENVOLVIMENTO MARCA ',\n",
              " '@ANO OUTRAS-BANCAS-JULGADORAS ',\n",
              " '@ANO-INICIO SERVICO-TECNICO-ESPECIALIZADO ',\n",
              " '@ANO-DA-PREMIACAO PREMIO-TITULO ',\n",
              " '@ANO ARTES-VISUAIS ',\n",
              " '@ANO-DE-OBTENCAO-DO-TITULO MESTRADO-PROFISSIONALIZANTE ',\n",
              " '@ANO-DA-OBRA DETALHAMENTO-DE-MANUTENCAO-DE-OBRA-ARTISTICA ',\n",
              " '@ANO OUTRA-PRODUCAO-ARTISTICA-CULTURAL ',\n",
              " '@ANO BANCA-JULGADORA-PARA-PROFESSOR-TITULAR ',\n",
              " '@ANO PARTICIPACAO-EM-BANCA-DE-DOUTORADO ',\n",
              " '@ANO-FIM EXTENSAO-UNIVERSITARIA ',\n",
              " '@ANO-DO-TRABALHO TRABALHO-EM-EVENTOS ',\n",
              " '@ANO-DE-CONCLUSAO OUTROS ',\n",
              " '@ANO MIDIA-SOCIAL-WEBSITE-BLOG ',\n",
              " '@ANO-FIM DIRECAO-E-ADMINISTRACAO ',\n",
              " '@ANO-DE-CONCLUSAO CURSO-TECNICO-PROFISSIONALIZANTE ',\n",
              " '@ANO-DO-ARTIGO ARTIGO-ACEITO-PARA-PUBLICACAO ',\n",
              " '@ANO ORIENTACAO-EM-ANDAMENTO-DE-INICIACAO-CIENTIFICA ',\n",
              " '@ANO-DE-CONCLUSAO POS-DOUTORADO ',\n",
              " '@ANO-DE-INICIO ENSINO-FUNDAMENTAL-PRIMEIRO-GRAU ',\n",
              " '@ANO-INICIO ENSINO ',\n",
              " '@ANO-DE-INICIO APERFEICOAMENTO ',\n",
              " '@ANO PARTICIPACAO-EM-OFICINA ',\n",
              " '@ANO OUTRAS-PARTICIPACOES-EM-EVENTOS-CONGRESSOS ',\n",
              " '@ANO-DE-REALIZACAO DETALHAMENTO-DO-TRABALHO ',\n",
              " '@ANO-DO-TEXTO TEXTO-EM-JORNAL-OU-REVISTA ',\n",
              " '@ANO-DE-CONCLUSAO APERFEICOAMENTO ',\n",
              " '@ANO APRESENTACAO-DE-TRABALHO ',\n",
              " '@ANO-INICIO VINCULOS ',\n",
              " '@ANO-DE-CONCLUSAO MESTRADO-PROFISSIONALIZANTE ',\n",
              " '@ANO APRESENTACAO-EM-RADIO-OU-TV ',\n",
              " '@ANO PARTICIPACAO-EM-OLIMPIADA ',\n",
              " '@ANO-INICIO OUTRA-ATIVIDADE-TECNICO-CIENTIFICA ',\n",
              " '@ANO-DESENVOLVIMENTO DESENHO-INDUSTRIAL ',\n",
              " '@ANO-DE-CONCLUSAO DOUTORADO ',\n",
              " '@ANO-FIM PROJETO-DE-PESQUISA ',\n",
              " '@ANO-FIM ESTAGIO ',\n",
              " '@ANO PARTICIPACAO-EM-BANCA-DE-GRADUACAO ',\n",
              " '@ANO CURSO-DE-CURTA-DURACAO ',\n",
              " '@ANO CURSO-DE-CURTA-DURACAO-MINISTRADO ',\n",
              " '@ANO PREFACIO-POSFACIO ',\n",
              " '@ANO-INICIO TREINAMENTO-MINISTRADO ',\n",
              " '@ANO-DESENVOLVIMENTO TOPOGRAFIA-DE-CIRCUITO-INTEGRADO ',\n",
              " '@ANO-DE-OBTENCAO-DO-TITULO MESTRADO ',\n",
              " '@ANO TRABALHO-TECNICO ',\n",
              " '@ANO-DE-INICIO ESPECIALIZACAO ',\n",
              " '@ANO-DE-CONCLUSAO RESIDENCIA-MEDICA ',\n",
              " '@ANO-FIM PESQUISA-E-DESENVOLVIMENTO ',\n",
              " '@ANO-DE-OBTENCAO-DO-TITULO LIVRE-DOCENCIA ',\n",
              " '@ANO OUTRAS-ORIENTACOES-EM-ANDAMENTO ',\n",
              " '@ANO PARTICIPACAO-EM-ENCONTRO ',\n",
              " '@ANO-INICIO ESTAGIO ',\n",
              " '@ANO PARTICIPACAO-EM-CONGRESSO ',\n",
              " '@ANO PARTICIPACAO-EM-BANCA-DE-EXAME-QUALIFICACAO ',\n",
              " '@ANO OUTRA-PRODUCAO-BIBLIOGRAFICA ',\n",
              " '@ANO-DE-CONCLUSAO ENSINO-MEDIO-SEGUNDO-GRAU ',\n",
              " '@ANO PRODUTO-TECNOLOGICO ',\n",
              " '@ANO-DA-OBRA-DE-REFERENCIA DETALHAMENTO-DA-MUSICA ',\n",
              " '@ANO CARTA-MAPA-OU-SIMILAR ',\n",
              " '@ANO-FIM CONSELHO-COMISSAO-E-CONSULTORIA ']"
            ]
          },
          "execution_count": 4,
          "metadata": {},
          "output_type": "execute_result"
        }
      ],
      "source": [
        "reg.pega_lista_indicadores()"
      ]
    },
    {
      "cell_type": "code",
      "execution_count": null,
      "id": "c07a2cae",
      "metadata": {},
      "outputs": [],
      "source": [
        "reg.chamada = 'UNIVERSAL 2016 - FAIXA A'\n",
        "reg.programa = 'PROGRAMA BASICO DE ENGENHARIA QUIMICA'\n",
        "reg.tipo_indicador = '@ANO-DE-INICIO MBA '"
      ]
    },
    {
      "cell_type": "code",
      "execution_count": null,
      "id": "c4e9bab7",
      "metadata": {},
      "outputs": [],
      "source": [
        "reg.já_feita()"
      ]
    },
    {
      "cell_type": "code",
      "execution_count": null,
      "id": "068c4767",
      "metadata": {},
      "outputs": [],
      "source": [
        "reg.gera_sql(ignore_filters = True)"
      ]
    },
    {
      "cell_type": "code",
      "execution_count": null,
      "id": "b9fc2479",
      "metadata": {},
      "outputs": [],
      "source": [
        "print(reg.sql)"
      ]
    },
    {
      "cell_type": "code",
      "execution_count": null,
      "id": "23a32238",
      "metadata": {},
      "outputs": [],
      "source": [
        "reg.get_pd()"
      ]
    },
    {
      "cell_type": "code",
      "execution_count": null,
      "id": "fcfb76e3",
      "metadata": {},
      "outputs": [],
      "source": [
        "reg.pd"
      ]
    },
    {
      "cell_type": "code",
      "execution_count": null,
      "id": "8969bac6",
      "metadata": {},
      "outputs": [],
      "source": [
        "reg.fit(refaz = True)"
      ]
    },
    {
      "cell_type": "code",
      "execution_count": null,
      "id": "16a3365c",
      "metadata": {},
      "outputs": [],
      "source": [
        "resultados = {'chamada': 'UNIVERSAL 2016 - FAIXA A', 'programa': 'PROGRAMA BASICO DE ENGENHARIA QUIMICA', 'indicador': '@ANO-DE-INICIO MBA ', 'data': '2020-01-01', 'ca': None, 'area': None, 'total_investido': 0.0, 'media_investimento': None, 'f_total': None, 'f_pagtos': None, 'parametro_pgtos': 0.0, 'f_qty_i': None, 'parametro_qty_i': 1.0, 'f_const': None, 'parametro_const': None, 'r2': None}"
      ]
    },
    {
      "cell_type": "code",
      "execution_count": null,
      "id": "1da06198",
      "metadata": {},
      "outputs": [],
      "source": [
        "from Database import Database"
      ]
    },
    {
      "cell_type": "code",
      "execution_count": null,
      "id": "e7ee9199",
      "metadata": {},
      "outputs": [],
      "source": [
        "db = Database('CNPq')"
      ]
    },
    {
      "cell_type": "code",
      "execution_count": null,
      "id": "df41b8c0",
      "metadata": {},
      "outputs": [],
      "source": [
        "\n",
        "db.insert_dict(column='resultados_regressao_linear', dict = resultados, on_conflict = [\"chamada\", \"programa\", \"indicador\"])\n"
      ]
    },
    {
      "cell_type": "code",
      "execution_count": null,
      "id": "b63476bd",
      "metadata": {},
      "outputs": [],
      "source": [
        "\n",
        "\n",
        "    def config_db_connection(filename='d:/database.ini', section='postgresql'):\n",
        "        parser = ConfigParser()\n",
        "        parser.read(filename)\n",
        "        db = {}\n",
        "        if parser.has_section(section):\n",
        "            params = parser.items(section)\n",
        "            for param in params:\n",
        "                db[param[0]] = param[1]\n",
        "        else:\n",
        "            raise Exception('Section {0} not found in the {1} file'.format(section, filename))\n",
        "        return db"
      ]
    },
    {
      "cell_type": "code",
      "execution_count": null,
      "id": "acbd1a09",
      "metadata": {},
      "outputs": [],
      "source": [
        "import psycopg2"
      ]
    },
    {
      "cell_type": "code",
      "execution_count": null,
      "id": "00511931",
      "metadata": {},
      "outputs": [],
      "source": [
        "        params = Database.config_db_connection()\n",
        "        conn = psycopg2.connect(**params)\n",
        "        cur = conn.cursor()"
      ]
    },
    {
      "cell_type": "code",
      "execution_count": null,
      "id": "3483b0ae",
      "metadata": {},
      "outputs": [],
      "source": [
        "reg.filename"
      ]
    },
    {
      "cell_type": "code",
      "execution_count": null,
      "id": "b614f636",
      "metadata": {},
      "outputs": [],
      "source": [
        "pd.isnull(reg.est2.f_pvalue)"
      ]
    },
    {
      "cell_type": "code",
      "execution_count": null,
      "id": "6bd1e2ac",
      "metadata": {},
      "outputs": [],
      "source": [
        "print(reg.est2.f_pvalue)"
      ]
    },
    {
      "cell_type": "code",
      "execution_count": null,
      "id": "cc55c1d4",
      "metadata": {},
      "outputs": [],
      "source": [
        "print(reg.gera_sql())"
      ]
    },
    {
      "cell_type": "code",
      "execution_count": null,
      "id": "9db4cd2d",
      "metadata": {},
      "outputs": [],
      "source": [
        "        for key in resultado.keys():\n",
        "            if pandas.isnull(resultado[key]):\n",
        "                resultado[key] = None"
      ]
    },
    {
      "cell_type": "code",
      "execution_count": null,
      "id": "fc336edc",
      "metadata": {},
      "outputs": [],
      "source": [
        "print(resultado)"
      ]
    },
    {
      "cell_type": "code",
      "execution_count": null,
      "id": "6ddc474c",
      "metadata": {},
      "outputs": [],
      "source": []
    }
  ],
  "metadata": {
    "kernelspec": {
      "display_name": "Python 3 (ipykernel)",
      "language": "python",
      "name": "python3"
    },
    "language_info": {
      "codemirror_mode": {
        "name": "ipython",
        "version": 3
      },
      "file_extension": ".py",
      "mimetype": "text/x-python",
      "name": "python",
      "nbconvert_exporter": "python",
      "pygments_lexer": "ipython3",
      "version": "3.9.7"
    }
  },
  "nbformat": 4,
  "nbformat_minor": 5
}
