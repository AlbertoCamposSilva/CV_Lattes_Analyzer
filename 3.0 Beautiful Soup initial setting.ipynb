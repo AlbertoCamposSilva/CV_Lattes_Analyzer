{
 "cells": [
  {
   "cell_type": "markdown",
   "id": "4868934e",
   "metadata": {},
   "source": [
    "# Beatiful Soap 4 XML scrapping"
   ]
  },
  {
   "cell_type": "markdown",
   "id": "943e510e",
   "metadata": {},
   "source": [
    "## Required Installations"
   ]
  },
  {
   "cell_type": "code",
   "execution_count": 1,
   "id": "ea576f73",
   "metadata": {},
   "outputs": [],
   "source": [
    "# pip install beautifulsoup4, lxml"
   ]
  },
  {
   "cell_type": "markdown",
   "id": "72e2911d",
   "metadata": {},
   "source": [
    "## Importations"
   ]
  },
  {
   "cell_type": "code",
   "execution_count": 2,
   "id": "2cfd626e",
   "metadata": {},
   "outputs": [],
   "source": [
    "from bs4 import BeautifulSoup\n",
    "import lxml\n"
   ]
  },
  {
   "cell_type": "code",
   "execution_count": 3,
   "id": "166e1892-0553-480a-9a3b-a5c24dc543b0",
   "metadata": {},
   "outputs": [],
   "source": [
    "from Lattes import Lattes"
   ]
  },
  {
   "cell_type": "markdown",
   "id": "76b8d008",
   "metadata": {},
   "source": [
    "# Class Indicador"
   ]
  },
  {
   "cell_type": "code",
   "execution_count": 81,
   "id": "bab33a23-1e93-4c26-a030-e840d54e9925",
   "metadata": {},
   "outputs": [],
   "source": [
    "class Indicador:\n",
    "    def __init__ (self, id, indicador = None, ano = None, grande_area = None, area = None, sub_area = None, especialidade = None):\n",
    "        self.id = id\n",
    "        self.indicador = indicador\n",
    "        self.ano = ano\n",
    "        self.area = {\n",
    "            'grande_area': grande_area,\n",
    "            'area': area,\n",
    "            'sub_area': sub_area,\n",
    "            'especialidade': especialidade\n",
    "        }\n",
    "        self.cod_tipo = None\n",
    "        "
   ]
  },
  {
   "cell_type": "code",
   "execution_count": null,
   "id": "1bf8501f-46f8-49b2-8cf1-c70382e99bfb",
   "metadata": {},
   "outputs": [],
   "source": []
  },
  {
   "cell_type": "markdown",
   "id": "450bf19e",
   "metadata": {},
   "source": [
    "## Getting Lattes XML - Livio Amaral"
   ]
  },
  {
   "cell_type": "code",
   "execution_count": 82,
   "id": "41142b54",
   "metadata": {},
   "outputs": [],
   "source": [
    "lattesId = Lattes(id = '1600461423386842')\n",
    "indicador = Indicador(id = lattesId)"
   ]
  },
  {
   "cell_type": "code",
   "execution_count": 5,
   "id": "85f9a6b9",
   "metadata": {},
   "outputs": [
    {
     "name": "stdout",
     "output_type": "stream",
     "text": [
      "Data de atualização pega do Banco de dados: 2021-09-07 14:39:50+00:00\n",
      "Data de atualização pega via SOAP: 2021-09-07 14:39:50+00:00\n",
      "XML e JSON pegos do Banco de Dados.\n"
     ]
    }
   ],
   "source": [
    "lattes.get_xml()"
   ]
  },
  {
   "cell_type": "markdown",
   "id": "b4ace4e9",
   "metadata": {},
   "source": [
    "## Parsing"
   ]
  },
  {
   "cell_type": "code",
   "execution_count": 33,
   "id": "dd44f796",
   "metadata": {},
   "outputs": [
    {
     "name": "stdout",
     "output_type": "stream",
     "text": [
      "Data de atualização pega do Banco de dados: 2021-07-17 07:13:21+00:00\n",
      "Data de atualização pega via SOAP: 2021-07-17 07:13:21+00:00\n",
      "XML e JSON pegos do Banco de Dados.\n",
      "Número de Filhos:  174\n",
      "_\n",
      "15 primeiros filhos:\n",
      "CURRICULO-VITAE\n",
      "DADOS-GERAIS\n",
      "RESUMO-CV\n",
      "OUTRAS-INFORMACOES-RELEVANTES\n",
      "ENDERECO\n",
      "ENDERECO-PROFISSIONAL\n",
      "FORMACAO-ACADEMICA-TITULACAO\n",
      "GRADUACAO\n",
      "MESTRADO\n",
      "PALAVRAS-CHAVE\n",
      "AREAS-DO-CONHECIMENTO\n",
      "AREA-DO-CONHECIMENTO-1\n",
      "DOUTORADO\n",
      "PALAVRAS-CHAVE\n",
      "AREAS-DO-CONHECIMENTO\n",
      "AREA-DO-CONHECIMENTO-1\n"
     ]
    }
   ],
   "source": [
    "lattes_alb = Lattes()\n",
    "lattes_alb.get_xml()\n",
    "soup_alb = BeautifulSoup(lattes_alb.xml, \"lxml-xml\")\n",
    "print(\"Número de Filhos: \", len(list(soup_alb.descendants)))\n",
    "print(\"_\")\n",
    "print(\"15 primeiros filhos:\")\n",
    "children = soup.findChildren(True)\n",
    "x= 0\n",
    "for child in children:\n",
    "    print(child.name)\n",
    "    x += 1\n",
    "    if x > 15: break"
   ]
  },
  {
   "cell_type": "code",
   "execution_count": 14,
   "id": "686c6bca",
   "metadata": {},
   "outputs": [
    {
     "name": "stdout",
     "output_type": "stream",
     "text": [
      "None\n"
     ]
    }
   ],
   "source": [
    "soup = BeautifulSoup(lattes.xml, \"xml\")"
   ]
  },
  {
   "cell_type": "code",
   "execution_count": 32,
   "id": "0bd17cb3",
   "metadata": {},
   "outputs": [
    {
     "name": "stdout",
     "output_type": "stream",
     "text": [
      "3802\n"
     ]
    }
   ],
   "source": [
    "print(len(list(soup.descendants)))"
   ]
  },
  {
   "cell_type": "code",
   "execution_count": 29,
   "id": "7c94cd13-08c4-4f23-917c-a801f3e26037",
   "metadata": {},
   "outputs": [
    {
     "name": "stdout",
     "output_type": "stream",
     "text": [
      "CURRICULO-VITAE\n",
      "DADOS-GERAIS\n",
      "RESUMO-CV\n",
      "OUTRAS-INFORMACOES-RELEVANTES\n",
      "ENDERECO\n",
      "ENDERECO-PROFISSIONAL\n",
      "FORMACAO-ACADEMICA-TITULACAO\n",
      "GRADUACAO\n",
      "MESTRADO\n",
      "PALAVRAS-CHAVE\n",
      "AREAS-DO-CONHECIMENTO\n",
      "AREA-DO-CONHECIMENTO-1\n",
      "DOUTORADO\n",
      "PALAVRAS-CHAVE\n",
      "AREAS-DO-CONHECIMENTO\n",
      "AREA-DO-CONHECIMENTO-1\n"
     ]
    }
   ],
   "source": [
    "children = soup.findChildren(True)\n",
    "x= 0\n",
    "for child in children:\n",
    "    print(child.name)\n",
    "    x += 1\n",
    "    if x > 15: break"
   ]
  },
  {
   "cell_type": "code",
   "execution_count": 31,
   "id": "7c3dc701-1cfe-40cb-b45f-dec838dc6005",
   "metadata": {},
   "outputs": [
    {
     "name": "stdout",
     "output_type": "stream",
     "text": [
      "1600461423386842\n"
     ]
    }
   ],
   "source": [
    "id = soup.find('CURRICULO-VITAE')['NUMERO-IDENTIFICADOR']\n",
    "print (id)"
   ]
  },
  {
   "cell_type": "code",
   "execution_count": 38,
   "id": "76cca97a-df1f-4c23-b25d-f3c9cfd4ee2b",
   "metadata": {},
   "outputs": [
    {
     "name": "stdout",
     "output_type": "stream",
     "text": [
      "07092021\n"
     ]
    }
   ],
   "source": [
    "data = soup.find('CURRICULO-VITAE')['DATA-ATUALIZACAO']\n",
    "print (data)\n"
   ]
  },
  {
   "cell_type": "code",
   "execution_count": 39,
   "id": "813bae59-9d52-4ec5-bf34-65bc7e143304",
   "metadata": {},
   "outputs": [
    {
     "name": "stdout",
     "output_type": "stream",
     "text": [
      "143950\n"
     ]
    }
   ],
   "source": [
    "hora = soup.find('CURRICULO-VITAE')['HORA-ATUALIZACAO']\n",
    "print (hora)"
   ]
  },
  {
   "cell_type": "code",
   "execution_count": 37,
   "id": "a4b6d9e6-c044-4825-b135-362288932625",
   "metadata": {},
   "outputs": [],
   "source": [
    "from datetime import date, datetime"
   ]
  },
  {
   "cell_type": "code",
   "execution_count": 41,
   "id": "5a88a987-6eba-44a7-a2e6-ce2f3de13b18",
   "metadata": {},
   "outputs": [
    {
     "name": "stdout",
     "output_type": "stream",
     "text": [
      "2021-09-07 14:39:50\n"
     ]
    }
   ],
   "source": [
    "data_atualizcao = datetime.strptime(data + hora, '%d%m%Y%H%M%S')\n",
    "print (data_atualizcao)"
   ]
  },
  {
   "cell_type": "code",
   "execution_count": 42,
   "id": "06de9b58-bae4-480c-bf6b-ce71a3366a65",
   "metadata": {},
   "outputs": [
    {
     "name": "stdout",
     "output_type": "stream",
     "text": [
      "RS\n"
     ]
    }
   ],
   "source": [
    "UF = soup.find('ENDERECO-PROFISSIONAL')['UF']\n",
    "print (UF)\n"
   ]
  },
  {
   "cell_type": "code",
   "execution_count": 52,
   "id": "dda5ecc4-d8c5-4b48-94ef-bd66d5b898c9",
   "metadata": {},
   "outputs": [
    {
     "name": "stdout",
     "output_type": "stream",
     "text": [
      "1974\n"
     ]
    }
   ],
   "source": [
    "ano_conclusao_graduacao = soup.find('FORMACAO-ACADEMICA-TITULACAO').find('GRADUACAO')['ANO-DE-CONCLUSAO']\n",
    "print(ano_conclusao_graduacao)"
   ]
  },
  {
   "cell_type": "code",
   "execution_count": 53,
   "id": "1c105991-6fb8-4f36-aaef-f40f78b30a6b",
   "metadata": {},
   "outputs": [
    {
     "name": "stdout",
     "output_type": "stream",
     "text": [
      "1977\n"
     ]
    }
   ],
   "source": [
    "ano_conclusao_mestrado = soup.find('FORMACAO-ACADEMICA-TITULACAO').find('MESTRADO')['ANO-DE-CONCLUSAO']\n",
    "print(ano_conclusao_mestrado)"
   ]
  },
  {
   "cell_type": "code",
   "execution_count": 54,
   "id": "23646d7f-8ff8-4414-91b2-fe49820ef439",
   "metadata": {},
   "outputs": [
    {
     "name": "stdout",
     "output_type": "stream",
     "text": [
      "1982\n"
     ]
    }
   ],
   "source": [
    "ano_conclusao_doutorado = soup.find('FORMACAO-ACADEMICA-TITULACAO').find('DOUTORADO')['ANO-DE-CONCLUSAO']\n",
    "print(ano_conclusao_doutorado)"
   ]
  },
  {
   "cell_type": "code",
   "execution_count": 55,
   "id": "f760ed14-dc63-40fa-92c9-24b3bdaa62c4",
   "metadata": {},
   "outputs": [
    {
     "name": "stdout",
     "output_type": "stream",
     "text": [
      "1\n"
     ]
    }
   ],
   "source": [
    "quantia_graduacoes = len(soup.find('FORMACAO-ACADEMICA-TITULACAO').find_all('GRADUACAO'))\n",
    "print(quantia_graduacoes)"
   ]
  },
  {
   "cell_type": "code",
   "execution_count": 56,
   "id": "59961c08-f18f-4008-90d1-37ac2ce387d1",
   "metadata": {},
   "outputs": [
    {
     "name": "stdout",
     "output_type": "stream",
     "text": [
      "1\n"
     ]
    }
   ],
   "source": [
    "quantia_mestrados = len(soup.find('FORMACAO-ACADEMICA-TITULACAO').find_all('MESTRADO'))\n",
    "print(quantia_mestrados)"
   ]
  },
  {
   "cell_type": "code",
   "execution_count": 57,
   "id": "3d09f787-9753-4c47-a16c-51b17b101750",
   "metadata": {},
   "outputs": [
    {
     "name": "stdout",
     "output_type": "stream",
     "text": [
      "1\n"
     ]
    }
   ],
   "source": [
    "quantia_doutorados = len(soup.find('FORMACAO-ACADEMICA-TITULACAO').find_all('DOUTORADO'))\n",
    "print(quantia_doutorados)"
   ]
  },
  {
   "cell_type": "code",
   "execution_count": 58,
   "id": "b0ea4be5-5c25-49c0-a123-1440aeb8e5e6",
   "metadata": {},
   "outputs": [
    {
     "name": "stdout",
     "output_type": "stream",
     "text": [
      "3\n"
     ]
    }
   ],
   "source": [
    "quantia_pos_doutorados = len(soup.find('FORMACAO-ACADEMICA-TITULACAO').find_all('POS-DOUTORADO'))\n",
    "print(quantia_pos_doutorados)"
   ]
  },
  {
   "cell_type": "code",
   "execution_count": 75,
   "id": "345786cd-4b71-4305-9940-ef1507d2da05",
   "metadata": {},
   "outputs": [
    {
     "name": "stdout",
     "output_type": "stream",
     "text": [
      "['1985', '1992', '1997']\n"
     ]
    }
   ],
   "source": [
    "anos_pos_doutorados = []\n",
    "pos_doutorados = soup.find('FORMACAO-ACADEMICA-TITULACAO').find_all('POS-DOUTORADO')\n",
    "for pos_doutorado in pos_doutorados:\n",
    "    anos_pos_doutorados.append(pos_doutorado['ANO-DE-CONCLUSAO'])\n",
    "print(anos_pos_doutorados)"
   ]
  },
  {
   "cell_type": "code",
   "execution_count": null,
   "id": "e767e211-9b32-4c36-aa62-2271b16bd402",
   "metadata": {},
   "outputs": [],
   "source": []
  }
 ],
 "metadata": {
  "kernelspec": {
   "display_name": "Python 3 (ipykernel)",
   "language": "python",
   "name": "python3"
  },
  "language_info": {
   "codemirror_mode": {
    "name": "ipython",
    "version": 3
   },
   "file_extension": ".py",
   "mimetype": "text/x-python",
   "name": "python",
   "nbconvert_exporter": "python",
   "pygments_lexer": "ipython3",
   "version": "3.9.7"
  }
 },
 "nbformat": 4,
 "nbformat_minor": 5
}
