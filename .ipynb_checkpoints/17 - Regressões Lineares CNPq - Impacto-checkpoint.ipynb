{
 "cells": [
  {
   "cell_type": "code",
   "execution_count": 1,
   "id": "b0b33537",
   "metadata": {},
   "outputs": [
    {
     "name": "stdout",
     "output_type": "stream",
     "text": [
      "Inicializando Variáveis do Programa\n"
     ]
    }
   ],
   "source": [
    "print('Inicializando Variáveis do Programa')\n",
    "\n",
    "#inicializando variáveis\n",
    "\n",
    "variável_dependente = 'qty_2019'\n",
    "variáveis_independentes = ['qty_2014', 'porcent_pagos']\n",
    "confianças = [0.001, 0.01, 0.05]\n",
    "indicador = 'Artigo Publicado'\n",
    "ano_início = 2014\n",
    "best_r2=True\n",
    "pareamento=True\n",
    "capes=False\n",
    "cnpq=True\n",
    "nenhum=True\n",
    "ambos=False\n",
    "preenche_todos_ids = True\n",
    "verbose = False"
   ]
  },
  {
   "cell_type": "code",
   "execution_count": 2,
   "id": "5658000b",
   "metadata": {},
   "outputs": [
    {
     "name": "stdout",
     "output_type": "stream",
     "text": [
      "[0.001, 0.01, 0.05]\n"
     ]
    }
   ],
   "source": [
    "print(confianças)"
   ]
  },
  {
   "cell_type": "code",
   "execution_count": 3,
   "id": "52d5d268",
   "metadata": {},
   "outputs": [],
   "source": [
    "confianças.sort()"
   ]
  },
  {
   "cell_type": "code",
   "execution_count": 4,
   "id": "bd830555",
   "metadata": {},
   "outputs": [
    {
     "name": "stdout",
     "output_type": "stream",
     "text": [
      "Início em:  2023-04-24 19:54:55.169593\n",
      "Importações Iniciais\n",
      "Fim:  2023-04-24 19:55:01.197351\n"
     ]
    }
   ],
   "source": [
    "from datetime import datetime\n",
    "print('Início em: ', datetime.now())\n",
    "\n",
    "print('Importações Iniciais')\n",
    "\n",
    "from tkinter import NONE\n",
    "from Lattes import Lattes\n",
    "from Carga import Carga\n",
    "from Database import Database\n",
    "import psycopg2, pickle\n",
    "import pandas, os\n",
    "import statsmodels.api as sm\n",
    "from urllib.parse import urlencode\n",
    "from psycopg2.extensions import AsIs\n",
    "from Carga import Carga\n",
    "from pandas import pandas as pd\n",
    "import numpy as np\n",
    "import Database\n",
    "import json\n",
    "import locale\n",
    "import statsmodels.formula.api as sm2\n",
    "from itertools import combinations\n",
    "\n",
    "\n",
    "\n",
    "\n",
    "print('Fim: ', datetime.now())"
   ]
  },
  {
   "cell_type": "code",
   "execution_count": 5,
   "id": "160fda46",
   "metadata": {},
   "outputs": [],
   "source": [
    "sql = '''\n",
    "select * from financiamentos_doutorandos_2014\n",
    "    left join indicadores_doutorado\n",
    "        on indicadores_doutorado.id = financiamentos_doutorandos_2014.id\n",
    "    inner join indicadores_nomes\n",
    "        on indicadores_nomes.tipo = indicadores_doutorado.indicador_tipo                 \n",
    "'''"
   ]
  },
  {
   "cell_type": "code",
   "execution_count": 6,
   "id": "4e1a2080",
   "metadata": {},
   "outputs": [
    {
     "name": "stdout",
     "output_type": "stream",
     "text": [
      "Carregando indicadores na memória. Início em:  2023-04-24 19:55:01.230326\n",
      "df.size: 16139320\n",
      "Término em:  2023-04-24 19:55:11.093602\n"
     ]
    }
   ],
   "source": [
    "#Carregar arquivo na memória\n",
    "print('Carregando indicadores na memória. Início em: ', datetime.now())\n",
    "\n",
    "db = Database.Database('CNPq')\n",
    "engine = Carga.db_engine()\n",
    "\n",
    "df = pd.read_sql(sql, engine)\n",
    "if verbose: print(f'df.size: {df.size}')\n",
    "\n",
    "print('Término em: ', datetime.now())"
   ]
  },
  {
   "cell_type": "code",
   "execution_count": 7,
   "id": "5d98deb1",
   "metadata": {},
   "outputs": [],
   "source": [
    "sql_ids_pareados = '''\n",
    "select pareado_1 as id from public.par_doutorandos_2014_sem_reposicao\n",
    "UNION select pareado_2 as id from public.par_doutorandos_2014_sem_reposicao\n",
    "UNION select pareado_3 as id from public.par_doutorandos_2014_sem_reposicao\n",
    "'''"
   ]
  },
  {
   "cell_type": "code",
   "execution_count": 8,
   "id": "db24eefd",
   "metadata": {},
   "outputs": [
    {
     "name": "stdout",
     "output_type": "stream",
     "text": [
      "Carregando indicadores dos pareados na memória. Início em:  2023-04-24 19:55:11.129036\n",
      "pareados.size: 2419\n",
      "Término em:  2023-04-24 19:55:11.264717\n"
     ]
    }
   ],
   "source": [
    "print('Carregando indicadores dos pareados na memória. Início em: ', datetime.now())\n",
    "\n",
    "db = Database.Database('CNPq')\n",
    "engine = Carga.db_engine()\n",
    "\n",
    "pareados = pd.read_sql(sql_ids_pareados, engine)\n",
    "if verbose: print(f'pareados.size: {pareados.size}')\n",
    "\n",
    "print('Término em: ', datetime.now())"
   ]
  },
  {
   "cell_type": "code",
   "execution_count": 9,
   "id": "cf66a62a",
   "metadata": {
    "scrolled": true
   },
   "outputs": [
    {
     "name": "stdout",
     "output_type": "stream",
     "text": [
      "Realizando normalização da tabela. Início em:  2023-04-24 19:55:11.285756\n",
      "Fim em:  2023-04-24 19:55:12.251555\n"
     ]
    }
   ],
   "source": [
    "## Normalizando as Tabelas\n",
    "\n",
    "print('Realizando normalização da tabela. Início em: ', datetime.now())\n",
    "\n",
    "df['const'] = 1\n",
    "df = df.loc[:,~df.columns.duplicated()]\n",
    "\n",
    "df['bool_cnpq'] = df['pagtos'].map(lambda pagtos: 1 if pagtos > 0 else 0)\n",
    "df['bool_capes'] = df['capes'].map(lambda capes: 1 if capes == True else 0)\n",
    "\n",
    "\n",
    "\n",
    "#Preenchendo Nan com zeros nos indicadores\n",
    "df.qty_2012 = df.qty_2012.fillna(0)\n",
    "df.qty_2013 = df.qty_2013.fillna(0)\n",
    "df.qty_2014 = df.qty_2014.fillna(0)\n",
    "df.qty_2015 = df.qty_2015.fillna(0)\n",
    "df.qty_2016 = df.qty_2016.fillna(0)\n",
    "df.qty_2017 = df.qty_2017.fillna(0)\n",
    "df.qty_2018 = df.qty_2018.fillna(0)\n",
    "df.qty_2019 = df.qty_2019.fillna(0)\n",
    "df.capes = df.capes.fillna(0)\n",
    "df.pagtos = df.pagtos.fillna(0)\n",
    "\n",
    "valor_total_cnpq =  df[['id', 'pagtos']].loc[df['pagtos']>0].drop_duplicates().sum().pagtos\n",
    "df['porcent_pagos'] = df['pagtos']/valor_total_cnpq\n",
    "\n",
    "\n",
    "print('Fim em: ', datetime.now())\n"
   ]
  },
  {
   "cell_type": "code",
   "execution_count": 10,
   "id": "66ff8962",
   "metadata": {},
   "outputs": [],
   "source": [
    "df['grupo'] = df.apply(lambda d: 'Ambos' if (d['capes'] == True and d['pagtos']>0) \\\n",
    "                       else 'CAPES' if (d['capes'] == True and d['pagtos']==0) \\\n",
    "                       else 'CNPq' if d['pagtos'] > 0 \\\n",
    "                       else 'Nenhum', axis=1)\n",
    "dt = df"
   ]
  },
  {
   "cell_type": "code",
   "execution_count": 11,
   "id": "bd0d6b6d",
   "metadata": {},
   "outputs": [
    {
     "name": "stdout",
     "output_type": "stream",
     "text": [
      "Dropping CAPES\n",
      "Dropping Ambos\n",
      "Dropping Não Pareados\n"
     ]
    }
   ],
   "source": [
    "#Apagando os financiados \n",
    "if not capes:\n",
    "    if verbose: print('Dropping CAPES')\n",
    "    dt.drop(dt.loc[dt.grupo == 'CAPES'].index, inplace=True)\n",
    "if not cnpq:\n",
    "    if verbose: print('Dropping CNPq')\n",
    "    dt.drop(dt.loc[dt.grupo == 'CNPq'].index, inplace=True)\n",
    "if not nenhum:\n",
    "    if verbose: print('Dropping no financed')\n",
    "    dt.drop(dt.loc[dt.grupo == 'Nenhum'].index, inplace=True)\n",
    "if not ambos:\n",
    "    if verbose: print('Dropping Ambos')\n",
    "    dt.drop(dt.loc[dt.grupo == 'Ambos'].index, inplace=True)\n",
    "\n",
    "#Apagando os que não foram escolhidos pelo pareamento\n",
    "if pareamento:   \n",
    "    if verbose: print('Dropping Não Pareados')\n",
    "    dt.drop(dt.loc[~dt.id.isin(pareados.id)].loc[dt.pagtos==0].index, inplace=True)"
   ]
  },
  {
   "cell_type": "code",
   "execution_count": 12,
   "id": "1d37bd2e",
   "metadata": {},
   "outputs": [],
   "source": [
    "#Função que dá o tempo para terminar\n",
    "#para chamar a função:   \n",
    "#    print_time(feitos, número_total, tempo_início, tempo_último, atual)\n",
    "#    feitos += 1\n",
    "#    tempo_último = datetime.now()\n",
    "\n",
    "\n",
    "tempo_início = datetime.now()\n",
    "tempo_último = datetime.now()\n",
    "feitos = 0\n",
    "\n",
    "def print_time(feitos, número_total, tempo_início, tempo_último, atual):\n",
    "    if not feitos == 0:\n",
    "        porcentagem_já_feita = (feitos/número_total)\n",
    "        print_percent = '{0:.{1}f}'.format(porcentagem_já_feita*100, 1)\n",
    "        tempo_passado = datetime.now() - tempo_início\n",
    "        tempo_por_id = tempo_passado / feitos\n",
    "        tempo_restante = (número_total - feitos) * tempo_por_id\n",
    "        tempo_em_que_vai_acabar = (datetime.now() + tempo_restante).strftime(\"%d/%m/%y %H:%M:%S\")\n",
    "        print(f'{feitos}/{número_total}. {print_percent}% feitos. Fazendo: {atual}. Acabará em {tempo_em_que_vai_acabar}. O Último demorou: {datetime.now() - tempo_último}.')\n",
    "    else:\n",
    "        print(f'{feitos}/{número_total}. Fazendo: {atual}.')\n",
    "    "
   ]
  },
  {
   "cell_type": "code",
   "execution_count": 13,
   "id": "b130c6c6",
   "metadata": {},
   "outputs": [],
   "source": [
    "def regressão(dt, indicador, variável_dependente, variáveis_independentes):\n",
    "    \n",
    "    lista_formulas = []\n",
    "    dados = dt.loc[dt.nome==indicador]\n",
    "    \n",
    "    if best_r2:\n",
    "        for x in range(1,len(variáveis_independentes)+1):\n",
    "            for a in combinations(variáveis_independentes,x):\n",
    "                formula = f'{variável_dependente} ~ ' \n",
    "                if not a[0] == '-1':\n",
    "                    formula = (formula + ' + '.join(a)).replace('+ -1',' -1')\n",
    "                    lista_formulas.append(formula)\n",
    "    else:\n",
    "        lista_formulas.append(variável_dependente + ' ~ ' + ' + '.join(variáveis_independentes).replace('+ -1',' -1'))\n",
    "        \n",
    "    if verbose: print(lista_formulas)\n",
    "    \n",
    "    list_results = []\n",
    "    for formula in lista_formulas:\n",
    "    \n",
    "        try:\n",
    "            # OLS vem de Ordinary Least Squares e o método fit irá treinar o modelo\n",
    "            reg_ajustado = sm2.ols(formula, data = dados)\n",
    "            reg = reg_ajustado.fit()\n",
    "            # mostrando as estatísticas do modelo\n",
    "            if verbose: print('\\nCom constante:\\n',reg.summary2())  \n",
    "\n",
    "            #guardando a regressão na memória\n",
    "\n",
    "            result = {\n",
    "                    'Indicador': indicador,\n",
    "                    'Erro': False,\n",
    "                    'Prob (F-statistic)':reg.f_pvalue, \n",
    "                    'Parâmetros': reg.params, \n",
    "                    \"P>|t|\":reg.pvalues, \n",
    "                    'Standard Error': reg.bse, \n",
    "                    \"Covariância entre os pasrâmetros\": reg.normalized_cov_params, \n",
    "                    'Number of observations n.': reg.nobs, \n",
    "                    \"R2 ajustado\": reg.rsquared_adj, \n",
    "                    \"Modelo\":reg.model,                }\n",
    "        except:\n",
    "            result = {\n",
    "                    'Indicador': indicador,\n",
    "                    'Erro': True,\n",
    "                    'Prob (F-statistic)':None, \n",
    "                    'Parâmetros': None, \n",
    "                    \"P>|t|\":None, \n",
    "                    'Standard Error': None, \n",
    "                    \"Covariância entre os pasrâmetros\": None, \n",
    "                    'Number of observations n.': None, \n",
    "                    \"R2 ajustado\": None, \n",
    "                    \"Modelo\": None,                }\n",
    "    \n",
    "        list_results.append(result)\n",
    "        \n",
    "    maiorR = max(list_results, key=lambda x:x['R2 ajustado'])\n",
    "        \n",
    "    return maiorR"
   ]
  },
  {
   "cell_type": "code",
   "execution_count": 14,
   "id": "7a4c54f0",
   "metadata": {},
   "outputs": [],
   "source": [
    "def regressão_com_confiança (dt, indicador, variável_dependente, variáveis_independentes, confiança = 0.05):\n",
    "    \n",
    "    variáveis_independentes = list(variáveis_independentes)\n",
    "    result = regressão(dt, indicador, variável_dependente, variáveis_independentes)\n",
    "    if verbose: print(result)\n",
    "    while result['Erro'] == False or math.isnan(result['P>|t|'].idxmax()) or result['P>|t|'].max() > confiança:\n",
    "        if math.isnan(result['P>|t|'].idxmax()):\n",
    "            if verbose: print(\"P>|t|'].idxmax()) não é um número. Abortando.\")\n",
    "        elif result['P>|t|'].idxmax() == 'Intercept':\n",
    "            if verbose: print(\"'P>|t|' é o Intercept. Removendo.\")\n",
    "            variáveis_independentes.append('-1')\n",
    "        else:\n",
    "            if verbose: print(f\"Removendo o 'P>|t|': {result['P>|t|'].idxmax()}\")\n",
    "            variáveis_independentes.remove(result['P>|t|'].idxmax())\n",
    "        result = regressão(dt, indicador, variável_dependente, variáveis_independentes)\n",
    "        if verbose: print(result)\n",
    "        \n",
    "        \n",
    "    if result['Erro'] == False and result['Prob (F-statistic)'] < confiança and result['P>|t|'].max() < confiança:\n",
    "        result['Confiança'] = confiança\n",
    "        return result\n",
    "    else:\n",
    "        result['Confiança'] = 'Erro'\n",
    "    return result  \n",
    "    \n",
    "    \n",
    "\n",
    "        \n",
    "        \n",
    "\n"
   ]
  },
  {
   "cell_type": "code",
   "execution_count": null,
   "id": "cba8f88a",
   "metadata": {},
   "outputs": [],
   "source": [
    "def regressão_com_lista_confianças (dt, indicador,\n",
    "                                    variável_dependente, \n",
    "                                    variáveis_independentes, \n",
    "                                    confianças =  [0.001, 0.01, 0.05]):\n",
    "    confianças.sort()\n",
    "    for confiança in confianças:\n",
    "        result = regressão_com_confiança (dt, indicador, variável_dependente, variáveis_independentes, confiança)\n",
    "        if not result['Confiança'] == 'Erro':\n",
    "            break\n",
    "    if verbose: print(result)\n",
    "    return result"
   ]
  },
  {
   "cell_type": "code",
   "execution_count": 16,
   "id": "66323d39",
   "metadata": {},
   "outputs": [],
   "source": [
    "def preenche_data_frame_com_zeros(dados, indicador = 'Artigo Publicado', verbose=verbose):\n",
    "\n",
    "    dados = df.loc[df.nome == indicador]\n",
    "    lista_ids = df.loc[~df.id.isin(dados.id)].id.unique()\n",
    "    feitos = 0\n",
    "    tempo_início = datetime.now()\n",
    "    tempo_último = datetime.now()\n",
    "\n",
    "    try:\n",
    "        indicador_tipo = df.iloc[df.loc[df.nome == indicador].first_valid_index()].indicador_tipo\n",
    "    except:\n",
    "        indicador_tipo = None\n",
    "    try:\n",
    "        indicador_grupo = df.iloc[df.loc[df.nome == indicador].first_valid_index()].indicador_grupo\n",
    "    except:\n",
    "        indicador_grupo = None\n",
    "    \n",
    "    if verbose: \n",
    "        número_total = len(lista_ids)\n",
    "        num_feitos = 0\n",
    "        print('\\nPreenchendo com zeros os Ids faltantes. Tamanho: ', número_total)\n",
    "\n",
    "    for id in lista_ids:\n",
    "        if verbose: \n",
    "            atual = id\n",
    "            print_time(feitos, número_total, tempo_início, tempo_último, atual)\n",
    "            feitos += 1\n",
    "            tempo_último = datetime.now()\n",
    "           \n",
    "\n",
    "        row = {\n",
    "            'id': id,\n",
    "            'pagtos': 0,\n",
    "            'capes': False,\n",
    "            'indicador_tipo': indicador_tipo,\n",
    "            'indicador_grupo': indicador_grupo,\n",
    "            'indicador': indicador,\n",
    "            'qty_2012': 0,\n",
    "            'qty_2013': 0,\n",
    "            'qty_2014': 0,\n",
    "            'qty_2015': 0,\n",
    "            'qty_2016': 0,\n",
    "            'qty_2017': 0,\n",
    "            'qty_2018': 0,\n",
    "            'qty_2019': 0,\n",
    "            'tipo': indicador_tipo,\n",
    "            'nome': indicador,\n",
    "            'grupo': 'Nenhum',\n",
    "            'path': None,\n",
    "            'const': 1,\n",
    "            'bool_cnpq': 0,\n",
    "            'bool_capes': 0,\n",
    "            'porcent_pagos': 0\n",
    "                }\n",
    "        dados = dados.append(row, ignore_index=True)\n",
    "\n",
    "    if verbose: print('Terminado.\\n')\n",
    "    return dados\n",
    "        "
   ]
  },
  {
   "cell_type": "code",
   "execution_count": 17,
   "id": "fb41e4e4",
   "metadata": {},
   "outputs": [],
   "source": [
    "def faz_regressões():\n",
    "    #inicializando variáveis\n",
    "    lista_regressões = []\n",
    "    feitos = 0\n",
    "    tempo_último = datetime.now()\n",
    "    print(f'Iniciado em {tempo_início}.')\n",
    "\n",
    "    #pegando lista de todos os indicadores\n",
    "    todos_indicadores = dt.nome.unique()\n",
    "\n",
    "    #iterando sobre cada indicador\n",
    "    número_total = len(todos_indicadores)\n",
    "    for indicador in todos_indicadores:\n",
    "\n",
    "        #Realizando previsão de término\n",
    "        print_time(feitos, número_total, tempo_início, tempo_último, indicador)\n",
    "        feitos += 1\n",
    "        tempo_último = datetime.now()\n",
    "\n",
    "\n",
    "        if preenche_todos_ids: \n",
    "            dados = preenche_data_frame_com_zeros(dt, indicador, verbose = False)\n",
    "            result = regressão_com_lista_confianças(dados, \n",
    "                                                    indicador, \n",
    "                                                    variável_dependente, \n",
    "                                                    variáveis_independentes\n",
    "                                                   , confianças)\n",
    "        else:\n",
    "            result = regressão_com_lista_confianças(dt, \n",
    "                                                    indicador, \n",
    "                                                    variável_dependente, \n",
    "                                                    variáveis_independentes\n",
    "                                                   , confianças)\n",
    "        lista_regressões.append(result)\n",
    "    \n",
    "    return lista_regressões\n"
   ]
  },
  {
   "cell_type": "code",
   "execution_count": 18,
   "id": "33a2a6a8",
   "metadata": {},
   "outputs": [],
   "source": [
    "def salva_regressões_csv(lista_regressões):\n",
    "    regressões = pd.DataFrame(lista_regressões)\n",
    "    regressões = pd.concat([regressões, \n",
    "                            regressões['Parâmetros'].apply(pd.Series), \n",
    "                            regressões['P>|t|'].apply(pd.Series), \n",
    "                            regressões['Standard Error'].apply(pd.Series)], \n",
    "                           axis=1)\n",
    "    regressões.to_excel(f'Regressões dos Doutorandos {ano_início} com Pareamento {pareamento} e sem Reposição com preenchimento com todos CNPq {cnpq} CAPES {capes} Ambos {ambos} Nenhum {nenhum}.xlsx')"
   ]
  },
  {
   "cell_type": "code",
   "execution_count": null,
   "id": "c9b8bb04",
   "metadata": {},
   "outputs": [],
   "source": [
    "lista_regressões = faz_regressões()"
   ]
  },
  {
   "cell_type": "code",
   "execution_count": null,
   "id": "ea1d443c",
   "metadata": {},
   "outputs": [],
   "source": [
    "salva_regressões_csv(lista_regressões)"
   ]
  },
  {
   "cell_type": "code",
   "execution_count": null,
   "id": "08b6ab4e",
   "metadata": {},
   "outputs": [],
   "source": []
  }
 ],
 "metadata": {
  "kernelspec": {
   "display_name": "Python 3 (ipykernel)",
   "language": "python",
   "name": "python3"
  },
  "language_info": {
   "codemirror_mode": {
    "name": "ipython",
    "version": 3
   },
   "file_extension": ".py",
   "mimetype": "text/x-python",
   "name": "python",
   "nbconvert_exporter": "python",
   "pygments_lexer": "ipython3",
   "version": "3.9.7"
  }
 },
 "nbformat": 4,
 "nbformat_minor": 5
}
