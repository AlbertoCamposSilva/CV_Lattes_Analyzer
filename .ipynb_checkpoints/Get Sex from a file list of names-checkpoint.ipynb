{
 "cells": [
  {
   "cell_type": "code",
   "execution_count": null,
   "id": "d2618597",
   "metadata": {},
   "outputs": [],
   "source": [
    "import unidecode\n",
    "with open(r'C:\\Users\\silva\\Downloads\\names.txt', 'r', encoding=\"utf-8\") as f:\n",
    "    myNames = [line.strip() for line in f]"
   ]
  },
  {
   "cell_type": "code",
   "execution_count": null,
   "id": "43597624",
   "metadata": {},
   "outputs": [],
   "source": [
    "myNames"
   ]
  },
  {
   "cell_type": "code",
   "execution_count": null,
   "id": "fac4e6ee",
   "metadata": {},
   "outputs": [],
   "source": [
    "import requests, json\n",
    "\n"
   ]
  },
  {
   "cell_type": "code",
   "execution_count": 1,
   "id": "cff63e5b",
   "metadata": {},
   "outputs": [],
   "source": [
    "from Indicadores import Indicadores"
   ]
  },
  {
   "cell_type": "code",
   "execution_count": 2,
   "id": "85320af1",
   "metadata": {},
   "outputs": [],
   "source": [
    "ind = Indicadores('3563555687176463')\n",
    "ind.show_sql = True\n",
    "ind.show_messages = True\n",
    "ind.get_sexo()\n",
    "ind.dados_gerais['sexo']"
   ]
  },
  {
   "cell_type": "code",
   "execution_count": 6,
   "id": "516ae727",
   "metadata": {},
   "outputs": [],
   "source": [
    "sexo = ind.db.query(f'select sexo from dados_gerais where id = {ind.id}')\n"
   ]
  },
  {
   "cell_type": "code",
   "execution_count": null,
   "id": "f0711b9f",
   "metadata": {},
   "outputs": [],
   "source": []
  },
  {
   "cell_type": "code",
   "execution_count": null,
   "id": "2377293b",
   "metadata": {},
   "outputs": [],
   "source": []
  },
  {
   "cell_type": "code",
   "execution_count": null,
   "id": "c08565d2",
   "metadata": {},
   "outputs": [],
   "source": []
  },
  {
   "cell_type": "code",
   "execution_count": null,
   "id": "2f0b419f",
   "metadata": {},
   "outputs": [],
   "source": []
  },
  {
   "cell_type": "code",
   "execution_count": null,
   "id": "8c0df6d4",
   "metadata": {},
   "outputs": [],
   "source": []
  },
  {
   "cell_type": "code",
   "execution_count": null,
   "id": "4cbb5b21",
   "metadata": {},
   "outputs": [],
   "source": []
  },
  {
   "cell_type": "code",
   "execution_count": null,
   "id": "df9a0764",
   "metadata": {},
   "outputs": [],
   "source": [
    "ind.get_dados_gerais()"
   ]
  },
  {
   "cell_type": "code",
   "execution_count": null,
   "id": "f8ea7cc1",
   "metadata": {},
   "outputs": [],
   "source": [
    "ind.get_sexo()"
   ]
  },
  {
   "cell_type": "code",
   "execution_count": null,
   "id": "71e2102d",
   "metadata": {},
   "outputs": [],
   "source": [
    "ind.salva_dados_gerais_no_bd()"
   ]
  },
  {
   "cell_type": "code",
   "execution_count": null,
   "id": "1cb2531c",
   "metadata": {},
   "outputs": [],
   "source": [
    "ind.get_sexo()"
   ]
  },
  {
   "cell_type": "code",
   "execution_count": null,
   "id": "e233c4dc",
   "metadata": {},
   "outputs": [],
   "source": [
    "ind.atualiza()"
   ]
  },
  {
   "cell_type": "code",
   "execution_count": null,
   "id": "6e375444",
   "metadata": {},
   "outputs": [],
   "source": [
    "getGenders(myNames[0].split()[2])"
   ]
  },
  {
   "cell_type": "code",
   "execution_count": null,
   "id": "b6e30f06",
   "metadata": {},
   "outputs": [],
   "source": [
    "all_names = []\n",
    "for name in myNames:\n",
    "    print(name)\n",
    "    print(name.split()[0])\n",
    "    name = {\n",
    "        'nome': name,\n",
    "        'sexo': getGenders(name.split()[0])\n",
    "    }\n",
    "    all_names.append(name)\n",
    "    \n"
   ]
  },
  {
   "cell_type": "code",
   "execution_count": null,
   "id": "1b08ef2c",
   "metadata": {},
   "outputs": [],
   "source": [
    "all_names"
   ]
  },
  {
   "cell_type": "code",
   "execution_count": null,
   "id": "a95402a3",
   "metadata": {},
   "outputs": [],
   "source": [
    "todos_os_nomes = []\n",
    "for name in all_names:\n",
    "    one_more = {\n",
    "        'nome': name['nome'],\n",
    "        'sexo': name['sexo'][0][0],\n",
    "        'chance_acerto': name['sexo'][0][1],\n",
    "        'tamanho_amostra': name['sexo'][0][2]\n",
    "    }\n",
    "    todos_os_nomes.append(one_more)\n",
    "    \n"
   ]
  },
  {
   "cell_type": "code",
   "execution_count": null,
   "id": "e154bfc9",
   "metadata": {},
   "outputs": [],
   "source": [
    "todos_os_nomes"
   ]
  },
  {
   "cell_type": "code",
   "execution_count": null,
   "id": "0c0e5f50",
   "metadata": {},
   "outputs": [],
   "source": [
    "import pandas as pd\n",
    "\n",
    "df = pd.DataFrame(data=todos_os_nomes)\n",
    "\n"
   ]
  },
  {
   "cell_type": "code",
   "execution_count": null,
   "id": "ba31624f",
   "metadata": {},
   "outputs": [],
   "source": [
    "df"
   ]
  },
  {
   "cell_type": "code",
   "execution_count": null,
   "id": "5d7f79b0",
   "metadata": {},
   "outputs": [],
   "source": [
    "df.to_excel(r'C:\\Users\\silva\\Downloads\\names2.xlsx')"
   ]
  },
  {
   "cell_type": "code",
   "execution_count": null,
   "id": "c078de3d",
   "metadata": {},
   "outputs": [],
   "source": []
  }
 ],
 "metadata": {
  "kernelspec": {
   "display_name": "Python 3 (ipykernel)",
   "language": "python",
   "name": "python3"
  },
  "language_info": {
   "codemirror_mode": {
    "name": "ipython",
    "version": 3
   },
   "file_extension": ".py",
   "mimetype": "text/x-python",
   "name": "python",
   "nbconvert_exporter": "python",
   "pygments_lexer": "ipython3",
   "version": "3.9.7"
  }
 },
 "nbformat": 4,
 "nbformat_minor": 5
}
