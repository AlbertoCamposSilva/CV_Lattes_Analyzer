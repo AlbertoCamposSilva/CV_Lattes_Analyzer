{
 "cells": [
  {
   "cell_type": "code",
   "execution_count": 1,
   "id": "9d2241f2",
   "metadata": {},
   "outputs": [
    {
     "name": "stdout",
     "output_type": "stream",
     "text": [
      "Início em:  2023-04-25 18:37:06.372078\n",
      "Importações Iniciais\n",
      "Fim:  2023-04-25 18:37:08.692100\n"
     ]
    }
   ],
   "source": [
    "from datetime import datetime\n",
    "\n",
    "print('Início em: ', datetime.now())\n",
    "print('Importações Iniciais')\n",
    "\n",
    "from Regressao import Regressao\n",
    "reg = Regressao()\n",
    "\n",
    "print('Fim: ', datetime.now())"
   ]
  },
  {
   "cell_type": "code",
   "execution_count": 2,
   "id": "a8583d02",
   "metadata": {},
   "outputs": [],
   "source": [
    "reg.path = ''\n",
    "reg.variável_dependente = 'qty_2019'\n",
    "reg.variáveis_independentes = ['qty_2014', 'porcent_pagos']\n",
    "reg.confianças = [0.01, 0.05]\n",
    "reg.indicador = 'Artigo Publicado'\n",
    "reg.ano_início = 2014\n",
    "reg.best_r2 = True\n",
    "reg.pareamento = True\n",
    "reg.capes = False\n",
    "reg.cnpq = True\n",
    "reg.nenhum = True\n",
    "reg.ambos = False\n",
    "reg.preenche_todos_ids = True\n",
    "reg.verbose = False\n",
    "#reg.faz_apenas_os_indicadores = ['Conclusão de Curso de Curta Duração']"
   ]
  },
  {
   "cell_type": "code",
   "execution_count": 3,
   "id": "152e8769",
   "metadata": {},
   "outputs": [],
   "source": [
    "dt = reg.pega_tabela_para_regressão()"
   ]
  },
  {
   "cell_type": "code",
   "execution_count": null,
   "id": "1a316b3f",
   "metadata": {},
   "outputs": [
    {
     "name": "stdout",
     "output_type": "stream",
     "text": [
      "Iniciado em 2023-04-25 18:37:43.106357.\n",
      "0/128. Fazendo: Conclusão de Doutorado.\n",
      "1/128. 0.8% feitos. Fazendo: Conclusão de Curso de Curta Duração. Acabará em 25/04/23 18:50:19. O Último demorou: 0:00:05.905202.\n",
      "2/128. 1.6% feitos. Fazendo: Conclusão de Graduação. Acabará em 25/04/23 18:50:51. O Último demorou: 0:00:12.222570.\n",
      "3/128. 2.3% feitos. Fazendo: Conclusão de Mestrado. Acabará em 25/04/23 18:39:06. O Último demorou: 0:00:01.516003.\n",
      "4/128. 3.1% feitos. Fazendo: Início de Doutorado. Acabará em 25/04/23 18:39:51. O Último demorou: 0:00:03.391997.\n",
      "5/128. 3.9% feitos. Fazendo: Início de Curso de Curta Duração. Acabará em 25/04/23 18:38:12. O Último demorou: 0:00:00.248376.\n",
      "6/128. 4.7% feitos. Fazendo: Início de Graduação. Acabará em 25/04/23 18:43:05. O Último demorou: 0:00:13.999593.\n",
      "7/128. 5.5% feitos. Fazendo: Início de Mestrado. Acabará em 25/04/23 18:38:39. O Último demorou: 0:00:01.046001.\n",
      "8/128. 6.2% feitos. Fazendo: Início de Pós-Doutorado. Acabará em 25/04/23 18:39:02. O Último demorou: 0:00:02.540785.\n",
      "9/128. 7.0% feitos. Fazendo: Obtenção do Título de Doutorado. Acabará em 25/04/23 18:44:00. O Último demorou: 0:00:23.655645.\n",
      "10/128. 7.8% feitos. Fazendo: Obtenção do Título de Metrado. Acabará em 25/04/23 18:39:24. O Último demorou: 0:00:02.823002.\n",
      "11/128. 8.6% feitos. Fazendo: Trabalho em Evento. Acabará em 25/04/23 18:39:24. O Último demorou: 0:00:02.907000.\n",
      "12/128. 9.4% feitos. Fazendo: Artigo Publicado. Acabará em 25/04/23 18:40:09. O Último demorou: 0:00:07.082281.\n",
      "13/128. 10.2% feitos. Fazendo: Trabalho em Eventos. Acabará em 25/04/23 18:39:49. O Último demorou: 0:00:04.955998.\n",
      "14/128. 10.9% feitos. Fazendo: Fim de Estágio. Acabará em 25/04/23 18:40:06. O Último demorou: 0:00:06.552999.\n",
      "15/128. 11.7% feitos. Fazendo: Fim de Atividade de Pesquisa e Desenvolvimento. Acabará em 25/04/23 18:43:03. O Último demorou: 0:00:27.072002.\n",
      "16/128. 12.5% feitos. Fazendo: Fim de Vínculo Empregatício ou Funcional. Acabará em 25/04/23 18:43:49. O Último demorou: 0:00:31.212679.\n",
      "17/128. 13.3% feitos. Fazendo: Início de Atividade de Ensino. Acabará em 25/04/23 18:40:31. O Último demorou: 0:00:02.682000.\n",
      "18/128. 14.1% feitos. Fazendo: Início de Estágio. Acabará em 25/04/23 18:42:33. O Último demorou: 0:00:19.537001.\n",
      "19/128. 14.8% feitos. Fazendo: Início de Atividade de Pesquisa e Desenvolvimento. Acabará em 25/04/23 18:43:10. O Último demorou: 0:00:23.238001.\n",
      "20/128. 15.6% feitos. Fazendo: Início de Vínculo Empregatício ou Funcional. Acabará em 25/04/23 18:43:09. O Último demorou: 0:00:20.712999.\n",
      "21/128. 16.4% feitos. Fazendo: Apresentação de Trabalho Técnico. Acabará em 25/04/23 18:41:24. O Último demorou: 0:00:01.026004.\n",
      "22/128. 17.2% feitos. Fazendo: Publicação de Capítulo de Livro. Acabará em 25/04/23 18:41:48. O Último demorou: 0:00:05.065616.\n",
      "23/128. 18.0% feitos. Fazendo: Livro Publicado ou Organizado. Acabará em 25/04/23 18:42:49. O Último demorou: 0:00:15.376003.\n",
      "24/128. 18.8% feitos. Fazendo: Outras Orientações Concluídas. Acabará em 25/04/23 18:43:22. O Último demorou: 0:00:19.390004.\n",
      "25/128. 19.5% feitos. Fazendo: Participação em Congresso. Acabará em 25/04/23 18:43:09. O Último demorou: 0:00:13.801580.\n",
      "26/128. 20.3% feitos. Fazendo: Participação em Seminário. Acabará em 25/04/23 18:42:39. O Último demorou: 0:00:05.388997.\n",
      "27/128. 21.1% feitos. Fazendo: Participação em Simpósio. Acabará em 25/04/23 18:43:11. O Último demorou: 0:00:11.221957.\n",
      "28/128. 21.9% feitos. Fazendo: Prêmio ou Título Recebido. Acabará em 25/04/23 18:43:20. O Último demorou: 0:00:11.154000.\n",
      "29/128. 22.7% feitos. Fazendo: Conclusão de Outra Formação Complementar. Acabará em 25/04/23 18:43:58. O Último demorou: 0:00:17.714000.\n",
      "30/128. 23.4% feitos. Fazendo: Início de Outra Formação Complementar. Acabará em 25/04/23 18:44:06. O Último demorou: 0:00:15.912998.\n",
      "31/128. 24.2% feitos. Fazendo: Organização de Evento. Acabará em 25/04/23 18:44:15. O Último demorou: 0:00:14.927002.\n",
      "32/128. 25.0% feitos. Fazendo: Outras Participações em Congressos. Acabará em 25/04/23 18:44:31. O Último demorou: 0:00:15.474003.\n",
      "33/128. 25.8% feitos. Fazendo: Participação em Banca de Graduação. Acabará em 25/04/23 18:44:21. O Último demorou: 0:00:09.535575.\n",
      "34/128. 26.6% feitos. Fazendo: Conclusão de Especialização. Acabará em 25/04/23 18:44:50. O Último demorou: 0:00:14.833594.\n",
      "35/128. 27.3% feitos. Fazendo: Conclusão de Extensão Universitária. Acabará em 25/04/23 18:45:23. O Último demorou: 0:00:20.395272.\n",
      "36/128. 28.1% feitos. Fazendo: Início de Especialização. Acabará em 25/04/23 18:45:59. O Último demorou: 0:00:25.392000.\n",
      "37/128. 28.9% feitos. Fazendo: Início de Extensão Universitária. Acabará em 25/04/23 18:46:09. O Último demorou: 0:00:21.448645.\n",
      "38/128. 29.7% feitos. Fazendo: Fim de Atividade de Ensino. Acabará em 25/04/23 18:46:21. O Último demorou: 0:00:19.182003.\n"
     ]
    }
   ],
   "source": [
    "reg.faz_regressões()"
   ]
  },
  {
   "cell_type": "code",
   "execution_count": null,
   "id": "6160bc7f",
   "metadata": {},
   "outputs": [],
   "source": [
    "reg.salva_regressões_csv()"
   ]
  }
 ],
 "metadata": {
  "kernelspec": {
   "display_name": "Python 3 (ipykernel)",
   "language": "python",
   "name": "python3"
  },
  "language_info": {
   "codemirror_mode": {
    "name": "ipython",
    "version": 3
   },
   "file_extension": ".py",
   "mimetype": "text/x-python",
   "name": "python",
   "nbconvert_exporter": "python",
   "pygments_lexer": "ipython3",
   "version": "3.9.7"
  }
 },
 "nbformat": 4,
 "nbformat_minor": 5
}
