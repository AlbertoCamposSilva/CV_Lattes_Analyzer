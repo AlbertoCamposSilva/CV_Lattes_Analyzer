{
  "cells": [
    {
      "cell_type": "code",
      "execution_count": 1,
      "id": "7f792933",
      "metadata": {},
      "outputs": [],
      "source": [
        "from Lattes import Lattes"
      ]
    },
    {
      "cell_type": "code",
      "execution_count": 2,
      "id": "ca971948",
      "metadata": {},
      "outputs": [],
      "source": [
        "lattes = Lattes(id=\"0000230621439945\")"
      ]
    },
    {
      "cell_type": "code",
      "execution_count": 3,
      "id": "cfe36ccc",
      "metadata": {},
      "outputs": [
        {
          "data": {
            "text/plain": [
              "True"
            ]
          },
          "execution_count": 3,
          "metadata": {},
          "output_type": "execute_result"
        }
      ],
      "source": [
        "lattes.read_zip_from_disk()"
      ]
    },
    {
      "cell_type": "code",
      "execution_count": 4,
      "id": "88e7abe1",
      "metadata": {},
      "outputs": [
        {
          "data": {
            "text/plain": [
              "True"
            ]
          },
          "execution_count": 4,
          "metadata": {},
          "output_type": "execute_result"
        }
      ],
      "source": [
        "lattes.get_xml()"
      ]
    },
    {
      "cell_type": "code",
      "execution_count": 5,
      "id": "03da1b22",
      "metadata": {},
      "outputs": [],
      "source": [
        "lattes.get_dados_gerais_by_xml()"
      ]
    },
    {
      "cell_type": "code",
      "execution_count": 6,
      "id": "3f01017d",
      "metadata": {},
      "outputs": [
        {
          "name": "stdout",
          "output_type": "stream",
          "text": [
            "{'id': '0000230621439945', 'nome': 'Rosangela Garcia Jaramillo', 'cpf': None, 'email': None, 'telefone': None, 'sexo': None, 'regiao': None, 'nomes_citacao': 'JARAMILLO, R. G.;GARCIA, R.M.;JARAMILLO, ROSANGELA GARCIA;JARAMILLO, ROSÂNGELA GARCIA', 'dt_atualizacao': datetime.datetime(2022, 1, 24, 14, 49, 45), 'nacionalidade': 'Brasil', 'pais_nascimento': 'Brasil', 'uf_nascimento': 'SP', 'cidade_nascimento': 'São Paulo', 'data_nascimento': None, 'data_falecimento': '', 'sigla_pais_nacionalidade': 'BRA', 'raca_cor': None, 'orcid': 'https://orcid.org/0000-0003-4799-9897'}\n"
          ]
        }
      ],
      "source": [
        "print(lattes.dados_gerais)"
      ]
    },
    {
      "cell_type": "code",
      "execution_count": 8,
      "id": "c4be0d1d",
      "metadata": {},
      "outputs": [],
      "source": [
        "from bs4 import BeautifulSoup, Tag\n"
      ]
    },
    {
      "cell_type": "code",
      "execution_count": null,
      "id": "bf996d65",
      "metadata": {},
      "outputs": [],
      "source": []
    },
    {
      "cell_type": "code",
      "execution_count": 7,
      "id": "55865f68",
      "metadata": {},
      "outputs": [
        {
          "ename": "UndefinedColumn",
          "evalue": "column \"cpf\" of relation \"dados_gerais\" does not exist\nLINE 3:                 (id, nome, cpf, email, telefone, sexo, regia...\n                                   ^\n",
          "output_type": "error",
          "traceback": [
            "\u001b[1;31m---------------------------------------------------------------------------\u001b[0m",
            "\u001b[1;31mUndefinedColumn\u001b[0m                           Traceback (most recent call last)",
            "\u001b[1;32m~\\AppData\\Local\\Temp/ipykernel_4764/4093192707.py\u001b[0m in \u001b[0;36m<module>\u001b[1;34m\u001b[0m\n\u001b[1;32m----> 1\u001b[1;33m \u001b[0mlattes\u001b[0m\u001b[1;33m.\u001b[0m\u001b[0minsere_dados_gerais_no_bd\u001b[0m\u001b[1;33m(\u001b[0m\u001b[1;33m)\u001b[0m\u001b[1;33m\u001b[0m\u001b[1;33m\u001b[0m\u001b[0m\n\u001b[0m",
            "\u001b[1;32m~\\CNPq\\Lattes\\Python\\Lattes.py\u001b[0m in \u001b[0;36minsere_dados_gerais_no_bd\u001b[1;34m(self)\u001b[0m\n\u001b[0;32m    243\u001b[0m                 \u001b[1;33m(\u001b[0m\u001b[1;33m%\u001b[0m\u001b[1;33m(\u001b[0m\u001b[0mid\u001b[0m\u001b[1;33m)\u001b[0m\u001b[0ms\u001b[0m\u001b[1;33m,\u001b[0m \u001b[1;33m%\u001b[0m\u001b[1;33m(\u001b[0m\u001b[0mnome\u001b[0m\u001b[1;33m)\u001b[0m\u001b[0ms\u001b[0m\u001b[1;33m,\u001b[0m \u001b[1;33m%\u001b[0m\u001b[1;33m(\u001b[0m\u001b[0mcpf\u001b[0m\u001b[1;33m)\u001b[0m\u001b[0ms\u001b[0m\u001b[1;33m,\u001b[0m \u001b[1;33m%\u001b[0m\u001b[1;33m(\u001b[0m\u001b[0memail\u001b[0m\u001b[1;33m)\u001b[0m\u001b[0ms\u001b[0m\u001b[1;33m,\u001b[0m \u001b[1;33m%\u001b[0m\u001b[1;33m(\u001b[0m\u001b[0mtelefone\u001b[0m\u001b[1;33m)\u001b[0m\u001b[0ms\u001b[0m\u001b[1;33m,\u001b[0m \u001b[1;33m%\u001b[0m\u001b[1;33m(\u001b[0m\u001b[0msexo\u001b[0m\u001b[1;33m)\u001b[0m\u001b[0ms\u001b[0m\u001b[1;33m,\u001b[0m \u001b[1;33m%\u001b[0m\u001b[1;33m(\u001b[0m\u001b[0mregiao\u001b[0m\u001b[1;33m)\u001b[0m\u001b[0ms\u001b[0m\u001b[1;33m,\u001b[0m \u001b[1;33m%\u001b[0m\u001b[1;33m(\u001b[0m\u001b[0mnomes_citacao\u001b[0m\u001b[1;33m)\u001b[0m\u001b[0ms\u001b[0m\u001b[1;33m)\u001b[0m \u001b[1;33m;\u001b[0m\u001b[1;33m\u001b[0m\u001b[1;33m\u001b[0m\u001b[0m\n\u001b[0;32m    244\u001b[0m             '''\n\u001b[1;32m--> 245\u001b[1;33m         \u001b[0mself\u001b[0m\u001b[1;33m.\u001b[0m\u001b[0mbd\u001b[0m\u001b[1;33m.\u001b[0m\u001b[0mexecute\u001b[0m\u001b[1;33m(\u001b[0m\u001b[0msql\u001b[0m\u001b[1;33m,\u001b[0m \u001b[0mself\u001b[0m\u001b[1;33m.\u001b[0m\u001b[0mdados_gerais\u001b[0m\u001b[1;33m)\u001b[0m\u001b[1;33m\u001b[0m\u001b[1;33m\u001b[0m\u001b[0m\n\u001b[0m\u001b[0;32m    246\u001b[0m \u001b[1;33m\u001b[0m\u001b[0m\n\u001b[0;32m    247\u001b[0m \u001b[1;33m\u001b[0m\u001b[0m\n",
            "\u001b[1;32m~\\CNPq\\Lattes\\Python\\Database.py\u001b[0m in \u001b[0;36mexecute\u001b[1;34m(self, sql, params)\u001b[0m\n\u001b[0;32m     84\u001b[0m         \u001b[1;32mif\u001b[0m \u001b[0mself\u001b[0m\u001b[1;33m.\u001b[0m\u001b[0mshow_sql\u001b[0m\u001b[1;33m:\u001b[0m\u001b[1;33m\u001b[0m\u001b[1;33m\u001b[0m\u001b[0m\n\u001b[0;32m     85\u001b[0m             \u001b[0mprint\u001b[0m\u001b[1;33m(\u001b[0m\u001b[0msql_to_execute\u001b[0m\u001b[1;33m)\u001b[0m\u001b[1;33m\u001b[0m\u001b[1;33m\u001b[0m\u001b[0m\n\u001b[1;32m---> 86\u001b[1;33m         \u001b[0mself\u001b[0m\u001b[1;33m.\u001b[0m\u001b[0mcursor\u001b[0m\u001b[1;33m.\u001b[0m\u001b[0mexecute\u001b[0m\u001b[1;33m(\u001b[0m\u001b[0msql_to_execute\u001b[0m\u001b[1;33m)\u001b[0m\u001b[1;33m\u001b[0m\u001b[1;33m\u001b[0m\u001b[0m\n\u001b[0m\u001b[0;32m     87\u001b[0m         \u001b[0mself\u001b[0m\u001b[1;33m.\u001b[0m\u001b[0mcommit\u001b[0m\u001b[1;33m(\u001b[0m\u001b[1;33m)\u001b[0m\u001b[1;33m\u001b[0m\u001b[1;33m\u001b[0m\u001b[0m\n\u001b[0;32m     88\u001b[0m         \u001b[0mself\u001b[0m\u001b[1;33m.\u001b[0m\u001b[0mclose\u001b[0m\u001b[1;33m(\u001b[0m\u001b[1;33m)\u001b[0m\u001b[1;33m\u001b[0m\u001b[1;33m\u001b[0m\u001b[0m\n",
            "\u001b[1;31mUndefinedColumn\u001b[0m: column \"cpf\" of relation \"dados_gerais\" does not exist\nLINE 3:                 (id, nome, cpf, email, telefone, sexo, regia...\n                                   ^\n"
          ]
        }
      ],
      "source": [
        "lattes.insere_dados_gerais_no_bd()"
      ]
    },
    {
      "cell_type": "code",
      "execution_count": null,
      "id": "7af76673",
      "metadata": {},
      "outputs": [],
      "source": [
        "alberto=Lattes()"
      ]
    },
    {
      "cell_type": "code",
      "execution_count": null,
      "id": "27ef1497",
      "metadata": {},
      "outputs": [],
      "source": [
        "alberto.read_zip_from_disk()"
      ]
    },
    {
      "cell_type": "code",
      "execution_count": null,
      "id": "dd83bbb7",
      "metadata": {},
      "outputs": [],
      "source": [
        "alberto.get_xml()"
      ]
    },
    {
      "cell_type": "code",
      "execution_count": null,
      "id": "5d2f901b",
      "metadata": {},
      "outputs": [],
      "source": [
        "alberto.xml"
      ]
    },
    {
      "cell_type": "code",
      "execution_count": null,
      "id": "546e2eec",
      "metadata": {},
      "outputs": [],
      "source": []
    }
  ],
  "metadata": {
    "kernelspec": {
      "display_name": "Python 3 (ipykernel)",
      "language": "python",
      "name": "python3"
    },
    "language_info": {
      "codemirror_mode": {
        "name": "ipython",
        "version": 3
      },
      "file_extension": ".py",
      "mimetype": "text/x-python",
      "name": "python",
      "nbconvert_exporter": "python",
      "pygments_lexer": "ipython3",
      "version": "3.9.7"
    }
  },
  "nbformat": 4,
  "nbformat_minor": 5
}
