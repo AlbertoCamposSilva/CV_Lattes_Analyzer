{
 "cells": [
  {
   "cell_type": "code",
   "execution_count": 1,
   "id": "88cc60be",
   "metadata": {},
   "outputs": [],
   "source": [
    "from Indicadores import Indicadores"
   ]
  },
  {
   "cell_type": "code",
   "execution_count": 2,
   "id": "e67a8d0c",
   "metadata": {},
   "outputs": [
    {
     "name": "stdout",
     "output_type": "stream",
     "text": [
      "Inicializando Variáveis do Programa\n"
     ]
    }
   ],
   "source": [
    "print('Inicializando Variáveis do Programa')\n",
    "\n",
    "ano_início = 2014\n",
    "ano_fim = 2020\n",
    "nível_início = 0\n",
    "nível_fim = 0\n",
    "novos = True\n",
    "id_para_importar = []"
   ]
  },
  {
   "cell_type": "code",
   "execution_count": 3,
   "id": "635eb394",
   "metadata": {},
   "outputs": [
    {
     "name": "stdout",
     "output_type": "stream",
     "text": [
      "Início em:  2023-04-27 06:59:13.697005\n",
      "Importações Iniciais\n",
      "Fim:  2023-04-27 06:59:17.703946\n"
     ]
    }
   ],
   "source": [
    "from datetime import datetime\n",
    "print('Início em: ', datetime.now())\n",
    "\n",
    "print('Importações Iniciais')\n",
    "\n",
    "from tkinter import NONE\n",
    "from Lattes import Lattes\n",
    "from Carga import Carga\n",
    "from Database import Database\n",
    "import psycopg2\n",
    "import pandas, os\n",
    "import statsmodels.api as sm\n",
    "from urllib.parse import urlencode\n",
    "from psycopg2.extensions import AsIs\n",
    "from Carga import Carga\n",
    "from pandas import pandas as pd\n",
    "import numpy as np\n",
    "import json\n",
    "\n",
    "\n",
    "print('Fim: ', datetime.now())"
   ]
  },
  {
   "cell_type": "code",
   "execution_count": 7,
   "id": "2ceb04b7",
   "metadata": {},
   "outputs": [
    {
     "name": "stdout",
     "output_type": "stream",
     "text": [
      "Carregando indicadores na memória. Início em:  2023-04-27 07:01:46.292789\n",
      "\n",
      "Executando a consulta:\n",
      "select all_lattes.id from all_lattes\n",
      "left join dados_gerais\n",
      "    on all_lattes.id = dados_gerais.id\n",
      "where dados_gerais.dt_importacao is null\n",
      "    and not all_lattes.erro = True\n",
      "and all_lattes.dt_atualizacao > '01/01/2014'\n",
      "and all_lattes.dt_atualizacao < '31/12/2020'\n",
      "\n"
     ]
    }
   ],
   "source": [
    "#Carregar arquivo na memória\n",
    "print('Carregando indicadores na memória. Início em: ', datetime.now())\n",
    "\n",
    "db = Database('CNPq')\n",
    "engine = Carga.db_engine()\n",
    "\n",
    "sql = \"select all_lattes.id from all_lattes\"\n",
    "if novos:\n",
    "    sql += \"\"\"\n",
    "left join dados_gerais\n",
    "    on all_lattes.id = dados_gerais.id\n",
    "where dados_gerais.dt_importacao is null\n",
    "    and not all_lattes.erro = True\n",
    "\"\"\"\n",
    "if ano_início > 0:\n",
    "    sql += f\"and all_lattes.dt_atualizacao > '01/01/{ano_início}'\\n\"\n",
    "if ano_fim > 0:\n",
    "    sql += f\"and all_lattes.dt_atualizacao < '31/12/{ano_fim}'\\n\"\n",
    "if nível_início > 0:\n",
    "    sql += f\"and all_lattes.cod_nivel > {nível_início}\\n\"\n",
    "if nível_fim > 0:\n",
    "    sql += f\"and all_lattes.cod_nivel < {nível_fim}\\n\"\n",
    "    \n",
    "print()\n",
    "print(\"Executando a consulta:\")\n",
    "print (sql)"
   ]
  },
  {
   "cell_type": "code",
   "execution_count": null,
   "id": "62fd4091",
   "metadata": {},
   "outputs": [],
   "source": [
    "dt = pd.read_sql(sql, engine)\n",
    "print(f'dt.size: {dt.size}')"
   ]
  },
  {
   "cell_type": "code",
   "execution_count": 5,
   "id": "f8bf4e55",
   "metadata": {},
   "outputs": [
    {
     "name": "stdout",
     "output_type": "stream",
     "text": [
      "dt.size: 2\n",
      "Término em:  2023-04-27 07:00:23.705456\n"
     ]
    }
   ],
   "source": [
    "\n",
    "if len(id_para_importar) > 0:\n",
    "    dt = dt.loc[dt.id.astype(str).str[0].isin(id_para_importar)]\n",
    "    print(f'New dt.size: {dt.size}')\n",
    "print('Término em: ', datetime.now())"
   ]
  },
  {
   "cell_type": "code",
   "execution_count": 6,
   "id": "0101c13d",
   "metadata": {},
   "outputs": [
    {
     "name": "stdout",
     "output_type": "stream",
     "text": [
      "Iniciado em 2023-04-27 07:00:23.732718.\n",
      "0/2. Fazendo id: (0, id    1958710051158326\n",
      "Name: 0, dtype: int64).\n"
     ]
    }
   ],
   "source": [
    "número_ids_total = dt.size\n",
    "número_ids_já_feitos = 0\n",
    "tempo_início = datetime.now()\n",
    "print(f'Iniciado em {tempo_início}.')\n",
    "num_imortacoes = -1\n",
    "pular_no_início = 0\n",
    "\n",
    "for id in dt.iterrows():\n",
    "    if número_ids_já_feitos < pular_no_início:\n",
    "        número_ids_já_feitos += 1\n",
    "        continue\n",
    "    if not número_ids_já_feitos == 0:\n",
    "        porcentagem_já_feita = (número_ids_já_feitos/número_ids_total)\n",
    "        tempo_passado = datetime.now() - tempo_início\n",
    "        tempo_por_id = tempo_passado / número_ids_já_feitos\n",
    "        tempo_restante = (número_ids_total - número_ids_já_feitos) * tempo_por_id\n",
    "        tempo_em_que_vai_acabar = datetime.now() + tempo_restante\n",
    "        if número_ids_já_feitos % 1000 == 0:\n",
    "            print(f'{número_ids_já_feitos}/{número_ids_total}. {porcentagem_já_feita * 100}% feitos. Fazendo id: {id}. Acabará em {tempo_em_que_vai_acabar}. O Último demorou: {datetime.now() - tempo_último}.')\n",
    "    else:\n",
    "        if número_ids_já_feitos % 1000 == 0:\n",
    "            print(f'{número_ids_já_feitos}/{número_ids_total}. Fazendo id: {id}.')\n",
    "    tempo_último = datetime.now()\n",
    "    \n",
    "    indicador = Indicadores(id=str(int(id[1])))\n",
    "    indicador.show_messages = False\n",
    "    indicador.show_sql = False\n",
    "    indicador.atualiza()\n",
    "    número_ids_já_feitos += 1\n",
    "    if num_imortacoes > 0 and número_ids_já_feitos > num_imortacoes:\n",
    "        break\n",
    "    #print(f'Id: {int(id[1])} atualizado. {num} / {total} realizados.')"
   ]
  }
 ],
 "metadata": {
  "kernelspec": {
   "display_name": "Python 3 (ipykernel)",
   "language": "python",
   "name": "python3"
  },
  "language_info": {
   "codemirror_mode": {
    "name": "ipython",
    "version": 3
   },
   "file_extension": ".py",
   "mimetype": "text/x-python",
   "name": "python",
   "nbconvert_exporter": "python",
   "pygments_lexer": "ipython3",
   "version": "3.9.7"
  }
 },
 "nbformat": 4,
 "nbformat_minor": 5
}
