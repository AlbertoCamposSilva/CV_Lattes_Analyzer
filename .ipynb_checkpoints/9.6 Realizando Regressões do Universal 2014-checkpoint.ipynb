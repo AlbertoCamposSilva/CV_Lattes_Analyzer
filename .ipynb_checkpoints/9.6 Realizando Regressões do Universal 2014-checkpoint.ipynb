{
  "cells": [
    {
      "cell_type": "code",
      "execution_count": 1,
      "id": "03c0a209",
      "metadata": {},
      "outputs": [],
      "source": [
        "from Carga import Carga\n"
      ]
    },
    {
      "cell_type": "markdown",
      "id": "eb45e2c1",
      "metadata": {},
      "source": [
        "# Importando a Carga - Demanda Bruta da Chamada"
      ]
    },
    {
      "cell_type": "code",
      "execution_count": null,
      "id": "0349ced0",
      "metadata": {},
      "outputs": [],
      "source": [
        "Carga.import_demanda_bruta_para_bd(pasta='C:/Users/silva/CNPq/Lattes/Planilhas/UNIVERSAL 2014')"
      ]
    },
    {
      "cell_type": "markdown",
      "id": "a19f03fc",
      "metadata": {},
      "source": [
        "## Atualizando os IDs na Demanda Bruta"
      ]
    },
    {
      "cell_type": "code",
      "execution_count": 4,
      "id": "19abd558",
      "metadata": {},
      "outputs": [
        {
          "name": "stdout",
          "output_type": "stream",
          "text": [
            "Banco de dados atualizado.\n"
          ]
        },
        {
          "data": {
            "text/plain": [
              "'IDs da Demanda Bruta atualizados'"
            ]
          },
          "execution_count": 4,
          "metadata": {},
          "output_type": "execute_result"
        }
      ],
      "source": [
        "Carga.atualiza_id_em_demanda_bruta()"
      ]
    },
    {
      "cell_type": "markdown",
      "id": "da363122",
      "metadata": {},
      "source": [
        "# Importando Carga Dados Pessoais"
      ]
    },
    {
      "cell_type": "code",
      "execution_count": 2,
      "id": "deb51c9a",
      "metadata": {},
      "outputs": [],
      "source": [
        "path = 'C:/Users/silva/CNPq/Lattes/Planilhas/Dados Pessoais UNIVERSAL 2014'"
      ]
    },
    {
      "cell_type": "code",
      "execution_count": 3,
      "id": "72248172",
      "metadata": {},
      "outputs": [
        {
          "name": "stdout",
          "output_type": "stream",
          "text": [
            "Pegando lista de arquivos para baixar:\n",
            "Carregando arquivo: C:/Users/silva/CNPq/Lattes/Planilhas/Dados Pessoais UNIVERSAL 2014\\UNIVERSAL 2014 - Faixa A.xlsx\n"
          ]
        },
        {
          "name": "stderr",
          "output_type": "stream",
          "text": [
            "C:\\Python\\anaconda3\\lib\\site-packages\\openpyxl\\styles\\stylesheet.py:226: UserWarning: Workbook contains no default style, apply openpyxl's default\n",
            "  warn(\"Workbook contains no default style, apply openpyxl's default\")\n"
          ]
        },
        {
          "name": "stdout",
          "output_type": "stream",
          "text": [
            "Carregando arquivo: C:/Users/silva/CNPq/Lattes/Planilhas/Dados Pessoais UNIVERSAL 2014\\UNIVERSAL 2014 - Faixa B.xlsx\n",
            "Carregando arquivo: C:/Users/silva/CNPq/Lattes/Planilhas/Dados Pessoais UNIVERSAL 2014\\UNIVERSAL 2014 - Faixa C.xlsx\n"
          ]
        },
        {
          "data": {
            "text/html": [
              "<div>\n",
              "<style scoped>\n",
              "    .dataframe tbody tr th:only-of-type {\n",
              "        vertical-align: middle;\n",
              "    }\n",
              "\n",
              "    .dataframe tbody tr th {\n",
              "        vertical-align: top;\n",
              "    }\n",
              "\n",
              "    .dataframe thead th {\n",
              "        text-align: right;\n",
              "    }\n",
              "</style>\n",
              "<table border=\"1\" class=\"dataframe\">\n",
              "  <thead>\n",
              "    <tr style=\"text-align: right;\">\n",
              "      <th></th>\n",
              "      <th>nome</th>\n",
              "      <th>cpf</th>\n",
              "      <th>cpf com máscára</th>\n",
              "      <th>id</th>\n",
              "      <th>e-mail</th>\n",
              "      <th>telefone</th>\n",
              "      <th>processos</th>\n",
              "      <th>chamada</th>\n",
              "      <th>index</th>\n",
              "    </tr>\n",
              "  </thead>\n",
              "  <tbody>\n",
              "    <tr>\n",
              "      <th>0</th>\n",
              "      <td>Maria Antonieta Lopes de Souza</td>\n",
              "      <td>2.558370e+10</td>\n",
              "      <td>***.836.970.****</td>\n",
              "      <td>4120478899164256</td>\n",
              "      <td>carollo@terra.com.br, maria.antonieta@pucrs.br</td>\n",
              "      <td>(51) 33203545 - Ramal: 4150, (51) 37379356</td>\n",
              "      <td>477823/2010-6,472293/2009-5,479920/2007-9,1510...</td>\n",
              "      <td>UNIVERSAL 2014 - Faixa C</td>\n",
              "      <td>NaN</td>\n",
              "    </tr>\n",
              "    <tr>\n",
              "      <th>1</th>\n",
              "      <td>Maria Angelica Guzman-Silva</td>\n",
              "      <td>4.682672e+10</td>\n",
              "      <td>***.267.187.****</td>\n",
              "      <td>4447926999701443</td>\n",
              "      <td>mariaangelicaguzmansilva@id.uff.br, mptmags@ya...</td>\n",
              "      <td>(21) 26104414, (21) 26299044</td>\n",
              "      <td>301548/2011-0,456545/2012-3,010314/2005-9,1519...</td>\n",
              "      <td>UNIVERSAL 2014 - Faixa C</td>\n",
              "      <td>NaN</td>\n",
              "    </tr>\n",
              "    <tr>\n",
              "      <th>2</th>\n",
              "      <td>Walter Quadros Ribeiro Junior</td>\n",
              "      <td>9.060754e+10</td>\n",
              "      <td>***.075.388.****</td>\n",
              "      <td>5161593846544654</td>\n",
              "      <td>walter.quadros@embrapa.br, walterquadros1@gmai...</td>\n",
              "      <td>(61)  2738694, (61)  3889805</td>\n",
              "      <td>425993/2018-3,306353/2016-4,407858/2016-4,4811...</td>\n",
              "      <td>UNIVERSAL 2014 - Faixa C</td>\n",
              "      <td>NaN</td>\n",
              "    </tr>\n",
              "    <tr>\n",
              "      <th>3</th>\n",
              "      <td>Vera Lúcia de Moraes Huszar</td>\n",
              "      <td>2.206189e+10</td>\n",
              "      <td>***.618.940.****</td>\n",
              "      <td>9822692027567405</td>\n",
              "      <td>vera.huszar@pq.cnpq.br, vhuszar@gbl.com.br, vl...</td>\n",
              "      <td>(21) 25296946, (5521) 25672009</td>\n",
              "      <td>304284/2017-3,403515/2016-5,408585/2017-0,4203...</td>\n",
              "      <td>UNIVERSAL 2014 - Faixa C</td>\n",
              "      <td>NaN</td>\n",
              "    </tr>\n",
              "    <tr>\n",
              "      <th>4</th>\n",
              "      <td>Thereza Fonseca QUÍRICO-SANTOS</td>\n",
              "      <td>2.280269e+10</td>\n",
              "      <td>***.026.907.****</td>\n",
              "      <td>382591463869002</td>\n",
              "      <td>tquirico@id.uff.br, tquirico@pq.cnpq.br, tquir...</td>\n",
              "      <td>(21) 26112230, (21) 26292305</td>\n",
              "      <td>461577/2000-3,470162/2001-5,453987/2014-1,3111...</td>\n",
              "      <td>UNIVERSAL 2014 - Faixa C</td>\n",
              "      <td>NaN</td>\n",
              "    </tr>\n",
              "    <tr>\n",
              "      <th>...</th>\n",
              "      <td>...</td>\n",
              "      <td>...</td>\n",
              "      <td>...</td>\n",
              "      <td>...</td>\n",
              "      <td>...</td>\n",
              "      <td>...</td>\n",
              "      <td>...</td>\n",
              "      <td>...</td>\n",
              "      <td>...</td>\n",
              "    </tr>\n",
              "    <tr>\n",
              "      <th>966379</th>\n",
              "      <td>Charles Savaris Carminati</td>\n",
              "      <td>2.566968e+09</td>\n",
              "      <td>***.669.679.****</td>\n",
              "      <td>9285565904685583</td>\n",
              "      <td>charles@oais.cloud</td>\n",
              "      <td>(48) 34312500</td>\n",
              "      <td>424591/2021-9</td>\n",
              "      <td>UNIVERSAL 2014 - Faixa A</td>\n",
              "      <td>241693.0</td>\n",
              "    </tr>\n",
              "    <tr>\n",
              "      <th>966380</th>\n",
              "      <td>Luiz Augusto Solcia</td>\n",
              "      <td>2.267036e+10</td>\n",
              "      <td>***.703.638.****</td>\n",
              "      <td>1035859441472425</td>\n",
              "      <td>luiz.solcia@pq.cnpq.br, luizsolcia@gmail.com</td>\n",
              "      <td>(16) 33248207</td>\n",
              "      <td>424570/2021-1</td>\n",
              "      <td>UNIVERSAL 2014 - Faixa A</td>\n",
              "      <td>241694.0</td>\n",
              "    </tr>\n",
              "    <tr>\n",
              "      <th>966381</th>\n",
              "      <td>Jose Saturnino Rodrigues</td>\n",
              "      <td>2.863383e+10</td>\n",
              "      <td>***.338.307.****</td>\n",
              "      <td>8702400658007265</td>\n",
              "      <td>anasflav@gmail.com</td>\n",
              "      <td>(71) 30334507</td>\n",
              "      <td>424798/2021-2</td>\n",
              "      <td>UNIVERSAL 2014 - Faixa A</td>\n",
              "      <td>241695.0</td>\n",
              "    </tr>\n",
              "    <tr>\n",
              "      <th>966382</th>\n",
              "      <td>José Adalberto do Nascimento</td>\n",
              "      <td>7.844144e+08</td>\n",
              "      <td>***.844.143.****</td>\n",
              "      <td>752733150246191</td>\n",
              "      <td>logospdi@gmail.com</td>\n",
              "      <td>(85) 999999999</td>\n",
              "      <td>424868/2021-0</td>\n",
              "      <td>UNIVERSAL 2014 - Faixa A</td>\n",
              "      <td>241696.0</td>\n",
              "    </tr>\n",
              "    <tr>\n",
              "      <th>966383</th>\n",
              "      <td>Bahareh Sedaghat</td>\n",
              "      <td>NaN</td>\n",
              "      <td>***...****</td>\n",
              "      <td>7473389058746377</td>\n",
              "      <td>bahar.biology89@gmail.com</td>\n",
              "      <td>(98) 9336061923</td>\n",
              "      <td>400214/2022-9</td>\n",
              "      <td>UNIVERSAL 2014 - Faixa A</td>\n",
              "      <td>241697.0</td>\n",
              "    </tr>\n",
              "  </tbody>\n",
              "</table>\n",
              "<p>966384 rows × 9 columns</p>\n",
              "</div>"
            ],
            "text/plain": [
              "                                  nome           cpf   cpf com máscára  \\\n",
              "0       Maria Antonieta Lopes de Souza  2.558370e+10  ***.836.970.****   \n",
              "1          Maria Angelica Guzman-Silva  4.682672e+10  ***.267.187.****   \n",
              "2        Walter Quadros Ribeiro Junior  9.060754e+10  ***.075.388.****   \n",
              "3          Vera Lúcia de Moraes Huszar  2.206189e+10  ***.618.940.****   \n",
              "4       Thereza Fonseca QUÍRICO-SANTOS  2.280269e+10  ***.026.907.****   \n",
              "...                                ...           ...               ...   \n",
              "966379       Charles Savaris Carminati  2.566968e+09  ***.669.679.****   \n",
              "966380             Luiz Augusto Solcia  2.267036e+10  ***.703.638.****   \n",
              "966381        Jose Saturnino Rodrigues  2.863383e+10  ***.338.307.****   \n",
              "966382    José Adalberto do Nascimento  7.844144e+08  ***.844.143.****   \n",
              "966383                Bahareh Sedaghat           NaN        ***...****   \n",
              "\n",
              "                      id                                             e-mail  \\\n",
              "0       4120478899164256     carollo@terra.com.br, maria.antonieta@pucrs.br   \n",
              "1       4447926999701443  mariaangelicaguzmansilva@id.uff.br, mptmags@ya...   \n",
              "2       5161593846544654  walter.quadros@embrapa.br, walterquadros1@gmai...   \n",
              "3       9822692027567405  vera.huszar@pq.cnpq.br, vhuszar@gbl.com.br, vl...   \n",
              "4        382591463869002  tquirico@id.uff.br, tquirico@pq.cnpq.br, tquir...   \n",
              "...                  ...                                                ...   \n",
              "966379  9285565904685583                                 charles@oais.cloud   \n",
              "966380  1035859441472425       luiz.solcia@pq.cnpq.br, luizsolcia@gmail.com   \n",
              "966381  8702400658007265                                 anasflav@gmail.com   \n",
              "966382   752733150246191                                 logospdi@gmail.com   \n",
              "966383  7473389058746377                          bahar.biology89@gmail.com   \n",
              "\n",
              "                                          telefone  \\\n",
              "0       (51) 33203545 - Ramal: 4150, (51) 37379356   \n",
              "1                     (21) 26104414, (21) 26299044   \n",
              "2                     (61)  2738694, (61)  3889805   \n",
              "3                   (21) 25296946, (5521) 25672009   \n",
              "4                     (21) 26112230, (21) 26292305   \n",
              "...                                            ...   \n",
              "966379                               (48) 34312500   \n",
              "966380                               (16) 33248207   \n",
              "966381                               (71) 30334507   \n",
              "966382                              (85) 999999999   \n",
              "966383                             (98) 9336061923   \n",
              "\n",
              "                                                processos  \\\n",
              "0       477823/2010-6,472293/2009-5,479920/2007-9,1510...   \n",
              "1       301548/2011-0,456545/2012-3,010314/2005-9,1519...   \n",
              "2       425993/2018-3,306353/2016-4,407858/2016-4,4811...   \n",
              "3       304284/2017-3,403515/2016-5,408585/2017-0,4203...   \n",
              "4       461577/2000-3,470162/2001-5,453987/2014-1,3111...   \n",
              "...                                                   ...   \n",
              "966379                                      424591/2021-9   \n",
              "966380                                      424570/2021-1   \n",
              "966381                                      424798/2021-2   \n",
              "966382                                      424868/2021-0   \n",
              "966383                                      400214/2022-9   \n",
              "\n",
              "                         chamada     index  \n",
              "0       UNIVERSAL 2014 - Faixa C       NaN  \n",
              "1       UNIVERSAL 2014 - Faixa C       NaN  \n",
              "2       UNIVERSAL 2014 - Faixa C       NaN  \n",
              "3       UNIVERSAL 2014 - Faixa C       NaN  \n",
              "4       UNIVERSAL 2014 - Faixa C       NaN  \n",
              "...                          ...       ...  \n",
              "966379  UNIVERSAL 2014 - Faixa A  241693.0  \n",
              "966380  UNIVERSAL 2014 - Faixa A  241694.0  \n",
              "966381  UNIVERSAL 2014 - Faixa A  241695.0  \n",
              "966382  UNIVERSAL 2014 - Faixa A  241696.0  \n",
              "966383  UNIVERSAL 2014 - Faixa A  241697.0  \n",
              "\n",
              "[966384 rows x 9 columns]"
            ]
          },
          "execution_count": 3,
          "metadata": {},
          "output_type": "execute_result"
        }
      ],
      "source": [
        "Carga.carrega_dados_gerais (path = path)"
      ]
    },
    {
      "cell_type": "markdown",
      "id": "c16c72b9",
      "metadata": {},
      "source": [
        "## Importante - Verificar se todos os IDs foram atualizados."
      ]
    },
    {
      "cell_type": "markdown",
      "id": "8864e473",
      "metadata": {},
      "source": [
        "# Realizando Regressões"
      ]
    },
    {
      "cell_type": "code",
      "execution_count": 5,
      "id": "cb083fec",
      "metadata": {},
      "outputs": [],
      "source": [
        "from Regressao import Regressao"
      ]
    },
    {
      "cell_type": "code",
      "execution_count": 6,
      "id": "6080980e",
      "metadata": {},
      "outputs": [],
      "source": [
        "reg = Regressao()"
      ]
    },
    {
      "cell_type": "code",
      "execution_count": null,
      "id": "907b502e",
      "metadata": {},
      "outputs": [
        {
          "name": "stdout",
          "output_type": "stream",
          "text": [
            "Pegando listas de regressões:\n",
            "Pegando lista de indicadores no BD\n"
          ]
        }
      ],
      "source": [
        "reg.faz_regressoes(refaz=True)"
      ]
    },
    {
      "cell_type": "code",
      "execution_count": null,
      "id": "824e0990",
      "metadata": {},
      "outputs": [],
      "source": [
        "print('2')"
      ]
    },
    {
      "cell_type": "code",
      "execution_count": null,
      "id": "4c203380",
      "metadata": {},
      "outputs": [],
      "source": []
    }
  ],
  "metadata": {
    "kernelspec": {
      "display_name": "Python 3 (ipykernel)",
      "language": "python",
      "name": "python3"
    },
    "language_info": {
      "codemirror_mode": {
        "name": "ipython",
        "version": 3
      },
      "file_extension": ".py",
      "mimetype": "text/x-python",
      "name": "python",
      "nbconvert_exporter": "python",
      "pygments_lexer": "ipython3",
      "version": "3.9.7"
    }
  },
  "nbformat": 4,
  "nbformat_minor": 5
}
