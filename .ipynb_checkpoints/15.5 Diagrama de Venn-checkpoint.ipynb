{
 "cells": [
  {
   "cell_type": "code",
   "execution_count": null,
   "id": "c197aa81",
   "metadata": {},
   "outputs": [],
   "source": [
    "#pip install matplotlib-venn"
   ]
  },
  {
   "cell_type": "code",
   "execution_count": 1,
   "id": "5099b29b",
   "metadata": {},
   "outputs": [
    {
     "name": "stdout",
     "output_type": "stream",
     "text": [
      "Início em:  2023-04-13 10:02:54.975010\n"
     ]
    }
   ],
   "source": [
    "from datetime import datetime\n",
    "Início_dos_trabalhos = datetime.now()\n",
    "print('Início em: ', Início_dos_trabalhos)\n",
    "\n",
    "from matplotlib_venn import venn3, venn3_circles\n",
    "from matplotlib import pyplot as plt\n",
    "from Carga import Carga\n",
    "from Database import Database\n",
    "from pandas import pandas as pd\n"
   ]
  },
  {
   "cell_type": "code",
   "execution_count": 7,
   "id": "63b33fba",
   "metadata": {},
   "outputs": [
    {
     "name": "stdout",
     "output_type": "stream",
     "text": [
      "dt.size: 233750\n",
      "Término em:  2023-04-13 10:03:49.749691\n"
     ]
    }
   ],
   "source": [
    "\n",
    "db = Database('CNPq')\n",
    "engine = Carga.db_engine()\n",
    "dt = pd.read_sql(\"\"\"\n",
    "select * from financiamentos_doutorandos_2014\n",
    "\tinner join all_lattes\n",
    "\t\ton all_lattes.id = financiamentos_doutorandos_2014.id\n",
    "where all_lattes.dt_atualizacao > '01/01/2020'\"\"\", engine)\n",
    "print(f'dt.size: {dt.size}')\n",
    "\n",
    "print('Término em: ', datetime.now())"
   ]
  },
  {
   "cell_type": "code",
   "execution_count": 12,
   "id": "a39d7869",
   "metadata": {},
   "outputs": [],
   "source": [
    "dt['cnpq'] = dt.apply(lambda row: True if row['pagtos']>0 else False, axis=1)"
   ]
  },
  {
   "cell_type": "code",
   "execution_count": 34,
   "id": "f2807baa",
   "metadata": {},
   "outputs": [],
   "source": [
    "num_cnpq = len(dt.loc[dt['cnpq'] == True].loc[dt['capes'] == False])\n",
    "num_capes = len(dt.loc[dt['cnpq'] == False].loc[dt['capes'] == True])\n",
    "num_nenhum = len(dt.loc[dt['cnpq'] == False].loc[dt['capes'] == False])\n",
    "num_capes_cnpq = len(dt.loc[dt['cnpq'] == True].loc[dt['capes'] == True])\n",
    "total = len(dt)"
   ]
  },
  {
   "cell_type": "code",
   "execution_count": 35,
   "id": "da55a346",
   "metadata": {},
   "outputs": [
    {
     "name": "stdout",
     "output_type": "stream",
     "text": [
      "Total:  21250\n"
     ]
    },
    {
     "data": {
      "image/png": "[encoded data removed]",
      "text/plain": [
       "<Figure size 432x288 with 1 Axes>"
      ]
     },
     "metadata": {},
     "output_type": "display_data"
    }
   ],
   "source": [
    " \n",
    "# depict venn diagram\n",
    "venn3(subsets=(num_capes, num_cnpq, num_capes_cnpq, num_nenhum, 0, 0, 0), \n",
    "      set_labels=('CAPES', 'CNPq', 'Nenhum'), \n",
    "      set_colors=(\"orange\", \"blue\", \"red\"), alpha=0.9)\n",
    "  \n",
    "# outline of circle line style and width\n",
    "#venn3_circles(subsets=(8536, 2452, 416, 10446, 0, 0, 0),\n",
    "#              linestyle=\"dashed\", linewidth=1, alpha=0.9)\n",
    "  \n",
    "# title of the venn diagram\n",
    "#fig, ax = plt.subplots()\n",
    "plt.title(\"Bolsas de Doutorado\")\n",
    "#plt.figure(figsize=(60,60))\n",
    "#plt.savefig('Diagrama de Venn - Financiamento a Doutorandos 2014.eps', format='eps')\n",
    "#plt.savefig('Diagrama de Venn - Financiamento a Doutorandos 2014.svg', format='svg', dpi=600)\n",
    "plt.savefig('Diagrama de Venn - Financiamento a Doutorandos 2014.png', format='png', dpi=600)\n",
    "#plt.savefig('Diagrama de Venn - Financiamento a Doutorandos 2014.jpg', format='jpg', dpi=600)\n",
    "#plt.show()\n",
    "print('Total: ', total)\n"
   ]
  },
  {
   "cell_type": "code",
   "execution_count": null,
   "id": "0909d08f",
   "metadata": {},
   "outputs": [],
   "source": []
  }
 ],
 "metadata": {
  "kernelspec": {
   "display_name": "Python 3 (ipykernel)",
   "language": "python",
   "name": "python3"
  },
  "language_info": {
   "codemirror_mode": {
    "name": "ipython",
    "version": 3
   },
   "file_extension": ".py",
   "mimetype": "text/x-python",
   "name": "python",
   "nbconvert_exporter": "python",
   "pygments_lexer": "ipython3",
   "version": "3.9.7"
  }
 },
 "nbformat": 4,
 "nbformat_minor": 5
}
