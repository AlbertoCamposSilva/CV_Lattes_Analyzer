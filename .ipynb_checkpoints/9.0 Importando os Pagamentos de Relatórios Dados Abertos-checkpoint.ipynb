{
 "cells": [
  {
   "cell_type": "code",
   "execution_count": null,
   "id": "f7e769fb",
   "metadata": {},
   "outputs": [],
   "source": [
    "from Lattes import Lattes\n",
    "import pandas\n",
    "import matplotlib.pyplot as plt\n",
    "import numpy as np\n",
    "from sklearn import datasets, linear_model\n",
    "from sklearn.metrics import mean_squared_error, r2_score\n",
    "from sklearn.linear_model import LinearRegression"
   ]
  },
  {
   "cell_type": "code",
   "execution_count": null,
   "id": "5afb67dc",
   "metadata": {},
   "outputs": [],
   "source": []
  },
  {
   "cell_type": "code",
   "execution_count": 161,
   "id": "47927238",
   "metadata": {},
   "outputs": [
    {
     "name": "stdout",
     "output_type": "stream",
     "text": [
      "\n",
      "\n",
      "Importing ano: 2013\n",
      "Finished formatting file\n",
      "Readed Pandas CSV\n",
      "BD Updated\n",
      "\n",
      "\n",
      "Importing ano: 2012\n",
      "Finished formatting file\n",
      "Readed Pandas CSV\n",
      "BD Updated\n",
      "\n",
      "\n",
      "Importing ano: 2011\n",
      "Finished formatting file\n",
      "Readed Pandas CSV\n",
      "BD Updated\n",
      "\n",
      "\n",
      "Importing ano: 2010\n",
      "Finished formatting file\n",
      "Readed Pandas CSV\n",
      "BD Updated\n",
      "\n",
      "\n",
      "Importing ano: 2009\n",
      "Finished formatting file\n",
      "Readed Pandas CSV\n",
      "BD Updated\n",
      "\n",
      "\n",
      "Importing ano: 2008\n",
      "Finished formatting file\n",
      "Readed Pandas CSV\n",
      "BD Updated\n",
      "\n",
      "\n",
      "Importing ano: 2007\n",
      "Finished formatting file\n",
      "Readed Pandas CSV\n",
      "BD Updated\n",
      "\n",
      "\n",
      "Importing ano: 2006\n",
      "Finished formatting file\n",
      "Readed Pandas CSV\n",
      "BD Updated\n",
      "\n",
      "\n",
      "Importing ano: 2005\n",
      "Finished formatting file\n",
      "Readed Pandas CSV\n",
      "BD Updated\n",
      "\n",
      "\n",
      "Importing ano: 2004\n",
      "Finished formatting file\n",
      "Readed Pandas CSV\n",
      "BD Updated\n",
      "\n",
      "\n",
      "Importing ano: 2003\n",
      "Finished formatting file\n",
      "Readed Pandas CSV\n",
      "BD Updated\n",
      "\n",
      "\n",
      "Importing ano: 2002\n",
      "Finished formatting file\n",
      "Readed Pandas CSV\n",
      "BD Updated\n"
     ]
    }
   ],
   "source": [
    "for ano in range(2013, 2001, -1):\n",
    "    print(f'\\n\\nImporting ano: {ano}')\n",
    "    num = 0\n",
    "    infile = open(f'C:/Users/silva/CNPq/Lattes/Planilhas/Pagamentos/investimentos_cnpq_{ano}.csv', 'r', encoding='latin1')\n",
    "    outfile = open('C:/Users/silva/CNPq/Lattes/Planilhas/Pagamentos/investimentos_cnpq_{ano} 2.csv', 'w', encoding='utf8')\n",
    "    for line in infile.readlines():\n",
    "            num+=1\n",
    "            #line.decode(encoding='latin1')\n",
    "            line.encode(encoding='utf-8')\n",
    "            #if num >=47:break\n",
    "\n",
    "            x = line.rfind(\",\")\n",
    "            y = line[:x].rfind(\",\")\n",
    "            if line[y+1:x].isnumeric():\n",
    "                line = line[:x] + '.' + line[x+1:]\n",
    "            outfile.write(line)\n",
    "            #print(f'{num} - {line}')\n",
    "    infile.close()        \n",
    "    outfile.close()\n",
    "    print('Finished formatting file')\n",
    "    rel_2021 = pandas.read_csv('C:/Users/silva/CNPq/Lattes/Planilhas/Pagamentos/investimentos_cnpq_{ano} 2.csv', header=0)\n",
    "    print('Readed Pandas CSV')\n",
    "    rel_2021.dropna(subset = [\"Processo\"], inplace=True)\n",
    "    rel_2021['Valor Pago'] = rel_2021['Valor Pago'].replace(\",\", \".\", regex=True)\n",
    "    rel_2021['Valor Pago'] =  pandas.to_numeric(rel_2021['Valor Pago'])\n",
    "    engine = Carga.db_engine()\n",
    "    rel_2021.to_sql('pagamentos', engine, if_exists='append', index = False)\n",
    "    print('BD Updated')\n",
    "        \n"
   ]
  },
  {
   "cell_type": "code",
   "execution_count": null,
   "id": "07b9c1b0",
   "metadata": {},
   "outputs": [],
   "source": []
  },
  {
   "cell_type": "code",
   "execution_count": 189,
   "id": "69a8b314",
   "metadata": {},
   "outputs": [],
   "source": [
    "SQL = '''\n",
    "select indicadores.id, \n",
    "\tindicadores.tipo, \n",
    "\tlista_indicadores.descricao, \n",
    "\tdemanda_bruta.\"Processo\", \n",
    "\t\"Chamada\",\n",
    "\tsum(\"Valor Pago\") FILTER (WHERE \"Ano Referência\" >= 2014 and \"Ano Referência\" < 2020) AS pagto,\n",
    "\tsum(qty) FILTER (WHERE ano <= 2014) AS qty_2014,\n",
    "\tsum(qty) FILTER (WHERE ano <= 2020) AS qty_2020\n",
    "from indicadores inner join demanda_bruta \n",
    "\ton indicadores.id = cast(demanda_bruta.id AS bigint)\n",
    "inner join all_lattes \n",
    "\ton cast(demanda_bruta.id AS bigint) = all_lattes.id\n",
    "inner join areas_conhecimento\n",
    "\ton all_lattes.id = areas_conhecimento.id\n",
    "inner join lista_indicadores\n",
    "\ton indicadores.tipo = lista_indicadores.id\n",
    "left join pagamentos\n",
    "\ton demanda_bruta.\"Processo\" = pagamentos.\"Processo\"\n",
    "where all_lattes.dt_atualizacao > '2020-01-01'\n",
    "\tand areas_conhecimento.area = 'Física'\n",
    "\tand indicadores.tipo=9\n",
    "GROUP BY indicadores.id, indicadores.tipo, lista_indicadores.descricao, demanda_bruta.\"Processo\", \"Chamada\"\n",
    "\n",
    "'''"
   ]
  },
  {
   "cell_type": "code",
   "execution_count": 190,
   "id": "16b5e332",
   "metadata": {},
   "outputs": [],
   "source": [
    "engine = Carga.db_engine()\n",
    "pd = pandas.read_sql(SQL, engine)"
   ]
  },
  {
   "cell_type": "code",
   "execution_count": 191,
   "id": "77c1b95b",
   "metadata": {},
   "outputs": [
    {
     "data": {
      "text/html": [
       "<div>\n",
       "<style scoped>\n",
       "    .dataframe tbody tr th:only-of-type {\n",
       "        vertical-align: middle;\n",
       "    }\n",
       "\n",
       "    .dataframe tbody tr th {\n",
       "        vertical-align: top;\n",
       "    }\n",
       "\n",
       "    .dataframe thead th {\n",
       "        text-align: right;\n",
       "    }\n",
       "</style>\n",
       "<table border=\"1\" class=\"dataframe\">\n",
       "  <thead>\n",
       "    <tr style=\"text-align: right;\">\n",
       "      <th></th>\n",
       "      <th>id</th>\n",
       "      <th>tipo</th>\n",
       "      <th>descricao</th>\n",
       "      <th>Processo</th>\n",
       "      <th>Chamada</th>\n",
       "      <th>pagto</th>\n",
       "      <th>qty_2014</th>\n",
       "      <th>qty_2020</th>\n",
       "    </tr>\n",
       "  </thead>\n",
       "  <tbody>\n",
       "    <tr>\n",
       "      <th>0</th>\n",
       "      <td>27122259511964</td>\n",
       "      <td>9</td>\n",
       "      <td>ARTIGO-PUBLICADO</td>\n",
       "      <td>431037/2016-7</td>\n",
       "      <td>UNIVERSAL 2016 - FAIXA A</td>\n",
       "      <td>0.0</td>\n",
       "      <td>4.0</td>\n",
       "      <td>6.0</td>\n",
       "    </tr>\n",
       "    <tr>\n",
       "      <th>1</th>\n",
       "      <td>29803620389112</td>\n",
       "      <td>9</td>\n",
       "      <td>ARTIGO-PUBLICADO</td>\n",
       "      <td>420933/2016-6</td>\n",
       "      <td>UNIVERSAL 2016 - FAIXA B</td>\n",
       "      <td>0.0</td>\n",
       "      <td>63.0</td>\n",
       "      <td>80.0</td>\n",
       "    </tr>\n",
       "    <tr>\n",
       "      <th>2</th>\n",
       "      <td>39256396322918</td>\n",
       "      <td>9</td>\n",
       "      <td>ARTIGO-PUBLICADO</td>\n",
       "      <td>403432/2016-2</td>\n",
       "      <td>UNIVERSAL 2016 - FAIXA C</td>\n",
       "      <td>2656500.0</td>\n",
       "      <td>218.0</td>\n",
       "      <td>246.0</td>\n",
       "    </tr>\n",
       "    <tr>\n",
       "      <th>3</th>\n",
       "      <td>55271813249492</td>\n",
       "      <td>9</td>\n",
       "      <td>ARTIGO-PUBLICADO</td>\n",
       "      <td>427096/2016-2</td>\n",
       "      <td>UNIVERSAL 2016 - FAIXA A</td>\n",
       "      <td>0.0</td>\n",
       "      <td>1.0</td>\n",
       "      <td>4.0</td>\n",
       "    </tr>\n",
       "    <tr>\n",
       "      <th>4</th>\n",
       "      <td>66221022421420</td>\n",
       "      <td>9</td>\n",
       "      <td>ARTIGO-PUBLICADO</td>\n",
       "      <td>432252/2016-9</td>\n",
       "      <td>UNIVERSAL 2016 - FAIXA A</td>\n",
       "      <td>0.0</td>\n",
       "      <td>20.0</td>\n",
       "      <td>36.0</td>\n",
       "    </tr>\n",
       "    <tr>\n",
       "      <th>...</th>\n",
       "      <td>...</td>\n",
       "      <td>...</td>\n",
       "      <td>...</td>\n",
       "      <td>...</td>\n",
       "      <td>...</td>\n",
       "      <td>...</td>\n",
       "      <td>...</td>\n",
       "      <td>...</td>\n",
       "    </tr>\n",
       "    <tr>\n",
       "      <th>751</th>\n",
       "      <td>7929868663210908</td>\n",
       "      <td>9</td>\n",
       "      <td>ARTIGO-PUBLICADO</td>\n",
       "      <td>405534/2016-7</td>\n",
       "      <td>UNIVERSAL 2016 - FAIXA B</td>\n",
       "      <td>0.0</td>\n",
       "      <td>12.0</td>\n",
       "      <td>16.0</td>\n",
       "    </tr>\n",
       "    <tr>\n",
       "      <th>752</th>\n",
       "      <td>8025821168501551</td>\n",
       "      <td>9</td>\n",
       "      <td>ARTIGO-PUBLICADO</td>\n",
       "      <td>432582/2016-9</td>\n",
       "      <td>UNIVERSAL 2016 - FAIXA B</td>\n",
       "      <td>0.0</td>\n",
       "      <td>44.0</td>\n",
       "      <td>68.0</td>\n",
       "    </tr>\n",
       "    <tr>\n",
       "      <th>753</th>\n",
       "      <td>9044572545913697</td>\n",
       "      <td>9</td>\n",
       "      <td>ARTIGO-PUBLICADO</td>\n",
       "      <td>420808/2016-7</td>\n",
       "      <td>UNIVERSAL 2016 - FAIXA B</td>\n",
       "      <td>0.0</td>\n",
       "      <td>38.0</td>\n",
       "      <td>51.0</td>\n",
       "    </tr>\n",
       "    <tr>\n",
       "      <th>754</th>\n",
       "      <td>9253979377483705</td>\n",
       "      <td>9</td>\n",
       "      <td>ARTIGO-PUBLICADO</td>\n",
       "      <td>408523/2016-6</td>\n",
       "      <td>UNIVERSAL 2016 - FAIXA B</td>\n",
       "      <td>0.0</td>\n",
       "      <td>71.0</td>\n",
       "      <td>87.0</td>\n",
       "    </tr>\n",
       "    <tr>\n",
       "      <th>755</th>\n",
       "      <td>9390958578365003</td>\n",
       "      <td>9</td>\n",
       "      <td>ARTIGO-PUBLICADO</td>\n",
       "      <td>426007/2016-6</td>\n",
       "      <td>UNIVERSAL 2016 - FAIXA A</td>\n",
       "      <td>0.0</td>\n",
       "      <td>4.0</td>\n",
       "      <td>7.0</td>\n",
       "    </tr>\n",
       "  </tbody>\n",
       "</table>\n",
       "<p>756 rows × 8 columns</p>\n",
       "</div>"
      ],
      "text/plain": [
       "                   id  tipo         descricao       Processo  \\\n",
       "0      27122259511964     9  ARTIGO-PUBLICADO  431037/2016-7   \n",
       "1      29803620389112     9  ARTIGO-PUBLICADO  420933/2016-6   \n",
       "2      39256396322918     9  ARTIGO-PUBLICADO  403432/2016-2   \n",
       "3      55271813249492     9  ARTIGO-PUBLICADO  427096/2016-2   \n",
       "4      66221022421420     9  ARTIGO-PUBLICADO  432252/2016-9   \n",
       "..                ...   ...               ...            ...   \n",
       "751  7929868663210908     9  ARTIGO-PUBLICADO  405534/2016-7   \n",
       "752  8025821168501551     9  ARTIGO-PUBLICADO  432582/2016-9   \n",
       "753  9044572545913697     9  ARTIGO-PUBLICADO  420808/2016-7   \n",
       "754  9253979377483705     9  ARTIGO-PUBLICADO  408523/2016-6   \n",
       "755  9390958578365003     9  ARTIGO-PUBLICADO  426007/2016-6   \n",
       "\n",
       "                      Chamada      pagto  qty_2014  qty_2020  \n",
       "0    UNIVERSAL 2016 - FAIXA A        0.0       4.0       6.0  \n",
       "1    UNIVERSAL 2016 - FAIXA B        0.0      63.0      80.0  \n",
       "2    UNIVERSAL 2016 - FAIXA C  2656500.0     218.0     246.0  \n",
       "3    UNIVERSAL 2016 - FAIXA A        0.0       1.0       4.0  \n",
       "4    UNIVERSAL 2016 - FAIXA A        0.0      20.0      36.0  \n",
       "..                        ...        ...       ...       ...  \n",
       "751  UNIVERSAL 2016 - FAIXA B        0.0      12.0      16.0  \n",
       "752  UNIVERSAL 2016 - FAIXA B        0.0      44.0      68.0  \n",
       "753  UNIVERSAL 2016 - FAIXA B        0.0      38.0      51.0  \n",
       "754  UNIVERSAL 2016 - FAIXA B        0.0      71.0      87.0  \n",
       "755  UNIVERSAL 2016 - FAIXA A        0.0       4.0       7.0  \n",
       "\n",
       "[756 rows x 8 columns]"
      ]
     },
     "execution_count": 191,
     "metadata": {},
     "output_type": "execute_result"
    }
   ],
   "source": [
    "pd['pagto'] = pd['pagto'].fillna(0)\n",
    "pd"
   ]
  },
  {
   "cell_type": "code",
   "execution_count": 194,
   "id": "1d0a8698",
   "metadata": {},
   "outputs": [
    {
     "data": {
      "text/plain": [
       "pandas.core.frame.DataFrame"
      ]
     },
     "execution_count": 194,
     "metadata": {},
     "output_type": "execute_result"
    }
   ],
   "source": [
    "type(pd)"
   ]
  },
  {
   "cell_type": "code",
   "execution_count": 193,
   "id": "700f963a",
   "metadata": {},
   "outputs": [
    {
     "data": {
      "image/png": "[encoded data removed]",
      "text/plain": [
       "<Figure size 432x288 with 1 Axes>"
      ]
     },
     "metadata": {
      "needs_background": "light"
     },
     "output_type": "display_data"
    }
   ],
   "source": [
    "pd.plot(x='qty_2014', y='qty_2020', style='o')\n"
   ]
  },
  {
   "cell_type": "code",
   "execution_count": 200,
   "id": "2ff823f6",
   "metadata": {},
   "outputs": [],
   "source": [
    "X = pandas.DataFrame(pd, columns=['pagto'])"
   ]
  },
  {
   "cell_type": "code",
   "execution_count": 197,
   "id": "4aa7eba4",
   "metadata": {},
   "outputs": [],
   "source": [
    "y = pandas.DataFrame(pd, columns=['qty_2020'])"
   ]
  },
  {
   "cell_type": "code",
   "execution_count": 217,
   "id": "7a6ae026",
   "metadata": {},
   "outputs": [
    {
     "ename": "SyntaxError",
     "evalue": "invalid syntax (Temp/ipykernel_7552/1429427536.py, line 6)",
     "output_type": "error",
     "traceback": [
      "\u001b[1;36m  File \u001b[1;32m\"C:\\Users\\silva\\AppData\\Local\\Temp/ipykernel_7552/1429427536.py\"\u001b[1;36m, line \u001b[1;32m6\u001b[0m\n\u001b[1;33m    plt.ylim(,1100)\u001b[0m\n\u001b[1;37m             ^\u001b[0m\n\u001b[1;31mSyntaxError\u001b[0m\u001b[1;31m:\u001b[0m invalid syntax\n"
     ]
    }
   ],
   "source": [
    "plt.figure(figsize=(14,8))\n",
    "plt.scatter(X,y, alpha=0.6)\n",
    "plt.title('Publications vs Payments')\n",
    "plt.xlabel('Funding')\n",
    "plt.ylabel('Publications')\n",
    "plt.ylim(0,1100)\n",
    "plt.xlim(,1000000)\n",
    "plt.show()"
   ]
  },
  {
   "cell_type": "code",
   "execution_count": 202,
   "id": "e0e217ce",
   "metadata": {},
   "outputs": [],
   "source": []
  },
  {
   "cell_type": "code",
   "execution_count": null,
   "id": "fe53f478",
   "metadata": {},
   "outputs": [],
   "source": []
  },
  {
   "cell_type": "code",
   "execution_count": null,
   "id": "66713d36",
   "metadata": {},
   "outputs": [],
   "source": []
  },
  {
   "cell_type": "code",
   "execution_count": 198,
   "id": "99cea3df",
   "metadata": {},
   "outputs": [
    {
     "ename": "ValueError",
     "evalue": "Input contains NaN, infinity or a value too large for dtype('float64').",
     "output_type": "error",
     "traceback": [
      "\u001b[1;31m---------------------------------------------------------------------------\u001b[0m",
      "\u001b[1;31mValueError\u001b[0m                                Traceback (most recent call last)",
      "\u001b[1;32m~\\AppData\\Local\\Temp/ipykernel_7552/324411791.py\u001b[0m in \u001b[0;36m<module>\u001b[1;34m\u001b[0m\n\u001b[0;32m      3\u001b[0m \u001b[0mLR\u001b[0m \u001b[1;33m=\u001b[0m \u001b[0mLinearRegression\u001b[0m\u001b[1;33m(\u001b[0m\u001b[1;33m)\u001b[0m\u001b[1;33m\u001b[0m\u001b[1;33m\u001b[0m\u001b[0m\n\u001b[0;32m      4\u001b[0m \u001b[1;31m# fitting the training data\u001b[0m\u001b[1;33m\u001b[0m\u001b[1;33m\u001b[0m\u001b[0m\n\u001b[1;32m----> 5\u001b[1;33m \u001b[0mLR\u001b[0m\u001b[1;33m.\u001b[0m\u001b[0mfit\u001b[0m\u001b[1;33m(\u001b[0m\u001b[0mX\u001b[0m\u001b[1;33m,\u001b[0m\u001b[0my\u001b[0m\u001b[1;33m)\u001b[0m\u001b[1;33m\u001b[0m\u001b[1;33m\u001b[0m\u001b[0m\n\u001b[0m",
      "\u001b[1;32mC:\\Python\\anaconda3\\lib\\site-packages\\sklearn\\linear_model\\_base.py\u001b[0m in \u001b[0;36mfit\u001b[1;34m(self, X, y, sample_weight)\u001b[0m\n\u001b[0;32m    516\u001b[0m         \u001b[0maccept_sparse\u001b[0m \u001b[1;33m=\u001b[0m \u001b[1;32mFalse\u001b[0m \u001b[1;32mif\u001b[0m \u001b[0mself\u001b[0m\u001b[1;33m.\u001b[0m\u001b[0mpositive\u001b[0m \u001b[1;32melse\u001b[0m \u001b[1;33m[\u001b[0m\u001b[1;34m'csr'\u001b[0m\u001b[1;33m,\u001b[0m \u001b[1;34m'csc'\u001b[0m\u001b[1;33m,\u001b[0m \u001b[1;34m'coo'\u001b[0m\u001b[1;33m]\u001b[0m\u001b[1;33m\u001b[0m\u001b[1;33m\u001b[0m\u001b[0m\n\u001b[0;32m    517\u001b[0m \u001b[1;33m\u001b[0m\u001b[0m\n\u001b[1;32m--> 518\u001b[1;33m         X, y = self._validate_data(X, y, accept_sparse=accept_sparse,\n\u001b[0m\u001b[0;32m    519\u001b[0m                                    y_numeric=True, multi_output=True)\n\u001b[0;32m    520\u001b[0m \u001b[1;33m\u001b[0m\u001b[0m\n",
      "\u001b[1;32mC:\\Python\\anaconda3\\lib\\site-packages\\sklearn\\base.py\u001b[0m in \u001b[0;36m_validate_data\u001b[1;34m(self, X, y, reset, validate_separately, **check_params)\u001b[0m\n\u001b[0;32m    431\u001b[0m                 \u001b[0my\u001b[0m \u001b[1;33m=\u001b[0m \u001b[0mcheck_array\u001b[0m\u001b[1;33m(\u001b[0m\u001b[0my\u001b[0m\u001b[1;33m,\u001b[0m \u001b[1;33m**\u001b[0m\u001b[0mcheck_y_params\u001b[0m\u001b[1;33m)\u001b[0m\u001b[1;33m\u001b[0m\u001b[1;33m\u001b[0m\u001b[0m\n\u001b[0;32m    432\u001b[0m             \u001b[1;32melse\u001b[0m\u001b[1;33m:\u001b[0m\u001b[1;33m\u001b[0m\u001b[1;33m\u001b[0m\u001b[0m\n\u001b[1;32m--> 433\u001b[1;33m                 \u001b[0mX\u001b[0m\u001b[1;33m,\u001b[0m \u001b[0my\u001b[0m \u001b[1;33m=\u001b[0m \u001b[0mcheck_X_y\u001b[0m\u001b[1;33m(\u001b[0m\u001b[0mX\u001b[0m\u001b[1;33m,\u001b[0m \u001b[0my\u001b[0m\u001b[1;33m,\u001b[0m \u001b[1;33m**\u001b[0m\u001b[0mcheck_params\u001b[0m\u001b[1;33m)\u001b[0m\u001b[1;33m\u001b[0m\u001b[1;33m\u001b[0m\u001b[0m\n\u001b[0m\u001b[0;32m    434\u001b[0m             \u001b[0mout\u001b[0m \u001b[1;33m=\u001b[0m \u001b[0mX\u001b[0m\u001b[1;33m,\u001b[0m \u001b[0my\u001b[0m\u001b[1;33m\u001b[0m\u001b[1;33m\u001b[0m\u001b[0m\n\u001b[0;32m    435\u001b[0m \u001b[1;33m\u001b[0m\u001b[0m\n",
      "\u001b[1;32mC:\\Python\\anaconda3\\lib\\site-packages\\sklearn\\utils\\validation.py\u001b[0m in \u001b[0;36minner_f\u001b[1;34m(*args, **kwargs)\u001b[0m\n\u001b[0;32m     61\u001b[0m             \u001b[0mextra_args\u001b[0m \u001b[1;33m=\u001b[0m \u001b[0mlen\u001b[0m\u001b[1;33m(\u001b[0m\u001b[0margs\u001b[0m\u001b[1;33m)\u001b[0m \u001b[1;33m-\u001b[0m \u001b[0mlen\u001b[0m\u001b[1;33m(\u001b[0m\u001b[0mall_args\u001b[0m\u001b[1;33m)\u001b[0m\u001b[1;33m\u001b[0m\u001b[1;33m\u001b[0m\u001b[0m\n\u001b[0;32m     62\u001b[0m             \u001b[1;32mif\u001b[0m \u001b[0mextra_args\u001b[0m \u001b[1;33m<=\u001b[0m \u001b[1;36m0\u001b[0m\u001b[1;33m:\u001b[0m\u001b[1;33m\u001b[0m\u001b[1;33m\u001b[0m\u001b[0m\n\u001b[1;32m---> 63\u001b[1;33m                 \u001b[1;32mreturn\u001b[0m \u001b[0mf\u001b[0m\u001b[1;33m(\u001b[0m\u001b[1;33m*\u001b[0m\u001b[0margs\u001b[0m\u001b[1;33m,\u001b[0m \u001b[1;33m**\u001b[0m\u001b[0mkwargs\u001b[0m\u001b[1;33m)\u001b[0m\u001b[1;33m\u001b[0m\u001b[1;33m\u001b[0m\u001b[0m\n\u001b[0m\u001b[0;32m     64\u001b[0m \u001b[1;33m\u001b[0m\u001b[0m\n\u001b[0;32m     65\u001b[0m             \u001b[1;31m# extra_args > 0\u001b[0m\u001b[1;33m\u001b[0m\u001b[1;33m\u001b[0m\u001b[0m\n",
      "\u001b[1;32mC:\\Python\\anaconda3\\lib\\site-packages\\sklearn\\utils\\validation.py\u001b[0m in \u001b[0;36mcheck_X_y\u001b[1;34m(X, y, accept_sparse, accept_large_sparse, dtype, order, copy, force_all_finite, ensure_2d, allow_nd, multi_output, ensure_min_samples, ensure_min_features, y_numeric, estimator)\u001b[0m\n\u001b[0;32m    869\u001b[0m         \u001b[1;32mraise\u001b[0m \u001b[0mValueError\u001b[0m\u001b[1;33m(\u001b[0m\u001b[1;34m\"y cannot be None\"\u001b[0m\u001b[1;33m)\u001b[0m\u001b[1;33m\u001b[0m\u001b[1;33m\u001b[0m\u001b[0m\n\u001b[0;32m    870\u001b[0m \u001b[1;33m\u001b[0m\u001b[0m\n\u001b[1;32m--> 871\u001b[1;33m     X = check_array(X, accept_sparse=accept_sparse,\n\u001b[0m\u001b[0;32m    872\u001b[0m                     \u001b[0maccept_large_sparse\u001b[0m\u001b[1;33m=\u001b[0m\u001b[0maccept_large_sparse\u001b[0m\u001b[1;33m,\u001b[0m\u001b[1;33m\u001b[0m\u001b[1;33m\u001b[0m\u001b[0m\n\u001b[0;32m    873\u001b[0m                     \u001b[0mdtype\u001b[0m\u001b[1;33m=\u001b[0m\u001b[0mdtype\u001b[0m\u001b[1;33m,\u001b[0m \u001b[0morder\u001b[0m\u001b[1;33m=\u001b[0m\u001b[0morder\u001b[0m\u001b[1;33m,\u001b[0m \u001b[0mcopy\u001b[0m\u001b[1;33m=\u001b[0m\u001b[0mcopy\u001b[0m\u001b[1;33m,\u001b[0m\u001b[1;33m\u001b[0m\u001b[1;33m\u001b[0m\u001b[0m\n",
      "\u001b[1;32mC:\\Python\\anaconda3\\lib\\site-packages\\sklearn\\utils\\validation.py\u001b[0m in \u001b[0;36minner_f\u001b[1;34m(*args, **kwargs)\u001b[0m\n\u001b[0;32m     61\u001b[0m             \u001b[0mextra_args\u001b[0m \u001b[1;33m=\u001b[0m \u001b[0mlen\u001b[0m\u001b[1;33m(\u001b[0m\u001b[0margs\u001b[0m\u001b[1;33m)\u001b[0m \u001b[1;33m-\u001b[0m \u001b[0mlen\u001b[0m\u001b[1;33m(\u001b[0m\u001b[0mall_args\u001b[0m\u001b[1;33m)\u001b[0m\u001b[1;33m\u001b[0m\u001b[1;33m\u001b[0m\u001b[0m\n\u001b[0;32m     62\u001b[0m             \u001b[1;32mif\u001b[0m \u001b[0mextra_args\u001b[0m \u001b[1;33m<=\u001b[0m \u001b[1;36m0\u001b[0m\u001b[1;33m:\u001b[0m\u001b[1;33m\u001b[0m\u001b[1;33m\u001b[0m\u001b[0m\n\u001b[1;32m---> 63\u001b[1;33m                 \u001b[1;32mreturn\u001b[0m \u001b[0mf\u001b[0m\u001b[1;33m(\u001b[0m\u001b[1;33m*\u001b[0m\u001b[0margs\u001b[0m\u001b[1;33m,\u001b[0m \u001b[1;33m**\u001b[0m\u001b[0mkwargs\u001b[0m\u001b[1;33m)\u001b[0m\u001b[1;33m\u001b[0m\u001b[1;33m\u001b[0m\u001b[0m\n\u001b[0m\u001b[0;32m     64\u001b[0m \u001b[1;33m\u001b[0m\u001b[0m\n\u001b[0;32m     65\u001b[0m             \u001b[1;31m# extra_args > 0\u001b[0m\u001b[1;33m\u001b[0m\u001b[1;33m\u001b[0m\u001b[0m\n",
      "\u001b[1;32mC:\\Python\\anaconda3\\lib\\site-packages\\sklearn\\utils\\validation.py\u001b[0m in \u001b[0;36mcheck_array\u001b[1;34m(array, accept_sparse, accept_large_sparse, dtype, order, copy, force_all_finite, ensure_2d, allow_nd, ensure_min_samples, ensure_min_features, estimator)\u001b[0m\n\u001b[0;32m    718\u001b[0m \u001b[1;33m\u001b[0m\u001b[0m\n\u001b[0;32m    719\u001b[0m         \u001b[1;32mif\u001b[0m \u001b[0mforce_all_finite\u001b[0m\u001b[1;33m:\u001b[0m\u001b[1;33m\u001b[0m\u001b[1;33m\u001b[0m\u001b[0m\n\u001b[1;32m--> 720\u001b[1;33m             _assert_all_finite(array,\n\u001b[0m\u001b[0;32m    721\u001b[0m                                allow_nan=force_all_finite == 'allow-nan')\n\u001b[0;32m    722\u001b[0m \u001b[1;33m\u001b[0m\u001b[0m\n",
      "\u001b[1;32mC:\\Python\\anaconda3\\lib\\site-packages\\sklearn\\utils\\validation.py\u001b[0m in \u001b[0;36m_assert_all_finite\u001b[1;34m(X, allow_nan, msg_dtype)\u001b[0m\n\u001b[0;32m    101\u001b[0m                 not allow_nan and not np.isfinite(X).all()):\n\u001b[0;32m    102\u001b[0m             \u001b[0mtype_err\u001b[0m \u001b[1;33m=\u001b[0m \u001b[1;34m'infinity'\u001b[0m \u001b[1;32mif\u001b[0m \u001b[0mallow_nan\u001b[0m \u001b[1;32melse\u001b[0m \u001b[1;34m'NaN, infinity'\u001b[0m\u001b[1;33m\u001b[0m\u001b[1;33m\u001b[0m\u001b[0m\n\u001b[1;32m--> 103\u001b[1;33m             raise ValueError(\n\u001b[0m\u001b[0;32m    104\u001b[0m                     \u001b[0mmsg_err\u001b[0m\u001b[1;33m.\u001b[0m\u001b[0mformat\u001b[0m\u001b[1;33m\u001b[0m\u001b[1;33m\u001b[0m\u001b[0m\n\u001b[0;32m    105\u001b[0m                     (type_err,\n",
      "\u001b[1;31mValueError\u001b[0m: Input contains NaN, infinity or a value too large for dtype('float64')."
     ]
    }
   ],
   "source": [
    "from sklearn.linear_model import LinearRegression\n",
    "# creating an object of LinearRegression class\n",
    "LR = LinearRegression()\n",
    "# fitting the training data\n",
    "LR.fit(X,y)"
   ]
  },
  {
   "cell_type": "code",
   "execution_count": 188,
   "id": "aeb6035b",
   "metadata": {},
   "outputs": [
    {
     "ename": "ValueError",
     "evalue": "y_true and y_pred have different number of output (1!=2)",
     "output_type": "error",
     "traceback": [
      "\u001b[1;31m---------------------------------------------------------------------------\u001b[0m",
      "\u001b[1;31mValueError\u001b[0m                                Traceback (most recent call last)",
      "\u001b[1;32m~\\AppData\\Local\\Temp/ipykernel_7552/3152832733.py\u001b[0m in \u001b[0;36m<module>\u001b[1;34m\u001b[0m\n\u001b[1;32m----> 1\u001b[1;33m \u001b[0mscore\u001b[0m\u001b[1;33m=\u001b[0m\u001b[0mr2_score\u001b[0m\u001b[1;33m(\u001b[0m\u001b[0my\u001b[0m\u001b[1;33m,\u001b[0m\u001b[0mX\u001b[0m\u001b[1;33m)\u001b[0m\u001b[1;33m\u001b[0m\u001b[1;33m\u001b[0m\u001b[0m\n\u001b[0m",
      "\u001b[1;32mC:\\Python\\anaconda3\\lib\\site-packages\\sklearn\\utils\\validation.py\u001b[0m in \u001b[0;36minner_f\u001b[1;34m(*args, **kwargs)\u001b[0m\n\u001b[0;32m     61\u001b[0m             \u001b[0mextra_args\u001b[0m \u001b[1;33m=\u001b[0m \u001b[0mlen\u001b[0m\u001b[1;33m(\u001b[0m\u001b[0margs\u001b[0m\u001b[1;33m)\u001b[0m \u001b[1;33m-\u001b[0m \u001b[0mlen\u001b[0m\u001b[1;33m(\u001b[0m\u001b[0mall_args\u001b[0m\u001b[1;33m)\u001b[0m\u001b[1;33m\u001b[0m\u001b[1;33m\u001b[0m\u001b[0m\n\u001b[0;32m     62\u001b[0m             \u001b[1;32mif\u001b[0m \u001b[0mextra_args\u001b[0m \u001b[1;33m<=\u001b[0m \u001b[1;36m0\u001b[0m\u001b[1;33m:\u001b[0m\u001b[1;33m\u001b[0m\u001b[1;33m\u001b[0m\u001b[0m\n\u001b[1;32m---> 63\u001b[1;33m                 \u001b[1;32mreturn\u001b[0m \u001b[0mf\u001b[0m\u001b[1;33m(\u001b[0m\u001b[1;33m*\u001b[0m\u001b[0margs\u001b[0m\u001b[1;33m,\u001b[0m \u001b[1;33m**\u001b[0m\u001b[0mkwargs\u001b[0m\u001b[1;33m)\u001b[0m\u001b[1;33m\u001b[0m\u001b[1;33m\u001b[0m\u001b[0m\n\u001b[0m\u001b[0;32m     64\u001b[0m \u001b[1;33m\u001b[0m\u001b[0m\n\u001b[0;32m     65\u001b[0m             \u001b[1;31m# extra_args > 0\u001b[0m\u001b[1;33m\u001b[0m\u001b[1;33m\u001b[0m\u001b[0m\n",
      "\u001b[1;32mC:\\Python\\anaconda3\\lib\\site-packages\\sklearn\\metrics\\_regression.py\u001b[0m in \u001b[0;36mr2_score\u001b[1;34m(y_true, y_pred, sample_weight, multioutput)\u001b[0m\n\u001b[0;32m    674\u001b[0m     \u001b[1;33m-\u001b[0m\u001b[1;36m3.0\u001b[0m\u001b[1;33m\u001b[0m\u001b[1;33m\u001b[0m\u001b[0m\n\u001b[0;32m    675\u001b[0m     \"\"\"\n\u001b[1;32m--> 676\u001b[1;33m     y_type, y_true, y_pred, multioutput = _check_reg_targets(\n\u001b[0m\u001b[0;32m    677\u001b[0m         y_true, y_pred, multioutput)\n\u001b[0;32m    678\u001b[0m     \u001b[0mcheck_consistent_length\u001b[0m\u001b[1;33m(\u001b[0m\u001b[0my_true\u001b[0m\u001b[1;33m,\u001b[0m \u001b[0my_pred\u001b[0m\u001b[1;33m,\u001b[0m \u001b[0msample_weight\u001b[0m\u001b[1;33m)\u001b[0m\u001b[1;33m\u001b[0m\u001b[1;33m\u001b[0m\u001b[0m\n",
      "\u001b[1;32mC:\\Python\\anaconda3\\lib\\site-packages\\sklearn\\metrics\\_regression.py\u001b[0m in \u001b[0;36m_check_reg_targets\u001b[1;34m(y_true, y_pred, multioutput, dtype)\u001b[0m\n\u001b[0;32m     97\u001b[0m \u001b[1;33m\u001b[0m\u001b[0m\n\u001b[0;32m     98\u001b[0m     \u001b[1;32mif\u001b[0m \u001b[0my_true\u001b[0m\u001b[1;33m.\u001b[0m\u001b[0mshape\u001b[0m\u001b[1;33m[\u001b[0m\u001b[1;36m1\u001b[0m\u001b[1;33m]\u001b[0m \u001b[1;33m!=\u001b[0m \u001b[0my_pred\u001b[0m\u001b[1;33m.\u001b[0m\u001b[0mshape\u001b[0m\u001b[1;33m[\u001b[0m\u001b[1;36m1\u001b[0m\u001b[1;33m]\u001b[0m\u001b[1;33m:\u001b[0m\u001b[1;33m\u001b[0m\u001b[1;33m\u001b[0m\u001b[0m\n\u001b[1;32m---> 99\u001b[1;33m         raise ValueError(\"y_true and y_pred have different number of output \"\n\u001b[0m\u001b[0;32m    100\u001b[0m                          \"({0}!={1})\".format(y_true.shape[1], y_pred.shape[1]))\n\u001b[0;32m    101\u001b[0m \u001b[1;33m\u001b[0m\u001b[0m\n",
      "\u001b[1;31mValueError\u001b[0m: y_true and y_pred have different number of output (1!=2)"
     ]
    }
   ],
   "source": [
    "score=r2_score(y,X)"
   ]
  },
  {
   "cell_type": "code",
   "execution_count": null,
   "id": "abdb8291",
   "metadata": {},
   "outputs": [],
   "source": []
  }
 ],
 "metadata": {
  "kernelspec": {
   "display_name": "Python 3 (ipykernel)",
   "language": "python",
   "name": "python3"
  },
  "language_info": {
   "codemirror_mode": {
    "name": "ipython",
    "version": 3
   },
   "file_extension": ".py",
   "mimetype": "text/x-python",
   "name": "python",
   "nbconvert_exporter": "python",
   "pygments_lexer": "ipython3",
   "version": "3.9.7"
  }
 },
 "nbformat": 4,
 "nbformat_minor": 5
}
