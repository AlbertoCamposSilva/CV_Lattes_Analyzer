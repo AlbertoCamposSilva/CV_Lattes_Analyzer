{
  "cells": [
    {
      "cell_type": "code",
      "execution_count": 1,
      "id": "ac39f1b1",
      "metadata": {},
      "outputs": [],
      "source": [
        "from Regressao import Regressao"
      ]
    },
    {
      "cell_type": "code",
      "execution_count": 2,
      "id": "b4afb6fc",
      "metadata": {},
      "outputs": [],
      "source": [
        "reg = Regressao()"
      ]
    },
    {
      "cell_type": "code",
      "execution_count": 3,
      "id": "56bce5ba",
      "metadata": {},
      "outputs": [
        {
          "data": {
            "text/plain": [
              "['CA',\n",
              " '__class__',\n",
              " '__delattr__',\n",
              " '__dict__',\n",
              " '__dir__',\n",
              " '__doc__',\n",
              " '__eq__',\n",
              " '__format__',\n",
              " '__ge__',\n",
              " '__getattribute__',\n",
              " '__gt__',\n",
              " '__hash__',\n",
              " '__init__',\n",
              " '__init_subclass__',\n",
              " '__le__',\n",
              " '__lt__',\n",
              " '__module__',\n",
              " '__ne__',\n",
              " '__new__',\n",
              " '__reduce__',\n",
              " '__reduce_ex__',\n",
              " '__repr__',\n",
              " '__setattr__',\n",
              " '__sizeof__',\n",
              " '__str__',\n",
              " '__subclasshook__',\n",
              " '__weakref__',\n",
              " 'chamada',\n",
              " 'data_atualização',\n",
              " 'db',\n",
              " 'est2',\n",
              " 'faz_regressoes',\n",
              " 'fit',\n",
              " 'gera_sql',\n",
              " 'get_parâmetros',\n",
              " 'get_pd',\n",
              " 'grava_resultados',\n",
              " 'include',\n",
              " 'já_feita',\n",
              " 'lista_cas',\n",
              " 'lista_chamadas',\n",
              " 'lista_indicadores',\n",
              " 'lista_programas',\n",
              " 'média_investimento',\n",
              " 'path',\n",
              " 'pega_lista_cas',\n",
              " 'pega_lista_chamadas',\n",
              " 'pega_lista_indicadores',\n",
              " 'pega_lista_programas',\n",
              " 'programa',\n",
              " 'select_CA',\n",
              " 'select_chamada',\n",
              " 'select_programa',\n",
              " 'select_área',\n",
              " 'tipo_indicador',\n",
              " 'total_investido',\n",
              " 'área']"
            ]
          },
          "execution_count": 3,
          "metadata": {},
          "output_type": "execute_result"
        }
      ],
      "source": [
        "dir(reg)"
      ]
    },
    {
      "cell_type": "code",
      "execution_count": 6,
      "id": "36c3d346",
      "metadata": {},
      "outputs": [],
      "source": [
        "reg.chamada = 'UNIVERSAL 2016 - FAIXA A'\n",
        "reg.programa = 'PROGRAMA BASICO DE EDUCACAO'\n",
        "reg.tipo_indicador = '@ANO-DO-ARTIGO ARTIGO-PUBLICADO '"
      ]
    },
    {
      "cell_type": "code",
      "execution_count": 7,
      "id": "63c09b05",
      "metadata": {},
      "outputs": [
        {
          "ename": "AttributeError",
          "evalue": "'Regressao' object has no attribute 'pd'",
          "output_type": "error",
          "traceback": [
            "\u001b[1;31m---------------------------------------------------------------------------\u001b[0m",
            "\u001b[1;31mAttributeError\u001b[0m                            Traceback (most recent call last)",
            "\u001b[1;32m~\\AppData\\Local\\Temp/ipykernel_15880/3826907028.py\u001b[0m in \u001b[0;36m<module>\u001b[1;34m\u001b[0m\n\u001b[1;32m----> 1\u001b[1;33m \u001b[0mreg\u001b[0m\u001b[1;33m.\u001b[0m\u001b[0mfit\u001b[0m\u001b[1;33m(\u001b[0m\u001b[1;33m)\u001b[0m\u001b[1;33m\u001b[0m\u001b[1;33m\u001b[0m\u001b[0m\n\u001b[0m",
            "\u001b[1;32m~\\CNPq\\Lattes\\Python\\Regressao.py\u001b[0m in \u001b[0;36mfit\u001b[1;34m(self, refaz)\u001b[0m\n\u001b[0;32m    212\u001b[0m \u001b[1;33m\u001b[0m\u001b[0m\n\u001b[0;32m    213\u001b[0m     \u001b[1;32mdef\u001b[0m \u001b[0mfit\u001b[0m \u001b[1;33m(\u001b[0m\u001b[0mself\u001b[0m\u001b[1;33m,\u001b[0m \u001b[0mrefaz\u001b[0m \u001b[1;33m=\u001b[0m \u001b[1;32mFalse\u001b[0m\u001b[1;33m)\u001b[0m\u001b[1;33m:\u001b[0m\u001b[1;33m\u001b[0m\u001b[1;33m\u001b[0m\u001b[0m\n\u001b[1;32m--> 214\u001b[1;33m         \u001b[0mdata\u001b[0m \u001b[1;33m=\u001b[0m \u001b[0mself\u001b[0m\u001b[1;33m.\u001b[0m\u001b[0mpd\u001b[0m\u001b[1;33m\u001b[0m\u001b[1;33m\u001b[0m\u001b[0m\n\u001b[0m\u001b[0;32m    215\u001b[0m         \u001b[1;32mif\u001b[0m \u001b[0mrefaz\u001b[0m \u001b[1;32mor\u001b[0m \u001b[1;32mnot\u001b[0m \u001b[0mself\u001b[0m\u001b[1;33m.\u001b[0m\u001b[0mjá_feita\u001b[0m\u001b[1;33m(\u001b[0m\u001b[1;33m)\u001b[0m\u001b[1;33m:\u001b[0m\u001b[1;33m\u001b[0m\u001b[1;33m\u001b[0m\u001b[0m\n\u001b[0;32m    216\u001b[0m             \u001b[1;32mif\u001b[0m \u001b[1;32mnot\u001b[0m \u001b[0mself\u001b[0m\u001b[1;33m.\u001b[0m\u001b[0mtipo_indicador\u001b[0m \u001b[1;33m==\u001b[0m \u001b[1;32mNone\u001b[0m\u001b[1;33m:\u001b[0m\u001b[1;33m\u001b[0m\u001b[1;33m\u001b[0m\u001b[0m\n",
            "\u001b[1;31mAttributeError\u001b[0m: 'Regressao' object has no attribute 'pd'"
          ]
        }
      ],
      "source": [
        "reg.fit()\n"
      ]
    },
    {
      "cell_type": "code",
      "execution_count": null,
      "id": "6bf845ff",
      "metadata": {},
      "outputs": [],
      "source": []
    }
  ],
  "metadata": {
    "kernelspec": {
      "display_name": "Python 3 (ipykernel)",
      "language": "python",
      "name": "python3"
    },
    "language_info": {
      "codemirror_mode": {
        "name": "ipython",
        "version": 3
      },
      "file_extension": ".py",
      "mimetype": "text/x-python",
      "name": "python",
      "nbconvert_exporter": "python",
      "pygments_lexer": "ipython3",
      "version": "3.9.7"
    }
  },
  "nbformat": 4,
  "nbformat_minor": 5
}
