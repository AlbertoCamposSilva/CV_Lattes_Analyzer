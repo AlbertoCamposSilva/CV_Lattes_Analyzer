{
 "cells": [
  {
   "cell_type": "code",
   "execution_count": 1,
   "id": "690945b9",
   "metadata": {},
   "outputs": [
    {
     "ename": "TypeError",
     "evalue": "atualiza_todos_os_indicadores() got an unexpected keyword argument 'nível_mínimo'",
     "output_type": "error",
     "traceback": [
      "\u001b[1;31m---------------------------------------------------------------------------\u001b[0m",
      "\u001b[1;31mTypeError\u001b[0m                                 Traceback (most recent call last)",
      "\u001b[1;32m~\\AppData\\Local\\Temp/ipykernel_10048/3518172736.py\u001b[0m in \u001b[0;36m<module>\u001b[1;34m\u001b[0m\n\u001b[0;32m      1\u001b[0m \u001b[1;32mfrom\u001b[0m \u001b[0mCarga\u001b[0m \u001b[1;32mimport\u001b[0m \u001b[0mCarga\u001b[0m\u001b[1;33m\u001b[0m\u001b[1;33m\u001b[0m\u001b[0m\n\u001b[0;32m      2\u001b[0m \u001b[0mcg\u001b[0m \u001b[1;33m=\u001b[0m \u001b[0mCarga\u001b[0m\u001b[1;33m(\u001b[0m\u001b[1;33m)\u001b[0m\u001b[1;33m\u001b[0m\u001b[1;33m\u001b[0m\u001b[0m\n\u001b[1;32m----> 3\u001b[1;33m cg.atualiza_todos_os_indicadores (on_conflic_update = True, \n\u001b[0m\u001b[0;32m      4\u001b[0m                                   \u001b[0mpula_bd_indicadores\u001b[0m \u001b[1;33m=\u001b[0m \u001b[1;32mTrue\u001b[0m\u001b[1;33m,\u001b[0m\u001b[1;33m\u001b[0m\u001b[1;33m\u001b[0m\u001b[0m\n\u001b[0;32m      5\u001b[0m                                   \u001b[0mpula_erros\u001b[0m \u001b[1;33m=\u001b[0m \u001b[1;32mFalse\u001b[0m\u001b[1;33m,\u001b[0m\u001b[1;33m\u001b[0m\u001b[1;33m\u001b[0m\u001b[0m\n",
      "\u001b[1;31mTypeError\u001b[0m: atualiza_todos_os_indicadores() got an unexpected keyword argument 'nível_mínimo'"
     ]
    }
   ],
   "source": [
    "from Carga import Carga\n",
    "cg = Carga()\n",
    "cg.atualiza_todos_os_indicadores (on_conflic_update = True, \n",
    "                                  pula_bd_indicadores = True, \n",
    "                                  pula_erros = False, \n",
    "                                  data_mínima_atualização_lattes = '2020-01-01', \n",
    "                                  de_all_lattes = True, \n",
    "                                  começando_com=[0,1,2],\n",
    "                                  nível_mínimo = 4\n",
    "                                 )"
   ]
  },
  {
   "cell_type": "code",
   "execution_count": null,
   "id": "588635e5",
   "metadata": {},
   "outputs": [],
   "source": []
  }
 ],
 "metadata": {
  "kernelspec": {
   "display_name": "Python 3 (ipykernel)",
   "language": "python",
   "name": "python3"
  },
  "language_info": {
   "codemirror_mode": {
    "name": "ipython",
    "version": 3
   },
   "file_extension": ".py",
   "mimetype": "text/x-python",
   "name": "python",
   "nbconvert_exporter": "python",
   "pygments_lexer": "ipython3",
   "version": "3.9.7"
  }
 },
 "nbformat": 4,
 "nbformat_minor": 5
}
