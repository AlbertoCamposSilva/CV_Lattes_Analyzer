{
 "cells": [
  {
   "cell_type": "code",
   "execution_count": 1,
   "id": "c2ff4983",
   "metadata": {},
   "outputs": [],
   "source": [
    "from Regressao import Regressao\n",
    "from Database import Database\n",
    "\n"
   ]
  },
  {
   "cell_type": "code",
   "execution_count": 2,
   "id": "691fe0b0",
   "metadata": {},
   "outputs": [],
   "source": [
    "reg = Regressao()\n",
    "db = Database()"
   ]
  },
  {
   "cell_type": "code",
   "execution_count": 3,
   "id": "44058a54",
   "metadata": {},
   "outputs": [
    {
     "data": {
      "text/plain": [
       "['PROGRAMA BASICO DE ENGENHARIA QUIMICA',\n",
       " 'PROGRAMA BASICO DE ENGENHARIA AEROESPACIAL',\n",
       " 'PROGRAMA BASICO DE ENGENHARIA BIOMEDICA',\n",
       " 'Programa Básico de Microeletrônica',\n",
       " 'PROGRAMA BASICO DE EDUCACAO',\n",
       " 'PROGRAMA TEMATICO DE DIVULGACAO CIENTIFICA',\n",
       " 'PROGRAMA BASICO DE FARMACOLOGIA',\n",
       " 'PROGRAMA BASICO DE NUTRICAO',\n",
       " 'PROGRAMA BASICO DE AQUICULTURA',\n",
       " 'PROGRAMA BASICO DE FONOAUDIOLOGIA',\n",
       " 'Programa de Biotecnologia',\n",
       " 'PROGRAMA BASICO DE BIOFISICA',\n",
       " 'PROGRAMA BASICO DE FILOSOFIA',\n",
       " 'PROGRAMA BASICO DE ENGENHARIA CIVIL',\n",
       " 'PROGRAMA BASICO DE ENGENHARIA NAVAL E ',\n",
       " 'PROGRAMA BASICO DE FARMACIA',\n",
       " 'PROGRAMA BASICO DE ECOLOGIA E LIMNOLOGIA',\n",
       " 'PROGRAMA BASICO DE MEDICINA',\n",
       " 'PROGRAMA BASICO DE BIOLOGIA GERAL',\n",
       " 'PROGRAMA BASICO DE TURISMO',\n",
       " 'PROGRAMA BASICO DE PROBABILIDADE E ESTATISTICA',\n",
       " 'PROGRAMA BASICO DE BOTANICA',\n",
       " 'PROGRAMA BASICO DE ECONOMIA DOMESTICA',\n",
       " 'PROGRAMA BASICO DE ZOOLOGIA E RECURSOS ',\n",
       " 'PROGRAMA BASICO DE ARQUITETURA E URBANISMO',\n",
       " 'PROGRAMA BASICO DE CIENCIA POLITICA',\n",
       " 'PROGRAMA BASICO DE EDUCACAO FISICA',\n",
       " 'PROGRAMA BASICO DE MEDICINA VETERINARIA',\n",
       " 'PROGRAMA BASICO DE ENFERMAGEM',\n",
       " 'PROGRAMA BASICO DE ODONTOLOGIA',\n",
       " 'PROGRAMA BASICO DE ECONOMIA',\n",
       " 'PROGRAMA BASICO DE DESIGN',\n",
       " 'PROGRAMA BASICO DE RECURSOS FLORESTAIS E ',\n",
       " 'PROGRAMA BASICO DE ENGENHARIA DE PRODUCAO',\n",
       " 'PROGRAMA BASICO DE ENGENHARIA DE MATERIAIS E ',\n",
       " 'PROGRAMA BASICO DE HISTORIA',\n",
       " 'PROGRAMA BASICO DE TEOLOGIA',\n",
       " 'PROGRAMA BASICO DE AGRONOMIA',\n",
       " 'PROGRAMA BASICO DE DIREITO',\n",
       " 'PROGRAMA BASICO DE FISIOLOGIA',\n",
       " 'PROGRAMA BASICO DE ENGENHARIA MECANICA',\n",
       " 'PROGRAMA BASICO DE QUIMICA',\n",
       " 'PROGRAMA BASICO DE MUSEOLOGIA',\n",
       " 'PROGRAMA BASICO DE SERVICO SOCIAL',\n",
       " 'Programa Basico de Geografia Humana e Regional',\n",
       " 'PROGRAMA BASICO DE PLANEJAMENTO URBANO E ',\n",
       " 'PROGRAMA BASICO DE ENGENHARIA AGRICOLA',\n",
       " 'PROGRAMA BASICO DE MICROBIOLOGIA',\n",
       " 'PROGRAMA BASICO DE SAUDE COLETIVA',\n",
       " 'PROGRAMA BASICO DE ENGENHARIA DE TRANSPORTES',\n",
       " 'PROGRAMA BASICO DE GENETICA',\n",
       " 'PROGRAMA BASICO DE IMUNOLOGIA',\n",
       " 'PROGRAMA BASICO DE COMUNICACAO',\n",
       " 'PROGRAMA BASICO DE ZOOTECNIA',\n",
       " 'PROGRAMA BASICO DE MORFOLOGIA',\n",
       " 'PROGRAMA BASICO DE PARASITOLOGIA',\n",
       " 'PROGRAMA BASICO DE ENGENHARIA ELETRICA',\n",
       " 'PROGRAMA BASICO DE CIENCIA DA INFORMACAO',\n",
       " 'PROGRAMA BASICO DE CIENCIA DA COMPUTACAO',\n",
       " 'PROGRAMA BASICO DE ENGENHARIA NUCLEAR',\n",
       " 'PROGRAMA BASICO DE OCEANOGRAFIA, RECURSOS ',\n",
       " 'PROGRAMA BASICO DE ENGENHARIA DE MINAS',\n",
       " 'PROGRAMA BASICO DE DEMOGRAFIA',\n",
       " 'Programa Basico de Geociência',\n",
       " 'PROGRAMA BASICO DE FISIOTERAPIA E TERAPIA ',\n",
       " 'PROGRAMA BASICO DE FISICA',\n",
       " 'PROGRAMA BASICO DE ANTROPOLOGIA',\n",
       " 'PROGRAMA BASICO DE PSICOLOGIA',\n",
       " 'Programa Básico de Engenharia de Energia',\n",
       " 'PROGRAMA BASICO DE LETRAS',\n",
       " 'Programa Especial de Biotecnologia e Recursos ',\n",
       " 'PROGRAMA BASICO DE LINGUISTICA',\n",
       " 'PROGRAMA BASICO DE ASTRONOMIA',\n",
       " 'Programa Basico de Geografia Física',\n",
       " 'PROGRAMA BASICO DE ADMINISTRACAO',\n",
       " 'PROGRAMA BASICO DE SOCIOLOGIA',\n",
       " 'PROGRAMA BASICO DE MATEMATICA',\n",
       " 'PROGRAMA BASICO DE ARQUEOLOGIA',\n",
       " 'PROGRAMA BASICO DE ARTES',\n",
       " 'PROGRAMA BASICO DE BIOQUIMICA',\n",
       " 'PROGRAMA BASICO DE CIENCIA E TECNOLOGIA DE ALIMENTOS',\n",
       " 'Programa Basico de Ciências Ambientais']"
      ]
     },
     "execution_count": 3,
     "metadata": {},
     "output_type": "execute_result"
    }
   ],
   "source": [
    "reg.pega_lista_chamadas()\n",
    "reg.pega_lista_indicadores()\n",
    "reg.pega_lista_programas()\n"
   ]
  },
  {
   "cell_type": "code",
   "execution_count": 4,
   "id": "ca8eb057",
   "metadata": {},
   "outputs": [],
   "source": [
    "reg.get_pd(ignore_filters = True) "
   ]
  },
  {
   "cell_type": "code",
   "execution_count": 5,
   "id": "a2278489",
   "metadata": {},
   "outputs": [
    {
     "name": "stdout",
     "output_type": "stream",
     "text": [
      "\n",
      "        select indicadores.id \n",
      "            ,indicadores_nomes.nome as tipo\n",
      "            ,sum(qty) FILTER (WHERE ano <= 2014) AS qty_i\n",
      "            ,sum(qty) FILTER (WHERE ano <= 2019) AS qty_f\n",
      "            ,pgtos\n",
      "            ,\"Chamada\" as chamada\n",
      "            ,demanda_bruta.\"Programa\" AS programa\n",
      "        from demanda_bruta\n",
      "        left join\n",
      "                (select \"Processo\" as processo, sum(\"Valor Pago\") as pgtos from pagamentos\n",
      "                where \"Processo\" in (select \"Processo\" from demanda_bruta)\n",
      "                group by \"Processo\") AS pgtos\n",
      "            on demanda_bruta.\"Processo\" = pgtos.processo\n",
      "        left join indicadores\n",
      "            on CAST(demanda_bruta.id as bigint) = indicadores.id\n",
      "        inner join all_lattes\n",
      "            on CAST(demanda_bruta.id as bigint) = all_lattes.id\n",
      "        inner join indicadores_nomes\n",
      "            on indicadores.tipo = indicadores_nomes.tipo\n",
      "        \n",
      "        WHERE\n",
      "            all_lattes.dt_atualizacao > '2020-01-01'\n",
      "        GROUP BY\n",
      "            indicadores.id \n",
      "            ,indicadores_nomes.nome\n",
      "            ,demanda_bruta.\"Processo\"\n",
      "            ,demanda_bruta.\"Chamada\"\n",
      "            ,pgtos.pgtos\n",
      "            ,demanda_bruta.\"Programa\"\n"
     ]
    }
   ],
   "source": [
    "print(reg.sql)"
   ]
  },
  {
   "cell_type": "code",
   "execution_count": 6,
   "id": "9ee95d59",
   "metadata": {},
   "outputs": [],
   "source": [
    "quem_ganhou = reg.pd[reg.pd.pgtos > 0]\n",
    "quem_predeu = reg.pd[reg.pd.pgtos == 0]\n"
   ]
  },
  {
   "cell_type": "code",
   "execution_count": 7,
   "id": "189bc86c",
   "metadata": {},
   "outputs": [],
   "source": [
    "impactos = []\n",
    "for chamada in reg.lista_chamadas:\n",
    "    qgc = quem_ganhou[quem_ganhou.chamada == chamada]\n",
    "    qpc = quem_predeu[quem_predeu.chamada == chamada]\n",
    "    for programa in reg.lista_programas:\n",
    "        qg = qgc[qgc.programa == programa]\n",
    "        qp = qpc[qpc.programa == programa]\n",
    "        for indicador in reg.lista_indicadores:\n",
    "                ifg = qg.qty_f[qg.tipo == indicador] - qg.qty_i[qg.tipo == indicador]\n",
    "                ifp = qp.qty_f[qp.tipo == indicador] - qp.qty_i[qp.tipo == indicador]\n",
    "                imp = (ifg.mean() - ifp.mean())*ifg.count()\n",
    "                if imp > 1:\n",
    "                    impacto = {\n",
    "                        'chamada': chamada,\n",
    "                        'programa': programa,\n",
    "                        'indicador': indicador,\n",
    "                        'impacto': imp\n",
    "                    }\n",
    "                    impactos.append(impacto)\n",
    "                    db.insert_dict('resultados_diferenca_em_diferencas', impacto, on_conflict = ['chamada', 'programa', 'indicador'])\n"
   ]
  },
  {
   "cell_type": "code",
   "execution_count": 8,
   "id": "8cb143d7",
   "metadata": {},
   "outputs": [
    {
     "name": "stdout",
     "output_type": "stream",
     "text": [
      "{'chamada': 'Universal 2014 - Faixa B.', 'programa': 'PROGRAMA BASICO DE ENGENHARIA QUIMICA', 'indicador': 'Orientação Concluída de Doutorado', 'impacto': 17.285714285714295}\n",
      "{'chamada': 'Universal 2014 - Faixa B.', 'programa': 'PROGRAMA BASICO DE ENGENHARIA AEROESPACIAL', 'indicador': 'Orientação Concluída de Doutorado', 'impacto': 3.6923076923076925}\n",
      "{'chamada': 'Universal 2014 - Faixa B.', 'programa': 'PROGRAMA BASICO DE ENGENHARIA BIOMEDICA', 'indicador': 'Orientação Concluída de Doutorado', 'impacto': 8.400000000000002}\n",
      "{'chamada': 'Universal 2014 - Faixa B.', 'programa': 'PROGRAMA BASICO DE EDUCACAO', 'indicador': 'Orientação Concluída de Doutorado', 'impacto': 50.54054054054054}\n",
      "{'chamada': 'Universal 2014 - Faixa B.', 'programa': 'PROGRAMA BASICO DE NUTRICAO', 'indicador': 'Orientação Concluída de Doutorado', 'impacto': 10.73684210526316}\n",
      "{'chamada': 'Universal 2014 - Faixa B.', 'programa': 'PROGRAMA BASICO DE AQUICULTURA', 'indicador': 'Orientação Concluída de Doutorado', 'impacto': 20.874999999999996}\n",
      "{'chamada': 'Universal 2014 - Faixa B.', 'programa': 'PROGRAMA BASICO DE FONOAUDIOLOGIA', 'indicador': 'Orientação Concluída de Doutorado', 'impacto': 2.333333333333334}\n",
      "{'chamada': 'Universal 2014 - Faixa B.', 'programa': 'PROGRAMA BASICO DE BIOFISICA', 'indicador': 'Orientação Concluída de Doutorado', 'impacto': 2.437499999999999}\n",
      "{'chamada': 'Universal 2014 - Faixa B.', 'programa': 'PROGRAMA BASICO DE FILOSOFIA', 'indicador': 'Orientação Concluída de Doutorado', 'impacto': 7.666666666666662}\n",
      "{'chamada': 'Universal 2014 - Faixa B.', 'programa': 'PROGRAMA BASICO DE FARMACIA', 'indicador': 'Orientação Concluída de Doutorado', 'impacto': 23.14285714285713}\n",
      "{'chamada': 'Universal 2014 - Faixa B.', 'programa': 'PROGRAMA BASICO DE ECOLOGIA E LIMNOLOGIA', 'indicador': 'Orientação Concluída de Doutorado', 'impacto': 36.705882352941174}\n",
      "{'chamada': 'Universal 2014 - Faixa B.', 'programa': 'PROGRAMA BASICO DE MEDICINA', 'indicador': 'Orientação Concluída de Doutorado', 'impacto': 73.61325966850829}\n",
      "{'chamada': 'Universal 2014 - Faixa B.', 'programa': 'PROGRAMA BASICO DE PROBABILIDADE E ESTATISTICA', 'indicador': 'Orientação Concluída de Doutorado', 'impacto': 1.25}\n",
      "{'chamada': 'Universal 2014 - Faixa B.', 'programa': 'PROGRAMA BASICO DE BOTANICA', 'indicador': 'Orientação Concluída de Doutorado', 'impacto': 7.934426229508199}\n",
      "{'chamada': 'Universal 2014 - Faixa B.', 'programa': 'PROGRAMA BASICO DE ZOOLOGIA E RECURSOS ', 'indicador': 'Orientação Concluída de Doutorado', 'impacto': 25.11111111111111}\n",
      "{'chamada': 'Universal 2014 - Faixa B.', 'programa': 'PROGRAMA BASICO DE CIENCIA POLITICA', 'indicador': 'Orientação Concluída de Doutorado', 'impacto': 14.363636363636363}\n",
      "{'chamada': 'Universal 2014 - Faixa B.', 'programa': 'PROGRAMA BASICO DE EDUCACAO FISICA', 'indicador': 'Orientação Concluída de Doutorado', 'impacto': 13.081081081081079}\n",
      "{'chamada': 'Universal 2014 - Faixa B.', 'programa': 'PROGRAMA BASICO DE MEDICINA VETERINARIA', 'indicador': 'Orientação Concluída de Doutorado', 'impacto': 109.7794117647059}\n",
      "{'chamada': 'Universal 2014 - Faixa B.', 'programa': 'PROGRAMA BASICO DE ECONOMIA', 'indicador': 'Orientação Concluída de Doutorado', 'impacto': 2.299999999999999}\n",
      "{'chamada': 'Universal 2014 - Faixa B.', 'programa': 'PROGRAMA BASICO DE ENGENHARIA DE PRODUCAO', 'indicador': 'Orientação Concluída de Doutorado', 'impacto': 5.9642857142857135}\n",
      "{'chamada': 'Universal 2014 - Faixa B.', 'programa': 'PROGRAMA BASICO DE HISTORIA', 'indicador': 'Orientação Concluída de Doutorado', 'impacto': 7.333333333333334}\n",
      "{'chamada': 'Universal 2014 - Faixa B.', 'programa': 'PROGRAMA BASICO DE AGRONOMIA', 'indicador': 'Orientação Concluída de Doutorado', 'impacto': 73.23880597014926}\n",
      "{'chamada': 'Universal 2014 - Faixa B.', 'programa': 'PROGRAMA BASICO DE DIREITO', 'indicador': 'Orientação Concluída de Doutorado', 'impacto': 3.0}\n",
      "{'chamada': 'Universal 2014 - Faixa B.', 'programa': 'PROGRAMA BASICO DE FISIOLOGIA', 'indicador': 'Orientação Concluída de Doutorado', 'impacto': 15.428571428571427}\n",
      "{'chamada': 'Universal 2014 - Faixa B.', 'programa': 'PROGRAMA BASICO DE ENGENHARIA MECANICA', 'indicador': 'Orientação Concluída de Doutorado', 'impacto': 1.9433962264150941}\n",
      "{'chamada': 'Universal 2014 - Faixa B.', 'programa': 'PROGRAMA BASICO DE QUIMICA', 'indicador': 'Orientação Concluída de Doutorado', 'impacto': 74.67289719626167}\n",
      "{'chamada': 'Universal 2014 - Faixa B.', 'programa': 'PROGRAMA BASICO DE SERVICO SOCIAL', 'indicador': 'Orientação Concluída de Doutorado', 'impacto': 19.8}\n",
      "{'chamada': 'Universal 2014 - Faixa B.', 'programa': 'Programa Basico de Geografia Humana e Regional', 'indicador': 'Orientação Concluída de Doutorado', 'impacto': 17.333333333333336}\n",
      "{'chamada': 'Universal 2014 - Faixa B.', 'programa': 'PROGRAMA BASICO DE ENGENHARIA AGRICOLA', 'indicador': 'Orientação Concluída de Doutorado', 'impacto': 2.7999999999999963}\n",
      "{'chamada': 'Universal 2014 - Faixa B.', 'programa': 'PROGRAMA BASICO DE MICROBIOLOGIA', 'indicador': 'Orientação Concluída de Doutorado', 'impacto': 5.154929577464792}\n",
      "{'chamada': 'Universal 2014 - Faixa B.', 'programa': 'PROGRAMA BASICO DE ENGENHARIA DE TRANSPORTES', 'indicador': 'Orientação Concluída de Doutorado', 'impacto': 6.0}\n",
      "{'chamada': 'Universal 2014 - Faixa B.', 'programa': 'PROGRAMA BASICO DE GENETICA', 'indicador': 'Orientação Concluída de Doutorado', 'impacto': 6.7500000000000036}\n",
      "{'chamada': 'Universal 2014 - Faixa B.', 'programa': 'PROGRAMA BASICO DE IMUNOLOGIA', 'indicador': 'Orientação Concluída de Doutorado', 'impacto': 11.135135135135139}\n",
      "{'chamada': 'Universal 2014 - Faixa B.', 'programa': 'PROGRAMA BASICO DE COMUNICACAO', 'indicador': 'Orientação Concluída de Doutorado', 'impacto': 12.000000000000002}\n",
      "{'chamada': 'Universal 2014 - Faixa B.', 'programa': 'PROGRAMA BASICO DE ZOOTECNIA', 'indicador': 'Orientação Concluída de Doutorado', 'impacto': 48.75324675324674}\n",
      "{'chamada': 'Universal 2014 - Faixa B.', 'programa': 'PROGRAMA BASICO DE MORFOLOGIA', 'indicador': 'Orientação Concluída de Doutorado', 'impacto': 11.244444444444447}\n",
      "{'chamada': 'Universal 2014 - Faixa B.', 'programa': 'PROGRAMA BASICO DE CIENCIA DA INFORMACAO', 'indicador': 'Orientação Concluída de Doutorado', 'impacto': 10.5}\n",
      "{'chamada': 'Universal 2014 - Faixa B.', 'programa': 'PROGRAMA BASICO DE CIENCIA DA COMPUTACAO', 'indicador': 'Orientação Concluída de Doutorado', 'impacto': 37.916666666666664}\n",
      "{'chamada': 'Universal 2014 - Faixa B.', 'programa': 'PROGRAMA BASICO DE ENGENHARIA NUCLEAR', 'indicador': 'Orientação Concluída de Doutorado', 'impacto': 4.285714285714286}\n",
      "{'chamada': 'Universal 2014 - Faixa B.', 'programa': 'PROGRAMA BASICO DE ENGENHARIA DE MINAS', 'indicador': 'Orientação Concluída de Doutorado', 'impacto': 5.0}\n",
      "{'chamada': 'Universal 2014 - Faixa B.', 'programa': 'PROGRAMA BASICO DE FISIOTERAPIA E TERAPIA ', 'indicador': 'Orientação Concluída de Doutorado', 'impacto': 24.0}\n",
      "{'chamada': 'Universal 2014 - Faixa B.', 'programa': 'PROGRAMA BASICO DE FISICA', 'indicador': 'Orientação Concluída de Doutorado', 'impacto': 65.63934426229507}\n",
      "{'chamada': 'Universal 2014 - Faixa B.', 'programa': 'PROGRAMA BASICO DE PSICOLOGIA', 'indicador': 'Orientação Concluída de Doutorado', 'impacto': 6.395833333333345}\n",
      "{'chamada': 'Universal 2014 - Faixa B.', 'programa': 'Programa Básico de Engenharia de Energia', 'indicador': 'Orientação Concluída de Doutorado', 'impacto': 7.705882352941176}\n",
      "{'chamada': 'Universal 2014 - Faixa B.', 'programa': 'PROGRAMA BASICO DE LETRAS', 'indicador': 'Orientação Concluída de Doutorado', 'impacto': 4.0}\n",
      "{'chamada': 'Universal 2014 - Faixa B.', 'programa': 'Programa Especial de Biotecnologia e Recursos ', 'indicador': 'Orientação Concluída de Doutorado', 'impacto': 18.20353982300885}\n",
      "{'chamada': 'Universal 2014 - Faixa B.', 'programa': 'PROGRAMA BASICO DE LINGUISTICA', 'indicador': 'Orientação Concluída de Doutorado', 'impacto': 9.599999999999998}\n",
      "{'chamada': 'Universal 2014 - Faixa B.', 'programa': 'PROGRAMA BASICO DE ASTRONOMIA', 'indicador': 'Orientação Concluída de Doutorado', 'impacto': 10.0}\n",
      "{'chamada': 'Universal 2014 - Faixa B.', 'programa': 'Programa Basico de Geografia Física', 'indicador': 'Orientação Concluída de Doutorado', 'impacto': 7.727272727272726}\n",
      "{'chamada': 'Universal 2014 - Faixa B.', 'programa': 'PROGRAMA BASICO DE ADMINISTRACAO', 'indicador': 'Orientação Concluída de Doutorado', 'impacto': 14.999999999999996}\n",
      "{'chamada': 'Universal 2014 - Faixa B.', 'programa': 'PROGRAMA BASICO DE SOCIOLOGIA', 'indicador': 'Orientação Concluída de Doutorado', 'impacto': 13.909090909090907}\n",
      "{'chamada': 'Universal 2014 - Faixa B.', 'programa': 'PROGRAMA BASICO DE MATEMATICA', 'indicador': 'Orientação Concluída de Doutorado', 'impacto': 3.8095238095238093}\n",
      "{'chamada': 'Universal 2014 - Faixa B.', 'programa': 'PROGRAMA BASICO DE ARTES', 'indicador': 'Orientação Concluída de Doutorado', 'impacto': 6.500000000000001}\n",
      "{'chamada': 'Universal 2014 - Faixa B.', 'programa': 'PROGRAMA BASICO DE CIENCIA E TECNOLOGIA DE ALIMENTOS', 'indicador': 'Orientação Concluída de Doutorado', 'impacto': 41.05555555555556}\n",
      "{'chamada': 'Universal 2014 - Faixa A.', 'programa': 'PROGRAMA BASICO DE ENGENHARIA QUIMICA', 'indicador': 'Orientação Concluída de Doutorado', 'impacto': 22.0}\n",
      "{'chamada': 'Universal 2014 - Faixa A.', 'programa': 'PROGRAMA BASICO DE ENGENHARIA AEROESPACIAL', 'indicador': 'Orientação Concluída de Doutorado', 'impacto': 2.000000000000001}\n",
      "{'chamada': 'Universal 2014 - Faixa A.', 'programa': 'Programa Básico de Microeletrônica', 'indicador': 'Orientação Concluída de Doutorado', 'impacto': 6.8}\n",
      "{'chamada': 'Universal 2014 - Faixa A.', 'programa': 'PROGRAMA BASICO DE FARMACOLOGIA', 'indicador': 'Orientação Concluída de Doutorado', 'impacto': 6.777777777777765}\n",
      "{'chamada': 'Universal 2014 - Faixa A.', 'programa': 'PROGRAMA BASICO DE BIOFISICA', 'indicador': 'Orientação Concluída de Doutorado', 'impacto': 1.200000000000001}\n",
      "{'chamada': 'Universal 2014 - Faixa A.', 'programa': 'PROGRAMA BASICO DE FARMACIA', 'indicador': 'Orientação Concluída de Doutorado', 'impacto': 5.25423728813559}\n",
      "{'chamada': 'Universal 2014 - Faixa A.', 'programa': 'PROGRAMA BASICO DE MEDICINA', 'indicador': 'Orientação Concluída de Doutorado', 'impacto': 21.857142857142854}\n",
      "{'chamada': 'Universal 2014 - Faixa A.', 'programa': 'PROGRAMA BASICO DE PROBABILIDADE E ESTATISTICA', 'indicador': 'Orientação Concluída de Doutorado', 'impacto': 1.666666666666667}\n",
      "{'chamada': 'Universal 2014 - Faixa A.', 'programa': 'PROGRAMA BASICO DE ZOOLOGIA E RECURSOS ', 'indicador': 'Orientação Concluída de Doutorado', 'impacto': 21.78947368421052}\n",
      "{'chamada': 'Universal 2014 - Faixa A.', 'programa': 'PROGRAMA BASICO DE CIENCIA POLITICA', 'indicador': 'Orientação Concluída de Doutorado', 'impacto': 3.0000000000000013}\n",
      "{'chamada': 'Universal 2014 - Faixa A.', 'programa': 'PROGRAMA BASICO DE MEDICINA VETERINARIA', 'indicador': 'Orientação Concluída de Doutorado', 'impacto': 9.00000000000001}\n",
      "{'chamada': 'Universal 2014 - Faixa A.', 'programa': 'PROGRAMA BASICO DE RECURSOS FLORESTAIS E ', 'indicador': 'Orientação Concluída de Doutorado', 'impacto': 2.7999999999999985}\n",
      "{'chamada': 'Universal 2014 - Faixa A.', 'programa': 'PROGRAMA BASICO DE ENGENHARIA DE MATERIAIS E ', 'indicador': 'Orientação Concluída de Doutorado', 'impacto': 21.22222222222222}\n",
      "{'chamada': 'Universal 2014 - Faixa A.', 'programa': 'PROGRAMA BASICO DE AGRONOMIA', 'indicador': 'Orientação Concluída de Doutorado', 'impacto': 55.17647058823529}\n",
      "{'chamada': 'Universal 2014 - Faixa A.', 'programa': 'PROGRAMA BASICO DE FISIOLOGIA', 'indicador': 'Orientação Concluída de Doutorado', 'impacto': 27.0625}\n",
      "{'chamada': 'Universal 2014 - Faixa A.', 'programa': 'PROGRAMA BASICO DE ENGENHARIA MECANICA', 'indicador': 'Orientação Concluída de Doutorado', 'impacto': 2.200000000000002}\n",
      "{'chamada': 'Universal 2014 - Faixa A.', 'programa': 'PROGRAMA BASICO DE QUIMICA', 'indicador': 'Orientação Concluída de Doutorado', 'impacto': 26.789473684210527}\n",
      "{'chamada': 'Universal 2014 - Faixa A.', 'programa': 'PROGRAMA BASICO DE MICROBIOLOGIA', 'indicador': 'Orientação Concluída de Doutorado', 'impacto': 22.10000000000001}\n",
      "{'chamada': 'Universal 2014 - Faixa A.', 'programa': 'PROGRAMA BASICO DE SAUDE COLETIVA', 'indicador': 'Orientação Concluída de Doutorado', 'impacto': 3.025641025641015}\n",
      "{'chamada': 'Universal 2014 - Faixa A.', 'programa': 'PROGRAMA BASICO DE IMUNOLOGIA', 'indicador': 'Orientação Concluída de Doutorado', 'impacto': 17.857142857142858}\n",
      "{'chamada': 'Universal 2014 - Faixa A.', 'programa': 'PROGRAMA BASICO DE COMUNICACAO', 'indicador': 'Orientação Concluída de Doutorado', 'impacto': 2.4999999999999973}\n",
      "{'chamada': 'Universal 2014 - Faixa A.', 'programa': 'PROGRAMA BASICO DE ZOOTECNIA', 'indicador': 'Orientação Concluída de Doutorado', 'impacto': 61.19565217391305}\n",
      "{'chamada': 'Universal 2014 - Faixa A.', 'programa': 'PROGRAMA BASICO DE MORFOLOGIA', 'indicador': 'Orientação Concluída de Doutorado', 'impacto': 37.61538461538461}\n",
      "{'chamada': 'Universal 2014 - Faixa A.', 'programa': 'PROGRAMA BASICO DE PARASITOLOGIA', 'indicador': 'Orientação Concluída de Doutorado', 'impacto': 17.33333333333333}\n",
      "{'chamada': 'Universal 2014 - Faixa A.', 'programa': 'PROGRAMA BASICO DE ENGENHARIA ELETRICA', 'indicador': 'Orientação Concluída de Doutorado', 'impacto': 16.166666666666668}\n",
      "{'chamada': 'Universal 2014 - Faixa A.', 'programa': 'PROGRAMA BASICO DE CIENCIA DA INFORMACAO', 'indicador': 'Orientação Concluída de Doutorado', 'impacto': 1.0000000000000004}\n",
      "{'chamada': 'Universal 2014 - Faixa A.', 'programa': 'PROGRAMA BASICO DE CIENCIA DA COMPUTACAO', 'indicador': 'Orientação Concluída de Doutorado', 'impacto': 13.596153846153848}\n",
      "{'chamada': 'Universal 2014 - Faixa A.', 'programa': 'PROGRAMA BASICO DE FISIOTERAPIA E TERAPIA ', 'indicador': 'Orientação Concluída de Doutorado', 'impacto': 21.000000000000007}\n",
      "{'chamada': 'Universal 2014 - Faixa A.', 'programa': 'Programa Especial de Biotecnologia e Recursos ', 'indicador': 'Orientação Concluída de Doutorado', 'impacto': 10.150943396226408}\n",
      "{'chamada': 'Universal 2014 - Faixa A.', 'programa': 'Programa Basico de Geografia Física', 'indicador': 'Orientação Concluída de Doutorado', 'impacto': 7.846153846153847}\n",
      "{'chamada': 'Universal 2014 - Faixa A.', 'programa': 'PROGRAMA BASICO DE ADMINISTRACAO', 'indicador': 'Orientação Concluída de Doutorado', 'impacto': 24.80392156862745}\n",
      "{'chamada': 'Universal 2014 - Faixa A.', 'programa': 'PROGRAMA BASICO DE ARTES', 'indicador': 'Orientação Concluída de Doutorado', 'impacto': 5.0}\n",
      "{'chamada': 'Universal 2014 - Faixa A.', 'programa': 'PROGRAMA BASICO DE BIOQUIMICA', 'indicador': 'Orientação Concluída de Doutorado', 'impacto': 36.13636363636364}\n",
      "{'chamada': 'Universal 2014 - Faixa A.', 'programa': 'PROGRAMA BASICO DE CIENCIA E TECNOLOGIA DE ALIMENTOS', 'indicador': 'Orientação Concluída de Doutorado', 'impacto': 45.85714285714287}\n",
      "{'chamada': 'Universal 2014 - Faixa C.', 'programa': 'PROGRAMA BASICO DE ENGENHARIA QUIMICA', 'indicador': 'Orientação Concluída de Doutorado', 'impacto': 68.82758620689656}\n",
      "{'chamada': 'Universal 2014 - Faixa C.', 'programa': 'PROGRAMA BASICO DE ENGENHARIA BIOMEDICA', 'indicador': 'Orientação Concluída de Doutorado', 'impacto': 6.7}\n",
      "{'chamada': 'Universal 2014 - Faixa C.', 'programa': 'PROGRAMA BASICO DE EDUCACAO', 'indicador': 'Orientação Concluída de Doutorado', 'impacto': 45.19117647058823}\n",
      "{'chamada': 'Universal 2014 - Faixa C.', 'programa': 'PROGRAMA TEMATICO DE DIVULGACAO CIENTIFICA', 'indicador': 'Orientação Concluída de Doutorado', 'impacto': 4.5}\n",
      "{'chamada': 'Universal 2014 - Faixa C.', 'programa': 'PROGRAMA BASICO DE FARMACOLOGIA', 'indicador': 'Orientação Concluída de Doutorado', 'impacto': 3.0645161290322624}\n",
      "{'chamada': 'Universal 2014 - Faixa C.', 'programa': 'PROGRAMA BASICO DE NUTRICAO', 'indicador': 'Orientação Concluída de Doutorado', 'impacto': 27.04347826086957}\n",
      "{'chamada': 'Universal 2014 - Faixa C.', 'programa': 'PROGRAMA BASICO DE AQUICULTURA', 'indicador': 'Orientação Concluída de Doutorado', 'impacto': 44.80000000000001}\n",
      "{'chamada': 'Universal 2014 - Faixa C.', 'programa': 'PROGRAMA BASICO DE BIOFISICA', 'indicador': 'Orientação Concluída de Doutorado', 'impacto': 23.22222222222222}\n",
      "{'chamada': 'Universal 2014 - Faixa C.', 'programa': 'PROGRAMA BASICO DE FILOSOFIA', 'indicador': 'Orientação Concluída de Doutorado', 'impacto': 6.0}\n",
      "{'chamada': 'Universal 2014 - Faixa C.', 'programa': 'PROGRAMA BASICO DE ENGENHARIA CIVIL', 'indicador': 'Orientação Concluída de Doutorado', 'impacto': 27.76923076923076}\n",
      "{'chamada': 'Universal 2014 - Faixa C.', 'programa': 'PROGRAMA BASICO DE FARMACIA', 'indicador': 'Orientação Concluída de Doutorado', 'impacto': 5.178571428571421}\n",
      "{'chamada': 'Universal 2014 - Faixa C.', 'programa': 'PROGRAMA BASICO DE ECOLOGIA E LIMNOLOGIA', 'indicador': 'Orientação Concluída de Doutorado', 'impacto': 27.928571428571427}\n",
      "{'chamada': 'Universal 2014 - Faixa C.', 'programa': 'PROGRAMA BASICO DE MEDICINA', 'indicador': 'Orientação Concluída de Doutorado', 'impacto': 89.95901639344265}\n",
      "{'chamada': 'Universal 2014 - Faixa C.', 'programa': 'PROGRAMA BASICO DE BOTANICA', 'indicador': 'Orientação Concluída de Doutorado', 'impacto': 38.0}\n",
      "{'chamada': 'Universal 2014 - Faixa C.', 'programa': 'PROGRAMA BASICO DE ZOOLOGIA E RECURSOS ', 'indicador': 'Orientação Concluída de Doutorado', 'impacto': 6.315789473684209}\n",
      "{'chamada': 'Universal 2014 - Faixa C.', 'programa': 'PROGRAMA BASICO DE EDUCACAO FISICA', 'indicador': 'Orientação Concluída de Doutorado', 'impacto': 20.439999999999998}\n",
      "{'chamada': 'Universal 2014 - Faixa C.', 'programa': 'PROGRAMA BASICO DE MEDICINA VETERINARIA', 'indicador': 'Orientação Concluída de Doutorado', 'impacto': 55.00000000000001}\n",
      "{'chamada': 'Universal 2014 - Faixa C.', 'programa': 'PROGRAMA BASICO DE ENFERMAGEM', 'indicador': 'Orientação Concluída de Doutorado', 'impacto': 12.760000000000002}\n",
      "{'chamada': 'Universal 2014 - Faixa C.', 'programa': 'PROGRAMA BASICO DE ODONTOLOGIA', 'indicador': 'Orientação Concluída de Doutorado', 'impacto': 15.312499999999996}\n",
      "{'chamada': 'Universal 2014 - Faixa C.', 'programa': 'PROGRAMA BASICO DE DESIGN', 'indicador': 'Orientação Concluída de Doutorado', 'impacto': 2.5}\n",
      "{'chamada': 'Universal 2014 - Faixa C.', 'programa': 'PROGRAMA BASICO DE RECURSOS FLORESTAIS E ', 'indicador': 'Orientação Concluída de Doutorado', 'impacto': 14.25}\n",
      "{'chamada': 'Universal 2014 - Faixa C.', 'programa': 'PROGRAMA BASICO DE ENGENHARIA DE MATERIAIS E ', 'indicador': 'Orientação Concluída de Doutorado', 'impacto': 69.94736842105263}\n",
      "{'chamada': 'Universal 2014 - Faixa C.', 'programa': 'PROGRAMA BASICO DE HISTORIA', 'indicador': 'Orientação Concluída de Doutorado', 'impacto': 18.500000000000004}\n",
      "{'chamada': 'Universal 2014 - Faixa C.', 'programa': 'PROGRAMA BASICO DE AGRONOMIA', 'indicador': 'Orientação Concluída de Doutorado', 'impacto': 106.2857142857143}\n",
      "{'chamada': 'Universal 2014 - Faixa C.', 'programa': 'PROGRAMA BASICO DE DIREITO', 'indicador': 'Orientação Concluída de Doutorado', 'impacto': 13.94736842105263}\n",
      "{'chamada': 'Universal 2014 - Faixa C.', 'programa': 'PROGRAMA BASICO DE FISIOLOGIA', 'indicador': 'Orientação Concluída de Doutorado', 'impacto': 18.90476190476191}\n",
      "{'chamada': 'Universal 2014 - Faixa C.', 'programa': 'PROGRAMA BASICO DE ENGENHARIA MECANICA', 'indicador': 'Orientação Concluída de Doutorado', 'impacto': 25.727272727272727}\n",
      "{'chamada': 'Universal 2014 - Faixa C.', 'programa': 'PROGRAMA BASICO DE QUIMICA', 'indicador': 'Orientação Concluída de Doutorado', 'impacto': 88.90476190476193}\n",
      "{'chamada': 'Universal 2014 - Faixa C.', 'programa': 'PROGRAMA BASICO DE SERVICO SOCIAL', 'indicador': 'Orientação Concluída de Doutorado', 'impacto': 1.9999999999999982}\n",
      "{'chamada': 'Universal 2014 - Faixa C.', 'programa': 'Programa Basico de Geografia Humana e Regional', 'indicador': 'Orientação Concluída de Doutorado', 'impacto': 8.875000000000004}\n",
      "{'chamada': 'Universal 2014 - Faixa C.', 'programa': 'PROGRAMA BASICO DE ENGENHARIA AGRICOLA', 'indicador': 'Orientação Concluída de Doutorado', 'impacto': 3.799999999999997}\n",
      "{'chamada': 'Universal 2014 - Faixa C.', 'programa': 'PROGRAMA BASICO DE MICROBIOLOGIA', 'indicador': 'Orientação Concluída de Doutorado', 'impacto': 25.999999999999993}\n",
      "{'chamada': 'Universal 2014 - Faixa C.', 'programa': 'PROGRAMA BASICO DE SAUDE COLETIVA', 'indicador': 'Orientação Concluída de Doutorado', 'impacto': 28.372093023255815}\n",
      "{'chamada': 'Universal 2014 - Faixa C.', 'programa': 'PROGRAMA BASICO DE GENETICA', 'indicador': 'Orientação Concluída de Doutorado', 'impacto': 53.377777777777766}\n",
      "{'chamada': 'Universal 2014 - Faixa C.', 'programa': 'PROGRAMA BASICO DE IMUNOLOGIA', 'indicador': 'Orientação Concluída de Doutorado', 'impacto': 16.16}\n",
      "{'chamada': 'Universal 2014 - Faixa C.', 'programa': 'PROGRAMA BASICO DE COMUNICACAO', 'indicador': 'Orientação Concluída de Doutorado', 'impacto': 3.0000000000000013}\n",
      "{'chamada': 'Universal 2014 - Faixa C.', 'programa': 'PROGRAMA BASICO DE ZOOTECNIA', 'indicador': 'Orientação Concluída de Doutorado', 'impacto': 71.49999999999999}\n",
      "{'chamada': 'Universal 2014 - Faixa C.', 'programa': 'PROGRAMA BASICO DE MORFOLOGIA', 'indicador': 'Orientação Concluída de Doutorado', 'impacto': 15.47368421052632}\n",
      "{'chamada': 'Universal 2014 - Faixa C.', 'programa': 'PROGRAMA BASICO DE PARASITOLOGIA', 'indicador': 'Orientação Concluída de Doutorado', 'impacto': 2.5862068965517224}\n",
      "{'chamada': 'Universal 2014 - Faixa C.', 'programa': 'PROGRAMA BASICO DE ENGENHARIA ELETRICA', 'indicador': 'Orientação Concluída de Doutorado', 'impacto': 12.692307692307686}\n",
      "{'chamada': 'Universal 2014 - Faixa C.', 'programa': 'PROGRAMA BASICO DE CIENCIA DA INFORMACAO', 'indicador': 'Orientação Concluída de Doutorado', 'impacto': 11.399999999999999}\n",
      "{'chamada': 'Universal 2014 - Faixa C.', 'programa': 'PROGRAMA BASICO DE CIENCIA DA COMPUTACAO', 'indicador': 'Orientação Concluída de Doutorado', 'impacto': 13.500000000000012}\n",
      "{'chamada': 'Universal 2014 - Faixa C.', 'programa': 'PROGRAMA BASICO DE ENGENHARIA DE MINAS', 'indicador': 'Orientação Concluída de Doutorado', 'impacto': 3.0}\n",
      "{'chamada': 'Universal 2014 - Faixa C.', 'programa': 'PROGRAMA BASICO DE DEMOGRAFIA', 'indicador': 'Orientação Concluída de Doutorado', 'impacto': 8.0}\n",
      "{'chamada': 'Universal 2014 - Faixa C.', 'programa': 'Programa Basico de Geociência', 'indicador': 'Orientação Concluída de Doutorado', 'impacto': 27.09756097560976}\n",
      "{'chamada': 'Universal 2014 - Faixa C.', 'programa': 'PROGRAMA BASICO DE FISIOTERAPIA E TERAPIA ', 'indicador': 'Orientação Concluída de Doutorado', 'impacto': 34.5}\n",
      "{'chamada': 'Universal 2014 - Faixa C.', 'programa': 'PROGRAMA BASICO DE FISICA', 'indicador': 'Orientação Concluída de Doutorado', 'impacto': 2.000000000000009}\n",
      "{'chamada': 'Universal 2014 - Faixa C.', 'programa': 'PROGRAMA BASICO DE ANTROPOLOGIA', 'indicador': 'Orientação Concluída de Doutorado', 'impacto': 17.57142857142857}\n",
      "{'chamada': 'Universal 2014 - Faixa C.', 'programa': 'PROGRAMA BASICO DE PSICOLOGIA', 'indicador': 'Orientação Concluída de Doutorado', 'impacto': 28.812499999999993}\n",
      "{'chamada': 'Universal 2014 - Faixa C.', 'programa': 'PROGRAMA BASICO DE LETRAS', 'indicador': 'Orientação Concluída de Doutorado', 'impacto': 24.166666666666668}\n",
      "{'chamada': 'Universal 2014 - Faixa C.', 'programa': 'Programa Especial de Biotecnologia e Recursos ', 'indicador': 'Orientação Concluída de Doutorado', 'impacto': 65.76086956521739}\n",
      "{'chamada': 'Universal 2014 - Faixa C.', 'programa': 'PROGRAMA BASICO DE ADMINISTRACAO', 'indicador': 'Orientação Concluída de Doutorado', 'impacto': 28.30769230769231}\n",
      "{'chamada': 'Universal 2014 - Faixa C.', 'programa': 'PROGRAMA BASICO DE ARTES', 'indicador': 'Orientação Concluída de Doutorado', 'impacto': 6.666666666666668}\n",
      "{'chamada': 'Universal 2014 - Faixa C.', 'programa': 'PROGRAMA BASICO DE BIOQUIMICA', 'indicador': 'Orientação Concluída de Doutorado', 'impacto': 18.0}\n",
      "{'chamada': 'Universal 2014 - Faixa C.', 'programa': 'PROGRAMA BASICO DE CIENCIA E TECNOLOGIA DE ALIMENTOS', 'indicador': 'Orientação Concluída de Doutorado', 'impacto': 66.15384615384615}\n",
      "{'chamada': 'Universal 2014 - Faixa C.', 'programa': 'Programa Basico de Ciências Ambientais', 'indicador': 'Orientação Concluída de Doutorado', 'impacto': 68.83076923076922}\n"
     ]
    },
    {
     "data": {
      "text/plain": [
       "3179.4158139536103"
      ]
     },
     "execution_count": 8,
     "metadata": {},
     "output_type": "execute_result"
    }
   ],
   "source": [
    "artigos = 0\n",
    "for impacto in impactos:\n",
    "    if impacto['indicador'] == 'Orientação Concluída de Doutorado':\n",
    "        artigos += impacto['impacto']\n",
    "        print(impacto)\n",
    "artigos        \n",
    "    "
   ]
  },
  {
   "cell_type": "code",
   "execution_count": 9,
   "id": "afa62520",
   "metadata": {},
   "outputs": [
    {
     "data": {
      "text/plain": [
       "count    21.000000\n",
       "mean      1.857143\n",
       "std       4.150731\n",
       "min       0.000000\n",
       "25%       0.000000\n",
       "50%       0.000000\n",
       "75%       1.000000\n",
       "max      18.000000\n",
       "dtype: float64"
      ]
     },
     "execution_count": 9,
     "metadata": {},
     "output_type": "execute_result"
    }
   ],
   "source": [
    "ifg.describe()"
   ]
  },
  {
   "cell_type": "code",
   "execution_count": 10,
   "id": "9bd149b8",
   "metadata": {},
   "outputs": [
    {
     "ename": "SyntaxError",
     "evalue": "invalid syntax (Temp/ipykernel_12016/2065028174.py, line 1)",
     "output_type": "error",
     "traceback": [
      "\u001b[1;36m  File \u001b[1;32m\"C:\\Users\\silva\\AppData\\Local\\Temp/ipykernel_12016/2065028174.py\"\u001b[1;36m, line \u001b[1;32m1\u001b[0m\n\u001b[1;33m    ifp =\u001b[0m\n\u001b[1;37m          ^\u001b[0m\n\u001b[1;31mSyntaxError\u001b[0m\u001b[1;31m:\u001b[0m invalid syntax\n"
     ]
    }
   ],
   "source": [
    "ifp = "
   ]
  },
  {
   "cell_type": "code",
   "execution_count": null,
   "id": "e33bcdd0",
   "metadata": {},
   "outputs": [],
   "source": [
    "ifp.describe()"
   ]
  },
  {
   "cell_type": "code",
   "execution_count": null,
   "id": "78a50ce9",
   "metadata": {},
   "outputs": [],
   "source": [
    "impacto = "
   ]
  },
  {
   "cell_type": "code",
   "execution_count": null,
   "id": "0fad4aea",
   "metadata": {},
   "outputs": [],
   "source": [
    "impacto"
   ]
  }
 ],
 "metadata": {
  "kernelspec": {
   "display_name": "Python 3 (ipykernel)",
   "language": "python",
   "name": "python3"
  },
  "language_info": {
   "codemirror_mode": {
    "name": "ipython",
    "version": 3
   },
   "file_extension": ".py",
   "mimetype": "text/x-python",
   "name": "python",
   "nbconvert_exporter": "python",
   "pygments_lexer": "ipython3",
   "version": "3.9.7"
  }
 },
 "nbformat": 4,
 "nbformat_minor": 5
}
