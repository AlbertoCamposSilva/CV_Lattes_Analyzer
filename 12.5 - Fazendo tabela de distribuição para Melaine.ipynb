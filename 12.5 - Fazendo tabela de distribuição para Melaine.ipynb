{
 "cells": [
  {
   "cell_type": "markdown",
   "id": "c1ccab7f",
   "metadata": {},
   "source": [
    "# IMPORTAÇÕES"
   ]
  },
  {
   "cell_type": "code",
   "execution_count": 15,
   "id": "83eb8577",
   "metadata": {},
   "outputs": [],
   "source": [
    "from Carga import Carga\n",
    "from pandas import pandas as pd\n",
    "import numpy as np\n",
    "import unidecode\n",
    "import Database\n",
    "import json\n",
    "from datetime import datetime"
   ]
  },
  {
   "cell_type": "markdown",
   "id": "26352df3",
   "metadata": {},
   "source": [
    "# Nome da Tabela"
   ]
  },
  {
   "cell_type": "code",
   "execution_count": 16,
   "id": "cf70a22e",
   "metadata": {},
   "outputs": [],
   "source": [
    "table_name = 'pareamentos2'"
   ]
  },
  {
   "cell_type": "markdown",
   "id": "1e4906c4",
   "metadata": {},
   "source": [
    "## Pegando Dados"
   ]
  },
  {
   "cell_type": "code",
   "execution_count": 17,
   "id": "254e3b94",
   "metadata": {},
   "outputs": [],
   "source": [
    "db = Database.Database('CNPq')\n",
    "engine = Carga.db_engine()"
   ]
  },
  {
   "cell_type": "code",
   "execution_count": 18,
   "id": "9a79a11c",
   "metadata": {},
   "outputs": [
    {
     "data": {
      "text/plain": [
       "138303"
      ]
     },
     "execution_count": 18,
     "metadata": {},
     "output_type": "execute_result"
    }
   ],
   "source": [
    "pareados = pd.read_sql(table_name, engine)\n",
    "pareados.size\n",
    "#size: 138.303"
   ]
  },
  {
   "cell_type": "code",
   "execution_count": 19,
   "id": "a39751b5",
   "metadata": {},
   "outputs": [
    {
     "data": {
      "text/plain": [
       "11522214"
      ]
     },
     "execution_count": 19,
     "metadata": {},
     "output_type": "execute_result"
    }
   ],
   "source": [
    "#Carregar arquivo na memória\n",
    "\n",
    "dt = pd.read_sql(f\"select * from public.indicadores_pareamento where not ano_doutorado is null and id in (SELECT distinct(unnest(array[id, pareado_1, pareado_2, pareado_3])) AS id FROM public.{table_name})\", engine)\n",
    "dt.size\n",
    "#size: 16.357.924    \n"
   ]
  },
  {
   "cell_type": "markdown",
   "id": "fe1e1c20",
   "metadata": {},
   "source": [
    "## Normalizando Dados"
   ]
  },
  {
   "cell_type": "code",
   "execution_count": 20,
   "id": "44339fa2",
   "metadata": {},
   "outputs": [],
   "source": [
    "## Retirada dos não doutores - Existem 3 não doutores contemplados!!!\n",
    "dt = dt[pd.notnull(dt.ano_doutorado)]\n",
    "\n",
    "\n",
    "## Normalizando as Tabelas\n",
    "\n",
    "#Preenchendo Nan com zeros nos indicadores\n",
    "dt.qty_2012 = dt.qty_2012.fillna(0)\n",
    "dt.qty_2013 = dt.qty_2013.fillna(0)\n",
    "dt.qty_2014 = dt.qty_2014.fillna(0)\n",
    "dt.qty_2015 = dt.qty_2015.fillna(0)\n",
    "dt.qty_2016 = dt.qty_2016.fillna(0)\n",
    "dt.qty_2017 = dt.qty_2017.fillna(0)\n",
    "dt.qty_2018 = dt.qty_2018.fillna(0)\n",
    "dt.qty_2019 = dt.qty_2019.fillna(0)\n",
    "\n",
    "#Preenchendo Nan com \"nenhum\" nas áreas e vínculos\n",
    "dt.area_demanda_bruta = dt.area_demanda_bruta.fillna('nenhum')\n",
    "dt.areas_conhecimento = dt.areas_conhecimento.fillna('nenhum')\n",
    "dt.tipos_vinculo = dt.tipos_vinculo.fillna('nenhum')\n",
    "dt.enquadramento_vinculo = dt.enquadramento_vinculo.fillna('nenhum')\n",
    "\n",
    "#Removendo acentos e caracteres especiais. Colocando tudo em minúsculas.\n",
    "dt.area_demanda_bruta = dt.area_demanda_bruta.str.normalize('NFKD')\\\n",
    "       .str.encode('ascii', errors='ignore')\\\n",
    "       .str.decode('utf-8')\\\n",
    "       .str.lower()\n",
    "dt.areas_conhecimento = dt.areas_conhecimento.str.normalize('NFKD')\\\n",
    "       .str.encode('ascii', errors='ignore')\\\n",
    "       .str.decode('utf-8')\\\n",
    "       .str.lower()\n",
    "dt.tipos_vinculo = dt.tipos_vinculo.str.normalize('NFKD')\\\n",
    "       .str.encode('ascii', errors='ignore')\\\n",
    "       .str.decode('utf-8')\\\n",
    "       .str.lower()\n",
    "dt.enquadramento_vinculo = dt.enquadramento_vinculo.str.normalize('NFKD')\\\n",
    "       .str.encode('ascii', errors='ignore')\\\n",
    "       .str.decode('utf-8')\\\n",
    "       .str.lower()              \n",
    "\n",
    "## Criando tabelas parciais\n",
    "financiados = dt[~pd.isnull(dt.pgtos)]\n",
    "dt = dt[pd.isnull(dt.pgtos)]\n",
    "\n",
    "\n",
    "## Alguns pesquisadores foram financiados em um ano, mas não em outro. Assim, aparece duas vezes, uma com pgtos=Nan, outra com pgtos > 0.\n",
    "## Assim, é necessário retirar da lista de pareamento aqueles que foram financiados em algum momento.\n",
    "## Da mesma forma, com certeza houveram aqueles financiados mais de um ano.\n",
    "dt = dt[~dt.id.isin(financiados.id.unique())] #Percebi alguns erros, então tive a certeza de remover os financiados da tabela de pareamento\n",
    "\n"
   ]
  },
  {
   "cell_type": "markdown",
   "id": "e3e3d8d2",
   "metadata": {},
   "source": [
    "## Criando Excel Writer"
   ]
  },
  {
   "cell_type": "code",
   "execution_count": 21,
   "id": "0487a921",
   "metadata": {},
   "outputs": [],
   "source": [
    "path = f\"C:/Users/silva/CNPq/Lattes/Tabela_Melaine_{table_name}.xlsx\"\n",
    "writer = pd.ExcelWriter(path, engine = 'xlsxwriter')"
   ]
  },
  {
   "cell_type": "markdown",
   "id": "d36ab6e6",
   "metadata": {},
   "source": [
    "# Pegando tabela com contagem de grupos"
   ]
  },
  {
   "cell_type": "code",
   "execution_count": 22,
   "id": "f4c08fe6",
   "metadata": {},
   "outputs": [],
   "source": [
    "lista_indicadores = []\n",
    "for grupo in dt.grupo.unique():\n",
    "    dt_grupo = dt[dt.grupo == grupo]\n",
    "    financiados_grupo = financiados[financiados.grupo == grupo]\n",
    "    tabela = {\n",
    "        'grupo': grupo,\n",
    "        'financiados_média': financiados_grupo.qty_2012.mean(),\n",
    "        'pareados_média': dt_grupo.qty_2012.mean(),\n",
    "        'financiados_desvio_padrão': financiados_grupo.qty_2012.std(),\n",
    "        'pareados_desvio_padrão': dt_grupo.qty_2012.std()\n",
    "    }\n",
    "    lista_indicadores.append (tabela)\n",
    "\n"
   ]
  },
  {
   "cell_type": "markdown",
   "id": "111faff9",
   "metadata": {},
   "source": [
    "## Tabela Ano Doutorado"
   ]
  },
  {
   "cell_type": "code",
   "execution_count": 23,
   "id": "56646fdf",
   "metadata": {},
   "outputs": [
    {
     "name": "stdout",
     "output_type": "stream",
     "text": [
      "{'grupo': 'ano_doutorado', 'financiados_média': 2003.1389485405234, 'pareados_média': 2009.1114151086792, 'financiados_desvio_padrão': 7.9930880939754365, 'pareados_desvio_padrão': 9.316022975881928}\n"
     ]
    }
   ],
   "source": [
    "financiados_dt = financiados[['id', 'ano_doutorado']].drop_duplicates() \n",
    "dt_dt = dt[['id', 'ano_doutorado']].drop_duplicates()  \n",
    "tabela = {\n",
    "    'grupo': 'ano_doutorado',\n",
    "    'financiados_média': financiados_dt.ano_doutorado.mean(),\n",
    "    'pareados_média': dt_dt.ano_doutorado.mean(),\n",
    "    'financiados_desvio_padrão': financiados_dt.ano_doutorado.std(),\n",
    "    'pareados_desvio_padrão': dt_dt.ano_doutorado.std()\n",
    "}\n",
    "lista_indicadores.append (tabela)\n",
    "print(tabela)"
   ]
  },
  {
   "cell_type": "markdown",
   "id": "3acb0110",
   "metadata": {},
   "source": [
    "### Salvando a primeira planilha no Writer"
   ]
  },
  {
   "cell_type": "code",
   "execution_count": 24,
   "id": "902c0c46",
   "metadata": {},
   "outputs": [],
   "source": [
    "tabela = pd.DataFrame(lista_indicadores)\n",
    "tabela.to_excel(writer, sheet_name = 'Grupos')"
   ]
  },
  {
   "cell_type": "markdown",
   "id": "9af9c93d",
   "metadata": {},
   "source": [
    "## Tabela Sexo"
   ]
  },
  {
   "cell_type": "code",
   "execution_count": 25,
   "id": "86a39c9c",
   "metadata": {},
   "outputs": [],
   "source": [
    "financiados_sexo = financiados[['id', 'sexo']].drop_duplicates() \n",
    "dt_sexo = dt[['id', 'sexo']].drop_duplicates()  \n"
   ]
  },
  {
   "cell_type": "code",
   "execution_count": 26,
   "id": "9cd0a59f",
   "metadata": {},
   "outputs": [],
   "source": [
    "fsm = financiados_sexo[financiados_sexo.sexo == 'M'].id.count()\n",
    "fsf = financiados_sexo[financiados_sexo.sexo == 'F'].id.count()\n",
    "dsm = dt_sexo[dt_sexo.sexo == 'M'].id.count()\n",
    "dsf = dt_sexo[dt_sexo.sexo == 'F'].id.count()"
   ]
  },
  {
   "cell_type": "code",
   "execution_count": 27,
   "id": "754751b4",
   "metadata": {},
   "outputs": [
    {
     "name": "stdout",
     "output_type": "stream",
     "text": [
      "                       0         1\n",
      "0              Descrição     Valor\n",
      "1                  grupo      sexo\n",
      "2  financiados: homens %  0.590593\n",
      "3     pareados: homens %  0.553056\n",
      "4      total_financiados     12573\n",
      "5         total_pareados      6579\n"
     ]
    }
   ],
   "source": [
    "tabela = [['Descrição', 'Valor']]\n",
    "tabela.append(['grupo', 'sexo'])\n",
    "tabela.append(['financiados: homens %', fsm/(fsm + fsf)])\n",
    "tabela.append(['pareados: homens %', dsm/(dsm + dsf)])\n",
    "tabela.append(['total_financiados', financiados_sexo.id.count()])\n",
    "tabela.append(['total_pareados', dt_sexo.id.count()])\n",
    "sexo = pd.DataFrame(tabela)\n",
    "print(sexo)               \n"
   ]
  },
  {
   "cell_type": "code",
   "execution_count": 28,
   "id": "e0d5b856",
   "metadata": {},
   "outputs": [],
   "source": [
    "sexo.to_excel(writer, sheet_name = 'Sexo')\n"
   ]
  },
  {
   "cell_type": "markdown",
   "id": "e721831d",
   "metadata": {},
   "source": [
    "## Salvando o arquivo"
   ]
  },
  {
   "cell_type": "code",
   "execution_count": 29,
   "id": "56fe539d",
   "metadata": {},
   "outputs": [
    {
     "name": "stderr",
     "output_type": "stream",
     "text": [
      "C:\\Python\\anaconda3\\lib\\site-packages\\xlsxwriter\\workbook.py:338: UserWarning: Calling close() on already closed file.\n",
      "  warn(\"Calling close() on already closed file.\")\n"
     ]
    }
   ],
   "source": [
    "writer.save()\n",
    "writer.close()"
   ]
  }
 ],
 "metadata": {
  "kernelspec": {
   "display_name": "Python 3 (ipykernel)",
   "language": "python",
   "name": "python3"
  },
  "language_info": {
   "codemirror_mode": {
    "name": "ipython",
    "version": 3
   },
   "file_extension": ".py",
   "mimetype": "text/x-python",
   "name": "python",
   "nbconvert_exporter": "python",
   "pygments_lexer": "ipython3",
   "version": "3.9.7"
  }
 },
 "nbformat": 4,
 "nbformat_minor": 5
}
