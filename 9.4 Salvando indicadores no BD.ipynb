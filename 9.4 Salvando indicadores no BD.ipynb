{
 "cells": [
  {
   "cell_type": "code",
   "execution_count": 1,
   "id": "986ec437",
   "metadata": {},
   "outputs": [],
   "source": [
    "from Carga import Carga\n",
    "from Lattes import Lattes\n",
    "from Indicadores import Indicadores\n",
    "cg = Carga()\n"
   ]
  },
  {
   "cell_type": "code",
   "execution_count": 2,
   "id": "d63557ab",
   "metadata": {},
   "outputs": [
    {
     "name": "stdout",
     "output_type": "stream",
     "text": [
      "Tentando recuperar Lattes compactado 4600040797550793 via SOAP\n",
      "Lattes compactado recuperado via SOAP\n"
     ]
    }
   ],
   "source": [
    "ind = Indicadores (id = '4600040797550793')"
   ]
  },
  {
   "cell_type": "code",
   "execution_count": 3,
   "id": "65db2515",
   "metadata": {},
   "outputs": [],
   "source": [
    "ind.lattes.read_zip_from_disk()"
   ]
  },
  {
   "cell_type": "code",
   "execution_count": 4,
   "id": "3bac2d1f",
   "metadata": {},
   "outputs": [],
   "source": [
    "cg.lattes.read_zip_from_disk()"
   ]
  },
  {
   "cell_type": "code",
   "execution_count": 5,
   "id": "fe1eb59c",
   "metadata": {},
   "outputs": [
    {
     "data": {
      "text/plain": [
       "'c:/Lattes'"
      ]
     },
     "execution_count": 5,
     "metadata": {},
     "output_type": "execute_result"
    }
   ],
   "source": [
    "cg.lattes.path"
   ]
  },
  {
   "cell_type": "code",
   "execution_count": 6,
   "id": "ffb6ec3f",
   "metadata": {},
   "outputs": [
    {
     "data": {
      "text/plain": [
       "'c:/Lattes\\\\Lattes_ZIP\\\\4\\\\6\\\\Lattes_4600040797550793.zip'"
      ]
     },
     "execution_count": 6,
     "metadata": {},
     "output_type": "execute_result"
    }
   ],
   "source": [
    "Lattes.get_saving_path(type = \"zip\", path = cg.lattes.path, id = '4600040797550793')"
   ]
  },
  {
   "cell_type": "code",
   "execution_count": null,
   "id": "cd3d560a",
   "metadata": {},
   "outputs": [],
   "source": []
  }
 ],
 "metadata": {
  "kernelspec": {
   "display_name": "Python 3 (ipykernel)",
   "language": "python",
   "name": "python3"
  },
  "language_info": {
   "codemirror_mode": {
    "name": "ipython",
    "version": 3
   },
   "file_extension": ".py",
   "mimetype": "text/x-python",
   "name": "python",
   "nbconvert_exporter": "python",
   "pygments_lexer": "ipython3",
   "version": "3.9.7"
  }
 },
 "nbformat": 4,
 "nbformat_minor": 5
}
