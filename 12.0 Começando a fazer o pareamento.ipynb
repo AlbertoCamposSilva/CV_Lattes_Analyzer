{
 "cells": [
  {
   "cell_type": "code",
   "execution_count": null,
   "id": "14d7654e",
   "metadata": {},
   "outputs": [],
   "source": [
    "from Carga import Carga\n",
    "from pandas import pandas as pd\n",
    "import numpy as np\n",
    "import unidecode"
   ]
  },
  {
   "cell_type": "code",
   "execution_count": null,
   "id": "c07c888d",
   "metadata": {},
   "outputs": [],
   "source": [
    "engine = Carga.db_engine()\n",
    "dt = pd.DataFrame()"
   ]
  },
  {
   "cell_type": "markdown",
   "id": "be4b4819",
   "metadata": {},
   "source": [
    "# Full Database & Normalization"
   ]
  },
  {
   "cell_type": "code",
   "execution_count": null,
   "id": "21cd3e7a",
   "metadata": {},
   "outputs": [],
   "source": [
    "dt = pd.read_sql(\"indicadores_pareamento\", engine)"
   ]
  },
  {
   "cell_type": "code",
   "execution_count": null,
   "id": "fef7a6ca",
   "metadata": {},
   "outputs": [],
   "source": [
    "dt.qty_2012 = dt.qty_2012.fillna(0)\n",
    "dt.qty_2013 = dt.qty_2013.fillna(0)\n",
    "dt.qty_2014 = dt.qty_2014.fillna(0)\n",
    "dt.qty_2015 = dt.qty_2015.fillna(0)\n",
    "dt.qty_2016 = dt.qty_2016.fillna(0)\n",
    "dt.qty_2017 = dt.qty_2017.fillna(0)\n",
    "dt.qty_2018 = dt.qty_2018.fillna(0)\n",
    "dt.qty_2019 = dt.qty_2019.fillna(0)"
   ]
  },
  {
   "cell_type": "code",
   "execution_count": null,
   "id": "f776debc",
   "metadata": {},
   "outputs": [],
   "source": [
    "dt.area_demanda_bruta = dt.area_demanda_bruta.fillna('nenhum')\n",
    "dt.areas_conhecimento = dt.areas_conhecimento.fillna('nenhum')\n",
    "dt.tipos_vinculo = dt.tipos_vinculo.fillna('nenhum')\n",
    "dt.enquadramento_vinculo = dt.enquadramento_vinculo.fillna('nenhum')"
   ]
  },
  {
   "cell_type": "code",
   "execution_count": null,
   "id": "0c251348",
   "metadata": {},
   "outputs": [],
   "source": [
    "dt.area_demanda_bruta = dt.area_demanda_bruta.str.normalize('NFKD')\\\n",
    "       .str.encode('ascii', errors='ignore')\\\n",
    "       .str.decode('utf-8')\\\n",
    "       .str.lower()"
   ]
  },
  {
   "cell_type": "code",
   "execution_count": null,
   "id": "6bd220d6",
   "metadata": {},
   "outputs": [],
   "source": [
    "dt.areas_conhecimento = dt.areas_conhecimento.str.normalize('NFKD')\\\n",
    "       .str.encode('ascii', errors='ignore')\\\n",
    "       .str.decode('utf-8')\\\n",
    "       .str.lower()"
   ]
  },
  {
   "cell_type": "code",
   "execution_count": null,
   "id": "6a0dcc55",
   "metadata": {},
   "outputs": [],
   "source": [
    "dt.tipos_vinculo = dt.tipos_vinculo.str.normalize('NFKD')\\\n",
    "       .str.encode('ascii', errors='ignore')\\\n",
    "       .str.decode('utf-8')\\\n",
    "       .str.lower()"
   ]
  },
  {
   "cell_type": "code",
   "execution_count": null,
   "id": "bca2af86",
   "metadata": {},
   "outputs": [],
   "source": [
    "dt.enquadramento_vinculo = dt.enquadramento_vinculo.str.normalize('NFKD')\\\n",
    "       .str.encode('ascii', errors='ignore')\\\n",
    "       .str.decode('utf-8')\\\n",
    "       .str.lower()"
   ]
  },
  {
   "cell_type": "markdown",
   "id": "81b05194",
   "metadata": {},
   "source": [
    "# Getting partial databases"
   ]
  },
  {
   "cell_type": "code",
   "execution_count": null,
   "id": "f4655f1d",
   "metadata": {},
   "outputs": [],
   "source": [
    "financiados = dt[dt.pgtos > 0]"
   ]
  },
  {
   "cell_type": "code",
   "execution_count": null,
   "id": "35d7cd5f",
   "metadata": {},
   "outputs": [],
   "source": [
    "outros = dt[pd.isnull(dt.pgtos)]"
   ]
  },
  {
   "cell_type": "code",
   "execution_count": null,
   "id": "15879a1e",
   "metadata": {},
   "outputs": [],
   "source": [
    "financiados.id.unique()"
   ]
  },
  {
   "cell_type": "markdown",
   "id": "53c392d2",
   "metadata": {},
   "source": [
    "## Analisando um ID"
   ]
  },
  {
   "cell_type": "code",
   "execution_count": null,
   "id": "a1329c68",
   "metadata": {},
   "outputs": [],
   "source": [
    "id = 1956141788591551\n",
    "financiado = financiados[financiados.id == id]\n",
    "financiado"
   ]
  },
  {
   "cell_type": "code",
   "execution_count": null,
   "id": "71aaa8d7",
   "metadata": {},
   "outputs": [],
   "source": [
    "financiado.areas_conhecimento.iloc[0].split(',')"
   ]
  },
  {
   "cell_type": "code",
   "execution_count": null,
   "id": "b7ed683a",
   "metadata": {},
   "outputs": [],
   "source": [
    "#Pegando Regiões\n",
    "\n",
    "região = financiado.iloc[0].uf\n",
    "tipo_região = None\n",
    "if not região == None:\n",
    "    if região in ('GO', 'MS', 'MT', 'DF', 'AL', 'BA', 'CE', 'MA', 'PB', 'PE', 'PI', 'RN', 'SE', 'AC', 'AM', 'AP', 'PA', 'RO', 'RR', 'TO'):\n",
    "        tipo_região = 1\n",
    "    elif região in ('ES', 'MG', 'RJ', 'SP'):\n",
    "        tipo_região = 2\n",
    "    elif região in ('PR', 'RS', 'SC'):\n",
    "        tipo_região = 3\n",
    "    \n"
   ]
  },
  {
   "cell_type": "code",
   "execution_count": null,
   "id": "a026b530",
   "metadata": {},
   "outputs": [],
   "source": [
    "#Pegando ano do Indicador a ser usado\n",
    "\n",
    "if financiado.chamada.str.contains('2012', na=False).unique()[0] == True : ano = 2012\n",
    "elif financiado.chamada.str.contains('2013', na=False).unique()[0] == True : ano = 2013\n",
    "elif financiado.chamada.str.contains('2014', na=False).unique()[0] == True : ano = 2014\n",
    "else: ano = None\n",
    "    \n",
    "    \n",
    "#Pegando Faixa do Financiado\n",
    "    \n",
    "if financiado.chamada.str.contains('Faixa A', na=False).unique()[0] == True : faixa = 'A'\n",
    "elif financiado.chamada.str.contains('Faixa B', na=False).unique()[0] == True : faixa = 'B'\n",
    "elif financiado.chamada.str.contains('Faixa c', na=False).unique()[0] == True : faixa = 'C'\n",
    "else: faixa = None\n",
    "    \n",
    "print (faixa, ano)"
   ]
  },
  {
   "cell_type": "code",
   "execution_count": null,
   "id": "0ea0a61e",
   "metadata": {},
   "outputs": [],
   "source": [
    "#Pegando Enquadramentos Funcionais Atuais\n",
    "enquadramento_vinculo = financiado.enquadramento_vinculo.unique()\n",
    "if not enquadramento_vinculo == None and len(enquadramento_vinculo) > 0:\n",
    "    if enquadramento_vinculo[0].find('professor') > -1:\n",
    "        vinculo = 'professor'\n",
    "    elif enquadramento_vinculo[0].find('outro') > -1:\n",
    "        vinculo = 'outro'    \n",
    "    elif enquadramento_vinculo[0].find('livre') > -1:\n",
    "        vinculo = 'livre'      \n",
    "else: vinculo  = 'nenhum'\n",
    "\n",
    "tipos_vinculo = financiado.enquadramento_vinculo.unique()\n",
    "if not tipos_vinculo == None and len(tipos_vinculo) > 0:   \n",
    "    if tipos_vinculo[0].find('servidor_publico') > -1:\n",
    "        enquadramento = 'servidor_publico'\n",
    "    elif tipos_vinculo[0].find('celetista') > -1:\n",
    "        enquadramento = 'celetista'\n",
    "    elif tipos_vinculo[0].find('professor_visitante') > -1:\n",
    "        enquadramento = 'colaborador' \n",
    "    elif tipos_vinculo[0].find('colaborador') > -1:\n",
    "        enquadramento = 'colaborador' \n",
    "    elif tipos_vinculo[0].find('bolsista') > -1:\n",
    "        enquadramento = 'bolsista' \n",
    "    elif tipos_vinculo[0].find('livre') > -1:\n",
    "        enquadramento = 'livre' \n",
    "    elif tipos_vinculo[0].find('outro') > -1:\n",
    "        enquadramento = 'outro'     \n",
    "else: enquadramento = 'nenhum'\n",
    "    \n",
    "print (f\"Vínculo: {vinculo}. Tipo: {enquadramento}\")    \n",
    "\n",
    "\n"
   ]
  },
  {
   "cell_type": "code",
   "execution_count": null,
   "id": "4a5a538e",
   "metadata": {},
   "outputs": [],
   "source": [
    "#Fazendo o Pareamento\n",
    "\n",
    "pareados = outros.loc[\n",
    "    (outros.sexo == financiado.sexo.unique()[0])\n",
    "    & (outros.areas_conhecimento.str.contains(financiado.area_demanda_bruta.unique()[0], na=False))\n",
    "    & (outros.enquadramento_vinculo.str.contains(vinculo, na=False))\n",
    "    & (outros.tipos_vinculo.str.contains(enquadramento, na=False))\n",
    "    #& (outros.ano_doutorado < financiado.ano_doutorado.unique()[0] + 5)\n",
    "    #& (outros.ano_doutorado > financiado.ano_doutorado.unique()[0] - 5)\n",
    "    ]\n",
    "if tipo_região == 1:\n",
    "    pareados = pareados.loc[pareados.uf.isin(('GO', 'MS', 'MT', 'DF', 'AL', 'BA', 'CE', 'MA', 'PB', 'PE', 'PI', 'RN', 'SE', 'AC', 'AM', 'AP', 'PA', 'RO', 'RR', 'TO'))]\n",
    "elif tipo_região == 2:\n",
    "    pareados = pareados.loc[pareados.uf.isin(('ES', 'MG', 'RJ', 'SP'))]\n",
    "elif tipo_região == 3:\n",
    "    pareados = pareados.loc[pareados.uf.isin(('PR', 'RS', 'SC'))]\n",
    "    \n",
    "len(pareados.id.unique())"
   ]
  },
  {
   "cell_type": "code",
   "execution_count": null,
   "id": "7555e809",
   "metadata": {},
   "outputs": [],
   "source": [
    "pareados"
   ]
  },
  {
   "cell_type": "code",
   "execution_count": null,
   "id": "cb4dca70",
   "metadata": {},
   "outputs": [],
   "source": [
    "#Fezendo lista de erros quadráticos\n",
    "ids_pareados = []\n",
    "for grupo in financiado.grupo.unique():\n",
    "    ind_financiado = financiado.loc[(financiado.grupo == grupo)]['qty_' + str(ano)].iloc[0]\n",
    "    #print('\\n\\n', grupo, ind_financiado, ': ')\n",
    "\n",
    "    for id_pareado in pareados.id.unique():\n",
    "        ind_pareado = pareados.loc[\n",
    "            (pareados.grupo == grupo)\n",
    "            & (pareados.id == id_pareado)\n",
    "            ]['qty_' + str(ano)]\n",
    "        if len(ind_pareado) > 0:\n",
    "            ind_pareado = ind_pareado.iloc[0]\n",
    "        else:\n",
    "            ind_pareado = 0\n",
    "        erro = {\n",
    "            'id': id,\n",
    "            'id_pareado': id_pareado,\n",
    "            'grupo': grupo,\n",
    "            'valor': ind_pareado,\n",
    "            'erro2': (ind_financiado - ind_pareado)**2\n",
    "        }\n",
    "        ids_pareados.append(erro)\n",
    "        print(erro)"
   ]
  },
  {
   "cell_type": "code",
   "execution_count": null,
   "id": "0cfa888a",
   "metadata": {},
   "outputs": [],
   "source": [
    "#Acrescentando Anos de Doutor como um Indicador\n",
    "for id_pareado in pareados.id.unique():\n",
    "    ind_pareado = pareados.ano_doutorado.loc[\n",
    "        (pareados.id == id_pareado)\n",
    "        ].unique()\n",
    "    #print(ind_pareado, type(ind_pareado))\n",
    "    if len(ind_pareado) > 0:\n",
    "        ind_pareado = ind_pareado[0]\n",
    "    else:\n",
    "        ind_pareado = 0\n",
    "    erro = {\n",
    "        'id': id,\n",
    "        'id_pareado': id_pareado,\n",
    "        'grupo': \"Anos de Doutor\",\n",
    "        'valor': ind_pareado,\n",
    "        'erro2': (financiado.ano_doutorado.iloc[0] - ind_pareado)**2\n",
    "    }\n",
    "    ids_pareados.append(erro)"
   ]
  },
  {
   "cell_type": "code",
   "execution_count": null,
   "id": "2623e98c",
   "metadata": {},
   "outputs": [],
   "source": [
    "financiado.ano_doutorado.iloc[0]"
   ]
  },
  {
   "cell_type": "code",
   "execution_count": null,
   "id": "c806e9b9",
   "metadata": {},
   "outputs": [],
   "source": [
    "#Acrescentando Áreas do Conhecimento em Comum como outro indicador\n",
    "areas_conhecimento_financiado = financiado.areas_conhecimento.iloc[0]\n",
    "if not areas_conhecimento_financiado == None:\n",
    "    areas_conhecimento_financiado = areas_conhecimento_financiado.split(',')\n",
    "    total_areas = len(areas_conhecimento_financiado)\n",
    "\n",
    "    for id_pareado in pareados.id.unique():\n",
    "        areas_em_comum = 0\n",
    "        lista_areas_conhecimento = pareados.loc[pareados.id == id_pareado].areas_conhecimento\n",
    "        if len(lista_areas_conhecimento) > 0 and not lista_areas_conhecimento.iloc[0] == None:\n",
    "            lista_areas_conhecimento = lista_areas_conhecimento.iloc[0].split(',')\n",
    "            for area in areas_conhecimento_financiado:\n",
    "                if area in lista_areas_conhecimento:\n",
    "                    areas_em_comum += 1\n",
    "        erro = {\n",
    "            'id': id,\n",
    "            'id_pareado': id_pareado,\n",
    "            'grupo': 'areas_conhecimento',\n",
    "            'valor': areas_em_comum,\n",
    "            'erro2': (total_areas - areas_em_comum)**2\n",
    "        }\n",
    "        ids_pareados.append(erro)    \n",
    "        #print(erro)"
   ]
  },
  {
   "cell_type": "code",
   "execution_count": null,
   "id": "40df5784",
   "metadata": {},
   "outputs": [],
   "source": [
    "#Calculando o Erro\n",
    "erro = pd.DataFrame(ids_pareados)\n",
    "#print(erro)\n",
    "desvio_padrão = []\n",
    "for id_pareado in erro.id_pareado.unique():\n",
    "    erro_id = erro.loc[erro.id_pareado == id_pareado]\n",
    "    if not erro_id.empty:\n",
    "        soma_erro = erro_id.erro2.sum()\n",
    "        num_erros = len(erro_id.index)\n",
    "        err = {\n",
    "            'id': id,\n",
    "            'id_pareado': id_pareado,\n",
    "            'erro': np.sqrt(soma_erro/num_erros)\n",
    "        }\n",
    "        desvio_padrão.append(err)"
   ]
  },
  {
   "cell_type": "code",
   "execution_count": null,
   "id": "c70a8594",
   "metadata": {},
   "outputs": [],
   "source": [
    "tabela_pareamento = pd.DataFrame(desvio_padrão)"
   ]
  },
  {
   "cell_type": "code",
   "execution_count": null,
   "id": "b3aa7eb4",
   "metadata": {},
   "outputs": [],
   "source": [
    "tabela_pareamento.sort_values(by='erro', ascending=True)"
   ]
  },
  {
   "cell_type": "code",
   "execution_count": null,
   "id": "e861f9e3",
   "metadata": {},
   "outputs": [],
   "source": [
    "tabela_pareamento.describe()"
   ]
  },
  {
   "cell_type": "code",
   "execution_count": null,
   "id": "cf56b7e2",
   "metadata": {},
   "outputs": [],
   "source": []
  },
  {
   "cell_type": "code",
   "execution_count": null,
   "id": "8538d4f3",
   "metadata": {},
   "outputs": [],
   "source": []
  },
  {
   "cell_type": "code",
   "execution_count": null,
   "id": "4bb9dc0c",
   "metadata": {},
   "outputs": [],
   "source": []
  }
 ],
 "metadata": {
  "kernelspec": {
   "display_name": "Python 3 (ipykernel)",
   "language": "python",
   "name": "python3"
  },
  "language_info": {
   "codemirror_mode": {
    "name": "ipython",
    "version": 3
   },
   "file_extension": ".py",
   "mimetype": "text/x-python",
   "name": "python",
   "nbconvert_exporter": "python",
   "pygments_lexer": "ipython3",
   "version": "3.9.7"
  }
 },
 "nbformat": 4,
 "nbformat_minor": 5
}
