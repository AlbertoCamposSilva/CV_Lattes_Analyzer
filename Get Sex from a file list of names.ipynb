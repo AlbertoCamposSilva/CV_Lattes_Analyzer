{
 "cells": [
  {
   "cell_type": "code",
   "execution_count": null,
   "id": "d2618597",
   "metadata": {},
   "outputs": [],
   "source": [
    "import unidecode\n",
    "with open(r'C:\\Users\\silva\\Downloads\\names.txt', 'r', encoding=\"utf-8\") as f:\n",
    "    myNames = [line.strip() for line in f]"
   ]
  },
  {
   "cell_type": "code",
   "execution_count": null,
   "id": "43597624",
   "metadata": {},
   "outputs": [],
   "source": [
    "myNames"
   ]
  },
  {
   "cell_type": "code",
   "execution_count": null,
   "id": "fac4e6ee",
   "metadata": {},
   "outputs": [],
   "source": [
    "import requests, json\n",
    "\n"
   ]
  },
  {
   "cell_type": "code",
   "execution_count": 1,
   "id": "1f9a8ddc",
   "metadata": {},
   "outputs": [],
   "source": [
    "from Indicadores import Indicadores"
   ]
  },
  {
   "cell_type": "code",
   "execution_count": 2,
   "id": "162e14ef",
   "metadata": {},
   "outputs": [],
   "source": [
    "ind = Indicadores('3563555687176463')\n",
    "ind.show_sql = True\n",
    "ind.show_messages = True\n",
    "ind.show_execution_time = True\n"
   ]
  },
  {
   "cell_type": "code",
   "execution_count": 5,
   "id": "1c6e5e14",
   "metadata": {},
   "outputs": [
    {
     "data": {
      "text/plain": [
       "[('M',)]"
      ]
     },
     "execution_count": 5,
     "metadata": {},
     "output_type": "execute_result"
    }
   ],
   "source": [
    "sexo = ind.db.query(f'select sexo from dados_gerais where id = {ind.id}')\n",
    "sexo"
   ]
  },
  {
   "cell_type": "code",
   "execution_count": 4,
   "id": "4aa0ae62",
   "metadata": {},
   "outputs": [
    {
     "data": {
      "text/plain": [
       "False"
      ]
     },
     "execution_count": 4,
     "metadata": {},
     "output_type": "execute_result"
    }
   ],
   "source": [
    "sexo[0][0] == None"
   ]
  },
  {
   "cell_type": "code",
   "execution_count": null,
   "id": "b6124ec7",
   "metadata": {},
   "outputs": [],
   "source": [
    "len (ind.dados_gerais['nome'])"
   ]
  },
  {
   "cell_type": "code",
   "execution_count": 7,
   "id": "02594097",
   "metadata": {},
   "outputs": [
    {
     "name": "stdout",
     "output_type": "stream",
     "text": [
      "name[0]=Gilberto\n",
      "{'count': 75853, 'gender': 'male', 'name': 'Gilberto', 'probability': 1.0}\n",
      "func:'getGender' took: 1.1716 sec\n"
     ]
    },
    {
     "data": {
      "text/plain": [
       "[('male', 1.0, 75853)]"
      ]
     },
     "execution_count": 7,
     "metadata": {},
     "output_type": "execute_result"
    }
   ],
   "source": [
    "ind.show_execution_time = True\n",
    "ind.getGender ()\n"
   ]
  },
  {
   "cell_type": "code",
   "execution_count": null,
   "id": "a3b2f8b6",
   "metadata": {},
   "outputs": [],
   "source": []
  },
  {
   "cell_type": "code",
   "execution_count": null,
   "id": "46cf27bd",
   "metadata": {},
   "outputs": [],
   "source": []
  },
  {
   "cell_type": "code",
   "execution_count": 8,
   "id": "8c1de6a8",
   "metadata": {},
   "outputs": [
    {
     "name": "stdout",
     "output_type": "stream",
     "text": [
      "func:'get_sexo' took: 0.0010 sec\n",
      "func:'get_dados_gerais' took: 0.0010 sec\n"
     ]
    },
    {
     "data": {
      "text/plain": [
       "True"
      ]
     },
     "execution_count": 8,
     "metadata": {},
     "output_type": "execute_result"
    }
   ],
   "source": [
    "ind.get_dados_gerais()"
   ]
  },
  {
   "cell_type": "code",
   "execution_count": 9,
   "id": "43bfff09",
   "metadata": {},
   "outputs": [
    {
     "name": "stdout",
     "output_type": "stream",
     "text": [
      "func:'get_sexo' took: 0.0014 sec\n"
     ]
    }
   ],
   "source": [
    "ind.get_sexo()"
   ]
  },
  {
   "cell_type": "code",
   "execution_count": 10,
   "id": "5a0af118",
   "metadata": {},
   "outputs": [
    {
     "name": "stdout",
     "output_type": "stream",
     "text": [
      "func:'salva_dados_gerais_no_bd' took: 0.0200 sec\n"
     ]
    },
    {
     "data": {
      "text/plain": [
       "True"
      ]
     },
     "execution_count": 10,
     "metadata": {},
     "output_type": "execute_result"
    }
   ],
   "source": [
    "ind.salva_dados_gerais_no_bd()"
   ]
  },
  {
   "cell_type": "code",
   "execution_count": null,
   "id": "5c907231",
   "metadata": {},
   "outputs": [],
   "source": [
    "ind.get_sexo()"
   ]
  },
  {
   "cell_type": "code",
   "execution_count": null,
   "id": "5a29725a",
   "metadata": {},
   "outputs": [],
   "source": [
    "ind.atualiza()"
   ]
  },
  {
   "cell_type": "code",
   "execution_count": null,
   "id": "6e375444",
   "metadata": {},
   "outputs": [],
   "source": [
    "getGenders(myNames[0].split()[2])"
   ]
  },
  {
   "cell_type": "code",
   "execution_count": null,
   "id": "b6e30f06",
   "metadata": {},
   "outputs": [],
   "source": [
    "all_names = []\n",
    "for name in myNames:\n",
    "    print(name)\n",
    "    print(name.split()[0])\n",
    "    name = {\n",
    "        'nome': name,\n",
    "        'sexo': getGenders(name.split()[0])\n",
    "    }\n",
    "    all_names.append(name)\n",
    "    \n"
   ]
  },
  {
   "cell_type": "code",
   "execution_count": null,
   "id": "1b08ef2c",
   "metadata": {},
   "outputs": [],
   "source": [
    "all_names"
   ]
  },
  {
   "cell_type": "code",
   "execution_count": null,
   "id": "a95402a3",
   "metadata": {},
   "outputs": [],
   "source": [
    "todos_os_nomes = []\n",
    "for name in all_names:\n",
    "    one_more = {\n",
    "        'nome': name['nome'],\n",
    "        'sexo': name['sexo'][0][0],\n",
    "        'chance_acerto': name['sexo'][0][1],\n",
    "        'tamanho_amostra': name['sexo'][0][2]\n",
    "    }\n",
    "    todos_os_nomes.append(one_more)\n",
    "    \n"
   ]
  },
  {
   "cell_type": "code",
   "execution_count": null,
   "id": "e154bfc9",
   "metadata": {},
   "outputs": [],
   "source": [
    "todos_os_nomes"
   ]
  },
  {
   "cell_type": "code",
   "execution_count": null,
   "id": "0c0e5f50",
   "metadata": {},
   "outputs": [],
   "source": [
    "import pandas as pd\n",
    "\n",
    "df = pd.DataFrame(data=todos_os_nomes)\n",
    "\n"
   ]
  },
  {
   "cell_type": "code",
   "execution_count": null,
   "id": "ba31624f",
   "metadata": {},
   "outputs": [],
   "source": [
    "df"
   ]
  },
  {
   "cell_type": "code",
   "execution_count": null,
   "id": "5d7f79b0",
   "metadata": {},
   "outputs": [],
   "source": [
    "df.to_excel(r'C:\\Users\\silva\\Downloads\\names2.xlsx')"
   ]
  },
  {
   "cell_type": "code",
   "execution_count": null,
   "id": "c078de3d",
   "metadata": {},
   "outputs": [],
   "source": []
  }
 ],
 "metadata": {
  "kernelspec": {
   "display_name": "Python 3 (ipykernel)",
   "language": "python",
   "name": "python3"
  },
  "language_info": {
   "codemirror_mode": {
    "name": "ipython",
    "version": 3
   },
   "file_extension": ".py",
   "mimetype": "text/x-python",
   "name": "python",
   "nbconvert_exporter": "python",
   "pygments_lexer": "ipython3",
   "version": "3.9.7"
  }
 },
 "nbformat": 4,
 "nbformat_minor": 5
}
