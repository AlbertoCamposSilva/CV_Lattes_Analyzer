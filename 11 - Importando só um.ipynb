{
 "cells": [
  {
   "cell_type": "code",
   "execution_count": 5,
   "id": "c1ac07b8",
   "metadata": {},
   "outputs": [],
   "source": [
    "from Indicadores import Indicadores\n"
   ]
  },
  {
   "cell_type": "code",
   "execution_count": 6,
   "id": "30328cdc",
   "metadata": {},
   "outputs": [],
   "source": [
    "#ind = Indicadores(id = '0036404292540391', show_sql = True)\n",
    "ind = Indicadores(id = '2714300403544584')\n",
    "\n",
    "ind.on_conflic_update = True"
   ]
  },
  {
   "cell_type": "code",
   "execution_count": 7,
   "id": "c4b6fc4e",
   "metadata": {},
   "outputs": [
    {
     "data": {
      "text/plain": [
       "True"
      ]
     },
     "execution_count": 7,
     "metadata": {},
     "output_type": "execute_result"
    }
   ],
   "source": [
    "ind.get_indicadores()"
   ]
  },
  {
   "cell_type": "code",
   "execution_count": 8,
   "id": "b43c0911",
   "metadata": {},
   "outputs": [
    {
     "data": {
      "text/plain": [
       "True"
      ]
     },
     "execution_count": 8,
     "metadata": {},
     "output_type": "execute_result"
    }
   ],
   "source": [
    "ind.salva_indicadores_no_bd()"
   ]
  },
  {
   "cell_type": "code",
   "execution_count": 9,
   "id": "d841d333",
   "metadata": {},
   "outputs": [
    {
     "data": {
      "text/plain": [
       "True"
      ]
     },
     "execution_count": 9,
     "metadata": {},
     "output_type": "execute_result"
    }
   ],
   "source": [
    "ind.get_palavras_chave()"
   ]
  },
  {
   "cell_type": "code",
   "execution_count": 10,
   "id": "c0d49395",
   "metadata": {},
   "outputs": [
    {
     "data": {
      "text/plain": [
       "False"
      ]
     },
     "execution_count": 10,
     "metadata": {},
     "output_type": "execute_result"
    }
   ],
   "source": [
    "ind.salva_palavras_chave_no_bd()"
   ]
  },
  {
   "cell_type": "code",
   "execution_count": 11,
   "id": "f5d0afb0",
   "metadata": {},
   "outputs": [
    {
     "data": {
      "text/plain": [
       "True"
      ]
     },
     "execution_count": 11,
     "metadata": {},
     "output_type": "execute_result"
    }
   ],
   "source": [
    "ind.get_areas_conhecimento()\n"
   ]
  },
  {
   "cell_type": "code",
   "execution_count": 12,
   "id": "c372fd6b",
   "metadata": {},
   "outputs": [
    {
     "data": {
      "text/plain": [
       "False"
      ]
     },
     "execution_count": 12,
     "metadata": {},
     "output_type": "execute_result"
    }
   ],
   "source": [
    "ind.salva_areas_do_conhecimento_no_bd()"
   ]
  },
  {
   "cell_type": "code",
   "execution_count": 13,
   "id": "3e7fea49",
   "metadata": {},
   "outputs": [
    {
     "data": {
      "text/plain": [
       "True"
      ]
     },
     "execution_count": 13,
     "metadata": {},
     "output_type": "execute_result"
    }
   ],
   "source": [
    "ind.get_publicações()"
   ]
  },
  {
   "cell_type": "code",
   "execution_count": 14,
   "id": "3cb8d371",
   "metadata": {},
   "outputs": [
    {
     "data": {
      "text/plain": [
       "False"
      ]
     },
     "execution_count": 14,
     "metadata": {},
     "output_type": "execute_result"
    }
   ],
   "source": [
    "ind.salva_publicações_no_bd()"
   ]
  },
  {
   "cell_type": "code",
   "execution_count": 15,
   "id": "88161e21",
   "metadata": {},
   "outputs": [
    {
     "data": {
      "text/plain": [
       "True"
      ]
     },
     "execution_count": 15,
     "metadata": {},
     "output_type": "execute_result"
    }
   ],
   "source": [
    "ind.get_dados_gerais()"
   ]
  },
  {
   "cell_type": "code",
   "execution_count": 16,
   "id": "486e130d",
   "metadata": {},
   "outputs": [
    {
     "data": {
      "text/plain": [
       "True"
      ]
     },
     "execution_count": 16,
     "metadata": {},
     "output_type": "execute_result"
    }
   ],
   "source": [
    "ind.salva_dados_gerais_no_bd()"
   ]
  },
  {
   "cell_type": "code",
   "execution_count": 17,
   "id": "2aac13b1",
   "metadata": {},
   "outputs": [
    {
     "data": {
      "text/plain": [
       "True"
      ]
     },
     "execution_count": 17,
     "metadata": {},
     "output_type": "execute_result"
    }
   ],
   "source": [
    "ind.get_vinculos()"
   ]
  },
  {
   "cell_type": "code",
   "execution_count": 18,
   "id": "eeaa4bb1",
   "metadata": {},
   "outputs": [],
   "source": [
    "ind.show_sql = True\n",
    "ind.salva_vinculos_no_bd()"
   ]
  },
  {
   "cell_type": "code",
   "execution_count": 19,
   "id": "765aafc1",
   "metadata": {},
   "outputs": [
    {
     "data": {
      "text/plain": [
       "[{'id': 2714300403544584,\n",
       "  'instituicao': 'Clinica de Pnemologia e sono',\n",
       "  'num_anos': 6,\n",
       "  'atual': True,\n",
       "  'enquadramento': 'LIVRE',\n",
       "  'tipo': 'LIVRE'}]"
      ]
     },
     "execution_count": 19,
     "metadata": {},
     "output_type": "execute_result"
    }
   ],
   "source": [
    "ind.vinculos"
   ]
  },
  {
   "cell_type": "code",
   "execution_count": 20,
   "id": "96eefa99",
   "metadata": {},
   "outputs": [],
   "source": [
    "from Database import Database\n",
    "db = Database()"
   ]
  },
  {
   "cell_type": "code",
   "execution_count": 21,
   "id": "cff67212",
   "metadata": {},
   "outputs": [],
   "source": [
    "params_list_string = '(' + ','.join([\"%s\" for _ in range(len(ind.vinculos[0]))]) + ')'"
   ]
  },
  {
   "cell_type": "code",
   "execution_count": 22,
   "id": "f740c4f6",
   "metadata": {},
   "outputs": [
    {
     "data": {
      "text/plain": [
       "'(%s,%s,%s,%s,%s,%s)'"
      ]
     },
     "execution_count": 22,
     "metadata": {},
     "output_type": "execute_result"
    }
   ],
   "source": [
    "params_list_string"
   ]
  },
  {
   "cell_type": "code",
   "execution_count": null,
   "id": "e6375c3b",
   "metadata": {},
   "outputs": [],
   "source": []
  },
  {
   "cell_type": "code",
   "execution_count": null,
   "id": "4d3d1ae2",
   "metadata": {},
   "outputs": [],
   "source": []
  }
 ],
 "metadata": {
  "kernelspec": {
   "display_name": "Python 3 (ipykernel)",
   "language": "python",
   "name": "python3"
  },
  "language_info": {
   "codemirror_mode": {
    "name": "ipython",
    "version": 3
   },
   "file_extension": ".py",
   "mimetype": "text/x-python",
   "name": "python",
   "nbconvert_exporter": "python",
   "pygments_lexer": "ipython3",
   "version": "3.9.7"
  }
 },
 "nbformat": 4,
 "nbformat_minor": 5
}
