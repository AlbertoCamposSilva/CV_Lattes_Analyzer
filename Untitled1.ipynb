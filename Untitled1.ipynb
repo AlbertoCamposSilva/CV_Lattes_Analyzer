{
 "cells": [
  {
   "cell_type": "code",
   "execution_count": 1,
   "id": "6bbc8aeb",
   "metadata": {},
   "outputs": [],
   "source": [
    "from Lattes import Lattes"
   ]
  },
  {
   "cell_type": "code",
   "execution_count": 2,
   "id": "2853621f",
   "metadata": {},
   "outputs": [],
   "source": [
    "lt = Lattes('1539205550728785')"
   ]
  },
  {
   "cell_type": "code",
   "execution_count": 3,
   "id": "41038258",
   "metadata": {},
   "outputs": [
    {
     "data": {
      "text/plain": [
       "True"
      ]
     },
     "execution_count": 3,
     "metadata": {},
     "output_type": "execute_result"
    }
   ],
   "source": [
    "not lt.read_json_from_disk()"
   ]
  },
  {
   "cell_type": "code",
   "execution_count": 4,
   "id": "bbbe3128",
   "metadata": {},
   "outputs": [
    {
     "data": {
      "text/plain": [
       "True"
      ]
     },
     "execution_count": 4,
     "metadata": {},
     "output_type": "execute_result"
    }
   ],
   "source": [
    "not lt.get_json_bd()"
   ]
  },
  {
   "cell_type": "code",
   "execution_count": 5,
   "id": "48ed74cf",
   "metadata": {},
   "outputs": [
    {
     "data": {
      "text/plain": [
       "'c:/Lattes'"
      ]
     },
     "execution_count": 5,
     "metadata": {},
     "output_type": "execute_result"
    }
   ],
   "source": [
    "lt.path"
   ]
  },
  {
   "cell_type": "code",
   "execution_count": 6,
   "id": "2a283c27",
   "metadata": {},
   "outputs": [
    {
     "data": {
      "text/plain": [
       "True"
      ]
     },
     "execution_count": 6,
     "metadata": {},
     "output_type": "execute_result"
    }
   ],
   "source": [
    "lt.read_zip_from_disk()"
   ]
  },
  {
   "cell_type": "code",
   "execution_count": 7,
   "id": "981ab8c2",
   "metadata": {},
   "outputs": [
    {
     "data": {
      "text/plain": [
       "False"
      ]
     },
     "execution_count": 7,
     "metadata": {},
     "output_type": "execute_result"
    }
   ],
   "source": [
    "not lt.read_zip_from_disk()"
   ]
  },
  {
   "cell_type": "code",
   "execution_count": 8,
   "id": "0ff04213",
   "metadata": {},
   "outputs": [],
   "source": [
    "omeçando_com = list(range(10))\n"
   ]
  },
  {
   "cell_type": "code",
   "execution_count": 9,
   "id": "90d87986",
   "metadata": {},
   "outputs": [],
   "source": [
    "id = '1539205550728785'"
   ]
  },
  {
   "cell_type": "code",
   "execution_count": 10,
   "id": "1237f825",
   "metadata": {},
   "outputs": [
    {
     "data": {
      "text/plain": [
       "[0, 1, 2, 3, 4, 5, 6, 7, 8, 9]"
      ]
     },
     "execution_count": 10,
     "metadata": {},
     "output_type": "execute_result"
    }
   ],
   "source": [
    "omeçando_com"
   ]
  },
  {
   "cell_type": "code",
   "execution_count": 11,
   "id": "b3a28971",
   "metadata": {},
   "outputs": [
    {
     "data": {
      "text/plain": [
       "False"
      ]
     },
     "execution_count": 11,
     "metadata": {},
     "output_type": "execute_result"
    }
   ],
   "source": [
    "not int(id[0]) in omeçando_com"
   ]
  },
  {
   "cell_type": "code",
   "execution_count": null,
   "id": "a7eacecb",
   "metadata": {},
   "outputs": [],
   "source": []
  }
 ],
 "metadata": {
  "kernelspec": {
   "display_name": "Python 3 (ipykernel)",
   "language": "python",
   "name": "python3"
  },
  "language_info": {
   "codemirror_mode": {
    "name": "ipython",
    "version": 3
   },
   "file_extension": ".py",
   "mimetype": "text/x-python",
   "name": "python",
   "nbconvert_exporter": "python",
   "pygments_lexer": "ipython3",
   "version": "3.9.7"
  }
 },
 "nbformat": 4,
 "nbformat_minor": 5
}
