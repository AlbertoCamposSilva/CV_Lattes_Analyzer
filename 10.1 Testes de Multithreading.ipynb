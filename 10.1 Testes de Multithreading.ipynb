{
 "cells": [
  {
   "cell_type": "code",
   "execution_count": 1,
   "id": "dc257056",
   "metadata": {},
   "outputs": [],
   "source": [
    "import asyncio\n",
    "import multiprocessing\n",
    "import os\n",
    "import psutil\n",
    "import threading\n",
    "import time\n",
    "\n",
    "var_range = 10\n",
    "#var_range = 1000\n",
    "\n"
   ]
  },
  {
   "cell_type": "code",
   "execution_count": null,
   "id": "4d32f94b",
   "metadata": {},
   "outputs": [],
   "source": [
    "#fastest\n",
    "async def print_info(value):\n",
    "    await asyncio.sleep(1)\n",
    "    print(\n",
    "        f\"THREAD: {threading.get_ident()}\",\n",
    "        f\"PROCESS: {os.getpid()}\",\n",
    "        f\"CORE_ID: {psutil.Process().cpu_num()}\",\n",
    "        f\"VALUE: {value}\",\n",
    "    )\n",
    "\n",
    "async def await_async_logic(values):\n",
    "    await asyncio.gather(\n",
    "        *(\n",
    "            print_info(value)\n",
    "            for value in values\n",
    "        )\n",
    "    )\n",
    "\n",
    "def run_async_logic(values):\n",
    "    asyncio.run(await_async_logic(values))\n",
    "\n",
    "def multiprocessing_executor():\n",
    "    start = time.time()\n",
    "    with multiprocessing.Pool() as multiprocessing_pool:\n",
    "        multiprocessing_pool.map(\n",
    "            run_async_logic,\n",
    "            (range(var_range * x, var_range * (x + 1)) for x in range(os.cpu_count())),\n",
    "        )\n",
    "    end = time.time()\n",
    "    print(end - start)\n",
    "\n",
    "multiprocessing_executor()"
   ]
  },
  {
   "cell_type": "code",
   "execution_count": null,
   "id": "0cf21309",
   "metadata": {},
   "outputs": [],
   "source": [
    "import multiprocessing\n",
    "import os\n",
    "import psutil\n",
    "import threading\n",
    "import time\n",
    "\n",
    "def print_info(value):\n",
    "    time.sleep(1)\n",
    "    print(\n",
    "        f\"THREAD: {threading.get_ident()}\",\n",
    "        f\"PROCESS: {os.getpid()}\",\n",
    "        f\"CORE_ID: {psutil.Process().cpu_num()}\",\n",
    "        f\"VALUE: {value}\",\n",
    "    )\n",
    "\n",
    "def multithreading_logic(values):\n",
    "    threads = []\n",
    "    for value in values:\n",
    "        threads.append(threading.Thread(target=print_info, args=(value,)))\n",
    "    for thread in threads:\n",
    "        thread.start()\n",
    "    for thread in threads:\n",
    "        thread.join()\n",
    "\n",
    "def multiprocessing_executor():\n",
    "    start = time.time()\n",
    "    with multiprocessing.Pool() as multiprocessing_pool:\n",
    "        multiprocessing_pool.map(\n",
    "            multithreading_logic,\n",
    "            (range(var_range * x, var_range * (x + 1)) for x in range(os.cpu_count())),\n",
    "        )\n",
    "    end = time.time()\n",
    "    print(end - start)\n",
    "\n",
    "multiprocessing_executor()"
   ]
  },
  {
   "cell_type": "code",
   "execution_count": null,
   "id": "8b6e9072",
   "metadata": {},
   "outputs": [],
   "source": [
    "import os\n",
    "import psutil\n",
    "import threading\n",
    "import time\n",
    "from concurrent.futures import thread, process\n",
    "\n",
    "def print_info(value):\n",
    "    time.sleep(1)\n",
    "    print(\n",
    "        f\"THREAD: {threading.get_ident()}\",\n",
    "        f\"PROCESS: {os.getpid()}\",\n",
    "        f\"CORE_ID: {psutil.Process().cpu_num()}\",\n",
    "        f\"VALUE: {value}\",\n",
    "    )\n",
    "\n",
    "def multithreading_logic(values):\n",
    "    with thread.ThreadPoolExecutor() as multithreading_executor:\n",
    "        multithreading_executor.map(\n",
    "            print_info,\n",
    "            values,\n",
    "        )\n",
    "\n",
    "def multiprocessing_executor():\n",
    "    start = time.time()\n",
    "    with process.ProcessPoolExecutor() as multiprocessing_executor:\n",
    "        multiprocessing_executor.map(\n",
    "            multithreading_logic,\n",
    "            (range(var_range * x, var_range * (x + 1)) for x in range(os.cpu_count())),\n",
    "        )\n",
    "    end = time.time()\n",
    "    print(end - start)\n",
    "\n",
    "multiprocessing_executor()"
   ]
  },
  {
   "cell_type": "code",
   "execution_count": 11,
   "id": "06e39a52",
   "metadata": {},
   "outputs": [
    {
     "name": "stdout",
     "output_type": "stream",
     "text": [
      "Finished in 2.11 seconds\n"
     ]
    }
   ],
   "source": [
    "#https://towardsdatascience.com/demystifying-python-multiprocessing-and-multithreading-9b62f9875a27\n",
    "\n",
    "import time\n",
    "\n",
    "def sum_square(x: int) -> int:\n",
    "  final = 0\n",
    "  for i in range(x):\n",
    "    final += i * i\n",
    "  return final\n",
    "\n",
    "\n",
    "if __name__ == \"__main__\":\n",
    "  start = time.perf_counter()\n",
    "  \n",
    "  sum_square(10_000_000)\n",
    "  \n",
    "  finish = time.perf_counter()\n",
    "  print(f\"Finished in {round(finish-start, 2)} seconds\")"
   ]
  },
  {
   "cell_type": "code",
   "execution_count": 12,
   "id": "70b7999d",
   "metadata": {},
   "outputs": [
    {
     "name": "stdout",
     "output_type": "stream",
     "text": [
      "Finished in 1.32 seconds\n"
     ]
    }
   ],
   "source": [
    "import time\n",
    "from concurrent.futures import ThreadPoolExecutor\n",
    "\n",
    "def sum_square(x: int) -> int:\n",
    "  final = 0\n",
    "  for i in range(x):\n",
    "    final += i * i\n",
    "  return final\n",
    "\n",
    "\n",
    "if __name__ == \"__main__\":\n",
    "  start = time.perf_counter()\n",
    "  \n",
    "  with ThreadPoolExecutor(8) as executor:\n",
    "    results = executor.map(sum_square, [10_000_000])\n",
    "  \n",
    "  finish = time.perf_counter()\n",
    "  print(f\"Finished in {round(finish-start, 2)} seconds\")"
   ]
  },
  {
   "cell_type": "code",
   "execution_count": null,
   "id": "ea751d1a",
   "metadata": {},
   "outputs": [],
   "source": []
  }
 ],
 "metadata": {
  "kernelspec": {
   "display_name": "Python 3 (ipykernel)",
   "language": "python",
   "name": "python3"
  },
  "language_info": {
   "codemirror_mode": {
    "name": "ipython",
    "version": 3
   },
   "file_extension": ".py",
   "mimetype": "text/x-python",
   "name": "python",
   "nbconvert_exporter": "python",
   "pygments_lexer": "ipython3",
   "version": "3.9.7"
  }
 },
 "nbformat": 4,
 "nbformat_minor": 5
}
