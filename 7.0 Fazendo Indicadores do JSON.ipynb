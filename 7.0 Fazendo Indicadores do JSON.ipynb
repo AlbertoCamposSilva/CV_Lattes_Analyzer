{
  "cells": [
    {
      "cell_type": "code",
      "execution_count": 1,
      "id": "825675d6",
      "metadata": {},
      "outputs": [
        {
          "name": "stdout",
          "output_type": "stream",
          "text": [
            "Importando Módulos\n",
            "Módulos Importados\n"
          ]
        }
      ],
      "source": [
        "from Lattes import Lattes\n"
      ]
    },
    {
      "cell_type": "code",
      "execution_count": 2,
      "id": "7216d7b8",
      "metadata": {},
      "outputs": [],
      "source": [
        "lattes = Lattes(id='1600461423386842')"
      ]
    },
    {
      "cell_type": "code",
      "execution_count": 3,
      "id": "c55a5e72",
      "metadata": {},
      "outputs": [
        {
          "data": {
            "text/plain": [
              "'1600461423386842'"
            ]
          },
          "execution_count": 3,
          "metadata": {},
          "output_type": "execute_result"
        }
      ],
      "source": [
        "lattes.id"
      ]
    },
    {
      "cell_type": "code",
      "execution_count": 4,
      "id": "d27628ac",
      "metadata": {},
      "outputs": [
        {
          "name": "stdout",
          "output_type": "stream",
          "text": [
            "Arquivo compactado lido no disco.\n"
          ]
        }
      ],
      "source": [
        "lattes.read_zip_from_disk()"
      ]
    },
    {
      "cell_type": "code",
      "execution_count": 5,
      "id": "003da93c",
      "metadata": {},
      "outputs": [
        {
          "name": "stdout",
          "output_type": "stream",
          "text": [
            "Unzipping file and gettinf xml and json\n",
            "2021-09-07 14:39:50+00:00\n",
            "XML & JSON atualizado a partir do Lattes compactado.\n"
          ]
        },
        {
          "data": {
            "text/plain": [
              "True"
            ]
          },
          "execution_count": 5,
          "metadata": {},
          "output_type": "execute_result"
        }
      ],
      "source": [
        "lattes.get_xml()"
      ]
    },
    {
      "cell_type": "code",
      "execution_count": 6,
      "id": "02075dc7",
      "metadata": {},
      "outputs": [
        {
          "name": "stdout",
          "output_type": "stream",
          "text": [
            "\n",
            "        delete from public.\"areas_conhecimento\" where id = %s;\n",
            "        insert into public.\"areas_conhecimento\" VALUES ('1600461423386842','grande-area','CIENCIAS_EXATAS_E_DA_TERRA'),('1600461423386842','area','Física'),('1600461423386842','sub-area','Física da Matéria Condensada'),('1600461423386842','especialidade',''),('1600461423386842','grande-area','CIENCIAS_EXATAS_E_DA_TERRA'),('1600461423386842','area','Física'),('1600461423386842','sub-area','Física da Matéria Condensada'),('1600461423386842','especialidade','Estruturas Eletrônicas e Propriedades Elétricas de Superfícies; Interf. e Partículas'),('1600461423386842','grande-area','CIENCIAS_EXATAS_E_DA_TERRA'),('1600461423386842','area','Física'),('1600461423386842','sub-area','Física da Matéria Condensada'),('1600461423386842','especialidade','Prop. Óticas e Espectrosc. da Mat. Condens; Outras Inter. da Mat. com Rad. e Part.'),('1600461423386842','grande-area','CIENCIAS_SOCIAIS_APLICADAS'),('1600461423386842','area','Ciência da Informação'),('1600461423386842','sub-area','Avaliação - Cientometria'),('1600461423386842','especialidade','')\n",
            "        on conflict DO NOTHING\n",
            "Areas do Conhecimento inseridas no BD.\n"
          ]
        }
      ],
      "source": [
        "lattes.get_areas_conhecimento()\n"
      ]
    },
    {
      "cell_type": "code",
      "execution_count": 7,
      "id": "ba042f15",
      "metadata": {},
      "outputs": [
        {
          "data": {
            "text/plain": [
              "{'grande_area': ['CIENCIAS_EXATAS_E_DA_TERRA',\n",
              "  'CIENCIAS_EXATAS_E_DA_TERRA',\n",
              "  'CIENCIAS_EXATAS_E_DA_TERRA',\n",
              "  'CIENCIAS_SOCIAIS_APLICADAS'],\n",
              " 'area': ['Física', 'Física', 'Física', 'Ciência da Informação'],\n",
              " 'sub-area': ['Física da Matéria Condensada',\n",
              "  'Física da Matéria Condensada',\n",
              "  'Física da Matéria Condensada',\n",
              "  'Avaliação - Cientometria'],\n",
              " 'especialidade': ['',\n",
              "  'Estruturas Eletrônicas e Propriedades Elétricas de Superfícies; Interf. e Partículas',\n",
              "  'Prop. Óticas e Espectrosc. da Mat. Condens; Outras Inter. da Mat. com Rad. e Part.',\n",
              "  '']}"
            ]
          },
          "execution_count": 7,
          "metadata": {},
          "output_type": "execute_result"
        }
      ],
      "source": [
        "lattes.areas"
      ]
    },
    {
      "cell_type": "code",
      "execution_count": 8,
      "id": "4c79d0f8",
      "metadata": {},
      "outputs": [],
      "source": [
        "dados_gerais = lattes.json[\"CURRICULO-VITAE\"][\"DADOS-GERAIS\"]\n",
        "produção_bibliográfica = lattes.json[\"CURRICULO-VITAE\"][\"PRODUCAO-BIBLIOGRAFICA\"]\n",
        "produção_tecnica = lattes.json[\"CURRICULO-VITAE\"][\"PRODUCAO-TECNICA\"]\n",
        "outras_produções = lattes.json[\"CURRICULO-VITAE\"][\"OUTRA-PRODUCAO\"]\n",
        "dados_complementares = lattes.json[\"CURRICULO-VITAE\"][\"DADOS-COMPLEMENTARES\"]"
      ]
    },
    {
      "cell_type": "code",
      "execution_count": 9,
      "id": "dd799eff",
      "metadata": {},
      "outputs": [
        {
          "data": {
            "text/plain": [
              "['Compostos Intermetalicos Fases de Laves',\n",
              " 'Estrutura Compostos Fases de Laves',\n",
              " 'Estrutura Eletronica',\n",
              " 'Estrutura Magnetica',\n",
              " 'Fase de Laves',\n",
              " 'Fases de Laves',\n",
              " 'Compostos Intermetalicos Fases de Laves',\n",
              " 'Estrutura Compostos Fases de Laves',\n",
              " 'Estrutura Magnetica',\n",
              " 'Interacoes Hiperfinas',\n",
              " 'Efeito Mossbauer',\n",
              " 'Estrutura Eletronica']"
            ]
          },
          "execution_count": 9,
          "metadata": {},
          "output_type": "execute_result"
        }
      ],
      "source": [
        "lattes.get_palavras_chave(dados_gerais)"
      ]
    },
    {
      "cell_type": "code",
      "execution_count": 10,
      "id": "292d6865",
      "metadata": {},
      "outputs": [],
      "source": [
        "import datetime"
      ]
    },
    {
      "cell_type": "code",
      "execution_count": 11,
      "id": "4d984f2f",
      "metadata": {},
      "outputs": [
        {
          "data": {
            "text/plain": [
              "6"
            ]
          },
          "execution_count": 11,
          "metadata": {},
          "output_type": "execute_result"
        }
      ],
      "source": [
        "datetime.datetime.today().weekday()"
      ]
    },
    {
      "cell_type": "code",
      "execution_count": 12,
      "id": "8f2cabd8",
      "metadata": {},
      "outputs": [
        {
          "name": "stdout",
          "output_type": "stream",
          "text": [
            "CIENCIAS_EXATAS_E_DA_TERRA\n",
            "CIENCIAS_EXATAS_E_DA_TERRA\n",
            "CIENCIAS_EXATAS_E_DA_TERRA\n",
            "CIENCIAS_SOCIAIS_APLICADAS\n"
          ]
        }
      ],
      "source": [
        "for area in lattes.json[\"CURRICULO-VITAE\"][\"DADOS-GERAIS\"]['AREAS-DE-ATUACAO']:\n",
        "    for area2 in lattes.json[\"CURRICULO-VITAE\"][\"DADOS-GERAIS\"]['AREAS-DE-ATUACAO'][area]:\n",
        "        print(area2['@NOME-GRANDE-AREA-DO-CONHECIMENTO'])"
      ]
    },
    {
      "cell_type": "code",
      "execution_count": 13,
      "id": "359d3fa6",
      "metadata": {},
      "outputs": [],
      "source": [
        "        import psycopg2    \n",
        "        params = Database.config_db_connection()\n",
        "        conn = psycopg2.connect(**params)\n",
        "        cur = conn.cursor()\n",
        "        dados = []\n",
        "        for area in lattes.json[\"CURRICULO-VITAE\"][\"DADOS-GERAIS\"]['AREAS-DE-ATUACAO']:\n",
        "            for area2 in lattes.json[\"CURRICULO-VITAE\"][\"DADOS-GERAIS\"]['AREAS-DE-ATUACAO'][area]:\n",
        "                dados.append((\n",
        "                    lattes.id,\n",
        "                    area2['@NOME-GRANDE-AREA-DO-CONHECIMENTO'],\n",
        "                    area2['@NOME-DA-AREA-DO-CONHECIMENTO'],\n",
        "                    area2['@NOME-DA-SUB-AREA-DO-CONHECIMENTO'],\n",
        "                    area2['@NOME-DA-ESPECIALIDADE'],\n",
        "                    ))\n",
        "        sql = '''\n",
        "        insert into public.\"areas_conhecimento\" (id, grande_area,\n",
        "        area, sub_area, especialidade)\n",
        "        VALUES (%s, %s, %s, %s, %s);\n",
        "        '''\n"
      ]
    },
    {
      "cell_type": "code",
      "execution_count": 14,
      "id": "3da80353",
      "metadata": {},
      "outputs": [
        {
          "ename": "TypeError",
          "evalue": "list.append() takes exactly one argument (0 given)",
          "output_type": "error",
          "traceback": [
            "\u001b[1;31m---------------------------------------------------------------------------\u001b[0m",
            "\u001b[1;31mTypeError\u001b[0m                                 Traceback (most recent call last)",
            "\u001b[1;32m~\\AppData\\Local\\Temp/ipykernel_2392/1335946112.py\u001b[0m in \u001b[0;36m<module>\u001b[1;34m\u001b[0m\n\u001b[0;32m      1\u001b[0m \u001b[0mlist\u001b[0m \u001b[1;33m=\u001b[0m \u001b[1;33m[\u001b[0m\u001b[1;33m]\u001b[0m\u001b[1;33m\u001b[0m\u001b[1;33m\u001b[0m\u001b[0m\n\u001b[0;32m      2\u001b[0m \u001b[1;32mfor\u001b[0m \u001b[0mx\u001b[0m \u001b[1;32min\u001b[0m \u001b[0mdados\u001b[0m\u001b[1;33m:\u001b[0m\u001b[1;33m\u001b[0m\u001b[1;33m\u001b[0m\u001b[0m\n\u001b[1;32m----> 3\u001b[1;33m     \u001b[0mlist\u001b[0m\u001b[1;33m.\u001b[0m\u001b[0mappend\u001b[0m\u001b[1;33m(\u001b[0m\u001b[1;33m)\u001b[0m\u001b[1;33m\u001b[0m\u001b[1;33m\u001b[0m\u001b[0m\n\u001b[0m",
            "\u001b[1;31mTypeError\u001b[0m: list.append() takes exactly one argument (0 given)"
          ]
        }
      ],
      "source": [
        "list = []\n",
        "for x in dados:\n",
        "    list.append()"
      ]
    },
    {
      "cell_type": "code",
      "execution_count": null,
      "id": "044169b0",
      "metadata": {},
      "outputs": [],
      "source": [
        "','.join([str(cur.mogrify(\"(%s,%s,%s,%s,%s)\", x)) for x in dados]"
      ]
    },
    {
      "cell_type": "code",
      "execution_count": null,
      "id": "1e165fb0",
      "metadata": {},
      "outputs": [],
      "source": [
        "args_str = ''\n",
        "for x in dados:\n",
        "    args_str += ',' + str((cur.mogrify(\"(%s,%s,%s,%s,%s)\", x)))"
      ]
    },
    {
      "cell_type": "code",
      "execution_count": null,
      "id": "a75e7a9f",
      "metadata": {},
      "outputs": [],
      "source": [
        "args_str"
      ]
    },
    {
      "cell_type": "code",
      "execution_count": null,
      "id": "ca7cab86",
      "metadata": {},
      "outputs": [],
      "source": [
        "','.join(str(cur.mogrify(\"(%s,%s,%s,%s,%s)\", x)) for x in dados)"
      ]
    },
    {
      "cell_type": "code",
      "execution_count": 1,
      "id": "d5d55036",
      "metadata": {},
      "outputs": [
        {
          "name": "stdout",
          "output_type": "stream",
          "text": [
            "16\n"
          ]
        }
      ],
      "source": [
        "print(len('0000036871172560'))"
      ]
    },
    {
      "cell_type": "code",
      "execution_count": 4,
      "id": "11be18aa",
      "metadata": {},
      "outputs": [
        {
          "name": "stdout",
          "output_type": "stream",
          "text": [
            "36871172560\n",
            "0000036871172560\n",
            "0000036871172560\n"
          ]
        }
      ],
      "source": [
        "id = '0000036871172560'\n",
        "id = int(id)\n",
        "print(id)\n",
        "id = str(id)\n",
        "while len(str(id)) < 16:\n",
        "    id = '0' + id\n",
        "print(id)\n",
        "print('0000036871172560')"
      ]
    },
    {
      "cell_type": "code",
      "execution_count": null,
      "id": "f03d52ce",
      "metadata": {},
      "outputs": [],
      "source": []
    }
  ],
  "metadata": {
    "kernelspec": {
      "display_name": "Python 3 (ipykernel)",
      "language": "python",
      "name": "python3"
    },
    "language_info": {
      "codemirror_mode": {
        "name": "ipython",
        "version": 3
      },
      "file_extension": ".py",
      "mimetype": "text/x-python",
      "name": "python",
      "nbconvert_exporter": "python",
      "pygments_lexer": "ipython3",
      "version": "3.9.7"
    }
  },
  "nbformat": 4,
  "nbformat_minor": 5
}
