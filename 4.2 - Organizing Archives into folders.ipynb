{
 "cells": [
  {
   "cell_type": "code",
   "execution_count": 1,
   "id": "834389c2",
   "metadata": {},
   "outputs": [],
   "source": [
    "import io, os, sys, time, glob, re, shutil\n",
    "from datetime import datetime\n",
    "from pathlib import Path"
   ]
  },
  {
   "cell_type": "code",
   "execution_count": 2,
   "id": "c511c6c8",
   "metadata": {},
   "outputs": [],
   "source": [
    "old_folder = r'\\\\tsclient\\E\\Lattes\\Lattes_ZIP'\n",
    "new_folder = r'D:\\Lattes\\Lattes_ZIP'\n",
    "sobrescreve = False"
   ]
  },
  {
   "cell_type": "markdown",
   "id": "eda06f68",
   "metadata": {},
   "source": [
    "## Creating SubFolders"
   ]
  },
  {
   "cell_type": "code",
   "execution_count": 3,
   "id": "c60bb734",
   "metadata": {},
   "outputs": [],
   "source": [
    "#Verificando arquivos já existente\n",
    "lista_ids_já_existentes = []\n",
    "arquivos_no_lugar_errado = []\n",
    "if not sobrescreve:\n",
    "    total_files = len(old_files)\n",
    "    files_moved = 0\n",
    "    num_files = -1\n",
    "    for f in new_files:\n",
    "        print(f'{files_moved}/{total_files}: {f}')\n",
    "        if f.endswith('.zip'):\n",
    "            lattes_id = re.findall(r'\\d+', os.path.basename(f))[0]\n",
    "            while len(lattes_id) < 16:\n",
    "                lattes_id = '0' + lattes_id\n",
    "            lista_ids_já_existentes.append(lattes_id)\n",
    "            base_path = os.path.dirname(f)\n",
    "            new_path = os.path.dirname(os.path.join(new_folder, lattes_id[0], lattes_id[1], 'Lattes_' + Path(lattes_id).stem+ '.zip'))\n",
    "            if not base_path == new_path:\n",
    "                print(f'{files_moved}/{total_files}: error in file {f}')\n",
    "                arquivos_no_lugar_errado.append(f)\n",
    "            files_moved += 1\n",
    "    print('all files moved')    "
   ]
  },
  {
   "cell_type": "code",
   "execution_count": null,
   "id": "d3d26f65",
   "metadata": {},
   "outputs": [],
   "source": [
    "#files = os.listdir(old_folder)\n",
    "list_files = []\n",
    "total_files = len(old_files)\n",
    "files_moved = 0\n",
    "num_files = -1\n",
    "for f in old_files:\n",
    "    if f.endswith('.zip'):\n",
    "        lattes_id = re.findall(r'\\d+', os.path.basename(f))[0]\n",
    "        while len(lattes_id) < 16:\n",
    "            lattes_id = '0' + lattes_id\n",
    "        if not sobrescreve:\n",
    "            if lattes_id in lista_ids_já_existentes:\n",
    "                lista_ids_já_existentes.remove(lattes_id)\n",
    "                continue\n",
    "        oldfile = os.path.join(old_folder, f) \n",
    "        newfile = os.path.join(new_folder, lattes_id[0], lattes_id[1], 'Lattes_' + Path(lattes_id).stem+ '.zip')\n",
    "        print(f'{files_moved}/{total_files}: moved file {oldfile} to {newfile}')\n",
    "        if sobrescreve or not os.path.isfile(newfile):\n",
    "            try:\n",
    "                shutil.copyfile(oldfile, newfile)\n",
    "                list_files.append({\n",
    "                    'sucess': True,\n",
    "                    'Old:': oldfile,\n",
    "                    'New:': newfile\n",
    "                })\n",
    "            except:\n",
    "                list_files.append({\n",
    "                    'sucess': False,\n",
    "                    'Old:': oldfile,\n",
    "                    'New:': newfile\n",
    "                })\n",
    "                \n",
    "        files_moved += 1\n",
    "        if num_files >=0 and files_moved > num_files:\n",
    "              break\n",
    "\n",
    "print('all files moved')\n"
   ]
  }
 ],
 "metadata": {
  "kernelspec": {
   "display_name": "Python 3 (ipykernel)",
   "language": "python",
   "name": "python3"
  },
  "language_info": {
   "codemirror_mode": {
    "name": "ipython",
    "version": 3
   },
   "file_extension": ".py",
   "mimetype": "text/x-python",
   "name": "python",
   "nbconvert_exporter": "python",
   "pygments_lexer": "ipython3",
   "version": "3.9.7"
  }
 },
 "nbformat": 4,
 "nbformat_minor": 5
}
