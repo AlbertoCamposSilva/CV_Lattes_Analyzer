{
 "cells": [
  {
   "cell_type": "code",
   "execution_count": 1,
   "id": "834389c2",
   "metadata": {},
   "outputs": [],
   "source": [
    "import io, os, sys, time\n",
    "from datetime import datetime"
   ]
  },
  {
   "cell_type": "code",
   "execution_count": 2,
   "id": "15359eeb",
   "metadata": {},
   "outputs": [],
   "source": [
    "path = 'C:/Downloads'"
   ]
  },
  {
   "cell_type": "markdown",
   "id": "eda06f68",
   "metadata": {},
   "source": [
    "## Creating SubFolders"
   ]
  },
  {
   "cell_type": "code",
   "execution_count": 9,
   "id": "c60bb734",
   "metadata": {},
   "outputs": [
    {
     "name": "stdout",
     "output_type": "stream",
     "text": [
      "C:/Downloads\\0\\0 True\n",
      "C:/Downloads\\0\\0 folder already exists.\n",
      "C:/Downloads\\0\\1 True\n",
      "C:/Downloads\\0\\1 folder already exists.\n",
      "C:/Downloads\\0\\2 True\n",
      "C:/Downloads\\0\\2 folder already exists.\n",
      "C:/Downloads\\0\\3 True\n",
      "C:/Downloads\\0\\3 folder already exists.\n",
      "C:/Downloads\\0\\4 True\n",
      "C:/Downloads\\0\\4 folder already exists.\n",
      "C:/Downloads\\0\\5 True\n",
      "C:/Downloads\\0\\5 folder already exists.\n",
      "C:/Downloads\\0\\6 True\n",
      "C:/Downloads\\0\\6 folder already exists.\n",
      "C:/Downloads\\0\\7 True\n",
      "C:/Downloads\\0\\7 folder already exists.\n",
      "C:/Downloads\\0\\8 True\n",
      "C:/Downloads\\0\\8 folder already exists.\n",
      "C:/Downloads\\0\\9 True\n",
      "C:/Downloads\\0\\9 folder already exists.\n",
      "C:/Downloads\\1\\0 True\n",
      "C:/Downloads\\1\\0 folder already exists.\n",
      "C:/Downloads\\1\\1 True\n",
      "C:/Downloads\\1\\1 folder already exists.\n",
      "C:/Downloads\\1\\2 True\n",
      "C:/Downloads\\1\\2 folder already exists.\n",
      "C:/Downloads\\1\\3 True\n",
      "C:/Downloads\\1\\3 folder already exists.\n",
      "C:/Downloads\\1\\4 True\n",
      "C:/Downloads\\1\\4 folder already exists.\n",
      "C:/Downloads\\1\\5 True\n",
      "C:/Downloads\\1\\5 folder already exists.\n",
      "C:/Downloads\\1\\6 True\n",
      "C:/Downloads\\1\\6 folder already exists.\n",
      "C:/Downloads\\1\\7 True\n",
      "C:/Downloads\\1\\7 folder already exists.\n",
      "C:/Downloads\\1\\8 True\n",
      "C:/Downloads\\1\\8 folder already exists.\n",
      "C:/Downloads\\1\\9 True\n",
      "C:/Downloads\\1\\9 folder already exists.\n",
      "C:/Downloads\\2\\0 True\n",
      "C:/Downloads\\2\\0 folder already exists.\n",
      "C:/Downloads\\2\\1 True\n",
      "C:/Downloads\\2\\1 folder already exists.\n",
      "C:/Downloads\\2\\2 True\n",
      "C:/Downloads\\2\\2 folder already exists.\n",
      "C:/Downloads\\2\\3 True\n",
      "C:/Downloads\\2\\3 folder already exists.\n",
      "C:/Downloads\\2\\4 True\n",
      "C:/Downloads\\2\\4 folder already exists.\n",
      "C:/Downloads\\2\\5 True\n",
      "C:/Downloads\\2\\5 folder already exists.\n",
      "C:/Downloads\\2\\6 True\n",
      "C:/Downloads\\2\\6 folder already exists.\n",
      "C:/Downloads\\2\\7 True\n",
      "C:/Downloads\\2\\7 folder already exists.\n",
      "C:/Downloads\\2\\8 True\n",
      "C:/Downloads\\2\\8 folder already exists.\n",
      "C:/Downloads\\2\\9 True\n",
      "C:/Downloads\\2\\9 folder already exists.\n",
      "C:/Downloads\\3\\0 True\n",
      "C:/Downloads\\3\\0 folder already exists.\n",
      "C:/Downloads\\3\\1 True\n",
      "C:/Downloads\\3\\1 folder already exists.\n",
      "C:/Downloads\\3\\2 True\n",
      "C:/Downloads\\3\\2 folder already exists.\n",
      "C:/Downloads\\3\\3 True\n",
      "C:/Downloads\\3\\3 folder already exists.\n",
      "C:/Downloads\\3\\4 True\n",
      "C:/Downloads\\3\\4 folder already exists.\n",
      "C:/Downloads\\3\\5 True\n",
      "C:/Downloads\\3\\5 folder already exists.\n",
      "C:/Downloads\\3\\6 True\n",
      "C:/Downloads\\3\\6 folder already exists.\n",
      "C:/Downloads\\3\\7 True\n",
      "C:/Downloads\\3\\7 folder already exists.\n",
      "C:/Downloads\\3\\8 True\n",
      "C:/Downloads\\3\\8 folder already exists.\n",
      "C:/Downloads\\3\\9 True\n",
      "C:/Downloads\\3\\9 folder already exists.\n",
      "C:/Downloads\\4\\0 True\n",
      "C:/Downloads\\4\\0 folder already exists.\n",
      "C:/Downloads\\4\\1 True\n",
      "C:/Downloads\\4\\1 folder already exists.\n",
      "C:/Downloads\\4\\2 True\n",
      "C:/Downloads\\4\\2 folder already exists.\n",
      "C:/Downloads\\4\\3 True\n",
      "C:/Downloads\\4\\3 folder already exists.\n",
      "C:/Downloads\\4\\4 True\n",
      "C:/Downloads\\4\\4 folder already exists.\n",
      "C:/Downloads\\4\\5 True\n",
      "C:/Downloads\\4\\5 folder already exists.\n",
      "C:/Downloads\\4\\6 True\n",
      "C:/Downloads\\4\\6 folder already exists.\n",
      "C:/Downloads\\4\\7 True\n",
      "C:/Downloads\\4\\7 folder already exists.\n",
      "C:/Downloads\\4\\8 True\n",
      "C:/Downloads\\4\\8 folder already exists.\n",
      "C:/Downloads\\4\\9 True\n",
      "C:/Downloads\\4\\9 folder already exists.\n",
      "C:/Downloads\\5\\0 True\n",
      "C:/Downloads\\5\\0 folder already exists.\n",
      "C:/Downloads\\5\\1 True\n",
      "C:/Downloads\\5\\1 folder already exists.\n",
      "C:/Downloads\\5\\2 True\n",
      "C:/Downloads\\5\\2 folder already exists.\n",
      "C:/Downloads\\5\\3 True\n",
      "C:/Downloads\\5\\3 folder already exists.\n",
      "C:/Downloads\\5\\4 True\n",
      "C:/Downloads\\5\\4 folder already exists.\n",
      "C:/Downloads\\5\\5 True\n",
      "C:/Downloads\\5\\5 folder already exists.\n",
      "C:/Downloads\\5\\6 True\n",
      "C:/Downloads\\5\\6 folder already exists.\n",
      "C:/Downloads\\5\\7 True\n",
      "C:/Downloads\\5\\7 folder already exists.\n",
      "C:/Downloads\\5\\8 True\n",
      "C:/Downloads\\5\\8 folder already exists.\n",
      "C:/Downloads\\5\\9 True\n",
      "C:/Downloads\\5\\9 folder already exists.\n",
      "C:/Downloads\\6\\0 True\n",
      "C:/Downloads\\6\\0 folder already exists.\n",
      "C:/Downloads\\6\\1 True\n",
      "C:/Downloads\\6\\1 folder already exists.\n",
      "C:/Downloads\\6\\2 True\n",
      "C:/Downloads\\6\\2 folder already exists.\n",
      "C:/Downloads\\6\\3 True\n",
      "C:/Downloads\\6\\3 folder already exists.\n",
      "C:/Downloads\\6\\4 True\n",
      "C:/Downloads\\6\\4 folder already exists.\n",
      "C:/Downloads\\6\\5 True\n",
      "C:/Downloads\\6\\5 folder already exists.\n",
      "C:/Downloads\\6\\6 True\n",
      "C:/Downloads\\6\\6 folder already exists.\n",
      "C:/Downloads\\6\\7 True\n",
      "C:/Downloads\\6\\7 folder already exists.\n",
      "C:/Downloads\\6\\8 True\n",
      "C:/Downloads\\6\\8 folder already exists.\n",
      "C:/Downloads\\6\\9 True\n",
      "C:/Downloads\\6\\9 folder already exists.\n",
      "C:/Downloads\\7\\0 True\n",
      "C:/Downloads\\7\\0 folder already exists.\n",
      "C:/Downloads\\7\\1 True\n",
      "C:/Downloads\\7\\1 folder already exists.\n",
      "C:/Downloads\\7\\2 True\n",
      "C:/Downloads\\7\\2 folder already exists.\n",
      "C:/Downloads\\7\\3 True\n",
      "C:/Downloads\\7\\3 folder already exists.\n",
      "C:/Downloads\\7\\4 True\n",
      "C:/Downloads\\7\\4 folder already exists.\n",
      "C:/Downloads\\7\\5 True\n",
      "C:/Downloads\\7\\5 folder already exists.\n",
      "C:/Downloads\\7\\6 True\n",
      "C:/Downloads\\7\\6 folder already exists.\n",
      "C:/Downloads\\7\\7 True\n",
      "C:/Downloads\\7\\7 folder already exists.\n",
      "C:/Downloads\\7\\8 True\n",
      "C:/Downloads\\7\\8 folder already exists.\n",
      "C:/Downloads\\7\\9 True\n",
      "C:/Downloads\\7\\9 folder already exists.\n",
      "C:/Downloads\\8\\0 True\n",
      "C:/Downloads\\8\\0 folder already exists.\n",
      "C:/Downloads\\8\\1 True\n",
      "C:/Downloads\\8\\1 folder already exists.\n",
      "C:/Downloads\\8\\2 True\n",
      "C:/Downloads\\8\\2 folder already exists.\n",
      "C:/Downloads\\8\\3 True\n",
      "C:/Downloads\\8\\3 folder already exists.\n",
      "C:/Downloads\\8\\4 True\n",
      "C:/Downloads\\8\\4 folder already exists.\n",
      "C:/Downloads\\8\\5 True\n",
      "C:/Downloads\\8\\5 folder already exists.\n",
      "C:/Downloads\\8\\6 True\n",
      "C:/Downloads\\8\\6 folder already exists.\n",
      "C:/Downloads\\8\\7 True\n",
      "C:/Downloads\\8\\7 folder already exists.\n",
      "C:/Downloads\\8\\8 True\n",
      "C:/Downloads\\8\\8 folder already exists.\n",
      "C:/Downloads\\8\\9 True\n",
      "C:/Downloads\\8\\9 folder already exists.\n",
      "C:/Downloads\\9\\0 True\n",
      "C:/Downloads\\9\\0 folder already exists.\n",
      "C:/Downloads\\9\\1 True\n",
      "C:/Downloads\\9\\1 folder already exists.\n",
      "C:/Downloads\\9\\2 True\n",
      "C:/Downloads\\9\\2 folder already exists.\n",
      "C:/Downloads\\9\\3 True\n",
      "C:/Downloads\\9\\3 folder already exists.\n",
      "C:/Downloads\\9\\4 True\n",
      "C:/Downloads\\9\\4 folder already exists.\n",
      "C:/Downloads\\9\\5 True\n",
      "C:/Downloads\\9\\5 folder already exists.\n",
      "C:/Downloads\\9\\6 True\n",
      "C:/Downloads\\9\\6 folder already exists.\n",
      "C:/Downloads\\9\\7 True\n",
      "C:/Downloads\\9\\7 folder already exists.\n",
      "C:/Downloads\\9\\8 True\n",
      "C:/Downloads\\9\\8 folder already exists.\n",
      "C:/Downloads\\9\\9 True\n",
      "C:/Downloads\\9\\9 folder already exists.\n"
     ]
    }
   ],
   "source": [
    "# Creating Subdirectorys, if they don't exixsts\n",
    "\n",
    "if not os.path.isdir(path):\n",
    "    os.makedirs(path)\n",
    "    print(\"created folder : \", path)\n",
    "\n",
    "for x in range (10):\n",
    "    file_path1 = os.path.join(path, str(x))\n",
    "    for y in range(10):\n",
    "        file_path2 = os.path.join(file_path1, str(y))\n",
    "        CHECK_FOLDER = os.path.isdir(file_path2)\n",
    "        print(file_path2, CHECK_FOLDER)\n",
    "                \n",
    "\n",
    "        # If folder doesn't exist, then create it.\n",
    "        if not CHECK_FOLDER:\n",
    "            os.makedirs(file_path2)\n",
    "            print(\"created folder : \", file_path2)\n",
    "\n",
    "        else:\n",
    "            print(file_path2, \"folder already exists.\")\n"
   ]
  },
  {
   "cell_type": "markdown",
   "id": "70aaeb6d",
   "metadata": {},
   "source": [
    "# Arrumando arquivos já existentes"
   ]
  },
  {
   "cell_type": "code",
   "execution_count": 9,
   "id": "f23a7264",
   "metadata": {},
   "outputs": [],
   "source": [
    "from pathlib import Path\n",
    "import os, glob, shutil"
   ]
  },
  {
   "cell_type": "markdown",
   "id": "2d14a218",
   "metadata": {},
   "source": [
    "new_folder = 'C:/Downloads2'\n",
    "old_folder = 'C:/Downloads'\n",
    "num_files = 100\n",
    "files_moved = 0\n",
    "files = os.listdir(old_folder)\n",
    "for f in files:\n",
    "    newfile = os.path.join(new_folder, f[0], f[1])\n",
    "    print(f'{num_files}: moving file {file} to {newfile}')\n",
    "    #shutil.move(\"path/to/current/file.foo\", \"path/to/new/destination/for/file.foo\")\n",
    "    files_moved += 1\n",
    "    if num_files >=0 and files_moved > num_files:\n",
    "          break\n"
   ]
  },
  {
   "cell_type": "code",
   "execution_count": 66,
   "id": "9aa68050",
   "metadata": {},
   "outputs": [
    {
     "name": "stdout",
     "output_type": "stream",
     "text": [
      "all files moved\n"
     ]
    }
   ],
   "source": [
    "\n",
    "\n",
    "new_folder = 'C:/Downloads3'\n",
    "old_folder = 'C:/Downloads'\n",
    "num_files = -1\n",
    "files_moved = 0\n",
    "\n",
    "if not os.path.isdir(new_folder):\n",
    "    os.makedirs(new_folder)\n",
    "    print(\"created folder : \", new_folder)\n",
    "\n",
    "for x in range (10):\n",
    "    file_path1 = os.path.join(new_folder, str(x))\n",
    "    for y in range(10):\n",
    "        file_path2 = os.path.join(file_path1, str(y))\n",
    "        CHECK_FOLDER = os.path.isdir(file_path2)\n",
    "        #print(file_path2, CHECK_FOLDER)\n",
    "                \n",
    "\n",
    "        # If folder doesn't exist, then create it.\n",
    "        if not CHECK_FOLDER:\n",
    "            os.makedirs(file_path2)\n",
    "            print(\"created folder : \", file_path2)\n",
    "\n",
    "        else:\n",
    "            #print(file_path2, \"folder already exists.\")\n",
    "            pass\n",
    "\n",
    "files = os.listdir(old_folder)\n",
    "for f in files:\n",
    "    if f.endswith('.zip'):\n",
    "        id = f.replace(\"Lattes_\", '').replace(\".zip\",'')\n",
    "        oldfile = os.path.join(old_folder, f) \n",
    "        newfile = os.path.join(new_folder, id[0], id[1], f)\n",
    "        #print(f'{num_files}: moving file {oldfile} to {newfile}')\n",
    "        shutil.move(oldfile, newfile)\n",
    "        files_moved += 1\n",
    "        if num_files >=0 and files_moved > num_files:\n",
    "              break\n",
    "\n",
    "print('all files moved')\n"
   ]
  },
  {
   "cell_type": "code",
   "execution_count": 67,
   "id": "a8438302",
   "metadata": {},
   "outputs": [],
   "source": [
    "files = [y for x in os.walk(path) for y in glob.glob(os.path.join(x[0], '*.zip'))]\n",
    "for file in files:\n",
    "    #print(file.replace('\\\\','/').replace(old_folder, new_folder))\n",
    "    shutil.move(file, file.replace('\\\\','/').replace(old_folder, new_folder))"
   ]
  },
  {
   "cell_type": "code",
   "execution_count": null,
   "id": "d32204eb",
   "metadata": {},
   "outputs": [],
   "source": [
    "    if f.endswith('.zip'):\n",
    "        id = f.replace(\"Lattes_\", '').replace(\".zip\",'')\n",
    "        #oldfile = os.path.join(old_folder, f) \n",
    "        newfile = os.path.join(new_folder, id[0], id[1], f)\n",
    "        print(f'{num_files}: moving file {oldfile} to {newfile}')\n",
    "        #shutil.move(oldfile, newfile)\n",
    "        files_moved += 1\n",
    "        if num_files >=0 and files_moved > num_files:\n",
    "              break\n",
    "\n",
    "print('all files moved')"
   ]
  },
  {
   "cell_type": "code",
   "execution_count": 22,
   "id": "5ba0676d",
   "metadata": {},
   "outputs": [
    {
     "name": "stdout",
     "output_type": "stream",
     "text": [
      "[]\n"
     ]
    }
   ],
   "source": [
    "path = 'C:/Downloads'\n",
    "result = [y for x in os.walk(path) for y in glob.glob(os.path.join(x[0], '*.zip'))]\n",
    "print(result)"
   ]
  },
  {
   "cell_type": "code",
   "execution_count": 25,
   "id": "528c0c9c",
   "metadata": {},
   "outputs": [
    {
     "name": "stdout",
     "output_type": "stream",
     "text": [
      "3978\n"
     ]
    }
   ],
   "source": [
    "ids_em_zip = [y[y.find('Lattes_')+7:-4] for x in os.walk(path) for y in glob.glob(os.path.join(x[0], '*.zip'))]\n",
    "\n",
    "print(len(ids_em_zip))"
   ]
  },
  {
   "cell_type": "code",
   "execution_count": 27,
   "id": "ac758d6a",
   "metadata": {},
   "outputs": [
    {
     "name": "stdout",
     "output_type": "stream",
     "text": [
      "C:/Downloads\\0\\0 58\n",
      "C:/Downloads\\0\\1 64\n",
      "C:/Downloads\\0\\2 75\n",
      "C:/Downloads\\0\\3 56\n",
      "C:/Downloads\\0\\4 61\n",
      "C:/Downloads\\0\\5 55\n",
      "C:/Downloads\\0\\6 51\n",
      "C:/Downloads\\0\\7 52\n",
      "C:/Downloads\\0\\8 60\n",
      "C:/Downloads\\0\\9 48\n",
      "C:/Downloads\\1\\0 76\n",
      "C:/Downloads\\1\\1 67\n",
      "C:/Downloads\\1\\2 58\n",
      "C:/Downloads\\1\\3 67\n",
      "C:/Downloads\\1\\4 63\n",
      "C:/Downloads\\1\\5 68\n",
      "C:/Downloads\\1\\6 55\n",
      "C:/Downloads\\1\\7 63\n",
      "C:/Downloads\\1\\8 81\n",
      "C:/Downloads\\1\\9 56\n",
      "C:/Downloads\\2\\0 63\n",
      "C:/Downloads\\2\\1 66\n",
      "C:/Downloads\\2\\2 67\n",
      "C:/Downloads\\2\\3 77\n",
      "C:/Downloads\\2\\4 69\n",
      "C:/Downloads\\2\\5 69\n",
      "C:/Downloads\\2\\6 47\n",
      "C:/Downloads\\2\\7 77\n",
      "C:/Downloads\\2\\8 83\n",
      "C:/Downloads\\2\\9 67\n",
      "C:/Downloads\\3\\0 53\n",
      "C:/Downloads\\3\\1 70\n",
      "C:/Downloads\\3\\2 69\n",
      "C:/Downloads\\3\\3 70\n",
      "C:/Downloads\\3\\4 64\n",
      "C:/Downloads\\3\\5 62\n",
      "C:/Downloads\\3\\6 71\n",
      "C:/Downloads\\3\\7 61\n",
      "C:/Downloads\\3\\8 65\n",
      "C:/Downloads\\3\\9 61\n",
      "C:/Downloads\\4\\0 62\n",
      "C:/Downloads\\4\\1 61\n",
      "C:/Downloads\\4\\2 54\n",
      "C:/Downloads\\4\\3 68\n",
      "C:/Downloads\\4\\4 68\n",
      "C:/Downloads\\4\\5 62\n",
      "C:/Downloads\\4\\6 61\n",
      "C:/Downloads\\4\\7 50\n",
      "C:/Downloads\\4\\8 75\n",
      "C:/Downloads\\4\\9 59\n",
      "C:/Downloads\\5\\0 64\n",
      "C:/Downloads\\5\\1 56\n",
      "C:/Downloads\\5\\2 57\n",
      "C:/Downloads\\5\\3 78\n",
      "C:/Downloads\\5\\4 59\n",
      "C:/Downloads\\5\\5 68\n",
      "C:/Downloads\\5\\6 55\n",
      "C:/Downloads\\5\\7 58\n",
      "C:/Downloads\\5\\8 66\n",
      "C:/Downloads\\5\\9 52\n",
      "C:/Downloads\\6\\0 60\n",
      "C:/Downloads\\6\\1 69\n",
      "C:/Downloads\\6\\2 61\n",
      "C:/Downloads\\6\\3 52\n",
      "C:/Downloads\\6\\4 56\n",
      "C:/Downloads\\6\\5 53\n",
      "C:/Downloads\\6\\6 46\n",
      "C:/Downloads\\6\\7 70\n",
      "C:/Downloads\\6\\8 63\n",
      "C:/Downloads\\6\\9 59\n",
      "C:/Downloads\\7\\0 73\n",
      "C:/Downloads\\7\\1 67\n",
      "C:/Downloads\\7\\2 51\n",
      "C:/Downloads\\7\\3 51\n",
      "C:/Downloads\\7\\4 58\n",
      "C:/Downloads\\7\\5 54\n",
      "C:/Downloads\\7\\6 64\n",
      "C:/Downloads\\7\\7 61\n",
      "C:/Downloads\\7\\8 51\n",
      "C:/Downloads\\7\\9 62\n",
      "C:/Downloads\\8\\0 64\n",
      "C:/Downloads\\8\\1 61\n",
      "C:/Downloads\\8\\2 70\n",
      "C:/Downloads\\8\\3 62\n",
      "C:/Downloads\\8\\4 63\n",
      "C:/Downloads\\8\\5 69\n",
      "C:/Downloads\\8\\6 60\n",
      "C:/Downloads\\8\\7 54\n",
      "C:/Downloads\\8\\8 54\n",
      "C:/Downloads\\8\\9 60\n",
      "C:/Downloads\\9\\0 68\n",
      "C:/Downloads\\9\\1 58\n",
      "C:/Downloads\\9\\2 57\n",
      "C:/Downloads\\9\\3 60\n",
      "C:/Downloads\\9\\4 53\n",
      "C:/Downloads\\9\\5 67\n",
      "C:/Downloads\\9\\6 69\n",
      "C:/Downloads\\9\\7 62\n",
      "C:/Downloads\\9\\8 59\n",
      "C:/Downloads\\9\\9 55\n"
     ]
    }
   ],
   "source": [
    "for x in range (10):\n",
    "    file_path1 = os.path.join(path, str(x))\n",
    "    for y in range(10):\n",
    "        file_path2 = os.path.join(file_path1, str(y))\n",
    "        #CHECK_FOLDER = os.path.isdir(file_path2)\n",
    "        print(file_path2, len(os.listdir(file_path2)))"
   ]
  },
  {
   "cell_type": "code",
   "execution_count": 28,
   "id": "f913c68f",
   "metadata": {},
   "outputs": [
    {
     "name": "stdout",
     "output_type": "stream",
     "text": [
      "Importando Módulos\n",
      "Módulos Importados\n"
     ]
    }
   ],
   "source": [
    "from Lattes import Lattes"
   ]
  },
  {
   "cell_type": "code",
   "execution_count": 30,
   "id": "057a561c",
   "metadata": {},
   "outputs": [],
   "source": [
    "lattes = Lattes(id='4300018306547995')"
   ]
  },
  {
   "cell_type": "code",
   "execution_count": 33,
   "id": "55be8fc5",
   "metadata": {},
   "outputs": [
    {
     "name": "stdout",
     "output_type": "stream",
     "text": [
      "Arquivo compactado lido no disco.\n",
      "Unzipping file and gettinf xml and json\n",
      "retira, de cada JSON, caracteres especiais web\n",
      "2013-10-31 15:47:26+00:00\n",
      "XML & JSON atualizado a partir do Lattes compactado.\n"
     ]
    }
   ],
   "source": [
    "lattes.read_xml_from_zip()"
   ]
  },
  {
   "cell_type": "code",
   "execution_count": 32,
   "id": "05e8c466",
   "metadata": {},
   "outputs": [],
   "source": [
    "lattes.path = 'c:\\downloads3'"
   ]
  },
  {
   "cell_type": "code",
   "execution_count": 34,
   "id": "2d01ef41",
   "metadata": {},
   "outputs": [
    {
     "name": "stdout",
     "output_type": "stream",
     "text": [
      "Inserting 4300018306547995 JSON in BD.\n",
      "Inserting xml to Postgree\n",
      "Banco de dados atualizado.\n"
     ]
    },
    {
     "data": {
      "text/plain": [
       "'XML inserted.'"
      ]
     },
     "execution_count": 34,
     "metadata": {},
     "output_type": "execute_result"
    }
   ],
   "source": [
    "lattes.insert_json()\n"
   ]
  },
  {
   "cell_type": "code",
   "execution_count": 61,
   "id": "c670a513",
   "metadata": {},
   "outputs": [
    {
     "name": "stdout",
     "output_type": "stream",
     "text": [
      "OrderedDict([('CURRICULO-VITAE', OrderedDict([('@SISTEMA-ORIGEM-XML', 'LATTES_OFFLINE'), ('@DATA-ATUALIZACAO', '31102013'), ('@HORA-ATUALIZACAO', '154726'), ('@NUMERO-IDENTIFICADOR', ''), ('DADOS-GERAIS', OrderedDict([('@NOME-COMPLETO', 'Michele Milanezi'), ('@NOME-EM-CITACOES-BIBLIOGRAFICAS', 'MILANEZI, M.'), ('@NACIONALIDADE', 'B'), ('@PAIS-DE-NASCIMENTO', 'Brasil'), ('@UF-NASCIMENTO', ''), ('@CIDADE-NASCIMENTO', ''), ('@PERMISSAO-DE-DIVULGACAO', 'NAO'), ('@DATA-FALECIMENTO', ''), ('RESUMO-CV', OrderedDict([('@TEXTO-RESUMO-CV-RH', ''), ('@TEXTO-RESUMO-CV-RH-EN', '')])), ('OUTRAS-INFORMACOES-RELEVANTES', OrderedDict([('@OUTRAS-INFORMACOES-RELEVANTES', '')])), ('ENDERECO', OrderedDict([('@FLAG-DE-PREFERENCIA', 'ENDERECO_RESIDENCIAL'), ('ENDERECO-PROFISSIONAL', OrderedDict([('@CODIGO-INSTITUICAO-EMPRESA', ''), ('@NOME-INSTITUICAO-EMPRESA', ''), ('@CODIGO-UNIDADE', ''), ('@NOME-UNIDADE', ''), ('@CODIGO-ORGAO', ''), ('@NOME-ORGAO', ''), ('@PAIS', ''), ('@UF', ''), ('@LOGRADOURO-COMPLEMENTO', ''), ('@BAIRRO', ''), ('@CIDADE', ''), ('@CAIXA-POSTAL', ''), ('@CEP', ''), ('@DDD', ''), ('@TELEFONE', ''), ('@RAMAL', ''), ('@FAX', ''), ('@HOME-PAGE', '')]))])), ('FORMACAO-ACADEMICA-TITULACAO', OrderedDict([('GRADUACAO', OrderedDict([('@SEQUENCIA-FORMACAO', '1'), ('@NIVEL', '1'), ('@TITULO-DO-TRABALHO-DE-CONCLUSAO-DE-CURSO', ''), ('@NOME-DO-ORIENTADOR', ''), ('@CODIGO-INSTITUICAO', '506700000004'), ('@NOME-INSTITUICAO', 'Universidade do Oeste Paulista'), ('@CODIGO-CURSO', '60172932'), ('@NOME-CURSO', 'Medicina'), ('@CODIGO-AREA-CURSO', ''), ('@STATUS-DO-CURSO', 'CONCLUIDO'), ('@ANO-DE-INICIO', '2004'), ('@ANO-DE-CONCLUSAO', '2009'), ('@FLAG-BOLSA', 'NAO'), ('@TIPO-GRADUACAO', 'N'), ('@CODIGO-INSTITUICAO-GRAD', ''), ('@NOME-INSTITUICAO-GRAD', ''), ('@CODIGO-INSTITUICAO-OUTRA-GRAD', ''), ('@NOME-INSTITUICAO-OUTRA-GRAD', ''), ('@NOME-ORIENTADOR-GRAD', ''), ('@CODIGO-AGENCIA-FINANCIADORA', ''), ('@NOME-AGENCIA', ''), ('@NUMERO-ID-ORIENTADOR', ''), ('@CODIGO-CURSO-CAPES', '6496'), ('@TITULO-DO-TRABALHO-DE-CONCLUSAO-DE-CURSO-INGLES', ''), ('@NOME-CURSO-INGLES', '')]))])), ('ATUACOES-PROFISSIONAIS', OrderedDict([('ATUACAO-PROFISSIONAL', [OrderedDict([('@CODIGO-INSTITUICAO', '000600000990'), ('@NOME-INSTITUICAO', 'Hospital Universitário Dr. Domingos Leonardo Cerávolo'), ('@SEQUENCIA-ATIVIDADE', '1'), ('@SEQUENCIA-IMPORTANCIA', ''), ('VINCULOS', OrderedDict([('@SEQUENCIA-HISTORICO', '1'), ('@TIPO-DE-VINCULO', 'LIVRE'), ('@ENQUADRAMENTO-FUNCIONAL', 'LIVRE'), ('@CARGA-HORARIA-SEMANAL', '480'), ('@FLAG-DEDICACAO-EXCLUSIVA', 'SIM'), ('@MES-INICIO', '01'), ('@ANO-INICIO', '2009'), ('@MES-FIM', '03'), ('@ANO-FIM', '2009'), ('@OUTRAS-INFORMACOES', ''), ('@FLAG-VINCULO-EMPREGATICIO', 'SIM'), ('@OUTRO-VINCULO-INFORMADO', 'Estágio Emergência e PS'), ('@OUTRO-ENQUADRAMENTO-FUNCIONAL-INFORMADO', 'Estagiário'), ('@OUTRO-ENQUADRAMENTO-FUNCIONAL-INFORMADO-INGLES', ''), ('@OUTRAS-INFORMACOES-INGLES', '')]))]), OrderedDict([('@CODIGO-INSTITUICAO', '000400000997'), ('@NOME-INSTITUICAO', 'Hospital de Base'), ('@SEQUENCIA-ATIVIDADE', '2'), ('@SEQUENCIA-IMPORTANCIA', ''), ('VINCULOS', OrderedDict([('@SEQUENCIA-HISTORICO', '1'), ('@TIPO-DE-VINCULO', 'LIVRE'), ('@ENQUADRAMENTO-FUNCIONAL', 'LIVRE'), ('@CARGA-HORARIA-SEMANAL', '168'), ('@FLAG-DEDICACAO-EXCLUSIVA', 'SIM'), ('@MES-INICIO', '11'), ('@ANO-INICIO', '2008'), ('@MES-FIM', '12'), ('@ANO-FIM', '2008'), ('@OUTRAS-INFORMACOES', ''), ('@FLAG-VINCULO-EMPREGATICIO', 'SIM'), ('@OUTRO-VINCULO-INFORMADO', 'Estágio Disc. Cardiologia'), ('@OUTRO-ENQUADRAMENTO-FUNCIONAL-INFORMADO', 'Estagiário'), ('@OUTRO-ENQUADRAMENTO-FUNCIONAL-INFORMADO-INGLES', ''), ('@OUTRAS-INFORMACOES-INGLES', '')]))]), OrderedDict([('@CODIGO-INSTITUICAO', '000300000995'), ('@NOME-INSTITUICAO', 'Hospital de Base - Depto.Clin.Medica'), ('@SEQUENCIA-ATIVIDADE', '3'), ('@SEQUENCIA-IMPORTANCIA', ''), ('VINCULOS', OrderedDict([('@SEQUENCIA-HISTORICO', '1'), ('@TIPO-DE-VINCULO', 'LIVRE'), ('@ENQUADRAMENTO-FUNCIONAL', 'LIVRE'), ('@CARGA-HORARIA-SEMANAL', '40'), ('@FLAG-DEDICACAO-EXCLUSIVA', 'SIM'), ('@MES-INICIO', '11'), ('@ANO-INICIO', '2008'), ('@MES-FIM', '11'), ('@ANO-FIM', '2008'), ('@OUTRAS-INFORMACOES', ''), ('@FLAG-VINCULO-EMPREGATICIO', 'SIM'), ('@OUTRO-VINCULO-INFORMADO', 'Estágio Clínica Médica'), ('@OUTRO-ENQUADRAMENTO-FUNCIONAL-INFORMADO', 'Estagiário'), ('@OUTRO-ENQUADRAMENTO-FUNCIONAL-INFORMADO-INGLES', ''), ('@OUTRAS-INFORMACOES-INGLES', '')]))]), OrderedDict([('@CODIGO-INSTITUICAO', '000700000992'), ('@NOME-INSTITUICAO', 'As.Atl.Acad.Prof.Dr.Jose Carlos Prates'), ('@SEQUENCIA-ATIVIDADE', '4'), ('@SEQUENCIA-IMPORTANCIA', ''), ('VINCULOS', OrderedDict([('@SEQUENCIA-HISTORICO', '1'), ('@TIPO-DE-VINCULO', 'LIVRE'), ('@ENQUADRAMENTO-FUNCIONAL', 'LIVRE'), ('@CARGA-HORARIA-SEMANAL', '40'), ('@FLAG-DEDICACAO-EXCLUSIVA', 'SIM'), ('@MES-INICIO', '01'), ('@ANO-INICIO', '2005'), ('@MES-FIM', '01'), ('@ANO-FIM', '2008'), ('@OUTRAS-INFORMACOES', ''), ('@FLAG-VINCULO-EMPREGATICIO', 'SIM'), ('@OUTRO-VINCULO-INFORMADO', 'Primeira Secretária'), ('@OUTRO-ENQUADRAMENTO-FUNCIONAL-INFORMADO', 'Primeira Secretária'), ('@OUTRO-ENQUADRAMENTO-FUNCIONAL-INFORMADO-INGLES', ''), ('@OUTRAS-INFORMACOES-INGLES', '')]))])])])), ('AREAS-DE-ATUACAO', OrderedDict([('AREA-DE-ATUACAO', OrderedDict([('@SEQUENCIA-AREA-DE-ATUACAO', '1'), ('@NOME-GRANDE-AREA-DO-CONHECIMENTO', 'CIENCIAS_DA_SAUDE'), ('@NOME-DA-AREA-DO-CONHECIMENTO', 'Medicina'), ('@NOME-DA-SUB-AREA-DO-CONHECIMENTO', ''), ('@NOME-DA-ESPECIALIDADE', '')]))])), ('IDIOMAS', OrderedDict([('IDIOMA', OrderedDict([('@IDIOMA', 'EN'), ('@DESCRICAO-DO-IDIOMA', 'Inglês'), ('@PROFICIENCIA-DE-LEITURA', 'RAZOAVELMENTE'), ('@PROFICIENCIA-DE-FALA', 'RAZOAVELMENTE'), ('@PROFICIENCIA-DE-ESCRITA', 'RAZOAVELMENTE'), ('@PROFICIENCIA-DE-COMPREENSAO', 'RAZOAVELMENTE')]))]))])), ('PRODUCAO-TECNICA', OrderedDict([('DEMAIS-TIPOS-DE-PRODUCAO-TECNICA', OrderedDict([('APRESENTACAO-DE-TRABALHO', [OrderedDict([('@SEQUENCIA-PRODUCAO', '1'), ('DADOS-BASICOS-DA-APRESENTACAO-DE-TRABALHO', OrderedDict([('@NATUREZA', 'CONGRESSO'), ('@TITULO', 'Síndrome de Guillain-Barré em Associação com a Infecção por Dengue: Relato de Caso'), ('@ANO', '2013'), ('@PAIS', 'Brasil'), ('@IDIOMA', 'Português'), ('@FLAG-RELEVANCIA', 'SIM'), ('@TITULO-INGLES', ''), ('@FLAG-DIVULGACAO-CIENTIFICA', 'NAO')])), ('DETALHAMENTO-DA-APRESENTACAO-DE-TRABALHO', OrderedDict([('@NOME-DO-EVENTO', '12º Congresso Brasileiro de Clínica Médica, 2º Congresso Internacional de Medicina de Urgência e Emergência'), ('@INSTITUICAO-PROMOTORA', ''), ('@LOCAL-DA-APRESENTACAO', ''), ('@CIDADE-DA-APRESENTACAO', 'Porto Alegre-RS'), ('@NOME-DO-EVENTO-INGLES', '')])), ('AUTORES', [OrderedDict([('@NOME-COMPLETO-DO-AUTOR', 'Michele Milanezi'), ('@NOME-PARA-CITACAO', 'Michele Milanezi'), ('@ORDEM-DE-AUTORIA', '1'), ('@NRO-ID-CNPQ', '')]), OrderedDict([('@NOME-COMPLETO-DO-AUTOR', 'Michele Milanezi'), ('@NOME-PARA-CITACAO', 'MILANEZI, M.'), ('@ORDEM-DE-AUTORIA', '2')])]), ('AREAS-DO-CONHECIMENTO', None), ('INFORMACOES-ADICIONAIS', OrderedDict([('@DESCRICAO-INFORMACOES-ADICIONAIS', ''), ('@DESCRICAO-INFORMACOES-ADICIONAIS-INGLES', '')]))]), OrderedDict([('@SEQUENCIA-PRODUCAO', '2'), ('DADOS-BASICOS-DA-APRESENTACAO-DE-TRABALHO', OrderedDict([('@NATUREZA', 'CONGRESSO'), ('@TITULO', 'Insuficiência Renal e Respiratória: Vasculite de Pequeno Vaso como Etiologia da Síndrome Pulmão-Rim'), ('@ANO', '2013'), ('@PAIS', 'Brasil'), ('@IDIOMA', 'Português'), ('@FLAG-RELEVANCIA', 'NAO'), ('@TITULO-INGLES', ''), ('@FLAG-DIVULGACAO-CIENTIFICA', 'NAO')])), ('DETALHAMENTO-DA-APRESENTACAO-DE-TRABALHO', OrderedDict([('@NOME-DO-EVENTO', '12º Congresso Brasileiro de Clínica Médica, 2º Congresso Internacional de Medicina de Urgência e Emergência'), ('@INSTITUICAO-PROMOTORA', ''), ('@LOCAL-DA-APRESENTACAO', ''), ('@CIDADE-DA-APRESENTACAO', 'Porto Alegre-RS'), ('@NOME-DO-EVENTO-INGLES', '')])), ('AUTORES', [OrderedDict([('@NOME-COMPLETO-DO-AUTOR', 'Michele Milanezi'), ('@NOME-PARA-CITACAO', 'MILANEZI, M.'), ('@ORDEM-DE-AUTORIA', '1'), ('@NRO-ID-CNPQ', '')]), OrderedDict([('@NOME-COMPLETO-DO-AUTOR', 'Michele Milanezi'), ('@NOME-PARA-CITACAO', 'MILANEZI, M.'), ('@ORDEM-DE-AUTORIA', '2')])]), ('AREAS-DO-CONHECIMENTO', None), ('INFORMACOES-ADICIONAIS', OrderedDict([('@DESCRICAO-INFORMACOES-ADICIONAIS', ''), ('@DESCRICAO-INFORMACOES-ADICIONAIS-INGLES', '')]))])])]))])), ('DADOS-COMPLEMENTARES', OrderedDict([('FORMACAO-COMPLEMENTAR', OrderedDict([('FORMACAO-COMPLEMENTAR-DE-EXTENSAO-UNIVERSITARIA', [OrderedDict([('@SEQUENCIA-FORMACAO', '2'), ('@NIVEL', '8'), ('@CARGA-HORARIA', ''), ('@CODIGO-INSTITUICAO', '529200000004'), ('@NOME-INSTITUICAO', 'Associação de Medicina Intensiva Brasileira'), ('@CODIGO-CURSO', ''), ('@NOME-CURSO', 'FCCS - Fundamentos em Terapia Intensiva'), ('@STATUS-DO-CURSO', 'CONCLUIDO'), ('@ANO-DE-INICIO', '2012'), ('@ANO-DE-CONCLUSAO', '2012'), ('@NOME-CURSO-INGLES', '')]), OrderedDict([('@SEQUENCIA-FORMACAO', '3'), ('@NIVEL', '8'), ('@CARGA-HORARIA', ''), ('@CODIGO-INSTITUICAO', '529200000004'), ('@NOME-INSTITUICAO', 'Associação de Medicina Intensiva Brasileira'), ('@CODIGO-CURSO', ''), ('@NOME-CURSO', 'Neuroimagem'), ('@STATUS-DO-CURSO', 'CONCLUIDO'), ('@ANO-DE-INICIO', '2013'), ('@ANO-DE-CONCLUSAO', '2013'), ('@NOME-CURSO-INGLES', '')]), OrderedDict([('@SEQUENCIA-FORMACAO', '4'), ('@NIVEL', '8'), ('@CARGA-HORARIA', ''), ('@CODIGO-INSTITUICAO', ''), ('@NOME-INSTITUICAO', '12º Congresso Brasileiro de Clínica Médica'), ('@CODIGO-CURSO', ''), ('@NOME-CURSO', 'Pratico de Eletrocardiografia Med.Urg.e Emerg.'), ('@STATUS-DO-CURSO', 'CONCLUIDO'), ('@ANO-DE-INICIO', '2013'), ('@ANO-DE-CONCLUSAO', '2013'), ('@NOME-CURSO-INGLES', '')])]), ('FORMACAO-COMPLEMENTAR-CURSO-DE-CURTA-DURACAO', [OrderedDict([('@SEQUENCIA-FORMACAO', '6'), ('@NIVEL', 'F'), ('@CARGA-HORARIA', ''), ('@CODIGO-INSTITUICAO', ''), ('@NOME-INSTITUICAO', '12º Congresso Brasileiro de Clínica Médica'), ('@CODIGO-CURSO', ''), ('@NOME-CURSO', 'Neuroimagem'), ('@STATUS-DO-CURSO', 'CONCLUIDO'), ('@ANO-DE-INICIO', '2013'), ('@ANO-DE-CONCLUSAO', '2013'), ('@NOME-CURSO-INGLES', '')]), OrderedDict([('@SEQUENCIA-FORMACAO', '7'), ('@NIVEL', 'F'), ('@CARGA-HORARIA', ''), ('@CODIGO-INSTITUICAO', ''), ('@NOME-INSTITUICAO', '12º Congresso Brasileiro de Clínica Médica'), ('@CODIGO-CURSO', ''), ('@NOME-CURSO', 'Pratico de Eletrocardiografia Med.Urg.Emerg.'), ('@STATUS-DO-CURSO', 'CONCLUIDO'), ('@ANO-DE-INICIO', '2013'), ('@ANO-DE-CONCLUSAO', '2013'), ('@NOME-CURSO-INGLES', '')])]), ('OUTROS', OrderedDict([('@SEQUENCIA-FORMACAO', '5'), ('@NIVEL', 'Y'), ('@CARGA-HORARIA', ''), ('@CODIGO-INSTITUICAO', ''), ('@NOME-INSTITUICAO', 'Hospital Regional de Presidente Prudente'), ('@CODIGO-CURSO', ''), ('@NOME-CURSO', 'Residência Clínica Médica'), ('@STATUS-DO-CURSO', 'EM_ANDAMENTO'), ('@ANO-DE-INICIO', '2012'), ('@ANO-DE-CONCLUSAO', ''), ('@NOME-CURSO-INGLES', '')]))])), ('PARTICIPACAO-EM-EVENTOS-CONGRESSOS', OrderedDict([('PARTICIPACAO-EM-CONGRESSO', [OrderedDict([('@SEQUENCIA-PRODUCAO', '4'), ('DADOS-BASICOS-DA-PARTICIPACAO-EM-CONGRESSO', OrderedDict([('@NATUREZA', 'Congresso'), ('@TITULO', ''), ('@ANO', '2004'), ('@PAIS', 'Brasil'), ('@IDIOMA', ''), ('@MEIO-DE-DIVULGACAO', 'NAO_INFORMADO'), ('@HOME-PAGE-DO-TRABALHO', ''), ('@FLAG-RELEVANCIA', 'NAO'), ('@TIPO-PARTICIPACAO', ''), ('@FORMA-PARTICIPACAO', 'Ouvinte'), ('@DOI', ''), ('@TITULO-INGLES', ''), ('@FLAG-DIVULGACAO-CIENTIFICA', 'NAO')])), ('DETALHAMENTO-DA-PARTICIPACAO-EM-CONGRESSO', OrderedDict([('@NOME-DO-EVENTO', 'XIII COMEPP - Congr. Medico Estudantil de Pres.Pte.'), ('@NOME-INSTITUICAO', ''), ('@LOCAL-DO-EVENTO', ''), ('@CIDADE-DO-EVENTO', 'Presidente Prudente-SP'), ('@NOME-DO-EVENTO-INGLES', '')])), ('PARTICIPANTE-DE-EVENTOS-CONGRESSOS', OrderedDict([('@NOME-COMPLETO-DO-PARTICIPANTE-DE-EVENTOS-CONGRESSOS', 'Michele Milanezi'), ('@NOME-PARA-CITACAO-DO-PARTICIPANTE-DE-EVENTOS-CONGRESSOS', 'MILANEZI, M.'), ('@ORDEM-PARTICIPANTE', '1')])), ('AREAS-DO-CONHECIMENTO', None), ('INFORMACOES-ADICIONAIS', OrderedDict([('@DESCRICAO-INFORMACOES-ADICIONAIS', ''), ('@DESCRICAO-INFORMACOES-ADICIONAIS-INGLES', '')]))]), OrderedDict([('@SEQUENCIA-PRODUCAO', '5'), ('DADOS-BASICOS-DA-PARTICIPACAO-EM-CONGRESSO', OrderedDict([('@NATUREZA', 'Congresso'), ('@TITULO', ''), ('@ANO', '2004'), ('@PAIS', 'Brasil'), ('@IDIOMA', ''), ('@MEIO-DE-DIVULGACAO', 'NAO_INFORMADO'), ('@HOME-PAGE-DO-TRABALHO', ''), ('@FLAG-RELEVANCIA', 'NAO'), ('@TIPO-PARTICIPACAO', ''), ('@FORMA-PARTICIPACAO', 'Ouvinte'), ('@DOI', ''), ('@TITULO-INGLES', ''), ('@FLAG-DIVULGACAO-CIENTIFICA', 'NAO')])), ('DETALHAMENTO-DA-PARTICIPACAO-EM-CONGRESSO', OrderedDict([('@NOME-DO-EVENTO', 'XIII Congresso Médico Acadêmico da UNICAMP'), ('@NOME-INSTITUICAO', ''), ('@LOCAL-DO-EVENTO', ''), ('@CIDADE-DO-EVENTO', 'Campinas-SP'), ('@NOME-DO-EVENTO-INGLES', '')])), ('PARTICIPANTE-DE-EVENTOS-CONGRESSOS', OrderedDict([('@NOME-COMPLETO-DO-PARTICIPANTE-DE-EVENTOS-CONGRESSOS', 'Michele Milanezi'), ('@NOME-PARA-CITACAO-DO-PARTICIPANTE-DE-EVENTOS-CONGRESSOS', 'MILANEZI, M.'), ('@ORDEM-PARTICIPANTE', '1')])), ('AREAS-DO-CONHECIMENTO', None), ('INFORMACOES-ADICIONAIS', OrderedDict([('@DESCRICAO-INFORMACOES-ADICIONAIS', ''), ('@DESCRICAO-INFORMACOES-ADICIONAIS-INGLES', '')]))]), OrderedDict([('@SEQUENCIA-PRODUCAO', '6'), ('DADOS-BASICOS-DA-PARTICIPACAO-EM-CONGRESSO', OrderedDict([('@NATUREZA', 'Congresso'), ('@TITULO', ''), ('@ANO', '2004'), ('@PAIS', 'Brasil'), ('@IDIOMA', ''), ('@MEIO-DE-DIVULGACAO', 'NAO_INFORMADO'), ('@HOME-PAGE-DO-TRABALHO', ''), ('@FLAG-RELEVANCIA', 'NAO'), ('@TIPO-PARTICIPACAO', ''), ('@FORMA-PARTICIPACAO', 'Ouvinte'), ('@DOI', ''), ('@TITULO-INGLES', ''), ('@FLAG-DIVULGACAO-CIENTIFICA', 'NAO')])), ('DETALHAMENTO-DA-PARTICIPACAO-EM-CONGRESSO', OrderedDict([('@NOME-DO-EVENTO', 'XIX Congresso da Assoc.Paulista de Med. e II Jorn.Acad.'), ('@NOME-INSTITUICAO', ''), ('@LOCAL-DO-EVENTO', ''), ('@CIDADE-DO-EVENTO', 'Ribeirão Preto-SP'), ('@NOME-DO-EVENTO-INGLES', '')])), ('PARTICIPANTE-DE-EVENTOS-CONGRESSOS', OrderedDict([('@NOME-COMPLETO-DO-PARTICIPANTE-DE-EVENTOS-CONGRESSOS', 'Michele Milanezi'), ('@NOME-PARA-CITACAO-DO-PARTICIPANTE-DE-EVENTOS-CONGRESSOS', 'MILANEZI, M.'), ('@ORDEM-PARTICIPANTE', '1')])), ('AREAS-DO-CONHECIMENTO', None), ('INFORMACOES-ADICIONAIS', OrderedDict([('@DESCRICAO-INFORMACOES-ADICIONAIS', ''), ('@DESCRICAO-INFORMACOES-ADICIONAIS-INGLES', '')]))]), OrderedDict([('@SEQUENCIA-PRODUCAO', '9'), ('DADOS-BASICOS-DA-PARTICIPACAO-EM-CONGRESSO', OrderedDict([('@NATUREZA', 'Congresso'), ('@TITULO', ''), ('@ANO', '2007'), ('@PAIS', 'Brasil'), ('@IDIOMA', ''), ('@MEIO-DE-DIVULGACAO', 'NAO_INFORMADO'), ('@HOME-PAGE-DO-TRABALHO', ''), ('@FLAG-RELEVANCIA', 'NAO'), ('@TIPO-PARTICIPACAO', ''), ('@FORMA-PARTICIPACAO', 'Ouvinte'), ('@DOI', ''), ('@TITULO-INGLES', ''), ('@FLAG-DIVULGACAO-CIENTIFICA', 'NAO')])), ('DETALHAMENTO-DA-PARTICIPACAO-EM-CONGRESSO', OrderedDict([('@NOME-DO-EVENTO', 'XV COMEPP - Congr.Med.Estudantil Pres. Prudente'), ('@NOME-INSTITUICAO', ''), ('@LOCAL-DO-EVENTO', ''), ('@CIDADE-DO-EVENTO', 'Presidente Prudente-SP'), ('@NOME-DO-EVENTO-INGLES', '')])), ('PARTICIPANTE-DE-EVENTOS-CONGRESSOS', OrderedDict([('@NOME-COMPLETO-DO-PARTICIPANTE-DE-EVENTOS-CONGRESSOS', 'Michele Milanezi'), ('@NOME-PARA-CITACAO-DO-PARTICIPANTE-DE-EVENTOS-CONGRESSOS', 'MILANEZI, M.'), ('@ORDEM-PARTICIPANTE', '1')])), ('AREAS-DO-CONHECIMENTO', None), ('INFORMACOES-ADICIONAIS', OrderedDict([('@DESCRICAO-INFORMACOES-ADICIONAIS', ''), ('@DESCRICAO-INFORMACOES-ADICIONAIS-INGLES', '')]))]), OrderedDict([('@SEQUENCIA-PRODUCAO', '12'), ('DADOS-BASICOS-DA-PARTICIPACAO-EM-CONGRESSO', OrderedDict([('@NATUREZA', 'Congresso'), ('@TITULO', ''), ('@ANO', '2007'), ('@PAIS', 'Brasil'), ('@IDIOMA', ''), ('@MEIO-DE-DIVULGACAO', 'NAO_INFORMADO'), ('@HOME-PAGE-DO-TRABALHO', ''), ('@FLAG-RELEVANCIA', 'NAO'), ('@TIPO-PARTICIPACAO', ''), ('@FORMA-PARTICIPACAO', 'Ouvinte'), ('@DOI', ''), ('@TITULO-INGLES', ''), ('@FLAG-DIVULGACAO-CIENTIFICA', 'NAO')])), ('DETALHAMENTO-DA-PARTICIPACAO-EM-CONGRESSO', OrderedDict([('@NOME-DO-EVENTO', '9º Cong.Bras.Clínica Médica'), ('@NOME-INSTITUICAO', ''), ('@LOCAL-DO-EVENTO', ''), ('@CIDADE-DO-EVENTO', 'Curitiba-PR'), ('@NOME-DO-EVENTO-INGLES', '')])), ('PARTICIPANTE-DE-EVENTOS-CONGRESSOS', OrderedDict([('@NOME-COMPLETO-DO-PARTICIPANTE-DE-EVENTOS-CONGRESSOS', 'Michele Milanezi'), ('@NOME-PARA-CITACAO-DO-PARTICIPANTE-DE-EVENTOS-CONGRESSOS', 'MILANEZI, M.'), ('@ORDEM-PARTICIPANTE', '1')])), ('AREAS-DO-CONHECIMENTO', None), ('INFORMACOES-ADICIONAIS', OrderedDict([('@DESCRICAO-INFORMACOES-ADICIONAIS', ''), ('@DESCRICAO-INFORMACOES-ADICIONAIS-INGLES', '')]))]), OrderedDict([('@SEQUENCIA-PRODUCAO', '15'), ('DADOS-BASICOS-DA-PARTICIPACAO-EM-CONGRESSO', OrderedDict([('@NATUREZA', 'Congresso'), ('@TITULO', ''), ('@ANO', '2008'), ('@PAIS', 'Brasil'), ('@IDIOMA', ''), ('@MEIO-DE-DIVULGACAO', 'NAO_INFORMADO'), ('@HOME-PAGE-DO-TRABALHO', ''), ('@FLAG-RELEVANCIA', 'NAO'), ('@TIPO-PARTICIPACAO', ''), ('@FORMA-PARTICIPACAO', 'Ouvinte'), ('@DOI', ''), ('@TITULO-INGLES', ''), ('@FLAG-DIVULGACAO-CIENTIFICA', 'NAO')])), ('DETALHAMENTO-DA-PARTICIPACAO-EM-CONGRESSO', OrderedDict([('@NOME-DO-EVENTO', '4º Congresso Intern.Clínica Médica'), ('@NOME-INSTITUICAO', ''), ('@LOCAL-DO-EVENTO', ''), ('@CIDADE-DO-EVENTO', 'São Paulo-SP'), ('@NOME-DO-EVENTO-INGLES', '')])), ('PARTICIPANTE-DE-EVENTOS-CONGRESSOS', OrderedDict([('@NOME-COMPLETO-DO-PARTICIPANTE-DE-EVENTOS-CONGRESSOS', 'Michele Milanezi'), ('@NOME-PARA-CITACAO-DO-PARTICIPANTE-DE-EVENTOS-CONGRESSOS', 'MILANEZI, M.'), ('@ORDEM-PARTICIPANTE', '1')])), ('AREAS-DO-CONHECIMENTO', None), ('INFORMACOES-ADICIONAIS', OrderedDict([('@DESCRICAO-INFORMACOES-ADICIONAIS', ''), ('@DESCRICAO-INFORMACOES-ADICIONAIS-INGLES', '')]))]), OrderedDict([('@SEQUENCIA-PRODUCAO', '17'), ('DADOS-BASICOS-DA-PARTICIPACAO-EM-CONGRESSO', OrderedDict([('@NATUREZA', 'Congresso'), ('@TITULO', ''), ('@ANO', '2008'), ('@PAIS', 'Brasil'), ('@IDIOMA', ''), ('@MEIO-DE-DIVULGACAO', 'NAO_INFORMADO'), ('@HOME-PAGE-DO-TRABALHO', ''), ('@FLAG-RELEVANCIA', 'NAO'), ('@TIPO-PARTICIPACAO', ''), ('@FORMA-PARTICIPACAO', 'Ouvinte'), ('@DOI', ''), ('@TITULO-INGLES', ''), ('@FLAG-DIVULGACAO-CIENTIFICA', 'NAO')])), ('DETALHAMENTO-DA-PARTICIPACAO-EM-CONGRESSO', OrderedDict([('@NOME-DO-EVENTO', 'XVII COMEPP'), ('@NOME-INSTITUICAO', ''), ('@LOCAL-DO-EVENTO', ''), ('@CIDADE-DO-EVENTO', 'Presidente Prudente-SP'), ('@NOME-DO-EVENTO-INGLES', '')])), ('PARTICIPANTE-DE-EVENTOS-CONGRESSOS', OrderedDict([('@NOME-COMPLETO-DO-PARTICIPANTE-DE-EVENTOS-CONGRESSOS', 'Michele Milanezi'), ('@NOME-PARA-CITACAO-DO-PARTICIPANTE-DE-EVENTOS-CONGRESSOS', 'MILANEZI, M.'), ('@ORDEM-PARTICIPANTE', '1')])), ('AREAS-DO-CONHECIMENTO', None), ('INFORMACOES-ADICIONAIS', OrderedDict([('@DESCRICAO-INFORMACOES-ADICIONAIS', ''), ('@DESCRICAO-INFORMACOES-ADICIONAIS-INGLES', '')]))]), OrderedDict([('@SEQUENCIA-PRODUCAO', '18'), ('DADOS-BASICOS-DA-PARTICIPACAO-EM-CONGRESSO', OrderedDict([('@NATUREZA', 'Congresso'), ('@TITULO', ''), ('@ANO', '2013'), ('@PAIS', 'Brasil'), ('@IDIOMA', ''), ('@MEIO-DE-DIVULGACAO', 'NAO_INFORMADO'), ('@HOME-PAGE-DO-TRABALHO', ''), ('@FLAG-RELEVANCIA', 'NAO'), ('@TIPO-PARTICIPACAO', ''), ('@FORMA-PARTICIPACAO', 'Ouvinte'), ('@DOI', ''), ('@TITULO-INGLES', ''), ('@FLAG-DIVULGACAO-CIENTIFICA', 'NAO')])), ('DETALHAMENTO-DA-PARTICIPACAO-EM-CONGRESSO', OrderedDict([('@NOME-DO-EVENTO', 'II Congresso Bras.Medicina Intensiva Neurológica'), ('@NOME-INSTITUICAO', ''), ('@LOCAL-DO-EVENTO', ''), ('@CIDADE-DO-EVENTO', 'Porto Alegre-SP'), ('@NOME-DO-EVENTO-INGLES', '')])), ('PARTICIPANTE-DE-EVENTOS-CONGRESSOS', OrderedDict([('@NOME-COMPLETO-DO-PARTICIPANTE-DE-EVENTOS-CONGRESSOS', 'Michele Milanezi'), ('@NOME-PARA-CITACAO-DO-PARTICIPANTE-DE-EVENTOS-CONGRESSOS', 'MILANEZI, M.'), ('@ORDEM-PARTICIPANTE', '1')])), ('AREAS-DO-CONHECIMENTO', None), ('INFORMACOES-ADICIONAIS', OrderedDict([('@DESCRICAO-INFORMACOES-ADICIONAIS', ''), ('@DESCRICAO-INFORMACOES-ADICIONAIS-INGLES', '')]))]), OrderedDict([('@SEQUENCIA-PRODUCAO', '19'), ('DADOS-BASICOS-DA-PARTICIPACAO-EM-CONGRESSO', OrderedDict([('@NATUREZA', 'Congresso'), ('@TITULO', ''), ('@ANO', '2013'), ('@PAIS', 'Brasil'), ('@IDIOMA', ''), ('@MEIO-DE-DIVULGACAO', 'NAO_INFORMADO'), ('@HOME-PAGE-DO-TRABALHO', ''), ('@FLAG-RELEVANCIA', 'NAO'), ('@TIPO-PARTICIPACAO', ''), ('@FORMA-PARTICIPACAO', 'Ouvinte'), ('@DOI', ''), ('@TITULO-INGLES', ''), ('@FLAG-DIVULGACAO-CIENTIFICA', 'NAO')])), ('DETALHAMENTO-DA-PARTICIPACAO-EM-CONGRESSO', OrderedDict([('@NOME-DO-EVENTO', '12º Congresso Brasil. Clínica Médica'), ('@NOME-INSTITUICAO', ''), ('@LOCAL-DO-EVENTO', ''), ('@CIDADE-DO-EVENTO', 'Porto Alegre-RS'), ('@NOME-DO-EVENTO-INGLES', '')])), ('PARTICIPANTE-DE-EVENTOS-CONGRESSOS', OrderedDict([('@NOME-COMPLETO-DO-PARTICIPANTE-DE-EVENTOS-CONGRESSOS', 'Michele Milanezi'), ('@NOME-PARA-CITACAO-DO-PARTICIPANTE-DE-EVENTOS-CONGRESSOS', 'MILANEZI, M.'), ('@ORDEM-PARTICIPANTE', '1')])), ('AREAS-DO-CONHECIMENTO', None), ('INFORMACOES-ADICIONAIS', OrderedDict([('@DESCRICAO-INFORMACOES-ADICIONAIS', ''), ('@DESCRICAO-INFORMACOES-ADICIONAIS-INGLES', '')]))])]), ('PARTICIPACAO-EM-SEMINARIO', OrderedDict([('@SEQUENCIA-PRODUCAO', '13'), ('DADOS-BASICOS-DA-PARTICIPACAO-EM-SEMINARIO', OrderedDict([('@NATUREZA', 'Seminário'), ('@TITULO', ''), ('@ANO', '2008'), ('@PAIS', 'Brasil'), ('@IDIOMA', ''), ('@MEIO-DE-DIVULGACAO', 'NAO_INFORMADO'), ('@HOME-PAGE-DO-TRABALHO', ''), ('@FLAG-RELEVANCIA', 'NAO'), ('@TIPO-PARTICIPACAO', ''), ('@FORMA-PARTICIPACAO', 'Ouvinte'), ('@DOI', ''), ('@TITULO-INGLES', ''), ('@FLAG-DIVULGACAO-CIENTIFICA', 'NAO')])), ('DETALHAMENTO-DA-PARTICIPACAO-EM-SEMINARIO', OrderedDict([('@NOME-DO-EVENTO', 'I Seminário de Cardiologia - Condutas na dor Torácica'), ('@NOME-INSTITUICAO', ''), ('@LOCAL-DO-EVENTO', ''), ('@CIDADE-DO-EVENTO', 'Presidente Prudente-SP'), ('@NOME-DO-EVENTO-INGLES', '')])), ('PARTICIPANTE-DE-EVENTOS-CONGRESSOS', OrderedDict([('@NOME-COMPLETO-DO-PARTICIPANTE-DE-EVENTOS-CONGRESSOS', 'Michele Milanezi'), ('@NOME-PARA-CITACAO-DO-PARTICIPANTE-DE-EVENTOS-CONGRESSOS', 'MILANEZI, M.'), ('@ORDEM-PARTICIPANTE', '1')])), ('AREAS-DO-CONHECIMENTO', None), ('INFORMACOES-ADICIONAIS', OrderedDict([('@DESCRICAO-INFORMACOES-ADICIONAIS', ''), ('@DESCRICAO-INFORMACOES-ADICIONAIS-INGLES', '')]))])), ('PARTICIPACAO-EM-ENCONTRO', OrderedDict([('@SEQUENCIA-PRODUCAO', '7'), ('DADOS-BASICOS-DA-PARTICIPACAO-EM-ENCONTRO', OrderedDict([('@NATUREZA', 'Encontro'), ('@TITULO', ''), ('@ANO', '2005'), ('@PAIS', 'Brasil'), ('@IDIOMA', ''), ('@MEIO-DE-DIVULGACAO', 'NAO_INFORMADO'), ('@HOME-PAGE-DO-TRABALHO', ''), ('@FLAG-RELEVANCIA', 'NAO'), ('@TIPO-PARTICIPACAO', ''), ('@FORMA-PARTICIPACAO', 'Ouvinte'), ('@DOI', ''), ('@TITULO-INGLES', ''), ('@FLAG-DIVULGACAO-CIENTIFICA', 'NAO')])), ('DETALHAMENTO-DA-PARTICIPACAO-EM-ENCONTRO', OrderedDict([('@NOME-DO-EVENTO', 'I Encontro Itinerante Pav.Fern.Simonsen Sta.Casa SP'), ('@NOME-INSTITUICAO', ''), ('@LOCAL-DO-EVENTO', ''), ('@CIDADE-DO-EVENTO', 'Presidente Prudente-SP'), ('@NOME-DO-EVENTO-INGLES', '')])), ('PARTICIPANTE-DE-EVENTOS-CONGRESSOS', OrderedDict([('@NOME-COMPLETO-DO-PARTICIPANTE-DE-EVENTOS-CONGRESSOS', 'Michele Milanezi'), ('@NOME-PARA-CITACAO-DO-PARTICIPANTE-DE-EVENTOS-CONGRESSOS', 'MILANEZI, M.'), ('@ORDEM-PARTICIPANTE', '1')])), ('AREAS-DO-CONHECIMENTO', None), ('INFORMACOES-ADICIONAIS', OrderedDict([('@DESCRICAO-INFORMACOES-ADICIONAIS', ''), ('@DESCRICAO-INFORMACOES-ADICIONAIS-INGLES', '')]))])), ('OUTRAS-PARTICIPACOES-EM-EVENTOS-CONGRESSOS', [OrderedDict([('@SEQUENCIA-PRODUCAO', '3'), ('DADOS-BASICOS-DE-OUTRAS-PARTICIPACOES-EM-EVENTOS-CONGRESSOS', OrderedDict([('@NATUREZA', 'Outra'), ('@TITULO', ''), ('@ANO', '2004'), ('@PAIS', 'Brasil'), ('@IDIOMA', ''), ('@MEIO-DE-DIVULGACAO', 'NAO_INFORMADO'), ('@HOME-PAGE-DO-TRABALHO', ''), ('@FLAG-RELEVANCIA', 'NAO'), ('@TIPO-PARTICIPACAO', ''), ('@FORMA-PARTICIPACAO', 'Ouvinte'), ('@DOI', ''), ('@TITULO-INGLES', ''), ('@FLAG-DIVULGACAO-CIENTIFICA', 'NAO')])), ('DETALHAMENTO-DE-OUTRAS-PARTICIPACOES-EM-EVENTOS-CONGRESSOS', OrderedDict([('@NOME-DO-EVENTO', 'Palestra Educação Virtual e o Estudante Universitário'), ('@NOME-INSTITUICAO', ''), ('@LOCAL-DO-EVENTO', ''), ('@CIDADE-DO-EVENTO', 'Presidente Prudente-SP'), ('@NOME-DO-EVENTO-INGLES', '')])), ('PARTICIPANTE-DE-EVENTOS-CONGRESSOS', OrderedDict([('@NOME-COMPLETO-DO-PARTICIPANTE-DE-EVENTOS-CONGRESSOS', 'Michele Milanezi'), ('@NOME-PARA-CITACAO-DO-PARTICIPANTE-DE-EVENTOS-CONGRESSOS', 'MILANEZI, M.'), ('@ORDEM-PARTICIPANTE', '1')])), ('AREAS-DO-CONHECIMENTO', None), ('INFORMACOES-ADICIONAIS', OrderedDict([('@DESCRICAO-INFORMACOES-ADICIONAIS', ''), ('@DESCRICAO-INFORMACOES-ADICIONAIS-INGLES', '')]))]), OrderedDict([('@SEQUENCIA-PRODUCAO', '8'), ('DADOS-BASICOS-DE-OUTRAS-PARTICIPACOES-EM-EVENTOS-CONGRESSOS', OrderedDict([('@NATUREZA', 'Outra'), ('@TITULO', ''), ('@ANO', '2006'), ('@PAIS', 'Brasil'), ('@IDIOMA', ''), ('@MEIO-DE-DIVULGACAO', 'NAO_INFORMADO'), ('@HOME-PAGE-DO-TRABALHO', ''), ('@FLAG-RELEVANCIA', 'NAO'), ('@TIPO-PARTICIPACAO', ''), ('@FORMA-PARTICIPACAO', 'Ouvinte'), ('@DOI', ''), ('@TITULO-INGLES', ''), ('@FLAG-DIVULGACAO-CIENTIFICA', 'NAO')])), ('DETALHAMENTO-DE-OUTRAS-PARTICIPACOES-EM-EVENTOS-CONGRESSOS', OrderedDict([('@NOME-DO-EVENTO', 'II Semana do Coração'), ('@NOME-INSTITUICAO', ''), ('@LOCAL-DO-EVENTO', ''), ('@CIDADE-DO-EVENTO', 'Presidente Prudente'), ('@NOME-DO-EVENTO-INGLES', '')])), ('PARTICIPANTE-DE-EVENTOS-CONGRESSOS', OrderedDict([('@NOME-COMPLETO-DO-PARTICIPANTE-DE-EVENTOS-CONGRESSOS', 'Michele Milanezi'), ('@NOME-PARA-CITACAO-DO-PARTICIPANTE-DE-EVENTOS-CONGRESSOS', 'MILANEZI, M.'), ('@ORDEM-PARTICIPANTE', '1')])), ('AREAS-DO-CONHECIMENTO', None), ('INFORMACOES-ADICIONAIS', OrderedDict([('@DESCRICAO-INFORMACOES-ADICIONAIS', ''), ('@DESCRICAO-INFORMACOES-ADICIONAIS-INGLES', '')]))]), OrderedDict([('@SEQUENCIA-PRODUCAO', '10'), ('DADOS-BASICOS-DE-OUTRAS-PARTICIPACOES-EM-EVENTOS-CONGRESSOS', OrderedDict([('@NATUREZA', 'Outra'), ('@TITULO', ''), ('@ANO', '2007'), ('@PAIS', 'Brasil'), ('@IDIOMA', ''), ('@MEIO-DE-DIVULGACAO', 'NAO_INFORMADO'), ('@HOME-PAGE-DO-TRABALHO', ''), ('@FLAG-RELEVANCIA', 'NAO'), ('@TIPO-PARTICIPACAO', ''), ('@FORMA-PARTICIPACAO', 'Ouvinte'), ('@DOI', ''), ('@TITULO-INGLES', ''), ('@FLAG-DIVULGACAO-CIENTIFICA', 'NAO')])), ('DETALHAMENTO-DE-OUTRAS-PARTICIPACOES-EM-EVENTOS-CONGRESSOS', OrderedDict([('@NOME-DO-EVENTO', 'I Semana de Prevenção às Drogas'), ('@NOME-INSTITUICAO', ''), ('@LOCAL-DO-EVENTO', ''), ('@CIDADE-DO-EVENTO', 'Presidente Prudente-SP'), ('@NOME-DO-EVENTO-INGLES', '')])), ('PARTICIPANTE-DE-EVENTOS-CONGRESSOS', OrderedDict([('@NOME-COMPLETO-DO-PARTICIPANTE-DE-EVENTOS-CONGRESSOS', 'Michele Milanezi'), ('@NOME-PARA-CITACAO-DO-PARTICIPANTE-DE-EVENTOS-CONGRESSOS', 'MILANEZI, M.'), ('@ORDEM-PARTICIPANTE', '1')])), ('AREAS-DO-CONHECIMENTO', None), ('INFORMACOES-ADICIONAIS', OrderedDict([('@DESCRICAO-INFORMACOES-ADICIONAIS', ''), ('@DESCRICAO-INFORMACOES-ADICIONAIS-INGLES', '')]))]), OrderedDict([('@SEQUENCIA-PRODUCAO', '11'), ('DADOS-BASICOS-DE-OUTRAS-PARTICIPACOES-EM-EVENTOS-CONGRESSOS', OrderedDict([('@NATUREZA', 'Outra'), ('@TITULO', ''), ('@ANO', '2007'), ('@PAIS', 'Brasil'), ('@IDIOMA', ''), ('@MEIO-DE-DIVULGACAO', 'NAO_INFORMADO'), ('@HOME-PAGE-DO-TRABALHO', ''), ('@FLAG-RELEVANCIA', 'NAO'), ('@TIPO-PARTICIPACAO', ''), ('@FORMA-PARTICIPACAO', 'Ouvinte'), ('@DOI', ''), ('@TITULO-INGLES', ''), ('@FLAG-DIVULGACAO-CIENTIFICA', 'NAO')])), ('DETALHAMENTO-DE-OUTRAS-PARTICIPACOES-EM-EVENTOS-CONGRESSOS', OrderedDict([('@NOME-DO-EVENTO', 'III Semana do Coração'), ('@NOME-INSTITUICAO', ''), ('@LOCAL-DO-EVENTO', ''), ('@CIDADE-DO-EVENTO', 'Presidente Prudente-SP'), ('@NOME-DO-EVENTO-INGLES', '')])), ('PARTICIPANTE-DE-EVENTOS-CONGRESSOS', OrderedDict([('@NOME-COMPLETO-DO-PARTICIPANTE-DE-EVENTOS-CONGRESSOS', 'Michele Milanezi'), ('@NOME-PARA-CITACAO-DO-PARTICIPANTE-DE-EVENTOS-CONGRESSOS', 'MILANEZI, M.'), ('@ORDEM-PARTICIPANTE', '1')])), ('AREAS-DO-CONHECIMENTO', None), ('INFORMACOES-ADICIONAIS', OrderedDict([('@DESCRICAO-INFORMACOES-ADICIONAIS', ''), ('@DESCRICAO-INFORMACOES-ADICIONAIS-INGLES', '')]))]), OrderedDict([('@SEQUENCIA-PRODUCAO', '14'), ('DADOS-BASICOS-DE-OUTRAS-PARTICIPACOES-EM-EVENTOS-CONGRESSOS', OrderedDict([('@NATUREZA', 'Outra'), ('@TITULO', ''), ('@ANO', '2008'), ('@PAIS', 'Brasil'), ('@IDIOMA', ''), ('@MEIO-DE-DIVULGACAO', 'NAO_INFORMADO'), ('@HOME-PAGE-DO-TRABALHO', ''), ('@FLAG-RELEVANCIA', 'NAO'), ('@TIPO-PARTICIPACAO', ''), ('@FORMA-PARTICIPACAO', 'Ouvinte'), ('@DOI', ''), ('@TITULO-INGLES', ''), ('@FLAG-DIVULGACAO-CIENTIFICA', 'NAO')])), ('DETALHAMENTO-DE-OUTRAS-PARTICIPACOES-EM-EVENTOS-CONGRESSOS', OrderedDict([('@NOME-DO-EVENTO', 'IV Jornada de Emerg.Medicas'), ('@NOME-INSTITUICAO', ''), ('@LOCAL-DO-EVENTO', ''), ('@CIDADE-DO-EVENTO', 'Presidente Prudente-SP'), ('@NOME-DO-EVENTO-INGLES', '')])), ('PARTICIPANTE-DE-EVENTOS-CONGRESSOS', OrderedDict([('@NOME-COMPLETO-DO-PARTICIPANTE-DE-EVENTOS-CONGRESSOS', 'Michele Milanezi'), ('@NOME-PARA-CITACAO-DO-PARTICIPANTE-DE-EVENTOS-CONGRESSOS', 'MILANEZI, M.'), ('@ORDEM-PARTICIPANTE', '1')])), ('AREAS-DO-CONHECIMENTO', None), ('INFORMACOES-ADICIONAIS', OrderedDict([('@DESCRICAO-INFORMACOES-ADICIONAIS', ''), ('@DESCRICAO-INFORMACOES-ADICIONAIS-INGLES', '')]))]), OrderedDict([('@SEQUENCIA-PRODUCAO', '16'), ('DADOS-BASICOS-DE-OUTRAS-PARTICIPACOES-EM-EVENTOS-CONGRESSOS', OrderedDict([('@NATUREZA', 'Outra'), ('@TITULO', ''), ('@ANO', '2008'), ('@PAIS', 'Brasil'), ('@IDIOMA', ''), ('@MEIO-DE-DIVULGACAO', 'NAO_INFORMADO'), ('@HOME-PAGE-DO-TRABALHO', ''), ('@FLAG-RELEVANCIA', 'NAO'), ('@TIPO-PARTICIPACAO', ''), ('@FORMA-PARTICIPACAO', 'Ouvinte'), ('@DOI', ''), ('@TITULO-INGLES', ''), ('@FLAG-DIVULGACAO-CIENTIFICA', 'NAO')])), ('DETALHAMENTO-DE-OUTRAS-PARTICIPACOES-EM-EVENTOS-CONGRESSOS', OrderedDict([('@NOME-DO-EVENTO', 'IV Semana do Coração'), ('@NOME-INSTITUICAO', ''), ('@LOCAL-DO-EVENTO', ''), ('@CIDADE-DO-EVENTO', 'Presidente Prudente-SP'), ('@NOME-DO-EVENTO-INGLES', '')])), ('PARTICIPANTE-DE-EVENTOS-CONGRESSOS', OrderedDict([('@NOME-COMPLETO-DO-PARTICIPANTE-DE-EVENTOS-CONGRESSOS', 'Michele Milanezi'), ('@NOME-PARA-CITACAO-DO-PARTICIPANTE-DE-EVENTOS-CONGRESSOS', 'MILANEZI, M.'), ('@ORDEM-PARTICIPANTE', '1')])), ('AREAS-DO-CONHECIMENTO', None), ('INFORMACOES-ADICIONAIS', OrderedDict([('@DESCRICAO-INFORMACOES-ADICIONAIS', ''), ('@DESCRICAO-INFORMACOES-ADICIONAIS-INGLES', '')]))])])])), ('INFORMACOES-ADICIONAIS-INSTITUICOES', OrderedDict([('INFORMACAO-ADICIONAL-INSTITUICAO', [OrderedDict([('@CODIGO-INSTITUICAO', '000300000995'), ('@SIGLA-INSTITUICAO', 'FAMERP'), ('@SIGLA-UF-INSTITUICAO', 'SP'), ('@SIGLA-PAIS-INSTITUICAO', 'BRA'), ('@NOME-PAIS-INSTITUICAO', 'Brasil'), ('@FLAG-AGENCIA-FOMENTO', 'NAO'), ('@FLAG-INSTITUICAO-DE-ENSINO', 'NAO')]), OrderedDict([('@CODIGO-INSTITUICAO', '000400000997'), ('@SIGLA-INSTITUICAO', 'FAMERP'), ('@SIGLA-UF-INSTITUICAO', 'SP'), ('@SIGLA-PAIS-INSTITUICAO', 'BRA'), ('@NOME-PAIS-INSTITUICAO', 'Brasil'), ('@FLAG-AGENCIA-FOMENTO', 'NAO'), ('@FLAG-INSTITUICAO-DE-ENSINO', 'NAO')]), OrderedDict([('@CODIGO-INSTITUICAO', '000600000990'), ('@SIGLA-INSTITUICAO', 'HR'), ('@SIGLA-UF-INSTITUICAO', 'SP'), ('@SIGLA-PAIS-INSTITUICAO', 'BRA'), ('@NOME-PAIS-INSTITUICAO', 'Brasil'), ('@FLAG-AGENCIA-FOMENTO', 'NAO'), ('@FLAG-INSTITUICAO-DE-ENSINO', 'NAO')]), OrderedDict([('@CODIGO-INSTITUICAO', '000700000992'), ('@SIGLA-INSTITUICAO', 'AAA'), ('@SIGLA-UF-INSTITUICAO', 'SP'), ('@SIGLA-PAIS-INSTITUICAO', 'BRA'), ('@NOME-PAIS-INSTITUICAO', 'Brasil'), ('@FLAG-AGENCIA-FOMENTO', 'NAO'), ('@FLAG-INSTITUICAO-DE-ENSINO', 'NAO')]), OrderedDict([('@CODIGO-INSTITUICAO', '506700000004'), ('@SIGLA-INSTITUICAO', 'UNOESTE'), ('@SIGLA-UF-INSTITUICAO', 'SP'), ('@SIGLA-PAIS-INSTITUICAO', 'BRA'), ('@NOME-PAIS-INSTITUICAO', 'Brasil'), ('@FLAG-AGENCIA-FOMENTO', 'NAO'), ('@FLAG-INSTITUICAO-DE-ENSINO', 'SIM')])])])), ('INFORMACOES-ADICIONAIS-CURSOS', OrderedDict([('INFORMACAO-ADICIONAL-CURSO', OrderedDict([('@CODIGO-CURSO', '60172932'), ('@CODIGO-ORGAO', ''), ('@NOME-ORGAO', ''), ('@CODIGO-INSTITUICAO', '506700000004'), ('@NOME-INSTITUICAO', 'Universidade do Oeste Paulista'), ('@NOME-GRANDE-AREA-DO-CONHECIMENTO', 'OUTROS'), ('@NOME-DA-AREA-DO-CONHECIMENTO', ''), ('@NOME-DA-SUB-AREA-DO-CONHECIMENTO', ''), ('@NOME-DA-ESPECIALIDADE', ''), ('@NIVEL-CURSO', 'GRADUACAO')]))]))]))]))])\n"
     ]
    }
   ],
   "source": [
    "print(lattes.json)"
   ]
  },
  {
   "cell_type": "code",
   "execution_count": 63,
   "id": "bc5881b8",
   "metadata": {},
   "outputs": [
    {
     "name": "stdout",
     "output_type": "stream",
     "text": [
      "Arquivo em JSON salvo no disco.\n"
     ]
    }
   ],
   "source": [
    "lattes.save_json_to_disk()"
   ]
  },
  {
   "cell_type": "code",
   "execution_count": 64,
   "id": "d957d420",
   "metadata": {},
   "outputs": [
    {
     "data": {
      "text/plain": [
       "'4300018306547995'"
      ]
     },
     "execution_count": 64,
     "metadata": {},
     "output_type": "execute_result"
    }
   ],
   "source": [
    "lattes.id"
   ]
  },
  {
   "cell_type": "code",
   "execution_count": 68,
   "id": "856455f3",
   "metadata": {},
   "outputs": [],
   "source": [
    "path = 'C:/Downloads/'"
   ]
  },
  {
   "cell_type": "code",
   "execution_count": 69,
   "id": "2172608b",
   "metadata": {},
   "outputs": [
    {
     "name": "stdout",
     "output_type": "stream",
     "text": [
      "C:/Downloads\n"
     ]
    }
   ],
   "source": [
    "print(path[:-1])"
   ]
  },
  {
   "cell_type": "code",
   "execution_count": null,
   "id": "713b1281",
   "metadata": {},
   "outputs": [],
   "source": []
  }
 ],
 "metadata": {
  "kernelspec": {
   "display_name": "Python 3 (ipykernel)",
   "language": "python",
   "name": "python3"
  },
  "language_info": {
   "codemirror_mode": {
    "name": "ipython",
    "version": 3
   },
   "file_extension": ".py",
   "mimetype": "text/x-python",
   "name": "python",
   "nbconvert_exporter": "python",
   "pygments_lexer": "ipython3",
   "version": "3.9.7"
  }
 },
 "nbformat": 4,
 "nbformat_minor": 5
}
