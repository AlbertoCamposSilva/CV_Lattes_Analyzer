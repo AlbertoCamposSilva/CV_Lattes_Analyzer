{
 "cells": [
  {
   "cell_type": "code",
   "execution_count": 1,
   "id": "01a5c00f",
   "metadata": {},
   "outputs": [],
   "source": [
    "from Carga import Carga\n",
    "import pandas as pd\n",
    "cg = Carga()\n"
   ]
  },
  {
   "cell_type": "code",
   "execution_count": null,
   "id": "a1073ebb",
   "metadata": {},
   "outputs": [],
   "source": [
    "cg.carrega_dados_gerais(path = 'C:/Users/silva/CNPq/Lattes/Planilhas/Dados Pessoais')"
   ]
  },
  {
   "cell_type": "code",
   "execution_count": 2,
   "id": "719d511b",
   "metadata": {},
   "outputs": [
    {
     "name": "stderr",
     "output_type": "stream",
     "text": [
      "C:\\Python\\anaconda3\\lib\\site-packages\\openpyxl\\styles\\stylesheet.py:226: UserWarning: Workbook contains no default style, apply openpyxl's default\n",
      "  warn(\"Workbook contains no default style, apply openpyxl's default\")\n"
     ]
    }
   ],
   "source": [
    "Carga.import_demanda_bruta_para_bd(pasta = 'C:/Users/silva/CNPq/Lattes/Planilhas/Demanda Bruta')"
   ]
  },
  {
   "cell_type": "code",
   "execution_count": 3,
   "id": "b3916b74",
   "metadata": {},
   "outputs": [
    {
     "name": "stdout",
     "output_type": "stream",
     "text": [
      "Banco de dados atualizado.\n"
     ]
    },
    {
     "data": {
      "text/plain": [
       "'IDs da Demanda Bruta atualizados'"
      ]
     },
     "execution_count": 3,
     "metadata": {},
     "output_type": "execute_result"
    }
   ],
   "source": [
    "Carga.atualiza_id_em_demanda_bruta()"
   ]
  },
  {
   "cell_type": "code",
   "execution_count": null,
   "id": "1ec6c7c0",
   "metadata": {},
   "outputs": [],
   "source": []
  }
 ],
 "metadata": {
  "kernelspec": {
   "display_name": "Python 3 (ipykernel)",
   "language": "python",
   "name": "python3"
  },
  "language_info": {
   "codemirror_mode": {
    "name": "ipython",
    "version": 3
   },
   "file_extension": ".py",
   "mimetype": "text/x-python",
   "name": "python",
   "nbconvert_exporter": "python",
   "pygments_lexer": "ipython3",
   "version": "3.9.7"
  }
 },
 "nbformat": 4,
 "nbformat_minor": 5
}
