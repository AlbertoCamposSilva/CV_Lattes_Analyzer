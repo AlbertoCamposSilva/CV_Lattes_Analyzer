{
 "cells": [
  {
   "cell_type": "code",
   "execution_count": null,
   "id": "a06e182e",
   "metadata": {},
   "outputs": [],
   "source": [
    "from Lattes import Lattes\n",
    "import os, pandas, glob"
   ]
  },
  {
   "cell_type": "code",
   "execution_count": null,
   "id": "69df312a",
   "metadata": {},
   "outputs": [],
   "source": [
    "ids_carga = Lattes.carrega_lista_ids_bd(tabela='carga_dados_pessoais', níveis=False, data='2019-01-01')"
   ]
  },
  {
   "cell_type": "code",
   "execution_count": null,
   "id": "8fcc7698",
   "metadata": {},
   "outputs": [],
   "source": [
    "ids_indicadores = Lattes.carrega_lista_ids_bd(tabela='indicadores', níveis=False)"
   ]
  },
  {
   "cell_type": "code",
   "execution_count": null,
   "id": "6dda3998",
   "metadata": {},
   "outputs": [],
   "source": [
    "ids = [id for id in ids_carga if id not in ids_indicadores]"
   ]
  },
  {
   "cell_type": "markdown",
   "id": "8be4e78f",
   "metadata": {},
   "source": [
    "Lattes.atualiza_todos_os_indicadores (pula_bd_indicadores = False, pula_erros = False, show_import_messages = True)\n"
   ]
  },
  {
   "cell_type": "code",
   "execution_count": null,
   "id": "ccfb5347",
   "metadata": {},
   "outputs": [],
   "source": [
    "tot = len(ids)\n",
    "print(tot)"
   ]
  },
  {
   "cell_type": "code",
   "execution_count": null,
   "id": "b16a797b",
   "metadata": {},
   "outputs": [],
   "source": [
    "num = 0\n",
    "for id in ids:\n",
    "    os.system('cls')\n",
    "    print(f'{num} / {tot}')\n",
    "    num+=1\n",
    "    Lattes.update_bd_from_zip(id = id, path='D:/Lattes/')\n",
    "    "
   ]
  },
  {
   "cell_type": "code",
   "execution_count": 2,
   "id": "d3791c04",
   "metadata": {},
   "outputs": [
    {
     "name": "stdout",
     "output_type": "stream",
     "text": [
      "Pegando lista de arquivos para baixar:\n",
      "Carregando arquivo: C:/Users/silva/CNPq/Lattes/Python/Carga/Dados Pessoais de Beneficiários\\UNIVERSAL 2016 - FAIXA A.xls\n",
      "Carregando arquivo: C:/Users/silva/CNPq/Lattes/Python/Carga/Dados Pessoais de Beneficiários\\UNIVERSAL 2016 - FAIXA B.xls\n",
      "Carregando arquivo: C:/Users/silva/CNPq/Lattes/Python/Carga/Dados Pessoais de Beneficiários\\UNIVERSAL 2016 - FAIXA C.xls\n"
     ]
    },
    {
     "data": {
      "text/html": [
       "<div>\n",
       "<style scoped>\n",
       "    .dataframe tbody tr th:only-of-type {\n",
       "        vertical-align: middle;\n",
       "    }\n",
       "\n",
       "    .dataframe tbody tr th {\n",
       "        vertical-align: top;\n",
       "    }\n",
       "\n",
       "    .dataframe thead th {\n",
       "        text-align: right;\n",
       "    }\n",
       "</style>\n",
       "<table border=\"1\" class=\"dataframe\">\n",
       "  <thead>\n",
       "    <tr style=\"text-align: right;\">\n",
       "      <th></th>\n",
       "      <th>nome</th>\n",
       "      <th>cpf</th>\n",
       "      <th>cpf com máscára</th>\n",
       "      <th>id</th>\n",
       "      <th>e-mail</th>\n",
       "      <th>telefone</th>\n",
       "      <th>processos</th>\n",
       "      <th>chamada</th>\n",
       "    </tr>\n",
       "  </thead>\n",
       "  <tbody>\n",
       "    <tr>\n",
       "      <th>0</th>\n",
       "      <td>Mercedes Bêtta Quintano de Carvalho Pereira do...</td>\n",
       "      <td>4.601583e+09</td>\n",
       "      <td>***.015.828.****</td>\n",
       "      <td>7632501056879630</td>\n",
       "      <td>mbettacs@uol.com.br, mercedes.carvalho@pq.cnpq...</td>\n",
       "      <td>(011) 55859361, (082) 32141100</td>\n",
       "      <td>438304/2018-7,409113/2016-6,201195/2015-1,3086...</td>\n",
       "      <td>UNIVERSAL 2016 - FAIXA C</td>\n",
       "    </tr>\n",
       "    <tr>\n",
       "      <th>1</th>\n",
       "      <td>Isabel Kaufmann de Almeida</td>\n",
       "      <td>3.267863e+10</td>\n",
       "      <td>***.786.300.****</td>\n",
       "      <td>7494871013945299</td>\n",
       "      <td>aleskaisabel@hotmail.com, isabel.almeida@ufms....</td>\n",
       "      <td>(067) 33457494, (67) 33018807</td>\n",
       "      <td>315055/2021-9,445380/2020-9,315276/2020-7,4453...</td>\n",
       "      <td>UNIVERSAL 2016 - FAIXA C</td>\n",
       "    </tr>\n",
       "    <tr>\n",
       "      <th>2</th>\n",
       "      <td>Caroline Pereira Moura Aranha</td>\n",
       "      <td>6.934032e+08</td>\n",
       "      <td>***.934.031.****</td>\n",
       "      <td>1998979298755752</td>\n",
       "      <td>carol_aranha@hotmail.com, carolinearanha@ufgd....</td>\n",
       "      <td>(067) 92033070, (67) 92033070</td>\n",
       "      <td>427060/2016-8,145569/2010-1</td>\n",
       "      <td>UNIVERSAL 2016 - FAIXA C</td>\n",
       "    </tr>\n",
       "    <tr>\n",
       "      <th>3</th>\n",
       "      <td>Valdirene Gomes dos Santos de Jesus</td>\n",
       "      <td>8.031318e+10</td>\n",
       "      <td>***.131.751.****</td>\n",
       "      <td>485895333028312</td>\n",
       "      <td>jesuseval@uft.edu.br, jesuseval@yahoo.com.br</td>\n",
       "      <td>(63) 36531531, (63) 36532129</td>\n",
       "      <td>444770/2015-1,141706/2013-9</td>\n",
       "      <td>UNIVERSAL 2016 - FAIXA C</td>\n",
       "    </tr>\n",
       "    <tr>\n",
       "      <th>4</th>\n",
       "      <td>Juliano de Souza</td>\n",
       "      <td>4.128585e+09</td>\n",
       "      <td>***.285.849.****</td>\n",
       "      <td>1955037705102744</td>\n",
       "      <td>julianoedf@gmail.com, julianoedf@yahoo.com.br</td>\n",
       "      <td>(44) 30114470, (44) 999011840</td>\n",
       "      <td>445155/2020-5,310390/2020-6,445159/2020-0,2001...</td>\n",
       "      <td>UNIVERSAL 2016 - FAIXA C</td>\n",
       "    </tr>\n",
       "    <tr>\n",
       "      <th>...</th>\n",
       "      <td>...</td>\n",
       "      <td>...</td>\n",
       "      <td>...</td>\n",
       "      <td>...</td>\n",
       "      <td>...</td>\n",
       "      <td>...</td>\n",
       "      <td>...</td>\n",
       "      <td>...</td>\n",
       "    </tr>\n",
       "    <tr>\n",
       "      <th>482983</th>\n",
       "      <td>Cleiton Vaz</td>\n",
       "      <td>1.798568e+09</td>\n",
       "      <td>***.985.679.****</td>\n",
       "      <td>368956095133639</td>\n",
       "      <td>cleitonvaz@yahoo.com, contato.cleitonvaz@gmail...</td>\n",
       "      <td>(47) 20499524, (47) 84714294</td>\n",
       "      <td>442952/2018-0,446146/2014-5,200368/2014-1</td>\n",
       "      <td>UNIVERSAL 2016 - FAIXA A</td>\n",
       "    </tr>\n",
       "    <tr>\n",
       "      <th>482984</th>\n",
       "      <td>Carla Silvana de Oliveira e Silva</td>\n",
       "      <td>2.781099e+09</td>\n",
       "      <td>***.810.986.****</td>\n",
       "      <td>5393988286775602</td>\n",
       "      <td>carlasosilva@ig.com.br, profcarlasosilva@gmail...</td>\n",
       "      <td>(038) 32228512, (038) 32298291</td>\n",
       "      <td>303504/2019-6,303801/2021-2,150001/2019-3,1707...</td>\n",
       "      <td>UNIVERSAL 2016 - FAIXA A</td>\n",
       "    </tr>\n",
       "    <tr>\n",
       "      <th>482985</th>\n",
       "      <td>Bruna Felício Milazzotto Maldonado Porchia Rib...</td>\n",
       "      <td>3.147432e+10</td>\n",
       "      <td>***.743.208.****</td>\n",
       "      <td>2176424832635326</td>\n",
       "      <td>brumaldonado@gmail.com</td>\n",
       "      <td>(11) 30917356, (11) 30917356</td>\n",
       "      <td>422203/2018-1,142979/2011-2</td>\n",
       "      <td>UNIVERSAL 2016 - FAIXA A</td>\n",
       "    </tr>\n",
       "    <tr>\n",
       "      <th>482986</th>\n",
       "      <td>Antonio Gadelha da Costa</td>\n",
       "      <td>3.651817e+10</td>\n",
       "      <td>***.181.664.****</td>\n",
       "      <td>388242608904648</td>\n",
       "      <td>gadelhamail@gmail.com, gadelhamail@yahoo.com.br</td>\n",
       "      <td>(83) , (83) 3331930</td>\n",
       "      <td>301683/2007-7,452469/2011-2,150872/2005-4</td>\n",
       "      <td>UNIVERSAL 2016 - FAIXA A</td>\n",
       "    </tr>\n",
       "    <tr>\n",
       "      <th>482987</th>\n",
       "      <td>Ana Paula Motta Costa</td>\n",
       "      <td>5.400932e+10</td>\n",
       "      <td>***.093.240.****</td>\n",
       "      <td>4819150909009593</td>\n",
       "      <td>anapaula@diatopica.com, anapaulamottacosta@gma...</td>\n",
       "      <td>(51) 33083306, (51) 993031106</td>\n",
       "      <td>307179/2019-2,309712/2020-3,433988/2018-5,3104...</td>\n",
       "      <td>UNIVERSAL 2016 - FAIXA A</td>\n",
       "    </tr>\n",
       "  </tbody>\n",
       "</table>\n",
       "<p>482988 rows × 8 columns</p>\n",
       "</div>"
      ],
      "text/plain": [
       "                                                     nome           cpf  \\\n",
       "0       Mercedes Bêtta Quintano de Carvalho Pereira do...  4.601583e+09   \n",
       "1                              Isabel Kaufmann de Almeida  3.267863e+10   \n",
       "2                           Caroline Pereira Moura Aranha  6.934032e+08   \n",
       "3                     Valdirene Gomes dos Santos de Jesus  8.031318e+10   \n",
       "4                                        Juliano de Souza  4.128585e+09   \n",
       "...                                                   ...           ...   \n",
       "482983                                        Cleiton Vaz  1.798568e+09   \n",
       "482984                  Carla Silvana de Oliveira e Silva  2.781099e+09   \n",
       "482985  Bruna Felício Milazzotto Maldonado Porchia Rib...  3.147432e+10   \n",
       "482986                           Antonio Gadelha da Costa  3.651817e+10   \n",
       "482987                              Ana Paula Motta Costa  5.400932e+10   \n",
       "\n",
       "         cpf com máscára                id  \\\n",
       "0       ***.015.828.****  7632501056879630   \n",
       "1       ***.786.300.****  7494871013945299   \n",
       "2       ***.934.031.****  1998979298755752   \n",
       "3       ***.131.751.****   485895333028312   \n",
       "4       ***.285.849.****  1955037705102744   \n",
       "...                  ...               ...   \n",
       "482983  ***.985.679.****   368956095133639   \n",
       "482984  ***.810.986.****  5393988286775602   \n",
       "482985  ***.743.208.****  2176424832635326   \n",
       "482986  ***.181.664.****   388242608904648   \n",
       "482987  ***.093.240.****  4819150909009593   \n",
       "\n",
       "                                                   e-mail  \\\n",
       "0       mbettacs@uol.com.br, mercedes.carvalho@pq.cnpq...   \n",
       "1       aleskaisabel@hotmail.com, isabel.almeida@ufms....   \n",
       "2       carol_aranha@hotmail.com, carolinearanha@ufgd....   \n",
       "3            jesuseval@uft.edu.br, jesuseval@yahoo.com.br   \n",
       "4           julianoedf@gmail.com, julianoedf@yahoo.com.br   \n",
       "...                                                   ...   \n",
       "482983  cleitonvaz@yahoo.com, contato.cleitonvaz@gmail...   \n",
       "482984  carlasosilva@ig.com.br, profcarlasosilva@gmail...   \n",
       "482985                             brumaldonado@gmail.com   \n",
       "482986    gadelhamail@gmail.com, gadelhamail@yahoo.com.br   \n",
       "482987  anapaula@diatopica.com, anapaulamottacosta@gma...   \n",
       "\n",
       "                              telefone  \\\n",
       "0       (011) 55859361, (082) 32141100   \n",
       "1        (067) 33457494, (67) 33018807   \n",
       "2        (067) 92033070, (67) 92033070   \n",
       "3         (63) 36531531, (63) 36532129   \n",
       "4        (44) 30114470, (44) 999011840   \n",
       "...                                ...   \n",
       "482983    (47) 20499524, (47) 84714294   \n",
       "482984  (038) 32228512, (038) 32298291   \n",
       "482985    (11) 30917356, (11) 30917356   \n",
       "482986             (83) , (83) 3331930   \n",
       "482987   (51) 33083306, (51) 993031106   \n",
       "\n",
       "                                                processos  \\\n",
       "0       438304/2018-7,409113/2016-6,201195/2015-1,3086...   \n",
       "1       315055/2021-9,445380/2020-9,315276/2020-7,4453...   \n",
       "2                             427060/2016-8,145569/2010-1   \n",
       "3                             444770/2015-1,141706/2013-9   \n",
       "4       445155/2020-5,310390/2020-6,445159/2020-0,2001...   \n",
       "...                                                   ...   \n",
       "482983          442952/2018-0,446146/2014-5,200368/2014-1   \n",
       "482984  303504/2019-6,303801/2021-2,150001/2019-3,1707...   \n",
       "482985                        422203/2018-1,142979/2011-2   \n",
       "482986          301683/2007-7,452469/2011-2,150872/2005-4   \n",
       "482987  307179/2019-2,309712/2020-3,433988/2018-5,3104...   \n",
       "\n",
       "                         chamada  \n",
       "0       UNIVERSAL 2016 - FAIXA C  \n",
       "1       UNIVERSAL 2016 - FAIXA C  \n",
       "2       UNIVERSAL 2016 - FAIXA C  \n",
       "3       UNIVERSAL 2016 - FAIXA C  \n",
       "4       UNIVERSAL 2016 - FAIXA C  \n",
       "...                          ...  \n",
       "482983  UNIVERSAL 2016 - FAIXA A  \n",
       "482984  UNIVERSAL 2016 - FAIXA A  \n",
       "482985  UNIVERSAL 2016 - FAIXA A  \n",
       "482986  UNIVERSAL 2016 - FAIXA A  \n",
       "482987  UNIVERSAL 2016 - FAIXA A  \n",
       "\n",
       "[482988 rows x 8 columns]"
      ]
     },
     "execution_count": 2,
     "metadata": {},
     "output_type": "execute_result"
    }
   ],
   "source": [
    "from Lattes import Lattes\n",
    "Lattes.carrega_dados_pessoais(insert_bd = True)"
   ]
  },
  {
   "cell_type": "code",
   "execution_count": null,
   "id": "5690bf31",
   "metadata": {},
   "outputs": [],
   "source": [
    "import pandas\n",
    "Carga.carga_dados_pessoais.id = pandas.to_numeric(Carga.carga_dados_pessoais.id)\n"
   ]
  },
  {
   "cell_type": "code",
   "execution_count": null,
   "id": "9c994698",
   "metadata": {},
   "outputs": [],
   "source": [
    "for id in Carga.carga_dados_pessoais.id:\n",
    "    if not id.isnumeric():\n",
    "        print(id)"
   ]
  },
  {
   "cell_type": "code",
   "execution_count": null,
   "id": "578f8019",
   "metadata": {},
   "outputs": [],
   "source": [
    "Carga.carga_dados_pessoais.id"
   ]
  },
  {
   "cell_type": "code",
   "execution_count": 3,
   "id": "cbb8ac69",
   "metadata": {},
   "outputs": [
    {
     "data": {
      "text/plain": [
       "'C:\\\\Python\\\\anaconda3\\\\python.exe'"
      ]
     },
     "execution_count": 3,
     "metadata": {},
     "output_type": "execute_result"
    }
   ],
   "source": [
    "import sys\n",
    "sys.executable"
   ]
  },
  {
   "cell_type": "code",
   "execution_count": 2,
   "id": "a52aa06b",
   "metadata": {},
   "outputs": [
    {
     "name": "stdout",
     "output_type": "stream",
     "text": [
      "2014\n",
      "2015\n",
      "2016\n",
      "2017\n",
      "2018\n",
      "2019\n"
     ]
    }
   ],
   "source": [
    "for x in range(2014,2020):\n",
    "    print(x)"
   ]
  },
  {
   "cell_type": "code",
   "execution_count": null,
   "id": "fdf27725",
   "metadata": {},
   "outputs": [],
   "source": []
  }
 ],
 "metadata": {
  "kernelspec": {
   "display_name": "Python 3 (ipykernel)",
   "language": "python",
   "name": "python3"
  },
  "language_info": {
   "codemirror_mode": {
    "name": "ipython",
    "version": 3
   },
   "file_extension": ".py",
   "mimetype": "text/x-python",
   "name": "python",
   "nbconvert_exporter": "python",
   "pygments_lexer": "ipython3",
   "version": "3.9.7"
  }
 },
 "nbformat": 4,
 "nbformat_minor": 5
}
