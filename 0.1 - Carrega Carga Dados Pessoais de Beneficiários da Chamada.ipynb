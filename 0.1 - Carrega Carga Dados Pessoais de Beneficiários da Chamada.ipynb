{
 "cells": [
  {
   "cell_type": "code",
   "execution_count": 1,
   "id": "a06e182e",
   "metadata": {},
   "outputs": [],
   "source": [
    "from Lattes import Lattes\n",
    "import os, pandas, glob"
   ]
  },
  {
   "cell_type": "code",
   "execution_count": null,
   "id": "69df312a",
   "metadata": {},
   "outputs": [],
   "source": [
    "ids_carga = Lattes.carrega_lista_ids_bd(tabela='dados_pessoais', níveis=False, data='2019-01-01')"
   ]
  },
  {
   "cell_type": "code",
   "execution_count": null,
   "id": "8fcc7698",
   "metadata": {},
   "outputs": [],
   "source": [
    "ids_indicadores = Lattes.carrega_lista_ids_bd(tabela='indicadores', níveis=False)"
   ]
  },
  {
   "cell_type": "code",
   "execution_count": null,
   "id": "6dda3998",
   "metadata": {},
   "outputs": [],
   "source": [
    "ids = [id for id in ids_carga if id not in ids_indicadores]"
   ]
  },
  {
   "cell_type": "markdown",
   "id": "8be4e78f",
   "metadata": {},
   "source": [
    "Lattes.atualiza_todos_os_indicadores (pula_bd_indicadores = False, pula_erros = False, show_import_messages = True)\n"
   ]
  },
  {
   "cell_type": "code",
   "execution_count": null,
   "id": "ccfb5347",
   "metadata": {},
   "outputs": [],
   "source": [
    "tot = len(ids)\n",
    "print(tot)"
   ]
  },
  {
   "cell_type": "code",
   "execution_count": null,
   "id": "b16a797b",
   "metadata": {},
   "outputs": [],
   "source": [
    "num = 0\n",
    "for id in ids:\n",
    "    os.system('cls')\n",
    "    print(f'{num} / {tot}')\n",
    "    num+=1\n",
    "    Lattes.update_bd_from_zip(id = id, path='D:/Lattes/')\n",
    "    "
   ]
  },
  {
   "cell_type": "code",
   "execution_count": 2,
   "id": "d3791c04",
   "metadata": {},
   "outputs": [
    {
     "ename": "AttributeError",
     "evalue": "type object 'Lattes' has no attribute 'carrega_dados_gerais'",
     "output_type": "error",
     "traceback": [
      "\u001b[1;31m---------------------------------------------------------------------------\u001b[0m",
      "\u001b[1;31mAttributeError\u001b[0m                            Traceback (most recent call last)",
      "\u001b[1;32m~\\AppData\\Local\\Temp/ipykernel_11828/2787832295.py\u001b[0m in \u001b[0;36m<module>\u001b[1;34m\u001b[0m\n\u001b[0;32m      1\u001b[0m \u001b[1;32mfrom\u001b[0m \u001b[0mLattes\u001b[0m \u001b[1;32mimport\u001b[0m \u001b[0mLattes\u001b[0m\u001b[1;33m\u001b[0m\u001b[1;33m\u001b[0m\u001b[0m\n\u001b[1;32m----> 2\u001b[1;33m \u001b[0mLattes\u001b[0m\u001b[1;33m.\u001b[0m\u001b[0mcarrega_dados_gerais\u001b[0m\u001b[1;33m(\u001b[0m\u001b[0minsert_bd\u001b[0m \u001b[1;33m=\u001b[0m \u001b[1;32mTrue\u001b[0m\u001b[1;33m)\u001b[0m\u001b[1;33m\u001b[0m\u001b[1;33m\u001b[0m\u001b[0m\n\u001b[0m",
      "\u001b[1;31mAttributeError\u001b[0m: type object 'Lattes' has no attribute 'carrega_dados_gerais'"
     ]
    }
   ],
   "source": [
    "from Lattes import Lattes\n",
    "Lattes.carrega_dados_gerais(insert_bd = True)"
   ]
  },
  {
   "cell_type": "code",
   "execution_count": null,
   "id": "5690bf31",
   "metadata": {},
   "outputs": [],
   "source": [
    "import pandas\n",
    "Carga.dados_pessoais.id = pandas.to_numeric(Carga.dados_pessoais.id)\n"
   ]
  },
  {
   "cell_type": "code",
   "execution_count": null,
   "id": "9c994698",
   "metadata": {},
   "outputs": [],
   "source": [
    "for id in Carga.dados_pessoais.id:\n",
    "    if not id.isnumeric():\n",
    "        print(id)"
   ]
  },
  {
   "cell_type": "code",
   "execution_count": null,
   "id": "578f8019",
   "metadata": {},
   "outputs": [],
   "source": [
    "Carga.dados_pessoais.id"
   ]
  },
  {
   "cell_type": "code",
   "execution_count": 3,
   "id": "cbb8ac69",
   "metadata": {},
   "outputs": [
    {
     "data": {
      "text/plain": [
       "'C:\\\\Python\\\\anaconda3\\\\python.exe'"
      ]
     },
     "execution_count": 3,
     "metadata": {},
     "output_type": "execute_result"
    }
   ],
   "source": [
    "import sys\n",
    "sys.executable"
   ]
  },
  {
   "cell_type": "code",
   "execution_count": 2,
   "id": "a52aa06b",
   "metadata": {},
   "outputs": [
    {
     "name": "stdout",
     "output_type": "stream",
     "text": [
      "2014\n",
      "2015\n",
      "2016\n",
      "2017\n",
      "2018\n",
      "2019\n"
     ]
    }
   ],
   "source": [
    "for x in range(2014,2020):\n",
    "    print(x)"
   ]
  },
  {
   "cell_type": "code",
   "execution_count": null,
   "id": "fdf27725",
   "metadata": {},
   "outputs": [],
   "source": []
  }
 ],
 "metadata": {
  "kernelspec": {
   "display_name": "Python 3 (ipykernel)",
   "language": "python",
   "name": "python3"
  },
  "language_info": {
   "codemirror_mode": {
    "name": "ipython",
    "version": 3
   },
   "file_extension": ".py",
   "mimetype": "text/x-python",
   "name": "python",
   "nbconvert_exporter": "python",
   "pygments_lexer": "ipython3",
   "version": "3.9.7"
  }
 },
 "nbformat": 4,
 "nbformat_minor": 5
}
